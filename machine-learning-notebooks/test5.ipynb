{
 "metadata": {
  "name": "",
  "signature": "sha256:f25299abc17ac1cf39653767e4210185d4182f92f487cd4d859a82d8ace1f398"
 },
 "nbformat": 3,
 "nbformat_minor": 0,
 "worksheets": [
  {
   "cells": [
    {
     "cell_type": "code",
     "collapsed": false,
     "input": [
      "# weights estimation notebook"
     ],
     "language": "python",
     "metadata": {},
     "outputs": [],
     "prompt_number": 1
    },
    {
     "cell_type": "code",
     "collapsed": false,
     "input": [
      "import tensorflow as tf\n",
      "if tf.test.gpu_device_name():\n",
      "    print('Default GPU Device: {}'.format(tf.test.gpu_device_name()))\n",
      "else:\n",
      "   print(\"Please install GPU version of TF\")"
     ],
     "language": "python",
     "metadata": {},
     "outputs": [
      {
       "output_type": "stream",
       "stream": "stdout",
       "text": [
        "Default GPU Device: /device:GPU:0\n"
       ]
      },
      {
       "output_type": "stream",
       "stream": "stderr",
       "text": [
        "/usr/local/lib/python2.7/dist-packages/h5py/__init__.py:36: FutureWarning: Conversion of the second argument of issubdtype from `float` to `np.floating` is deprecated. In future, it will be treated as `np.float64 == np.dtype(float).type`.\n",
        "  from ._conv import register_converters as _register_converters\n"
       ]
      }
     ],
     "prompt_number": 1
    },
    {
     "cell_type": "code",
     "collapsed": false,
     "input": [
      "\n",
      "from matplotlib import pyplot as plt\n",
      "from matplotlib.image import imread\n",
      "from pprint import pprint\n",
      "\n",
      "\n",
      "import os\n",
      "import numpy as np\n",
      "\n",
      "path_train = 'data2/amazon_data/train_data_images/'\n",
      "path_val = 'data2/amazon_data/val_data_images/'\n",
      "train_data_dir = 'data2/amazon_data/'\n"
     ],
     "language": "python",
     "metadata": {},
     "outputs": [],
     "prompt_number": 2
    },
    {
     "cell_type": "code",
     "collapsed": false,
     "input": [
      "from keras.applications.vgg16 import VGG16\n",
      "from keras.applications.resnet import *\n",
      "from keras.models import *\n",
      "# base = VGG16(include_top = False, weights='imagenet', input_shape = (256,256,3))\n",
      "\n",
      "\n",
      "#testing resnet34 stuff\n",
      "# from classification_models.resnet import ResNet34\n",
      "base = ResNet152(input_shape=(256, 256, 3), weights='imagenet', include_top=False)"
     ],
     "language": "python",
     "metadata": {},
     "outputs": [
      {
       "output_type": "stream",
       "stream": "stderr",
       "text": [
        "Using TensorFlow backend.\n"
       ]
      }
     ],
     "prompt_number": 3
    },
    {
     "cell_type": "code",
     "collapsed": false,
     "input": [
      "for layer in base.layers:\n",
      "    layer.trainable = False"
     ],
     "language": "python",
     "metadata": {},
     "outputs": [],
     "prompt_number": 4
    },
    {
     "cell_type": "code",
     "collapsed": false,
     "input": [],
     "language": "python",
     "metadata": {},
     "outputs": [],
     "prompt_number": 4
    },
    {
     "cell_type": "code",
     "collapsed": false,
     "input": [],
     "language": "python",
     "metadata": {},
     "outputs": [],
     "prompt_number": 3
    },
    {
     "cell_type": "code",
     "collapsed": false,
     "input": [],
     "language": "python",
     "metadata": {},
     "outputs": [],
     "prompt_number": 3
    },
    {
     "cell_type": "code",
     "collapsed": false,
     "input": [],
     "language": "python",
     "metadata": {},
     "outputs": [],
     "prompt_number": 3
    },
    {
     "cell_type": "code",
     "collapsed": false,
     "input": [
      "# import numpy as np\n",
      "# train_data_arr = np.load('data2/amazon_data/train_data_arr.npy')\n",
      "\n",
      "# val_data_arr = np.load('data2/amazon_data/val_data_arr.npy')"
     ],
     "language": "python",
     "metadata": {},
     "outputs": [],
     "prompt_number": 4
    },
    {
     "cell_type": "code",
     "collapsed": false,
     "input": [],
     "language": "python",
     "metadata": {},
     "outputs": [],
     "prompt_number": 4
    },
    {
     "cell_type": "code",
     "collapsed": false,
     "input": [],
     "language": "python",
     "metadata": {},
     "outputs": [],
     "prompt_number": 4
    },
    {
     "cell_type": "code",
     "collapsed": false,
     "input": [
      "from keras.utils import Sequence\n",
      "import numpy as np\n",
      "from keras.preprocessing.image import *\n",
      "\n",
      "def my_readfunctionX(filename):\n",
      "    return np.array(img_to_array(load_img(filename, target_size=(256, 256))))\n",
      "    \n",
      "def my_readfunctiony(idx_into_output_arr, y_filename):\n",
      "#     global output_arr\n",
      "    y = np.load(y_filename)\n",
      "    return y[idx_into_output_arr]\n",
      "    \n",
      "class MyGenerator(Sequence):\n",
      "    def __init__(self, x_set, y_filename, batch_size):\n",
      "        self.x = x_set\n",
      "        self.y_filename = y_filename\n",
      "        self.batch_size = batch_size\n",
      "\n",
      "    def __len__(self):\n",
      "        return int(np.ceil(len(self.x) / float(self.batch_size)))\n",
      "\n",
      "    def __getitem__(self, idx):\n",
      "#         print('get item called with idx: {}'.format(idx))\n",
      "        start = idx * self.batch_size\n",
      "#         if start>len(self.x):\n",
      "            \n",
      "        end = (idx + 1) * self.batch_size\n",
      "        if end > len(self.x):\n",
      "            end = len(self.x)\n",
      "        batch_x = self.x[start:end]\n",
      "#         batch_y = self.y[idx * self.batch_size:(idx + 1) * self.batch_size]\n",
      "        batch_y = list(range(start, end))\n",
      "    \n",
      "        x = [my_readfunctionX(filename) for filename in batch_x] \n",
      "        y = [my_readfunctiony(idx, self.y_filename) for idx in batch_y]\n",
      "        return np.array(x), np.array(y)"
     ],
     "language": "python",
     "metadata": {},
     "outputs": [],
     "prompt_number": 4
    },
    {
     "cell_type": "code",
     "collapsed": false,
     "input": [
      "batch_size=32\n",
      "filenamesX_train  = [path_train+filename for filename in os.listdir(path_train)]\n",
      "# idxsy_train = None\n",
      "y_filename_train = 'data2/amazon_data/train_data_arr.npy'\n",
      "\n",
      "filenamesX_val  = [path_val+filename for filename in os.listdir(path_val)]\n",
      "# idxsy_val = None\n",
      "y_filename_val = 'data2/amazon_data/val_data_arr.npy'\n",
      "\n",
      "myGenerator_train = MyGenerator(filenamesX_train, y_filename_train, batch_size)\n",
      "myGenerator_val = MyGenerator(filenamesX_val, y_filename_val, batch_size)"
     ],
     "language": "python",
     "metadata": {},
     "outputs": [],
     "prompt_number": 5
    },
    {
     "cell_type": "code",
     "collapsed": false,
     "input": [
      "print(len(np.load(y_filename_train)))"
     ],
     "language": "python",
     "metadata": {},
     "outputs": [
      {
       "output_type": "stream",
       "stream": "stdout",
       "text": [
        "50000\n"
       ]
      }
     ],
     "prompt_number": 13
    },
    {
     "cell_type": "code",
     "collapsed": false,
     "input": [],
     "language": "python",
     "metadata": {},
     "outputs": [],
     "prompt_number": 13
    },
    {
     "cell_type": "code",
     "collapsed": false,
     "input": [
      "print(len(filenamesX_train))"
     ],
     "language": "python",
     "metadata": {},
     "outputs": [
      {
       "output_type": "stream",
       "stream": "stdout",
       "text": [
        "50000\n"
       ]
      }
     ],
     "prompt_number": 14
    },
    {
     "cell_type": "code",
     "collapsed": false,
     "input": [],
     "language": "python",
     "metadata": {},
     "outputs": [],
     "prompt_number": 14
    },
    {
     "cell_type": "code",
     "collapsed": false,
     "input": [],
     "language": "python",
     "metadata": {},
     "outputs": [],
     "prompt_number": 14
    },
    {
     "cell_type": "code",
     "collapsed": false,
     "input": [
      "print(len(myGenerator_train))"
     ],
     "language": "python",
     "metadata": {},
     "outputs": [
      {
       "output_type": "stream",
       "stream": "stdout",
       "text": [
        "1563\n"
       ]
      }
     ],
     "prompt_number": 15
    },
    {
     "cell_type": "code",
     "collapsed": false,
     "input": [
      "batchX, batchy = myGenerator_train[32]\n",
      "print(batchX.shape)\n",
      "print(batchy.shape)"
     ],
     "language": "python",
     "metadata": {},
     "outputs": [
      {
       "output_type": "stream",
       "stream": "stdout",
       "text": [
        "(32, 256, 256, 3)\n",
        "(32,)\n"
       ]
      }
     ],
     "prompt_number": 16
    },
    {
     "cell_type": "code",
     "collapsed": false,
     "input": [],
     "language": "python",
     "metadata": {},
     "outputs": [],
     "prompt_number": 10
    },
    {
     "cell_type": "code",
     "collapsed": false,
     "input": [
      "# Note: Now we're using this code!!!\n",
      "\n",
      "\n",
      "from keras.layers import *\n",
      "from keras.optimizers import *\n",
      "from keras.callbacks import ModelCheckpoint\n",
      "from datetime import datetime\n",
      "\n"
     ],
     "language": "python",
     "metadata": {},
     "outputs": [],
     "prompt_number": 6
    },
    {
     "cell_type": "code",
     "collapsed": false,
     "input": [
      "# NOte: use this for new model!!!\n",
      "model2 = Sequential()\n",
      "model2.add(base)\n",
      "model2.add(Flatten(input_shape=(8,8,2048)))\n",
      "model2.add(Dense(128, activation='tanh', kernel_initializer='normal'))\n",
      "# model2.add(Dropout(0.25))\n",
      "model2.add(Dense(64, activation='tanh', kernel_initializer='normal'))\n",
      "# model2.add(Dropout(0.25))\n",
      "model2.add(Dense(32, activation='relu', kernel_initializer='normal'))\n",
      "model2.add(Dense(1, kernel_initializer='normal'))"
     ],
     "language": "python",
     "metadata": {},
     "outputs": [],
     "prompt_number": 7
    },
    {
     "cell_type": "code",
     "collapsed": false,
     "input": [
      "!ls models2/resnet152"
     ],
     "language": "python",
     "metadata": {},
     "outputs": [
      {
       "output_type": "stream",
       "stream": "stdout",
       "text": [
        "2020-01-11-15:06:49.hdf5  2020-01-11-15:50:36.hdf5  2020-01-11-16:38:40.hdf5\r\n",
        "2020-01-11-15:23:33.hdf5  2020-01-11-16:11:11.hdf5  2020-01-11-18:57:18.hdf5\r\n",
        "2020-01-11-15:27:07.hdf5  2020-01-11-16:13:59.hdf5  2020-01-11-20:07:18.hdf5\r\n",
        "2020-01-11-15:35:13.hdf5  2020-01-11-16:26:39.hdf5  2020-01-11-22:31:49.hdf5\r\n"
       ]
      }
     ],
     "prompt_number": 27
    },
    {
     "cell_type": "code",
     "collapsed": false,
     "input": [
      "# Note: use this if you want to reload the model\n",
      "\n",
      "model2 = load_model('models2/resnet152/2020-01-11-18:57:18.hdf5')"
     ],
     "language": "python",
     "metadata": {},
     "outputs": [],
     "prompt_number": 22
    },
    {
     "cell_type": "code",
     "collapsed": false,
     "input": [
      "learning_rate = 5.13e-03\n",
      "epochs = 500\n",
      "decay = learning_rate/epochs\n",
      "opt = Adam(lr=learning_rate, decay = decay)\n",
      "model2.compile(optimizer=opt,\n",
      "              loss='mean_squared_error')"
     ],
     "language": "python",
     "metadata": {},
     "outputs": [],
     "prompt_number": 23
    },
    {
     "cell_type": "code",
     "collapsed": false,
     "input": [
      "now = str(datetime.now())\n",
      "timestamp = now[:10]+'-'+now[11:19]\n",
      "\n",
      "model_dir = 'models2/'+'resnet152/'+timestamp+'.hdf5'\n",
      "# filepath = 'weights.best.hdf5'\n",
      "checkpoint = ModelCheckpoint(model_dir, monitor='val_loss', verbose=1, save_best_only=True, mode='min')"
     ],
     "language": "python",
     "metadata": {},
     "outputs": [],
     "prompt_number": 10
    },
    {
     "cell_type": "code",
     "collapsed": false,
     "input": [
      "# def single_epoch():\n",
      "    \n",
      "# #     batchX_train, batchy_train = myGenerator_train[i]\n",
      "# #     batchX_val, batchy_val = myGenerator_val[i]\n",
      "\n",
      "# #     bottleneck_features_train = base.predict(x=batchX_train, verbose=0)\n",
      "# #     bottleneck_features_val = base.predict(x=batchX_val, verbose=0)\n",
      "\n",
      "#     bottleneck_features_train = base.predict_generator(myGenerator_train, verbose=0, steps=1)\n",
      "#     bottleneck_features_val = base.predict_generator(myGenerator_val, verbose=0, steps=1)\n",
      "\n",
      "# #     train_data = bottleneck_features_train\n",
      "# #     val_data = bottleneck_features_val\n"
     ],
     "language": "python",
     "metadata": {},
     "outputs": [],
     "prompt_number": 11
    },
    {
     "cell_type": "code",
     "collapsed": false,
     "input": [
      "# for epoch in range(epochs):\n",
      "#     print('Epoch: {}'.format(epoch))\n",
      "#     single_epoch()"
     ],
     "language": "python",
     "metadata": {},
     "outputs": [],
     "prompt_number": 12
    },
    {
     "cell_type": "code",
     "collapsed": false,
     "input": [
      "tsteps=500\n",
      "vsteps = 30"
     ],
     "language": "python",
     "metadata": {},
     "outputs": [],
     "prompt_number": 24
    },
    {
     "cell_type": "code",
     "collapsed": false,
     "input": [
      "# batchX_train, batchy_train = myGenerator_train[i]\n",
      "# batchX_val, batchy_val = myGenerator_val[i]\n",
      "\n",
      "# bottleneck_features_train = base.predict_generator(myGenerator_train, verbose=0, steps=tsteps)\n",
      "# bottleneck_features_val = base.predict_generator(myGenerator_val, verbose=0, steps=vsteps)"
     ],
     "language": "python",
     "metadata": {},
     "outputs": [],
     "prompt_number": 14
    },
    {
     "cell_type": "code",
     "collapsed": false,
     "input": [
      "# y_train = [myGenerator_train[i][1] for i in range(tsteps)]\n",
      "# y_val = [myGenerator_val[i][1] for i in range(vsteps)]\n",
      "\n",
      "# y_train = np.array(y_train).flatten()\n",
      "# y_val = np.array(y_val).flatten()"
     ],
     "language": "python",
     "metadata": {},
     "outputs": [],
     "prompt_number": 15
    },
    {
     "cell_type": "code",
     "collapsed": false,
     "input": [],
     "language": "python",
     "metadata": {},
     "outputs": [],
     "prompt_number": 15
    },
    {
     "cell_type": "code",
     "collapsed": false,
     "input": [
      "# print(y_train.flatten().shape)"
     ],
     "language": "python",
     "metadata": {},
     "outputs": [],
     "prompt_number": 16
    },
    {
     "cell_type": "code",
     "collapsed": false,
     "input": [
      "# print(y_train.shape)"
     ],
     "language": "python",
     "metadata": {},
     "outputs": [],
     "prompt_number": 17
    },
    {
     "cell_type": "code",
     "collapsed": false,
     "input": [
      "# print(bottleneck_features_train.shape)"
     ],
     "language": "python",
     "metadata": {},
     "outputs": [],
     "prompt_number": 18
    },
    {
     "cell_type": "code",
     "collapsed": false,
     "input": [
      "# Note: don't forget to change initial epoch\n",
      "model2.fit_generator(myGenerator_train, steps_per_epoch=tsteps, validation_steps=vsteps,verbose=1, validation_data = myGenerator_val, epochs=10, callbacks=[checkpoint], initial_epoch=0)"
     ],
     "language": "python",
     "metadata": {},
     "outputs": [
      {
       "output_type": "stream",
       "stream": "stdout",
       "text": [
        "Epoch 1/10\n",
        "\r"
       ]
      },
      {
       "output_type": "stream",
       "stream": "stdout",
       "text": [
        "  1/500 [..............................] - ETA: 24:49 - loss: 5.1427"
       ]
      },
      {
       "output_type": "stream",
       "stream": "stdout",
       "text": [
        "\r",
        "  2/500 [..............................] - ETA: 15:13 - loss: 8.9061"
       ]
      },
      {
       "output_type": "stream",
       "stream": "stdout",
       "text": [
        "\r",
        "  3/500 [..............................] - ETA: 11:58 - loss: 8.1073"
       ]
      },
      {
       "output_type": "stream",
       "stream": "stdout",
       "text": [
        "\r",
        "  4/500 [..............................] - ETA: 10:20 - loss: 6.7484"
       ]
      },
      {
       "output_type": "stream",
       "stream": "stdout",
       "text": [
        "\r",
        "  5/500 [..............................] - ETA: 9:29 - loss: 6.3845 "
       ]
      },
      {
       "output_type": "stream",
       "stream": "stdout",
       "text": [
        "\r",
        "  6/500 [..............................] - ETA: 8:48 - loss: 6.3224"
       ]
      },
      {
       "output_type": "stream",
       "stream": "stdout",
       "text": [
        "\r",
        "  7/500 [..............................] - ETA: 8:19 - loss: 6.3844"
       ]
      },
      {
       "output_type": "stream",
       "stream": "stdout",
       "text": [
        "\r",
        "  8/500 [..............................] - ETA: 7:57 - loss: 6.3683"
       ]
      },
      {
       "output_type": "stream",
       "stream": "stdout",
       "text": [
        "\r",
        "  9/500 [..............................] - ETA: 7:41 - loss: 6.3198"
       ]
      },
      {
       "output_type": "stream",
       "stream": "stdout",
       "text": [
        "\r",
        " 10/500 [..............................] - ETA: 7:27 - loss: 6.2787"
       ]
      },
      {
       "output_type": "stream",
       "stream": "stdout",
       "text": [
        "\r",
        " 11/500 [..............................] - ETA: 7:15 - loss: 6.5567"
       ]
      },
      {
       "output_type": "stream",
       "stream": "stdout",
       "text": [
        "\r",
        " 12/500 [..............................] - ETA: 7:05 - loss: 6.7109"
       ]
      },
      {
       "output_type": "stream",
       "stream": "stdout",
       "text": [
        "\r",
        " 13/500 [..............................] - ETA: 6:57 - loss: 7.4512"
       ]
      },
      {
       "output_type": "stream",
       "stream": "stdout",
       "text": [
        "\r",
        " 14/500 [..............................] - ETA: 6:49 - loss: 7.4517"
       ]
      },
      {
       "output_type": "stream",
       "stream": "stdout",
       "text": [
        "\r",
        " 15/500 [..............................] - ETA: 6:43 - loss: 7.4855"
       ]
      },
      {
       "output_type": "stream",
       "stream": "stdout",
       "text": [
        "\r",
        " 16/500 [..............................] - ETA: 6:37 - loss: 7.1860"
       ]
      },
      {
       "output_type": "stream",
       "stream": "stdout",
       "text": [
        "\r",
        " 17/500 [>.............................] - ETA: 6:32 - loss: 7.5306"
       ]
      },
      {
       "output_type": "stream",
       "stream": "stdout",
       "text": [
        "\r",
        " 18/500 [>.............................] - ETA: 6:27 - loss: 7.4171"
       ]
      },
      {
       "output_type": "stream",
       "stream": "stdout",
       "text": [
        "\r",
        " 19/500 [>.............................] - ETA: 6:23 - loss: 7.4117"
       ]
      },
      {
       "output_type": "stream",
       "stream": "stdout",
       "text": [
        "\r",
        " 20/500 [>.............................] - ETA: 6:19 - loss: 7.3499"
       ]
      },
      {
       "output_type": "stream",
       "stream": "stdout",
       "text": [
        "\r",
        " 21/500 [>.............................] - ETA: 6:16 - loss: 7.2417"
       ]
      },
      {
       "output_type": "stream",
       "stream": "stdout",
       "text": [
        "\r",
        " 22/500 [>.............................] - ETA: 6:12 - loss: 7.2730"
       ]
      },
      {
       "output_type": "stream",
       "stream": "stdout",
       "text": [
        "\r",
        " 23/500 [>.............................] - ETA: 6:09 - loss: 7.1586"
       ]
      },
      {
       "output_type": "stream",
       "stream": "stdout",
       "text": [
        "\r",
        " 24/500 [>.............................] - ETA: 6:06 - loss: 7.2715"
       ]
      },
      {
       "output_type": "stream",
       "stream": "stdout",
       "text": [
        "\r",
        " 25/500 [>.............................] - ETA: 6:03 - loss: 7.5720"
       ]
      },
      {
       "output_type": "stream",
       "stream": "stdout",
       "text": [
        "\r",
        " 26/500 [>.............................] - ETA: 6:01 - loss: 7.7343"
       ]
      },
      {
       "output_type": "stream",
       "stream": "stdout",
       "text": [
        "\r",
        " 27/500 [>.............................] - ETA: 5:58 - loss: 7.7787"
       ]
      },
      {
       "output_type": "stream",
       "stream": "stdout",
       "text": [
        "\r",
        " 28/500 [>.............................] - ETA: 5:56 - loss: 7.7318"
       ]
      },
      {
       "output_type": "stream",
       "stream": "stdout",
       "text": [
        "\r",
        " 29/500 [>.............................] - ETA: 5:54 - loss: 7.6582"
       ]
      },
      {
       "output_type": "stream",
       "stream": "stdout",
       "text": [
        "\r",
        " 30/500 [>.............................] - ETA: 5:52 - loss: 7.7733"
       ]
      },
      {
       "output_type": "stream",
       "stream": "stdout",
       "text": [
        "\r",
        " 31/500 [>.............................] - ETA: 5:50 - loss: 7.7063"
       ]
      },
      {
       "output_type": "stream",
       "stream": "stdout",
       "text": [
        "\r",
        " 32/500 [>.............................] - ETA: 5:48 - loss: 7.6125"
       ]
      },
      {
       "output_type": "stream",
       "stream": "stdout",
       "text": [
        "\r",
        " 33/500 [>.............................] - ETA: 5:46 - loss: 7.4420"
       ]
      },
      {
       "output_type": "stream",
       "stream": "stdout",
       "text": [
        "\r",
        " 34/500 [=>............................] - ETA: 5:45 - loss: 7.4741"
       ]
      },
      {
       "output_type": "stream",
       "stream": "stdout",
       "text": [
        "\r",
        " 35/500 [=>............................] - ETA: 5:43 - loss: 7.4277"
       ]
      },
      {
       "output_type": "stream",
       "stream": "stdout",
       "text": [
        "\r",
        " 36/500 [=>............................] - ETA: 5:41 - loss: 7.4662"
       ]
      },
      {
       "output_type": "stream",
       "stream": "stdout",
       "text": [
        "\r",
        " 37/500 [=>............................] - ETA: 5:40 - loss: 7.5481"
       ]
      },
      {
       "output_type": "stream",
       "stream": "stdout",
       "text": [
        "\r",
        " 38/500 [=>............................] - ETA: 5:38 - loss: 7.4750"
       ]
      },
      {
       "output_type": "stream",
       "stream": "stdout",
       "text": [
        "\r",
        " 39/500 [=>............................] - ETA: 5:37 - loss: 7.4126"
       ]
      },
      {
       "output_type": "stream",
       "stream": "stdout",
       "text": [
        "\r",
        " 40/500 [=>............................] - ETA: 5:35 - loss: 7.3937"
       ]
      },
      {
       "output_type": "stream",
       "stream": "stdout",
       "text": [
        "\r",
        " 41/500 [=>............................] - ETA: 5:34 - loss: 7.4112"
       ]
      },
      {
       "output_type": "stream",
       "stream": "stdout",
       "text": [
        "\r",
        " 42/500 [=>............................] - ETA: 5:33 - loss: 7.4328"
       ]
      },
      {
       "output_type": "stream",
       "stream": "stdout",
       "text": [
        "\r",
        " 43/500 [=>............................] - ETA: 5:31 - loss: 7.4205"
       ]
      },
      {
       "output_type": "stream",
       "stream": "stdout",
       "text": [
        "\r",
        " 44/500 [=>............................] - ETA: 5:30 - loss: 7.3730"
       ]
      },
      {
       "output_type": "stream",
       "stream": "stdout",
       "text": [
        "\r",
        " 45/500 [=>............................] - ETA: 5:29 - loss: 7.3544"
       ]
      },
      {
       "output_type": "stream",
       "stream": "stdout",
       "text": [
        "\r",
        " 46/500 [=>............................] - ETA: 5:27 - loss: 7.3174"
       ]
      },
      {
       "output_type": "stream",
       "stream": "stdout",
       "text": [
        "\r",
        " 47/500 [=>............................] - ETA: 5:26 - loss: 7.3142"
       ]
      },
      {
       "output_type": "stream",
       "stream": "stdout",
       "text": [
        "\r",
        " 48/500 [=>............................] - ETA: 5:25 - loss: 7.2328"
       ]
      },
      {
       "output_type": "stream",
       "stream": "stdout",
       "text": [
        "\r",
        " 49/500 [=>............................] - ETA: 5:24 - loss: 7.2206"
       ]
      },
      {
       "output_type": "stream",
       "stream": "stdout",
       "text": [
        "\r",
        " 50/500 [==>...........................] - ETA: 5:23 - loss: 7.1493"
       ]
      },
      {
       "output_type": "stream",
       "stream": "stdout",
       "text": [
        "\r",
        " 51/500 [==>...........................] - ETA: 5:21 - loss: 7.1134"
       ]
      },
      {
       "output_type": "stream",
       "stream": "stdout",
       "text": [
        "\r",
        " 52/500 [==>...........................] - ETA: 5:20 - loss: 7.3191"
       ]
      },
      {
       "output_type": "stream",
       "stream": "stdout",
       "text": [
        "\r",
        " 53/500 [==>...........................] - ETA: 5:19 - loss: 7.3651"
       ]
      },
      {
       "output_type": "stream",
       "stream": "stdout",
       "text": [
        "\r",
        " 54/500 [==>...........................] - ETA: 5:18 - loss: 7.3030"
       ]
      },
      {
       "output_type": "stream",
       "stream": "stdout",
       "text": [
        "\r",
        " 55/500 [==>...........................] - ETA: 5:17 - loss: 7.2174"
       ]
      },
      {
       "output_type": "stream",
       "stream": "stdout",
       "text": [
        "\r",
        " 56/500 [==>...........................] - ETA: 5:16 - loss: 7.1423"
       ]
      },
      {
       "output_type": "stream",
       "stream": "stdout",
       "text": [
        "\r",
        " 57/500 [==>...........................] - ETA: 5:15 - loss: 7.0836"
       ]
      },
      {
       "output_type": "stream",
       "stream": "stdout",
       "text": [
        "\r",
        " 58/500 [==>...........................] - ETA: 5:14 - loss: 7.0830"
       ]
      },
      {
       "output_type": "stream",
       "stream": "stdout",
       "text": [
        "\r",
        " 59/500 [==>...........................] - ETA: 5:13 - loss: 7.0185"
       ]
      },
      {
       "output_type": "stream",
       "stream": "stdout",
       "text": [
        "\r",
        " 60/500 [==>...........................] - ETA: 5:12 - loss: 7.0645"
       ]
      },
      {
       "output_type": "stream",
       "stream": "stdout",
       "text": [
        "\r",
        " 61/500 [==>...........................] - ETA: 5:11 - loss: 7.1436"
       ]
      },
      {
       "output_type": "stream",
       "stream": "stdout",
       "text": [
        "\r",
        " 62/500 [==>...........................] - ETA: 5:10 - loss: 7.1032"
       ]
      },
      {
       "output_type": "stream",
       "stream": "stdout",
       "text": [
        "\r",
        " 63/500 [==>...........................] - ETA: 5:09 - loss: 7.1776"
       ]
      },
      {
       "output_type": "stream",
       "stream": "stdout",
       "text": [
        "\r",
        " 64/500 [==>...........................] - ETA: 5:08 - loss: 7.1543"
       ]
      },
      {
       "output_type": "stream",
       "stream": "stdout",
       "text": [
        "\r",
        " 65/500 [==>...........................] - ETA: 5:07 - loss: 7.0805"
       ]
      },
      {
       "output_type": "stream",
       "stream": "stdout",
       "text": [
        "\r",
        " 66/500 [==>...........................] - ETA: 5:07 - loss: 7.1921"
       ]
      },
      {
       "output_type": "stream",
       "stream": "stdout",
       "text": [
        "\r",
        " 67/500 [===>..........................] - ETA: 5:06 - loss: 7.1628"
       ]
      },
      {
       "output_type": "stream",
       "stream": "stdout",
       "text": [
        "\r",
        " 68/500 [===>..........................] - ETA: 5:05 - loss: 7.1677"
       ]
      },
      {
       "output_type": "stream",
       "stream": "stdout",
       "text": [
        "\r",
        " 69/500 [===>..........................] - ETA: 5:05 - loss: 7.2693"
       ]
      },
      {
       "output_type": "stream",
       "stream": "stdout",
       "text": [
        "\r",
        " 70/500 [===>..........................] - ETA: 5:04 - loss: 7.3479"
       ]
      },
      {
       "output_type": "stream",
       "stream": "stdout",
       "text": [
        "\r",
        " 71/500 [===>..........................] - ETA: 5:04 - loss: 7.3338"
       ]
      },
      {
       "output_type": "stream",
       "stream": "stdout",
       "text": [
        "\r",
        " 72/500 [===>..........................] - ETA: 5:03 - loss: 7.2928"
       ]
      },
      {
       "output_type": "stream",
       "stream": "stdout",
       "text": [
        "\r",
        " 73/500 [===>..........................] - ETA: 5:03 - loss: 7.2945"
       ]
      },
      {
       "output_type": "stream",
       "stream": "stdout",
       "text": [
        "\r",
        " 74/500 [===>..........................] - ETA: 5:02 - loss: 7.2405"
       ]
      },
      {
       "output_type": "stream",
       "stream": "stdout",
       "text": [
        "\r",
        " 75/500 [===>..........................] - ETA: 5:01 - loss: 7.2161"
       ]
      },
      {
       "output_type": "stream",
       "stream": "stdout",
       "text": [
        "\r",
        " 76/500 [===>..........................] - ETA: 5:01 - loss: 7.1560"
       ]
      },
      {
       "output_type": "stream",
       "stream": "stdout",
       "text": [
        "\r",
        " 77/500 [===>..........................] - ETA: 5:00 - loss: 7.1269"
       ]
      },
      {
       "output_type": "stream",
       "stream": "stdout",
       "text": [
        "\r",
        " 78/500 [===>..........................] - ETA: 4:59 - loss: 7.1250"
       ]
      },
      {
       "output_type": "stream",
       "stream": "stdout",
       "text": [
        "\r",
        " 79/500 [===>..........................] - ETA: 4:59 - loss: 7.2085"
       ]
      },
      {
       "output_type": "stream",
       "stream": "stdout",
       "text": [
        "\r",
        " 80/500 [===>..........................] - ETA: 4:58 - loss: 7.1678"
       ]
      },
      {
       "output_type": "stream",
       "stream": "stdout",
       "text": [
        "\r",
        " 81/500 [===>..........................] - ETA: 4:58 - loss: 7.1315"
       ]
      },
      {
       "output_type": "stream",
       "stream": "stdout",
       "text": [
        "\r",
        " 82/500 [===>..........................] - ETA: 4:57 - loss: 7.1429"
       ]
      },
      {
       "output_type": "stream",
       "stream": "stdout",
       "text": [
        "\r",
        " 83/500 [===>..........................] - ETA: 4:56 - loss: 7.1043"
       ]
      },
      {
       "output_type": "stream",
       "stream": "stdout",
       "text": [
        "\r",
        " 84/500 [====>.........................] - ETA: 4:55 - loss: 7.0745"
       ]
      },
      {
       "output_type": "stream",
       "stream": "stdout",
       "text": [
        "\r",
        " 85/500 [====>.........................] - ETA: 4:56 - loss: 7.0554"
       ]
      },
      {
       "output_type": "stream",
       "stream": "stdout",
       "text": [
        "\r",
        " 86/500 [====>.........................] - ETA: 5:01 - loss: 7.0317"
       ]
      },
      {
       "output_type": "stream",
       "stream": "stdout",
       "text": [
        "\r",
        " 87/500 [====>.........................] - ETA: 5:05 - loss: 7.0849"
       ]
      },
      {
       "output_type": "stream",
       "stream": "stdout",
       "text": [
        "\r",
        " 88/500 [====>.........................] - ETA: 5:09 - loss: 7.1111"
       ]
      },
      {
       "output_type": "stream",
       "stream": "stdout",
       "text": [
        "\r",
        " 89/500 [====>.........................] - ETA: 5:16 - loss: 7.1737"
       ]
      },
      {
       "output_type": "stream",
       "stream": "stdout",
       "text": [
        "\r",
        " 90/500 [====>.........................] - ETA: 5:19 - loss: 7.2342"
       ]
      },
      {
       "output_type": "stream",
       "stream": "stdout",
       "text": [
        "\r",
        " 91/500 [====>.........................] - ETA: 5:21 - loss: 7.2099"
       ]
      },
      {
       "output_type": "stream",
       "stream": "stdout",
       "text": [
        "\r",
        " 92/500 [====>.........................] - ETA: 5:39 - loss: 7.2222"
       ]
      },
      {
       "output_type": "stream",
       "stream": "stdout",
       "text": [
        "\r",
        " 93/500 [====>.........................] - ETA: 5:48 - loss: 7.1760"
       ]
      },
      {
       "output_type": "stream",
       "stream": "stdout",
       "text": [
        "\r",
        " 94/500 [====>.........................] - ETA: 5:54 - loss: 7.2332"
       ]
      },
      {
       "output_type": "stream",
       "stream": "stdout",
       "text": [
        "\r",
        " 95/500 [====>.........................] - ETA: 5:58 - loss: 7.2345"
       ]
      },
      {
       "output_type": "stream",
       "stream": "stdout",
       "text": [
        "\r",
        " 96/500 [====>.........................] - ETA: 6:01 - loss: 7.1828"
       ]
      },
      {
       "output_type": "stream",
       "stream": "stdout",
       "text": [
        "\r",
        " 97/500 [====>.........................] - ETA: 6:12 - loss: 7.2100"
       ]
      },
      {
       "output_type": "stream",
       "stream": "stdout",
       "text": [
        "\r",
        " 98/500 [====>.........................] - ETA: 6:19 - loss: 7.2282"
       ]
      },
      {
       "output_type": "stream",
       "stream": "stdout",
       "text": [
        "\r",
        " 99/500 [====>.........................] - ETA: 6:25 - loss: 7.1948"
       ]
      },
      {
       "output_type": "stream",
       "stream": "stdout",
       "text": [
        "\r",
        "100/500 [=====>........................] - ETA: 6:29 - loss: 7.1451"
       ]
      },
      {
       "output_type": "stream",
       "stream": "stdout",
       "text": [
        "\r",
        "101/500 [=====>........................] - ETA: 6:37 - loss: 7.1664"
       ]
      },
      {
       "output_type": "stream",
       "stream": "stdout",
       "text": [
        "\r",
        "102/500 [=====>........................] - ETA: 6:41 - loss: 7.2168"
       ]
      },
      {
       "output_type": "stream",
       "stream": "stdout",
       "text": [
        "\r",
        "103/500 [=====>........................] - ETA: 6:42 - loss: 7.2466"
       ]
      },
      {
       "output_type": "stream",
       "stream": "stdout",
       "text": [
        "\r",
        "104/500 [=====>........................] - ETA: 6:44 - loss: 7.2062"
       ]
      },
      {
       "output_type": "stream",
       "stream": "stdout",
       "text": [
        "\r",
        "105/500 [=====>........................] - ETA: 6:45 - loss: 7.1824"
       ]
      },
      {
       "output_type": "stream",
       "stream": "stdout",
       "text": [
        "\r",
        "106/500 [=====>........................] - ETA: 6:47 - loss: 7.2251"
       ]
      },
      {
       "output_type": "stream",
       "stream": "stdout",
       "text": [
        "\r",
        "107/500 [=====>........................] - ETA: 6:49 - loss: 7.2333"
       ]
      },
      {
       "output_type": "stream",
       "stream": "stdout",
       "text": [
        "\r",
        "108/500 [=====>........................] - ETA: 6:51 - loss: 7.2501"
       ]
      },
      {
       "output_type": "stream",
       "stream": "stdout",
       "text": [
        "\r",
        "109/500 [=====>........................] - ETA: 6:52 - loss: 7.2744"
       ]
      },
      {
       "output_type": "stream",
       "stream": "stdout",
       "text": [
        "\r",
        "110/500 [=====>........................] - ETA: 6:56 - loss: 7.2639"
       ]
      },
      {
       "output_type": "stream",
       "stream": "stdout",
       "text": [
        "\r",
        "111/500 [=====>........................] - ETA: 6:57 - loss: 7.2698"
       ]
      },
      {
       "output_type": "stream",
       "stream": "stdout",
       "text": [
        "\r",
        "112/500 [=====>........................] - ETA: 6:59 - loss: 7.2708"
       ]
      },
      {
       "output_type": "stream",
       "stream": "stdout",
       "text": [
        "\r",
        "113/500 [=====>........................] - ETA: 7:00 - loss: 7.2426"
       ]
      },
      {
       "output_type": "stream",
       "stream": "stdout",
       "text": [
        "\r",
        "114/500 [=====>........................] - ETA: 7:02 - loss: 7.2085"
       ]
      },
      {
       "output_type": "stream",
       "stream": "stdout",
       "text": [
        "\r",
        "115/500 [=====>........................] - ETA: 7:01 - loss: 7.2049"
       ]
      },
      {
       "output_type": "stream",
       "stream": "stdout",
       "text": [
        "\r",
        "116/500 [=====>........................] - ETA: 7:00 - loss: 7.2626"
       ]
      },
      {
       "output_type": "stream",
       "stream": "stdout",
       "text": [
        "\r",
        "117/500 [======>.......................] - ETA: 6:58 - loss: 7.2605"
       ]
      },
      {
       "output_type": "stream",
       "stream": "stdout",
       "text": [
        "\r",
        "118/500 [======>.......................] - ETA: 6:56 - loss: 7.2687"
       ]
      },
      {
       "output_type": "stream",
       "stream": "stdout",
       "text": [
        "\r",
        "119/500 [======>.......................] - ETA: 6:53 - loss: 7.2884"
       ]
      },
      {
       "output_type": "stream",
       "stream": "stdout",
       "text": [
        "\r",
        "120/500 [======>.......................] - ETA: 6:51 - loss: 7.2798"
       ]
      },
      {
       "output_type": "stream",
       "stream": "stdout",
       "text": [
        "\r",
        "121/500 [======>.......................] - ETA: 6:48 - loss: 7.2812"
       ]
      },
      {
       "output_type": "stream",
       "stream": "stdout",
       "text": [
        "\r",
        "122/500 [======>.......................] - ETA: 6:46 - loss: 7.2808"
       ]
      },
      {
       "output_type": "stream",
       "stream": "stdout",
       "text": [
        "\r",
        "123/500 [======>.......................] - ETA: 6:44 - loss: 7.3083"
       ]
      },
      {
       "output_type": "stream",
       "stream": "stdout",
       "text": [
        "\r",
        "124/500 [======>.......................] - ETA: 6:41 - loss: 7.3197"
       ]
      },
      {
       "output_type": "stream",
       "stream": "stdout",
       "text": [
        "\r",
        "125/500 [======>.......................] - ETA: 6:39 - loss: 7.3184"
       ]
      },
      {
       "output_type": "stream",
       "stream": "stdout",
       "text": [
        "\r",
        "126/500 [======>.......................] - ETA: 6:37 - loss: 7.2904"
       ]
      },
      {
       "output_type": "stream",
       "stream": "stdout",
       "text": [
        "\r",
        "127/500 [======>.......................] - ETA: 6:35 - loss: 7.2847"
       ]
      },
      {
       "output_type": "stream",
       "stream": "stdout",
       "text": [
        "\r",
        "128/500 [======>.......................] - ETA: 6:33 - loss: 7.2581"
       ]
      },
      {
       "output_type": "stream",
       "stream": "stdout",
       "text": [
        "\r",
        "129/500 [======>.......................] - ETA: 6:30 - loss: 7.2331"
       ]
      },
      {
       "output_type": "stream",
       "stream": "stdout",
       "text": [
        "\r",
        "130/500 [======>.......................] - ETA: 6:28 - loss: 7.2570"
       ]
      },
      {
       "output_type": "stream",
       "stream": "stdout",
       "text": [
        "\r",
        "131/500 [======>.......................] - ETA: 6:26 - loss: 7.2553"
       ]
      },
      {
       "output_type": "stream",
       "stream": "stdout",
       "text": [
        "\r",
        "132/500 [======>.......................] - ETA: 6:24 - loss: 7.2773"
       ]
      },
      {
       "output_type": "stream",
       "stream": "stdout",
       "text": [
        "\r",
        "133/500 [======>.......................] - ETA: 6:22 - loss: 7.2664"
       ]
      },
      {
       "output_type": "stream",
       "stream": "stdout",
       "text": [
        "\r",
        "134/500 [=======>......................] - ETA: 6:20 - loss: 7.2518"
       ]
      },
      {
       "output_type": "stream",
       "stream": "stdout",
       "text": [
        "\r",
        "135/500 [=======>......................] - ETA: 6:18 - loss: 7.2666"
       ]
      },
      {
       "output_type": "stream",
       "stream": "stdout",
       "text": [
        "\r",
        "136/500 [=======>......................] - ETA: 6:16 - loss: 7.2408"
       ]
      },
      {
       "output_type": "stream",
       "stream": "stdout",
       "text": [
        "\r",
        "137/500 [=======>......................] - ETA: 6:14 - loss: 7.2957"
       ]
      },
      {
       "output_type": "stream",
       "stream": "stdout",
       "text": [
        "\r",
        "138/500 [=======>......................] - ETA: 6:12 - loss: 7.3049"
       ]
      },
      {
       "output_type": "stream",
       "stream": "stdout",
       "text": [
        "\r",
        "139/500 [=======>......................] - ETA: 6:10 - loss: 7.3560"
       ]
      },
      {
       "output_type": "stream",
       "stream": "stdout",
       "text": [
        "\r",
        "140/500 [=======>......................] - ETA: 6:08 - loss: 7.3513"
       ]
      },
      {
       "output_type": "stream",
       "stream": "stdout",
       "text": [
        "\r",
        "141/500 [=======>......................] - ETA: 6:06 - loss: 7.3701"
       ]
      },
      {
       "output_type": "stream",
       "stream": "stdout",
       "text": [
        "\r",
        "142/500 [=======>......................] - ETA: 6:04 - loss: 7.3533"
       ]
      },
      {
       "output_type": "stream",
       "stream": "stdout",
       "text": [
        "\r",
        "143/500 [=======>......................] - ETA: 6:02 - loss: 7.3875"
       ]
      },
      {
       "output_type": "stream",
       "stream": "stdout",
       "text": [
        "\r",
        "144/500 [=======>......................] - ETA: 6:00 - loss: 7.3926"
       ]
      },
      {
       "output_type": "stream",
       "stream": "stdout",
       "text": [
        "\r",
        "145/500 [=======>......................] - ETA: 5:59 - loss: 7.3899"
       ]
      },
      {
       "output_type": "stream",
       "stream": "stdout",
       "text": [
        "\r",
        "146/500 [=======>......................] - ETA: 5:57 - loss: 7.3886"
       ]
      },
      {
       "output_type": "stream",
       "stream": "stdout",
       "text": [
        "\r",
        "147/500 [=======>......................] - ETA: 5:55 - loss: 7.3661"
       ]
      },
      {
       "output_type": "stream",
       "stream": "stdout",
       "text": [
        "\r",
        "148/500 [=======>......................] - ETA: 5:53 - loss: 7.3807"
       ]
      },
      {
       "output_type": "stream",
       "stream": "stdout",
       "text": [
        "\r",
        "149/500 [=======>......................] - ETA: 5:51 - loss: 7.4198"
       ]
      },
      {
       "output_type": "stream",
       "stream": "stdout",
       "text": [
        "\r",
        "150/500 [========>.....................] - ETA: 5:50 - loss: 7.4397"
       ]
      },
      {
       "output_type": "stream",
       "stream": "stdout",
       "text": [
        "\r",
        "151/500 [========>.....................] - ETA: 5:48 - loss: 7.4822"
       ]
      },
      {
       "output_type": "stream",
       "stream": "stdout",
       "text": [
        "\r",
        "152/500 [========>.....................] - ETA: 5:46 - loss: 7.4649"
       ]
      },
      {
       "output_type": "stream",
       "stream": "stdout",
       "text": [
        "\r",
        "153/500 [========>.....................] - ETA: 5:44 - loss: 7.4468"
       ]
      },
      {
       "output_type": "stream",
       "stream": "stdout",
       "text": [
        "\r",
        "154/500 [========>.....................] - ETA: 5:43 - loss: 7.4482"
       ]
      },
      {
       "output_type": "stream",
       "stream": "stdout",
       "text": [
        "\r",
        "155/500 [========>.....................] - ETA: 5:41 - loss: 7.4896"
       ]
      },
      {
       "output_type": "stream",
       "stream": "stdout",
       "text": [
        "\r",
        "156/500 [========>.....................] - ETA: 5:39 - loss: 7.5181"
       ]
      },
      {
       "output_type": "stream",
       "stream": "stdout",
       "text": [
        "\r",
        "157/500 [========>.....................] - ETA: 5:38 - loss: 7.5066"
       ]
      },
      {
       "output_type": "stream",
       "stream": "stdout",
       "text": [
        "\r",
        "158/500 [========>.....................] - ETA: 5:36 - loss: 7.5021"
       ]
      },
      {
       "output_type": "stream",
       "stream": "stdout",
       "text": [
        "\r",
        "159/500 [========>.....................] - ETA: 5:34 - loss: 7.4718"
       ]
      },
      {
       "output_type": "stream",
       "stream": "stdout",
       "text": [
        "\r",
        "160/500 [========>.....................] - ETA: 5:33 - loss: 7.4858"
       ]
      },
      {
       "output_type": "stream",
       "stream": "stdout",
       "text": [
        "\r",
        "161/500 [========>.....................] - ETA: 5:31 - loss: 7.4954"
       ]
      },
      {
       "output_type": "stream",
       "stream": "stdout",
       "text": [
        "\r",
        "162/500 [========>.....................] - ETA: 5:29 - loss: 7.4752"
       ]
      },
      {
       "output_type": "stream",
       "stream": "stdout",
       "text": [
        "\r",
        "163/500 [========>.....................] - ETA: 5:28 - loss: 7.4891"
       ]
      },
      {
       "output_type": "stream",
       "stream": "stdout",
       "text": [
        "\r",
        "164/500 [========>.....................] - ETA: 5:26 - loss: 7.5190"
       ]
      },
      {
       "output_type": "stream",
       "stream": "stdout",
       "text": [
        "\r",
        "165/500 [========>.....................] - ETA: 5:25 - loss: 7.4894"
       ]
      },
      {
       "output_type": "stream",
       "stream": "stdout",
       "text": [
        "\r",
        "166/500 [========>.....................] - ETA: 5:23 - loss: 7.5106"
       ]
      },
      {
       "output_type": "stream",
       "stream": "stdout",
       "text": [
        "\r",
        "167/500 [=========>....................] - ETA: 5:22 - loss: 7.5377"
       ]
      },
      {
       "output_type": "stream",
       "stream": "stdout",
       "text": [
        "\r",
        "168/500 [=========>....................] - ETA: 5:20 - loss: 7.5318"
       ]
      },
      {
       "output_type": "stream",
       "stream": "stdout",
       "text": [
        "\r",
        "169/500 [=========>....................] - ETA: 5:18 - loss: 7.5341"
       ]
      },
      {
       "output_type": "stream",
       "stream": "stdout",
       "text": [
        "\r",
        "170/500 [=========>....................] - ETA: 5:17 - loss: 7.5317"
       ]
      },
      {
       "output_type": "stream",
       "stream": "stdout",
       "text": [
        "\r",
        "171/500 [=========>....................] - ETA: 5:15 - loss: 7.5181"
       ]
      },
      {
       "output_type": "stream",
       "stream": "stdout",
       "text": [
        "\r",
        "172/500 [=========>....................] - ETA: 5:14 - loss: 7.5289"
       ]
      },
      {
       "output_type": "stream",
       "stream": "stdout",
       "text": [
        "\r",
        "173/500 [=========>....................] - ETA: 5:12 - loss: 7.5890"
       ]
      },
      {
       "output_type": "stream",
       "stream": "stdout",
       "text": [
        "\r",
        "174/500 [=========>....................] - ETA: 5:11 - loss: 7.5676"
       ]
      },
      {
       "output_type": "stream",
       "stream": "stdout",
       "text": [
        "\r",
        "175/500 [=========>....................] - ETA: 5:09 - loss: 7.5673"
       ]
      },
      {
       "output_type": "stream",
       "stream": "stdout",
       "text": [
        "\r",
        "176/500 [=========>....................] - ETA: 5:08 - loss: 7.5658"
       ]
      },
      {
       "output_type": "stream",
       "stream": "stdout",
       "text": [
        "\r",
        "177/500 [=========>....................] - ETA: 5:07 - loss: 7.5833"
       ]
      },
      {
       "output_type": "stream",
       "stream": "stdout",
       "text": [
        "\r",
        "178/500 [=========>....................] - ETA: 5:05 - loss: 7.5739"
       ]
      },
      {
       "output_type": "stream",
       "stream": "stdout",
       "text": [
        "\r",
        "179/500 [=========>....................] - ETA: 5:04 - loss: 7.5815"
       ]
      },
      {
       "output_type": "stream",
       "stream": "stdout",
       "text": [
        "\r",
        "180/500 [=========>....................] - ETA: 5:02 - loss: 7.5699"
       ]
      },
      {
       "output_type": "stream",
       "stream": "stdout",
       "text": [
        "\r",
        "181/500 [=========>....................] - ETA: 5:01 - loss: 7.5528"
       ]
      },
      {
       "output_type": "stream",
       "stream": "stdout",
       "text": [
        "\r",
        "182/500 [=========>....................] - ETA: 4:59 - loss: 7.5475"
       ]
      },
      {
       "output_type": "stream",
       "stream": "stdout",
       "text": [
        "\r",
        "183/500 [=========>....................] - ETA: 4:58 - loss: 7.5889"
       ]
      },
      {
       "output_type": "stream",
       "stream": "stdout",
       "text": [
        "\r",
        "184/500 [==========>...................] - ETA: 4:57 - loss: 7.5734"
       ]
      },
      {
       "output_type": "stream",
       "stream": "stdout",
       "text": [
        "\r",
        "185/500 [==========>...................] - ETA: 4:55 - loss: 7.5833"
       ]
      },
      {
       "output_type": "stream",
       "stream": "stdout",
       "text": [
        "\r",
        "186/500 [==========>...................] - ETA: 4:54 - loss: 7.5730"
       ]
      },
      {
       "output_type": "stream",
       "stream": "stdout",
       "text": [
        "\r",
        "187/500 [==========>...................] - ETA: 4:53 - loss: 7.5635"
       ]
      },
      {
       "output_type": "stream",
       "stream": "stdout",
       "text": [
        "\r",
        "188/500 [==========>...................] - ETA: 4:51 - loss: 7.5573"
       ]
      },
      {
       "output_type": "stream",
       "stream": "stdout",
       "text": [
        "\r",
        "189/500 [==========>...................] - ETA: 4:50 - loss: 7.5413"
       ]
      },
      {
       "output_type": "stream",
       "stream": "stdout",
       "text": [
        "\r",
        "190/500 [==========>...................] - ETA: 4:49 - loss: 7.5615"
       ]
      },
      {
       "output_type": "stream",
       "stream": "stdout",
       "text": [
        "\r",
        "191/500 [==========>...................] - ETA: 4:47 - loss: 7.5605"
       ]
      },
      {
       "output_type": "stream",
       "stream": "stdout",
       "text": [
        "\r",
        "192/500 [==========>...................] - ETA: 4:46 - loss: 7.5483"
       ]
      },
      {
       "output_type": "stream",
       "stream": "stdout",
       "text": [
        "\r",
        "193/500 [==========>...................] - ETA: 4:45 - loss: 7.5845"
       ]
      },
      {
       "output_type": "stream",
       "stream": "stdout",
       "text": [
        "\r",
        "194/500 [==========>...................] - ETA: 4:43 - loss: 7.5753"
       ]
      },
      {
       "output_type": "stream",
       "stream": "stdout",
       "text": [
        "\r",
        "195/500 [==========>...................] - ETA: 4:42 - loss: 7.5674"
       ]
      },
      {
       "output_type": "stream",
       "stream": "stdout",
       "text": [
        "\r",
        "196/500 [==========>...................] - ETA: 4:41 - loss: 7.5854"
       ]
      },
      {
       "output_type": "stream",
       "stream": "stdout",
       "text": [
        "\r",
        "197/500 [==========>...................] - ETA: 4:39 - loss: 7.5894"
       ]
      },
      {
       "output_type": "stream",
       "stream": "stdout",
       "text": [
        "\r",
        "198/500 [==========>...................] - ETA: 4:38 - loss: 7.6028"
       ]
      },
      {
       "output_type": "stream",
       "stream": "stdout",
       "text": [
        "\r",
        "199/500 [==========>...................] - ETA: 4:37 - loss: 7.6142"
       ]
      },
      {
       "output_type": "stream",
       "stream": "stdout",
       "text": [
        "\r",
        "200/500 [===========>..................] - ETA: 4:35 - loss: 7.6181"
       ]
      },
      {
       "output_type": "stream",
       "stream": "stdout",
       "text": [
        "\r",
        "201/500 [===========>..................] - ETA: 4:34 - loss: 7.6323"
       ]
      },
      {
       "output_type": "stream",
       "stream": "stdout",
       "text": [
        "\r",
        "202/500 [===========>..................] - ETA: 4:33 - loss: 7.6496"
       ]
      },
      {
       "output_type": "stream",
       "stream": "stdout",
       "text": [
        "\r",
        "203/500 [===========>..................] - ETA: 4:32 - loss: 7.6311"
       ]
      },
      {
       "output_type": "stream",
       "stream": "stdout",
       "text": [
        "\r",
        "204/500 [===========>..................] - ETA: 4:30 - loss: 7.6123"
       ]
      },
      {
       "output_type": "stream",
       "stream": "stdout",
       "text": [
        "\r",
        "205/500 [===========>..................] - ETA: 4:29 - loss: 7.6100"
       ]
      },
      {
       "output_type": "stream",
       "stream": "stdout",
       "text": [
        "\r",
        "206/500 [===========>..................] - ETA: 4:28 - loss: 7.6045"
       ]
      },
      {
       "output_type": "stream",
       "stream": "stdout",
       "text": [
        "\r",
        "207/500 [===========>..................] - ETA: 4:27 - loss: 7.6145"
       ]
      },
      {
       "output_type": "stream",
       "stream": "stdout",
       "text": [
        "\r",
        "208/500 [===========>..................] - ETA: 4:25 - loss: 7.6216"
       ]
      },
      {
       "output_type": "stream",
       "stream": "stdout",
       "text": [
        "\r",
        "209/500 [===========>..................] - ETA: 4:24 - loss: 7.6357"
       ]
      },
      {
       "output_type": "stream",
       "stream": "stdout",
       "text": [
        "\r",
        "210/500 [===========>..................] - ETA: 4:23 - loss: 7.6406"
       ]
      },
      {
       "output_type": "stream",
       "stream": "stdout",
       "text": [
        "\r",
        "211/500 [===========>..................] - ETA: 4:22 - loss: 7.6261"
       ]
      },
      {
       "output_type": "stream",
       "stream": "stdout",
       "text": [
        "\r",
        "212/500 [===========>..................] - ETA: 4:21 - loss: 7.6000"
       ]
      },
      {
       "output_type": "stream",
       "stream": "stdout",
       "text": [
        "\r",
        "213/500 [===========>..................] - ETA: 4:19 - loss: 7.5920"
       ]
      },
      {
       "output_type": "stream",
       "stream": "stdout",
       "text": [
        "\r",
        "214/500 [===========>..................] - ETA: 4:18 - loss: 7.5969"
       ]
      },
      {
       "output_type": "stream",
       "stream": "stdout",
       "text": [
        "\r",
        "215/500 [===========>..................] - ETA: 4:17 - loss: 7.5948"
       ]
      },
      {
       "output_type": "stream",
       "stream": "stdout",
       "text": [
        "\r",
        "216/500 [===========>..................] - ETA: 4:16 - loss: 7.5883"
       ]
      },
      {
       "output_type": "stream",
       "stream": "stdout",
       "text": [
        "\r",
        "217/500 [============>.................] - ETA: 4:15 - loss: 7.5810"
       ]
      },
      {
       "output_type": "stream",
       "stream": "stdout",
       "text": [
        "\r",
        "218/500 [============>.................] - ETA: 4:13 - loss: 7.5814"
       ]
      },
      {
       "output_type": "stream",
       "stream": "stdout",
       "text": [
        "\r",
        "219/500 [============>.................] - ETA: 4:12 - loss: 7.5811"
       ]
      },
      {
       "output_type": "stream",
       "stream": "stdout",
       "text": [
        "\r",
        "220/500 [============>.................] - ETA: 4:11 - loss: 7.5934"
       ]
      },
      {
       "output_type": "stream",
       "stream": "stdout",
       "text": [
        "\r",
        "221/500 [============>.................] - ETA: 4:10 - loss: 7.5808"
       ]
      },
      {
       "output_type": "stream",
       "stream": "stdout",
       "text": [
        "\r",
        "222/500 [============>.................] - ETA: 4:09 - loss: 7.5874"
       ]
      },
      {
       "output_type": "stream",
       "stream": "stdout",
       "text": [
        "\r",
        "223/500 [============>.................] - ETA: 4:08 - loss: 7.5766"
       ]
      },
      {
       "output_type": "stream",
       "stream": "stdout",
       "text": [
        "\r",
        "224/500 [============>.................] - ETA: 4:06 - loss: 7.6045"
       ]
      },
      {
       "output_type": "stream",
       "stream": "stdout",
       "text": [
        "\r",
        "225/500 [============>.................] - ETA: 4:05 - loss: 7.5941"
       ]
      },
      {
       "output_type": "stream",
       "stream": "stdout",
       "text": [
        "\r",
        "226/500 [============>.................] - ETA: 4:04 - loss: 7.5788"
       ]
      },
      {
       "output_type": "stream",
       "stream": "stdout",
       "text": [
        "\r",
        "227/500 [============>.................] - ETA: 4:03 - loss: 7.5592"
       ]
      },
      {
       "output_type": "stream",
       "stream": "stdout",
       "text": [
        "\r",
        "228/500 [============>.................] - ETA: 4:02 - loss: 7.5680"
       ]
      },
      {
       "output_type": "stream",
       "stream": "stdout",
       "text": [
        "\r",
        "229/500 [============>.................] - ETA: 4:01 - loss: 7.5914"
       ]
      },
      {
       "output_type": "stream",
       "stream": "stdout",
       "text": [
        "\r",
        "230/500 [============>.................] - ETA: 4:00 - loss: 7.5866"
       ]
      },
      {
       "output_type": "stream",
       "stream": "stdout",
       "text": [
        "\r",
        "231/500 [============>.................] - ETA: 3:58 - loss: 7.5910"
       ]
      },
      {
       "output_type": "stream",
       "stream": "stdout",
       "text": [
        "\r",
        "232/500 [============>.................] - ETA: 3:57 - loss: 7.5783"
       ]
      },
      {
       "output_type": "stream",
       "stream": "stdout",
       "text": [
        "\r",
        "233/500 [============>.................] - ETA: 3:56 - loss: 7.5587"
       ]
      },
      {
       "output_type": "stream",
       "stream": "stdout",
       "text": [
        "\r",
        "234/500 [=============>................] - ETA: 3:55 - loss: 7.5662"
       ]
      },
      {
       "output_type": "stream",
       "stream": "stdout",
       "text": [
        "\r",
        "235/500 [=============>................] - ETA: 3:54 - loss: 7.5453"
       ]
      },
      {
       "output_type": "stream",
       "stream": "stdout",
       "text": [
        "\r",
        "236/500 [=============>................] - ETA: 3:53 - loss: 7.5504"
       ]
      },
      {
       "output_type": "stream",
       "stream": "stdout",
       "text": [
        "\r",
        "237/500 [=============>................] - ETA: 3:52 - loss: 7.5481"
       ]
      },
      {
       "output_type": "stream",
       "stream": "stdout",
       "text": [
        "\r",
        "238/500 [=============>................] - ETA: 3:51 - loss: 7.5534"
       ]
      },
      {
       "output_type": "stream",
       "stream": "stdout",
       "text": [
        "\r",
        "239/500 [=============>................] - ETA: 3:50 - loss: 7.5551"
       ]
      },
      {
       "output_type": "stream",
       "stream": "stdout",
       "text": [
        "\r",
        "240/500 [=============>................] - ETA: 3:48 - loss: 7.5764"
       ]
      },
      {
       "output_type": "stream",
       "stream": "stdout",
       "text": [
        "\r",
        "241/500 [=============>................] - ETA: 3:47 - loss: 7.5712"
       ]
      },
      {
       "output_type": "stream",
       "stream": "stdout",
       "text": [
        "\r",
        "242/500 [=============>................] - ETA: 3:46 - loss: 7.5661"
       ]
      },
      {
       "output_type": "stream",
       "stream": "stdout",
       "text": [
        "\r",
        "243/500 [=============>................] - ETA: 3:45 - loss: 7.5707"
       ]
      },
      {
       "output_type": "stream",
       "stream": "stdout",
       "text": [
        "\r",
        "244/500 [=============>................] - ETA: 3:44 - loss: 7.5561"
       ]
      },
      {
       "output_type": "stream",
       "stream": "stdout",
       "text": [
        "\r",
        "245/500 [=============>................] - ETA: 3:43 - loss: 7.5439"
       ]
      },
      {
       "output_type": "stream",
       "stream": "stdout",
       "text": [
        "\r",
        "246/500 [=============>................] - ETA: 3:42 - loss: 7.5920"
       ]
      },
      {
       "output_type": "stream",
       "stream": "stdout",
       "text": [
        "\r",
        "247/500 [=============>................] - ETA: 3:41 - loss: 7.5961"
       ]
      },
      {
       "output_type": "stream",
       "stream": "stdout",
       "text": [
        "\r",
        "248/500 [=============>................] - ETA: 3:40 - loss: 7.6092"
       ]
      },
      {
       "output_type": "stream",
       "stream": "stdout",
       "text": [
        "\r",
        "249/500 [=============>................] - ETA: 3:39 - loss: 7.6094"
       ]
      },
      {
       "output_type": "stream",
       "stream": "stdout",
       "text": [
        "\r",
        "250/500 [==============>...............] - ETA: 3:38 - loss: 7.5937"
       ]
      },
      {
       "output_type": "stream",
       "stream": "stdout",
       "text": [
        "\r",
        "251/500 [==============>...............] - ETA: 3:37 - loss: 7.5941"
       ]
      },
      {
       "output_type": "stream",
       "stream": "stdout",
       "text": [
        "\r",
        "252/500 [==============>...............] - ETA: 3:36 - loss: 7.5899"
       ]
      },
      {
       "output_type": "stream",
       "stream": "stdout",
       "text": [
        "\r",
        "253/500 [==============>...............] - ETA: 3:35 - loss: 7.6053"
       ]
      },
      {
       "output_type": "stream",
       "stream": "stdout",
       "text": [
        "\r",
        "254/500 [==============>...............] - ETA: 3:33 - loss: 7.6235"
       ]
      },
      {
       "output_type": "stream",
       "stream": "stdout",
       "text": [
        "\r",
        "255/500 [==============>...............] - ETA: 3:32 - loss: 7.6205"
       ]
      },
      {
       "output_type": "stream",
       "stream": "stdout",
       "text": [
        "\r",
        "256/500 [==============>...............] - ETA: 3:31 - loss: 7.6172"
       ]
      },
      {
       "output_type": "stream",
       "stream": "stdout",
       "text": [
        "\r",
        "257/500 [==============>...............] - ETA: 3:30 - loss: 7.6087"
       ]
      },
      {
       "output_type": "stream",
       "stream": "stdout",
       "text": [
        "\r",
        "258/500 [==============>...............] - ETA: 3:29 - loss: 7.6016"
       ]
      },
      {
       "output_type": "stream",
       "stream": "stdout",
       "text": [
        "\r",
        "259/500 [==============>...............] - ETA: 3:28 - loss: 7.5867"
       ]
      },
      {
       "output_type": "stream",
       "stream": "stdout",
       "text": [
        "\r",
        "260/500 [==============>...............] - ETA: 3:27 - loss: 7.5860"
       ]
      },
      {
       "output_type": "stream",
       "stream": "stdout",
       "text": [
        "\r",
        "261/500 [==============>...............] - ETA: 3:26 - loss: 7.6235"
       ]
      },
      {
       "output_type": "stream",
       "stream": "stdout",
       "text": [
        "\r",
        "262/500 [==============>...............] - ETA: 3:25 - loss: 7.6113"
       ]
      },
      {
       "output_type": "stream",
       "stream": "stdout",
       "text": [
        "\r",
        "263/500 [==============>...............] - ETA: 3:24 - loss: 7.6345"
       ]
      },
      {
       "output_type": "stream",
       "stream": "stdout",
       "text": [
        "\r",
        "264/500 [==============>...............] - ETA: 3:23 - loss: 7.6363"
       ]
      },
      {
       "output_type": "stream",
       "stream": "stdout",
       "text": [
        "\r",
        "265/500 [==============>...............] - ETA: 3:22 - loss: 7.6315"
       ]
      },
      {
       "output_type": "stream",
       "stream": "stdout",
       "text": [
        "\r",
        "266/500 [==============>...............] - ETA: 3:21 - loss: 7.6513"
       ]
      },
      {
       "output_type": "stream",
       "stream": "stdout",
       "text": [
        "\r",
        "267/500 [===============>..............] - ETA: 3:20 - loss: 7.6622"
       ]
      },
      {
       "output_type": "stream",
       "stream": "stdout",
       "text": [
        "\r",
        "268/500 [===============>..............] - ETA: 3:19 - loss: 7.6518"
       ]
      },
      {
       "output_type": "stream",
       "stream": "stdout",
       "text": [
        "\r",
        "269/500 [===============>..............] - ETA: 3:18 - loss: 7.6616"
       ]
      },
      {
       "output_type": "stream",
       "stream": "stdout",
       "text": [
        "\r",
        "270/500 [===============>..............] - ETA: 3:17 - loss: 7.6674"
       ]
      },
      {
       "output_type": "stream",
       "stream": "stdout",
       "text": [
        "\r",
        "271/500 [===============>..............] - ETA: 3:16 - loss: 7.6540"
       ]
      },
      {
       "output_type": "stream",
       "stream": "stdout",
       "text": [
        "\r",
        "272/500 [===============>..............] - ETA: 3:15 - loss: 7.6617"
       ]
      },
      {
       "output_type": "stream",
       "stream": "stdout",
       "text": [
        "\r",
        "273/500 [===============>..............] - ETA: 3:14 - loss: 7.6489"
       ]
      },
      {
       "output_type": "stream",
       "stream": "stdout",
       "text": [
        "\r",
        "274/500 [===============>..............] - ETA: 3:13 - loss: 7.6588"
       ]
      },
      {
       "output_type": "stream",
       "stream": "stdout",
       "text": [
        "\r",
        "275/500 [===============>..............] - ETA: 3:12 - loss: 7.6600"
       ]
      },
      {
       "output_type": "stream",
       "stream": "stdout",
       "text": [
        "\r",
        "276/500 [===============>..............] - ETA: 3:11 - loss: 7.6548"
       ]
      },
      {
       "output_type": "stream",
       "stream": "stdout",
       "text": [
        "\r",
        "277/500 [===============>..............] - ETA: 3:10 - loss: 7.6584"
       ]
      },
      {
       "output_type": "stream",
       "stream": "stdout",
       "text": [
        "\r",
        "278/500 [===============>..............] - ETA: 3:09 - loss: 7.6548"
       ]
      },
      {
       "output_type": "stream",
       "stream": "stdout",
       "text": [
        "\r",
        "279/500 [===============>..............] - ETA: 3:08 - loss: 7.6694"
       ]
      },
      {
       "output_type": "stream",
       "stream": "stdout",
       "text": [
        "\r",
        "280/500 [===============>..............] - ETA: 3:07 - loss: 7.6543"
       ]
      },
      {
       "output_type": "stream",
       "stream": "stdout",
       "text": [
        "\r",
        "281/500 [===============>..............] - ETA: 3:06 - loss: 7.6474"
       ]
      },
      {
       "output_type": "stream",
       "stream": "stdout",
       "text": [
        "\r",
        "282/500 [===============>..............] - ETA: 3:05 - loss: 7.6635"
       ]
      },
      {
       "output_type": "stream",
       "stream": "stdout",
       "text": [
        "\r",
        "283/500 [===============>..............] - ETA: 3:04 - loss: 7.6563"
       ]
      },
      {
       "output_type": "stream",
       "stream": "stdout",
       "text": [
        "\r",
        "284/500 [================>.............] - ETA: 3:03 - loss: 7.6626"
       ]
      },
      {
       "output_type": "stream",
       "stream": "stdout",
       "text": [
        "\r",
        "285/500 [================>.............] - ETA: 3:02 - loss: 7.6537"
       ]
      },
      {
       "output_type": "stream",
       "stream": "stdout",
       "text": [
        "\r",
        "286/500 [================>.............] - ETA: 3:01 - loss: 7.6578"
       ]
      },
      {
       "output_type": "stream",
       "stream": "stdout",
       "text": [
        "\r",
        "287/500 [================>.............] - ETA: 3:00 - loss: 7.6579"
       ]
      },
      {
       "output_type": "stream",
       "stream": "stdout",
       "text": [
        "\r",
        "288/500 [================>.............] - ETA: 2:59 - loss: 7.6878"
       ]
      },
      {
       "output_type": "stream",
       "stream": "stdout",
       "text": [
        "\r",
        "289/500 [================>.............] - ETA: 2:58 - loss: 7.6910"
       ]
      },
      {
       "output_type": "stream",
       "stream": "stdout",
       "text": [
        "\r",
        "290/500 [================>.............] - ETA: 2:58 - loss: 7.6941"
       ]
      },
      {
       "output_type": "stream",
       "stream": "stdout",
       "text": [
        "\r",
        "291/500 [================>.............] - ETA: 2:57 - loss: 7.6849"
       ]
      },
      {
       "output_type": "stream",
       "stream": "stdout",
       "text": [
        "\r",
        "292/500 [================>.............] - ETA: 2:56 - loss: 7.6828"
       ]
      },
      {
       "output_type": "stream",
       "stream": "stdout",
       "text": [
        "\r",
        "293/500 [================>.............] - ETA: 2:55 - loss: 7.6887"
       ]
      },
      {
       "output_type": "stream",
       "stream": "stdout",
       "text": [
        "\r",
        "294/500 [================>.............] - ETA: 2:54 - loss: 7.7027"
       ]
      },
      {
       "output_type": "stream",
       "stream": "stdout",
       "text": [
        "\r",
        "295/500 [================>.............] - ETA: 2:53 - loss: 7.7158"
       ]
      },
      {
       "output_type": "stream",
       "stream": "stdout",
       "text": [
        "\r",
        "296/500 [================>.............] - ETA: 2:52 - loss: 7.7282"
       ]
      },
      {
       "output_type": "stream",
       "stream": "stdout",
       "text": [
        "\r",
        "297/500 [================>.............] - ETA: 2:51 - loss: 7.7123"
       ]
      },
      {
       "output_type": "stream",
       "stream": "stdout",
       "text": [
        "\r",
        "298/500 [================>.............] - ETA: 2:50 - loss: 7.7158"
       ]
      },
      {
       "output_type": "stream",
       "stream": "stdout",
       "text": [
        "\r",
        "299/500 [================>.............] - ETA: 2:49 - loss: 7.6978"
       ]
      },
      {
       "output_type": "stream",
       "stream": "stdout",
       "text": [
        "\r",
        "300/500 [=================>............] - ETA: 2:48 - loss: 7.7120"
       ]
      },
      {
       "output_type": "stream",
       "stream": "stdout",
       "text": [
        "\r",
        "301/500 [=================>............] - ETA: 2:47 - loss: 7.7115"
       ]
      },
      {
       "output_type": "stream",
       "stream": "stdout",
       "text": [
        "\r",
        "302/500 [=================>............] - ETA: 2:46 - loss: 7.7244"
       ]
      },
      {
       "output_type": "stream",
       "stream": "stdout",
       "text": [
        "\r",
        "303/500 [=================>............] - ETA: 2:45 - loss: 7.7658"
       ]
      },
      {
       "output_type": "stream",
       "stream": "stdout",
       "text": [
        "\r",
        "304/500 [=================>............] - ETA: 2:44 - loss: 7.7717"
       ]
      },
      {
       "output_type": "stream",
       "stream": "stdout",
       "text": [
        "\r",
        "305/500 [=================>............] - ETA: 2:43 - loss: 7.7743"
       ]
      },
      {
       "output_type": "stream",
       "stream": "stdout",
       "text": [
        "\r",
        "306/500 [=================>............] - ETA: 2:42 - loss: 7.7765"
       ]
      },
      {
       "output_type": "stream",
       "stream": "stdout",
       "text": [
        "\r",
        "307/500 [=================>............] - ETA: 2:41 - loss: 7.7734"
       ]
      },
      {
       "output_type": "stream",
       "stream": "stdout",
       "text": [
        "\r",
        "308/500 [=================>............] - ETA: 2:41 - loss: 7.7712"
       ]
      },
      {
       "output_type": "stream",
       "stream": "stdout",
       "text": [
        "\r",
        "309/500 [=================>............] - ETA: 2:40 - loss: 7.7701"
       ]
      },
      {
       "output_type": "stream",
       "stream": "stdout",
       "text": [
        "\r",
        "310/500 [=================>............] - ETA: 2:39 - loss: 7.7627"
       ]
      },
      {
       "output_type": "stream",
       "stream": "stdout",
       "text": [
        "\r",
        "311/500 [=================>............] - ETA: 2:38 - loss: 7.7638"
       ]
      },
      {
       "output_type": "stream",
       "stream": "stdout",
       "text": [
        "\r",
        "312/500 [=================>............] - ETA: 2:37 - loss: 7.7590"
       ]
      },
      {
       "output_type": "stream",
       "stream": "stdout",
       "text": [
        "\r",
        "313/500 [=================>............] - ETA: 2:36 - loss: 7.7580"
       ]
      },
      {
       "output_type": "stream",
       "stream": "stdout",
       "text": [
        "\r",
        "314/500 [=================>............] - ETA: 2:35 - loss: 7.7636"
       ]
      },
      {
       "output_type": "stream",
       "stream": "stdout",
       "text": [
        "\r",
        "315/500 [=================>............] - ETA: 2:34 - loss: 7.7489"
       ]
      },
      {
       "output_type": "stream",
       "stream": "stdout",
       "text": [
        "\r",
        "316/500 [=================>............] - ETA: 2:33 - loss: 7.7679"
       ]
      },
      {
       "output_type": "stream",
       "stream": "stdout",
       "text": [
        "\r",
        "317/500 [==================>...........] - ETA: 2:32 - loss: 7.7667"
       ]
      },
      {
       "output_type": "stream",
       "stream": "stdout",
       "text": [
        "\r",
        "318/500 [==================>...........] - ETA: 2:31 - loss: 7.7605"
       ]
      },
      {
       "output_type": "stream",
       "stream": "stdout",
       "text": [
        "\r",
        "319/500 [==================>...........] - ETA: 2:30 - loss: 7.7538"
       ]
      },
      {
       "output_type": "stream",
       "stream": "stdout",
       "text": [
        "\r",
        "320/500 [==================>...........] - ETA: 2:30 - loss: 7.7543"
       ]
      },
      {
       "output_type": "stream",
       "stream": "stdout",
       "text": [
        "\r",
        "321/500 [==================>...........] - ETA: 2:29 - loss: 7.7488"
       ]
      },
      {
       "output_type": "stream",
       "stream": "stdout",
       "text": [
        "\r",
        "322/500 [==================>...........] - ETA: 2:28 - loss: 7.7422"
       ]
      },
      {
       "output_type": "stream",
       "stream": "stdout",
       "text": [
        "\r",
        "323/500 [==================>...........] - ETA: 2:27 - loss: 7.7341"
       ]
      },
      {
       "output_type": "stream",
       "stream": "stdout",
       "text": [
        "\r",
        "324/500 [==================>...........] - ETA: 2:26 - loss: 7.7483"
       ]
      },
      {
       "output_type": "stream",
       "stream": "stdout",
       "text": [
        "\r",
        "325/500 [==================>...........] - ETA: 2:25 - loss: 7.7346"
       ]
      },
      {
       "output_type": "stream",
       "stream": "stdout",
       "text": [
        "\r",
        "326/500 [==================>...........] - ETA: 2:24 - loss: 7.7213"
       ]
      },
      {
       "output_type": "stream",
       "stream": "stdout",
       "text": [
        "\r",
        "327/500 [==================>...........] - ETA: 2:23 - loss: 7.7475"
       ]
      },
      {
       "output_type": "stream",
       "stream": "stdout",
       "text": [
        "\r",
        "328/500 [==================>...........] - ETA: 2:22 - loss: 7.7573"
       ]
      },
      {
       "output_type": "stream",
       "stream": "stdout",
       "text": [
        "\r",
        "329/500 [==================>...........] - ETA: 2:21 - loss: 7.7710"
       ]
      },
      {
       "output_type": "stream",
       "stream": "stdout",
       "text": [
        "\r",
        "330/500 [==================>...........] - ETA: 2:20 - loss: 7.7694"
       ]
      },
      {
       "output_type": "stream",
       "stream": "stdout",
       "text": [
        "\r",
        "331/500 [==================>...........] - ETA: 2:19 - loss: 7.7950"
       ]
      },
      {
       "output_type": "stream",
       "stream": "stdout",
       "text": [
        "\r",
        "332/500 [==================>...........] - ETA: 2:19 - loss: 7.7889"
       ]
      },
      {
       "output_type": "stream",
       "stream": "stdout",
       "text": [
        "\r",
        "333/500 [==================>...........] - ETA: 2:18 - loss: 7.7802"
       ]
      },
      {
       "output_type": "stream",
       "stream": "stdout",
       "text": [
        "\r",
        "334/500 [===================>..........] - ETA: 2:17 - loss: 7.7774"
       ]
      },
      {
       "output_type": "stream",
       "stream": "stdout",
       "text": [
        "\r",
        "335/500 [===================>..........] - ETA: 2:16 - loss: 7.8009"
       ]
      },
      {
       "output_type": "stream",
       "stream": "stdout",
       "text": [
        "\r",
        "336/500 [===================>..........] - ETA: 2:15 - loss: 7.8080"
       ]
      },
      {
       "output_type": "stream",
       "stream": "stdout",
       "text": [
        "\r",
        "337/500 [===================>..........] - ETA: 2:14 - loss: 7.7969"
       ]
      },
      {
       "output_type": "stream",
       "stream": "stdout",
       "text": [
        "\r",
        "338/500 [===================>..........] - ETA: 2:13 - loss: 7.7870"
       ]
      },
      {
       "output_type": "stream",
       "stream": "stdout",
       "text": [
        "\r",
        "339/500 [===================>..........] - ETA: 2:12 - loss: 7.7906"
       ]
      },
      {
       "output_type": "stream",
       "stream": "stdout",
       "text": [
        "\r",
        "340/500 [===================>..........] - ETA: 2:11 - loss: 7.7926"
       ]
      },
      {
       "output_type": "stream",
       "stream": "stdout",
       "text": [
        "\r",
        "341/500 [===================>..........] - ETA: 2:11 - loss: 7.7932"
       ]
      },
      {
       "output_type": "stream",
       "stream": "stdout",
       "text": [
        "\r",
        "342/500 [===================>..........] - ETA: 2:10 - loss: 7.7974"
       ]
      },
      {
       "output_type": "stream",
       "stream": "stdout",
       "text": [
        "\r",
        "343/500 [===================>..........] - ETA: 2:09 - loss: 7.8039"
       ]
      },
      {
       "output_type": "stream",
       "stream": "stdout",
       "text": [
        "\r",
        "344/500 [===================>..........] - ETA: 2:08 - loss: 7.8105"
       ]
      },
      {
       "output_type": "stream",
       "stream": "stdout",
       "text": [
        "\r",
        "345/500 [===================>..........] - ETA: 2:07 - loss: 7.8049"
       ]
      },
      {
       "output_type": "stream",
       "stream": "stdout",
       "text": [
        "\r",
        "346/500 [===================>..........] - ETA: 2:06 - loss: 7.8236"
       ]
      },
      {
       "output_type": "stream",
       "stream": "stdout",
       "text": [
        "\r",
        "347/500 [===================>..........] - ETA: 2:05 - loss: 7.8221"
       ]
      },
      {
       "output_type": "stream",
       "stream": "stdout",
       "text": [
        "\r",
        "348/500 [===================>..........] - ETA: 2:04 - loss: 7.8108"
       ]
      },
      {
       "output_type": "stream",
       "stream": "stdout",
       "text": [
        "\r",
        "349/500 [===================>..........] - ETA: 2:03 - loss: 7.8109"
       ]
      },
      {
       "output_type": "stream",
       "stream": "stdout",
       "text": [
        "\r",
        "350/500 [====================>.........] - ETA: 2:03 - loss: 7.8475"
       ]
      },
      {
       "output_type": "stream",
       "stream": "stdout",
       "text": [
        "\r",
        "351/500 [====================>.........] - ETA: 2:02 - loss: 7.8321"
       ]
      },
      {
       "output_type": "stream",
       "stream": "stdout",
       "text": [
        "\r",
        "352/500 [====================>.........] - ETA: 2:01 - loss: 7.8353"
       ]
      },
      {
       "output_type": "stream",
       "stream": "stdout",
       "text": [
        "\r",
        "353/500 [====================>.........] - ETA: 2:00 - loss: 7.8529"
       ]
      },
      {
       "output_type": "stream",
       "stream": "stdout",
       "text": [
        "\r",
        "354/500 [====================>.........] - ETA: 1:59 - loss: 7.8581"
       ]
      },
      {
       "output_type": "stream",
       "stream": "stdout",
       "text": [
        "\r",
        "355/500 [====================>.........] - ETA: 1:58 - loss: 7.8727"
       ]
      },
      {
       "output_type": "stream",
       "stream": "stdout",
       "text": [
        "\r",
        "356/500 [====================>.........] - ETA: 1:57 - loss: 7.8851"
       ]
      },
      {
       "output_type": "stream",
       "stream": "stdout",
       "text": [
        "\r",
        "357/500 [====================>.........] - ETA: 1:56 - loss: 7.8830"
       ]
      },
      {
       "output_type": "stream",
       "stream": "stdout",
       "text": [
        "\r",
        "358/500 [====================>.........] - ETA: 1:56 - loss: 7.8995"
       ]
      },
      {
       "output_type": "stream",
       "stream": "stdout",
       "text": [
        "\r",
        "359/500 [====================>.........] - ETA: 1:55 - loss: 7.9014"
       ]
      },
      {
       "output_type": "stream",
       "stream": "stdout",
       "text": [
        "\r",
        "360/500 [====================>.........] - ETA: 1:54 - loss: 7.9057"
       ]
      },
      {
       "output_type": "stream",
       "stream": "stdout",
       "text": [
        "\r",
        "361/500 [====================>.........] - ETA: 1:53 - loss: 7.8956"
       ]
      },
      {
       "output_type": "stream",
       "stream": "stdout",
       "text": [
        "\r",
        "362/500 [====================>.........] - ETA: 1:52 - loss: 7.8953"
       ]
      },
      {
       "output_type": "stream",
       "stream": "stdout",
       "text": [
        "\r",
        "363/500 [====================>.........] - ETA: 1:51 - loss: 7.8864"
       ]
      },
      {
       "output_type": "stream",
       "stream": "stdout",
       "text": [
        "\r",
        "364/500 [====================>.........] - ETA: 1:50 - loss: 7.8766"
       ]
      },
      {
       "output_type": "stream",
       "stream": "stdout",
       "text": [
        "\r",
        "365/500 [====================>.........] - ETA: 1:49 - loss: 7.8723"
       ]
      },
      {
       "output_type": "stream",
       "stream": "stdout",
       "text": [
        "\r",
        "366/500 [====================>.........] - ETA: 1:49 - loss: 7.8682"
       ]
      },
      {
       "output_type": "stream",
       "stream": "stdout",
       "text": [
        "\r",
        "367/500 [=====================>........] - ETA: 1:48 - loss: 7.8612"
       ]
      },
      {
       "output_type": "stream",
       "stream": "stdout",
       "text": [
        "\r",
        "368/500 [=====================>........] - ETA: 1:47 - loss: 7.8618"
       ]
      },
      {
       "output_type": "stream",
       "stream": "stdout",
       "text": [
        "\r",
        "369/500 [=====================>........] - ETA: 1:46 - loss: 7.8539"
       ]
      },
      {
       "output_type": "stream",
       "stream": "stdout",
       "text": [
        "\r",
        "370/500 [=====================>........] - ETA: 1:45 - loss: 7.8495"
       ]
      },
      {
       "output_type": "stream",
       "stream": "stdout",
       "text": [
        "\r",
        "371/500 [=====================>........] - ETA: 1:44 - loss: 7.8516"
       ]
      },
      {
       "output_type": "stream",
       "stream": "stdout",
       "text": [
        "\r",
        "372/500 [=====================>........] - ETA: 1:43 - loss: 7.8513"
       ]
      },
      {
       "output_type": "stream",
       "stream": "stdout",
       "text": [
        "\r",
        "373/500 [=====================>........] - ETA: 1:43 - loss: 7.8627"
       ]
      },
      {
       "output_type": "stream",
       "stream": "stdout",
       "text": [
        "\r",
        "374/500 [=====================>........] - ETA: 1:42 - loss: 7.8615"
       ]
      },
      {
       "output_type": "stream",
       "stream": "stdout",
       "text": [
        "\r",
        "375/500 [=====================>........] - ETA: 1:41 - loss: 7.8536"
       ]
      },
      {
       "output_type": "stream",
       "stream": "stdout",
       "text": [
        "\r",
        "376/500 [=====================>........] - ETA: 1:40 - loss: 7.8562"
       ]
      },
      {
       "output_type": "stream",
       "stream": "stdout",
       "text": [
        "\r",
        "377/500 [=====================>........] - ETA: 1:39 - loss: 7.8433"
       ]
      },
      {
       "output_type": "stream",
       "stream": "stdout",
       "text": [
        "\r",
        "378/500 [=====================>........] - ETA: 1:38 - loss: 7.8311"
       ]
      },
      {
       "output_type": "stream",
       "stream": "stdout",
       "text": [
        "\r",
        "379/500 [=====================>........] - ETA: 1:37 - loss: 7.8313"
       ]
      },
      {
       "output_type": "stream",
       "stream": "stdout",
       "text": [
        "\r",
        "380/500 [=====================>........] - ETA: 1:37 - loss: 7.8307"
       ]
      },
      {
       "output_type": "stream",
       "stream": "stdout",
       "text": [
        "\r",
        "381/500 [=====================>........] - ETA: 1:36 - loss: 7.8288"
       ]
      },
      {
       "output_type": "stream",
       "stream": "stdout",
       "text": [
        "\r",
        "382/500 [=====================>........] - ETA: 1:35 - loss: 7.8172"
       ]
      },
      {
       "output_type": "stream",
       "stream": "stdout",
       "text": [
        "\r",
        "383/500 [=====================>........] - ETA: 1:34 - loss: 7.8173"
       ]
      },
      {
       "output_type": "stream",
       "stream": "stdout",
       "text": [
        "\r",
        "384/500 [======================>.......] - ETA: 1:33 - loss: 7.8135"
       ]
      },
      {
       "output_type": "stream",
       "stream": "stdout",
       "text": [
        "\r",
        "385/500 [======================>.......] - ETA: 1:32 - loss: 7.8238"
       ]
      },
      {
       "output_type": "stream",
       "stream": "stdout",
       "text": [
        "\r",
        "386/500 [======================>.......] - ETA: 1:32 - loss: 7.8225"
       ]
      },
      {
       "output_type": "stream",
       "stream": "stdout",
       "text": [
        "\r",
        "387/500 [======================>.......] - ETA: 1:31 - loss: 7.8256"
       ]
      },
      {
       "output_type": "stream",
       "stream": "stdout",
       "text": [
        "\r",
        "388/500 [======================>.......] - ETA: 1:30 - loss: 7.8270"
       ]
      },
      {
       "output_type": "stream",
       "stream": "stdout",
       "text": [
        "\r",
        "389/500 [======================>.......] - ETA: 1:29 - loss: 7.8167"
       ]
      },
      {
       "output_type": "stream",
       "stream": "stdout",
       "text": [
        "\r",
        "390/500 [======================>.......] - ETA: 1:28 - loss: 7.8099"
       ]
      },
      {
       "output_type": "stream",
       "stream": "stdout",
       "text": [
        "\r",
        "391/500 [======================>.......] - ETA: 1:27 - loss: 7.8029"
       ]
      },
      {
       "output_type": "stream",
       "stream": "stdout",
       "text": [
        "\r",
        "392/500 [======================>.......] - ETA: 1:26 - loss: 7.7981"
       ]
      },
      {
       "output_type": "stream",
       "stream": "stdout",
       "text": [
        "\r",
        "393/500 [======================>.......] - ETA: 1:26 - loss: 7.7853"
       ]
      },
      {
       "output_type": "stream",
       "stream": "stdout",
       "text": [
        "\r",
        "394/500 [======================>.......] - ETA: 1:25 - loss: 7.7786"
       ]
      },
      {
       "output_type": "stream",
       "stream": "stdout",
       "text": [
        "\r",
        "395/500 [======================>.......] - ETA: 1:24 - loss: 7.7812"
       ]
      },
      {
       "output_type": "stream",
       "stream": "stdout",
       "text": [
        "\r",
        "396/500 [======================>.......] - ETA: 1:23 - loss: 7.7736"
       ]
      },
      {
       "output_type": "stream",
       "stream": "stdout",
       "text": [
        "\r",
        "397/500 [======================>.......] - ETA: 1:22 - loss: 7.7709"
       ]
      },
      {
       "output_type": "stream",
       "stream": "stdout",
       "text": [
        "\r",
        "398/500 [======================>.......] - ETA: 1:21 - loss: 7.7745"
       ]
      },
      {
       "output_type": "stream",
       "stream": "stdout",
       "text": [
        "\r",
        "399/500 [======================>.......] - ETA: 1:21 - loss: 7.7882"
       ]
      },
      {
       "output_type": "stream",
       "stream": "stdout",
       "text": [
        "\r",
        "400/500 [=======================>......] - ETA: 1:20 - loss: 7.7867"
       ]
      },
      {
       "output_type": "stream",
       "stream": "stdout",
       "text": [
        "\r",
        "401/500 [=======================>......] - ETA: 1:19 - loss: 7.7719"
       ]
      },
      {
       "output_type": "stream",
       "stream": "stdout",
       "text": [
        "\r",
        "402/500 [=======================>......] - ETA: 1:18 - loss: 7.7715"
       ]
      },
      {
       "output_type": "stream",
       "stream": "stdout",
       "text": [
        "\r",
        "403/500 [=======================>......] - ETA: 1:17 - loss: 7.7730"
       ]
      },
      {
       "output_type": "stream",
       "stream": "stdout",
       "text": [
        "\r",
        "404/500 [=======================>......] - ETA: 1:16 - loss: 7.7712"
       ]
      },
      {
       "output_type": "stream",
       "stream": "stdout",
       "text": [
        "\r",
        "405/500 [=======================>......] - ETA: 1:16 - loss: 7.7634"
       ]
      },
      {
       "output_type": "stream",
       "stream": "stdout",
       "text": [
        "\r",
        "406/500 [=======================>......] - ETA: 1:15 - loss: 7.7683"
       ]
      },
      {
       "output_type": "stream",
       "stream": "stdout",
       "text": [
        "\r",
        "407/500 [=======================>......] - ETA: 1:14 - loss: 7.7583"
       ]
      },
      {
       "output_type": "stream",
       "stream": "stdout",
       "text": [
        "\r",
        "408/500 [=======================>......] - ETA: 1:13 - loss: 7.7523"
       ]
      },
      {
       "output_type": "stream",
       "stream": "stdout",
       "text": [
        "\r",
        "409/500 [=======================>......] - ETA: 1:12 - loss: 7.7591"
       ]
      },
      {
       "output_type": "stream",
       "stream": "stdout",
       "text": [
        "\r",
        "410/500 [=======================>......] - ETA: 1:11 - loss: 7.7512"
       ]
      },
      {
       "output_type": "stream",
       "stream": "stdout",
       "text": [
        "\r",
        "411/500 [=======================>......] - ETA: 1:11 - loss: 7.7535"
       ]
      },
      {
       "output_type": "stream",
       "stream": "stdout",
       "text": [
        "\r",
        "412/500 [=======================>......] - ETA: 1:10 - loss: 7.7518"
       ]
      },
      {
       "output_type": "stream",
       "stream": "stdout",
       "text": [
        "\r",
        "413/500 [=======================>......] - ETA: 1:09 - loss: 7.7400"
       ]
      },
      {
       "output_type": "stream",
       "stream": "stdout",
       "text": [
        "\r",
        "414/500 [=======================>......] - ETA: 1:08 - loss: 7.7614"
       ]
      },
      {
       "output_type": "stream",
       "stream": "stdout",
       "text": [
        "\r",
        "415/500 [=======================>......] - ETA: 1:07 - loss: 7.7589"
       ]
      },
      {
       "output_type": "stream",
       "stream": "stdout",
       "text": [
        "\r",
        "416/500 [=======================>......] - ETA: 1:07 - loss: 7.7540"
       ]
      },
      {
       "output_type": "stream",
       "stream": "stdout",
       "text": [
        "\r",
        "417/500 [========================>.....] - ETA: 1:06 - loss: 7.7520"
       ]
      },
      {
       "output_type": "stream",
       "stream": "stdout",
       "text": [
        "\r",
        "418/500 [========================>.....] - ETA: 1:05 - loss: 7.7540"
       ]
      },
      {
       "output_type": "stream",
       "stream": "stdout",
       "text": [
        "\r",
        "419/500 [========================>.....] - ETA: 1:04 - loss: 7.7679"
       ]
      },
      {
       "output_type": "stream",
       "stream": "stdout",
       "text": [
        "\r",
        "420/500 [========================>.....] - ETA: 1:03 - loss: 7.7708"
       ]
      },
      {
       "output_type": "stream",
       "stream": "stdout",
       "text": [
        "\r",
        "421/500 [========================>.....] - ETA: 1:02 - loss: 7.7745"
       ]
      },
      {
       "output_type": "stream",
       "stream": "stdout",
       "text": [
        "\r",
        "422/500 [========================>.....] - ETA: 1:02 - loss: 7.7783"
       ]
      },
      {
       "output_type": "stream",
       "stream": "stdout",
       "text": [
        "\r",
        "423/500 [========================>.....] - ETA: 1:01 - loss: 7.7770"
       ]
      },
      {
       "output_type": "stream",
       "stream": "stdout",
       "text": [
        "\r",
        "424/500 [========================>.....] - ETA: 1:00 - loss: 7.7722"
       ]
      },
      {
       "output_type": "stream",
       "stream": "stdout",
       "text": [
        "\r",
        "425/500 [========================>.....] - ETA: 59s - loss: 7.7694 "
       ]
      },
      {
       "output_type": "stream",
       "stream": "stdout",
       "text": [
        "\r",
        "426/500 [========================>.....] - ETA: 58s - loss: 7.7701"
       ]
      },
      {
       "output_type": "stream",
       "stream": "stdout",
       "text": [
        "\r",
        "427/500 [========================>.....] - ETA: 58s - loss: 7.7837"
       ]
      },
      {
       "output_type": "stream",
       "stream": "stdout",
       "text": [
        "\r",
        "428/500 [========================>.....] - ETA: 57s - loss: 7.7813"
       ]
      },
      {
       "output_type": "stream",
       "stream": "stdout",
       "text": [
        "\r",
        "429/500 [========================>.....] - ETA: 56s - loss: 7.7742"
       ]
      },
      {
       "output_type": "stream",
       "stream": "stdout",
       "text": [
        "\r",
        "430/500 [========================>.....] - ETA: 55s - loss: 7.7713"
       ]
      },
      {
       "output_type": "stream",
       "stream": "stdout",
       "text": [
        "\r",
        "431/500 [========================>.....] - ETA: 54s - loss: 7.7780"
       ]
      },
      {
       "output_type": "stream",
       "stream": "stdout",
       "text": [
        "\r",
        "432/500 [========================>.....] - ETA: 53s - loss: 7.7728"
       ]
      },
      {
       "output_type": "stream",
       "stream": "stdout",
       "text": [
        "\r",
        "433/500 [========================>.....] - ETA: 53s - loss: 7.7823"
       ]
      },
      {
       "output_type": "stream",
       "stream": "stdout",
       "text": [
        "\r",
        "434/500 [=========================>....] - ETA: 52s - loss: 7.7800"
       ]
      },
      {
       "output_type": "stream",
       "stream": "stdout",
       "text": [
        "\r",
        "435/500 [=========================>....] - ETA: 51s - loss: 7.7933"
       ]
      },
      {
       "output_type": "stream",
       "stream": "stdout",
       "text": [
        "\r",
        "436/500 [=========================>....] - ETA: 50s - loss: 7.7886"
       ]
      },
      {
       "output_type": "stream",
       "stream": "stdout",
       "text": [
        "\r",
        "437/500 [=========================>....] - ETA: 49s - loss: 7.7851"
       ]
      },
      {
       "output_type": "stream",
       "stream": "stdout",
       "text": [
        "\r",
        "438/500 [=========================>....] - ETA: 49s - loss: 7.7800"
       ]
      },
      {
       "output_type": "stream",
       "stream": "stdout",
       "text": [
        "\r",
        "439/500 [=========================>....] - ETA: 48s - loss: 7.7692"
       ]
      },
      {
       "output_type": "stream",
       "stream": "stdout",
       "text": [
        "\r",
        "440/500 [=========================>....] - ETA: 47s - loss: 7.7709"
       ]
      },
      {
       "output_type": "stream",
       "stream": "stdout",
       "text": [
        "\r",
        "441/500 [=========================>....] - ETA: 46s - loss: 7.7848"
       ]
      },
      {
       "output_type": "stream",
       "stream": "stdout",
       "text": [
        "\r",
        "442/500 [=========================>....] - ETA: 45s - loss: 7.7821"
       ]
      },
      {
       "output_type": "stream",
       "stream": "stdout",
       "text": [
        "\r",
        "443/500 [=========================>....] - ETA: 45s - loss: 7.7799"
       ]
      },
      {
       "output_type": "stream",
       "stream": "stdout",
       "text": [
        "\r",
        "444/500 [=========================>....] - ETA: 44s - loss: 7.7786"
       ]
      },
      {
       "output_type": "stream",
       "stream": "stdout",
       "text": [
        "\r",
        "445/500 [=========================>....] - ETA: 43s - loss: 7.7767"
       ]
      },
      {
       "output_type": "stream",
       "stream": "stdout",
       "text": [
        "\r",
        "446/500 [=========================>....] - ETA: 42s - loss: 7.7771"
       ]
      },
      {
       "output_type": "stream",
       "stream": "stdout",
       "text": [
        "\r",
        "447/500 [=========================>....] - ETA: 41s - loss: 7.7706"
       ]
      },
      {
       "output_type": "stream",
       "stream": "stdout",
       "text": [
        "\r",
        "448/500 [=========================>....] - ETA: 41s - loss: 7.7667"
       ]
      },
      {
       "output_type": "stream",
       "stream": "stdout",
       "text": [
        "\r",
        "449/500 [=========================>....] - ETA: 40s - loss: 7.7669"
       ]
      },
      {
       "output_type": "stream",
       "stream": "stdout",
       "text": [
        "\r",
        "450/500 [==========================>...] - ETA: 39s - loss: 7.7635"
       ]
      },
      {
       "output_type": "stream",
       "stream": "stdout",
       "text": [
        "\r",
        "451/500 [==========================>...] - ETA: 38s - loss: 7.7608"
       ]
      },
      {
       "output_type": "stream",
       "stream": "stdout",
       "text": [
        "\r",
        "452/500 [==========================>...] - ETA: 37s - loss: 7.7653"
       ]
      },
      {
       "output_type": "stream",
       "stream": "stdout",
       "text": [
        "\r",
        "453/500 [==========================>...] - ETA: 37s - loss: 7.7663"
       ]
      },
      {
       "output_type": "stream",
       "stream": "stdout",
       "text": [
        "\r",
        "454/500 [==========================>...] - ETA: 36s - loss: 7.7548"
       ]
      },
      {
       "output_type": "stream",
       "stream": "stdout",
       "text": [
        "\r",
        "455/500 [==========================>...] - ETA: 35s - loss: 7.7505"
       ]
      },
      {
       "output_type": "stream",
       "stream": "stdout",
       "text": [
        "\r",
        "456/500 [==========================>...] - ETA: 34s - loss: 7.7539"
       ]
      },
      {
       "output_type": "stream",
       "stream": "stdout",
       "text": [
        "\r",
        "457/500 [==========================>...] - ETA: 33s - loss: 7.7521"
       ]
      },
      {
       "output_type": "stream",
       "stream": "stdout",
       "text": [
        "\r",
        "458/500 [==========================>...] - ETA: 33s - loss: 7.7483"
       ]
      },
      {
       "output_type": "stream",
       "stream": "stdout",
       "text": [
        "\r",
        "459/500 [==========================>...] - ETA: 32s - loss: 7.7424"
       ]
      },
      {
       "output_type": "stream",
       "stream": "stdout",
       "text": [
        "\r",
        "460/500 [==========================>...] - ETA: 31s - loss: 7.7475"
       ]
      },
      {
       "output_type": "stream",
       "stream": "stdout",
       "text": [
        "\r",
        "461/500 [==========================>...] - ETA: 30s - loss: 7.7466"
       ]
      },
      {
       "output_type": "stream",
       "stream": "stdout",
       "text": [
        "\r",
        "462/500 [==========================>...] - ETA: 29s - loss: 7.7481"
       ]
      },
      {
       "output_type": "stream",
       "stream": "stdout",
       "text": [
        "\r",
        "463/500 [==========================>...] - ETA: 29s - loss: 7.7432"
       ]
      },
      {
       "output_type": "stream",
       "stream": "stdout",
       "text": [
        "\r",
        "464/500 [==========================>...] - ETA: 28s - loss: 7.7326"
       ]
      },
      {
       "output_type": "stream",
       "stream": "stdout",
       "text": [
        "\r",
        "465/500 [==========================>...] - ETA: 27s - loss: 7.7249"
       ]
      },
      {
       "output_type": "stream",
       "stream": "stdout",
       "text": [
        "\r",
        "466/500 [==========================>...] - ETA: 26s - loss: 7.7239"
       ]
      },
      {
       "output_type": "stream",
       "stream": "stdout",
       "text": [
        "\r",
        "467/500 [===========================>..] - ETA: 25s - loss: 7.7221"
       ]
      },
      {
       "output_type": "stream",
       "stream": "stdout",
       "text": [
        "\r",
        "468/500 [===========================>..] - ETA: 25s - loss: 7.7231"
       ]
      },
      {
       "output_type": "stream",
       "stream": "stdout",
       "text": [
        "\r",
        "469/500 [===========================>..] - ETA: 24s - loss: 7.7316"
       ]
      },
      {
       "output_type": "stream",
       "stream": "stdout",
       "text": [
        "\r",
        "470/500 [===========================>..] - ETA: 23s - loss: 7.7313"
       ]
      },
      {
       "output_type": "stream",
       "stream": "stdout",
       "text": [
        "\r",
        "471/500 [===========================>..] - ETA: 22s - loss: 7.7230"
       ]
      },
      {
       "output_type": "stream",
       "stream": "stdout",
       "text": [
        "\r",
        "472/500 [===========================>..] - ETA: 21s - loss: 7.7220"
       ]
      },
      {
       "output_type": "stream",
       "stream": "stdout",
       "text": [
        "\r",
        "473/500 [===========================>..] - ETA: 21s - loss: 7.7130"
       ]
      },
      {
       "output_type": "stream",
       "stream": "stdout",
       "text": [
        "\r",
        "474/500 [===========================>..] - ETA: 20s - loss: 7.7059"
       ]
      },
      {
       "output_type": "stream",
       "stream": "stdout",
       "text": [
        "\r",
        "475/500 [===========================>..] - ETA: 19s - loss: 7.7140"
       ]
      },
      {
       "output_type": "stream",
       "stream": "stdout",
       "text": [
        "\r",
        "476/500 [===========================>..] - ETA: 18s - loss: 7.7059"
       ]
      },
      {
       "output_type": "stream",
       "stream": "stdout",
       "text": [
        "\r",
        "477/500 [===========================>..] - ETA: 18s - loss: 7.7077"
       ]
      },
      {
       "output_type": "stream",
       "stream": "stdout",
       "text": [
        "\r",
        "478/500 [===========================>..] - ETA: 17s - loss: 7.7045"
       ]
      },
      {
       "output_type": "stream",
       "stream": "stdout",
       "text": [
        "\r",
        "479/500 [===========================>..] - ETA: 16s - loss: 7.7067"
       ]
      },
      {
       "output_type": "stream",
       "stream": "stdout",
       "text": [
        "\r",
        "480/500 [===========================>..] - ETA: 15s - loss: 7.7052"
       ]
      },
      {
       "output_type": "stream",
       "stream": "stdout",
       "text": [
        "\r",
        "481/500 [===========================>..] - ETA: 14s - loss: 7.6998"
       ]
      },
      {
       "output_type": "stream",
       "stream": "stdout",
       "text": [
        "\r",
        "482/500 [===========================>..] - ETA: 14s - loss: 7.7002"
       ]
      },
      {
       "output_type": "stream",
       "stream": "stdout",
       "text": [
        "\r",
        "483/500 [===========================>..] - ETA: 13s - loss: 7.7015"
       ]
      },
      {
       "output_type": "stream",
       "stream": "stdout",
       "text": [
        "\r",
        "484/500 [============================>.] - ETA: 12s - loss: 7.6986"
       ]
      },
      {
       "output_type": "stream",
       "stream": "stdout",
       "text": [
        "\r",
        "485/500 [============================>.] - ETA: 11s - loss: 7.6933"
       ]
      },
      {
       "output_type": "stream",
       "stream": "stdout",
       "text": [
        "\r",
        "486/500 [============================>.] - ETA: 10s - loss: 7.6895"
       ]
      },
      {
       "output_type": "stream",
       "stream": "stdout",
       "text": [
        "\r",
        "487/500 [============================>.] - ETA: 10s - loss: 7.6940"
       ]
      },
      {
       "output_type": "stream",
       "stream": "stdout",
       "text": [
        "\r",
        "488/500 [============================>.] - ETA: 9s - loss: 7.6966 "
       ]
      },
      {
       "output_type": "stream",
       "stream": "stdout",
       "text": [
        "\r",
        "489/500 [============================>.] - ETA: 8s - loss: 7.6975"
       ]
      },
      {
       "output_type": "stream",
       "stream": "stdout",
       "text": [
        "\r",
        "490/500 [============================>.] - ETA: 7s - loss: 7.7117"
       ]
      },
      {
       "output_type": "stream",
       "stream": "stdout",
       "text": [
        "\r",
        "491/500 [============================>.] - ETA: 7s - loss: 7.7103"
       ]
      },
      {
       "output_type": "stream",
       "stream": "stdout",
       "text": [
        "\r",
        "492/500 [============================>.] - ETA: 6s - loss: 7.7199"
       ]
      },
      {
       "output_type": "stream",
       "stream": "stdout",
       "text": [
        "\r",
        "493/500 [============================>.] - ETA: 5s - loss: 7.7209"
       ]
      },
      {
       "output_type": "stream",
       "stream": "stdout",
       "text": [
        "\r",
        "494/500 [============================>.] - ETA: 4s - loss: 7.7227"
       ]
      },
      {
       "output_type": "stream",
       "stream": "stdout",
       "text": [
        "\r",
        "495/500 [============================>.] - ETA: 3s - loss: 7.7212"
       ]
      },
      {
       "output_type": "stream",
       "stream": "stdout",
       "text": [
        "\r",
        "496/500 [============================>.] - ETA: 3s - loss: 7.7200"
       ]
      },
      {
       "output_type": "stream",
       "stream": "stdout",
       "text": [
        "\r",
        "497/500 [============================>.] - ETA: 2s - loss: 7.7322"
       ]
      },
      {
       "output_type": "stream",
       "stream": "stdout",
       "text": [
        "\r",
        "498/500 [============================>.] - ETA: 1s - loss: 7.7397"
       ]
      },
      {
       "output_type": "stream",
       "stream": "stdout",
       "text": [
        "\r",
        "499/500 [============================>.] - ETA: 0s - loss: 7.7359"
       ]
      },
      {
       "output_type": "stream",
       "stream": "stdout",
       "text": [
        "\r",
        "500/500 [==============================] - 417s 834ms/step - loss: 7.7293 - val_loss: 8.0185\n"
       ]
      },
      {
       "output_type": "stream",
       "stream": "stdout",
       "text": [
        "\n",
        "Epoch 00001: val_loss improved from inf to 8.01848, saving model to models2/resnet152/2020-01-11-22:31:49.hdf5\n",
        "Epoch 2/10"
       ]
      },
      {
       "output_type": "stream",
       "stream": "stdout",
       "text": [
        "\n",
        "\r"
       ]
      },
      {
       "output_type": "stream",
       "stream": "stdout",
       "text": [
        "  1/500 [..............................] - ETA: 5:40 - loss: 12.8816"
       ]
      },
      {
       "output_type": "stream",
       "stream": "stdout",
       "text": [
        "\r",
        "  2/500 [..............................] - ETA: 5:46 - loss: 7.6142 "
       ]
      },
      {
       "output_type": "stream",
       "stream": "stdout",
       "text": [
        "\r",
        "  3/500 [..............................] - ETA: 5:47 - loss: 7.3919"
       ]
      },
      {
       "output_type": "stream",
       "stream": "stdout",
       "text": [
        "\r",
        "  4/500 [..............................] - ETA: 5:49 - loss: 7.6510"
       ]
      },
      {
       "output_type": "stream",
       "stream": "stdout",
       "text": [
        "\r",
        "  5/500 [..............................] - ETA: 5:48 - loss: 6.6143"
       ]
      },
      {
       "output_type": "stream",
       "stream": "stdout",
       "text": [
        "\r",
        "  6/500 [..............................] - ETA: 5:47 - loss: 6.6595"
       ]
      },
      {
       "output_type": "stream",
       "stream": "stdout",
       "text": [
        "\r",
        "  7/500 [..............................] - ETA: 5:45 - loss: 6.7674"
       ]
      },
      {
       "output_type": "stream",
       "stream": "stdout",
       "text": [
        "\r",
        "  8/500 [..............................] - ETA: 5:43 - loss: 6.8462"
       ]
      },
      {
       "output_type": "stream",
       "stream": "stdout",
       "text": [
        "\r",
        "  9/500 [..............................] - ETA: 5:44 - loss: 6.5743"
       ]
      },
      {
       "output_type": "stream",
       "stream": "stdout",
       "text": [
        "\r",
        " 10/500 [..............................] - ETA: 5:43 - loss: 6.4329"
       ]
      },
      {
       "output_type": "stream",
       "stream": "stdout",
       "text": [
        "\r",
        " 11/500 [..............................] - ETA: 5:41 - loss: 6.4545"
       ]
      },
      {
       "output_type": "stream",
       "stream": "stdout",
       "text": [
        "\r",
        " 12/500 [..............................] - ETA: 5:41 - loss: 6.9482"
       ]
      },
      {
       "output_type": "stream",
       "stream": "stdout",
       "text": [
        "\r",
        " 13/500 [..............................] - ETA: 5:41 - loss: 7.0484"
       ]
      },
      {
       "output_type": "stream",
       "stream": "stdout",
       "text": [
        "\r",
        " 14/500 [..............................] - ETA: 5:40 - loss: 6.7717"
       ]
      },
      {
       "output_type": "stream",
       "stream": "stdout",
       "text": [
        "\r",
        " 15/500 [..............................] - ETA: 5:39 - loss: 7.2445"
       ]
      },
      {
       "output_type": "stream",
       "stream": "stdout",
       "text": [
        "\r",
        " 16/500 [..............................] - ETA: 5:39 - loss: 7.6104"
       ]
      },
      {
       "output_type": "stream",
       "stream": "stdout",
       "text": [
        "\r",
        " 17/500 [>.............................] - ETA: 5:38 - loss: 7.3169"
       ]
      },
      {
       "output_type": "stream",
       "stream": "stdout",
       "text": [
        "\r",
        " 18/500 [>.............................] - ETA: 5:36 - loss: 7.1051"
       ]
      },
      {
       "output_type": "stream",
       "stream": "stdout",
       "text": [
        "\r",
        " 19/500 [>.............................] - ETA: 5:35 - loss: 6.8755"
       ]
      },
      {
       "output_type": "stream",
       "stream": "stdout",
       "text": [
        "\r",
        " 20/500 [>.............................] - ETA: 5:35 - loss: 6.9599"
       ]
      },
      {
       "output_type": "stream",
       "stream": "stdout",
       "text": [
        "\r",
        " 21/500 [>.............................] - ETA: 5:34 - loss: 6.8422"
       ]
      },
      {
       "output_type": "stream",
       "stream": "stdout",
       "text": [
        "\r",
        " 22/500 [>.............................] - ETA: 5:33 - loss: 7.0496"
       ]
      },
      {
       "output_type": "stream",
       "stream": "stdout",
       "text": [
        "\r",
        " 23/500 [>.............................] - ETA: 5:32 - loss: 7.1483"
       ]
      },
      {
       "output_type": "stream",
       "stream": "stdout",
       "text": [
        "\r",
        " 24/500 [>.............................] - ETA: 5:31 - loss: 7.1837"
       ]
      },
      {
       "output_type": "stream",
       "stream": "stdout",
       "text": [
        "\r",
        " 25/500 [>.............................] - ETA: 5:30 - loss: 7.3518"
       ]
      },
      {
       "output_type": "stream",
       "stream": "stdout",
       "text": [
        "\r",
        " 26/500 [>.............................] - ETA: 5:29 - loss: 7.2970"
       ]
      },
      {
       "output_type": "stream",
       "stream": "stdout",
       "text": [
        "\r",
        " 27/500 [>.............................] - ETA: 5:28 - loss: 7.2057"
       ]
      },
      {
       "output_type": "stream",
       "stream": "stdout",
       "text": [
        "\r",
        " 28/500 [>.............................] - ETA: 5:28 - loss: 7.2467"
       ]
      },
      {
       "output_type": "stream",
       "stream": "stdout",
       "text": [
        "\r",
        " 29/500 [>.............................] - ETA: 5:27 - loss: 7.1859"
       ]
      },
      {
       "output_type": "stream",
       "stream": "stdout",
       "text": [
        "\r",
        " 30/500 [>.............................] - ETA: 5:27 - loss: 7.1885"
       ]
      },
      {
       "output_type": "stream",
       "stream": "stdout",
       "text": [
        "\r",
        " 31/500 [>.............................] - ETA: 5:27 - loss: 7.0414"
       ]
      },
      {
       "output_type": "stream",
       "stream": "stdout",
       "text": [
        "\r",
        " 32/500 [>.............................] - ETA: 5:26 - loss: 6.9031"
       ]
      },
      {
       "output_type": "stream",
       "stream": "stdout",
       "text": [
        "\r",
        " 33/500 [>.............................] - ETA: 5:25 - loss: 6.9890"
       ]
      },
      {
       "output_type": "stream",
       "stream": "stdout",
       "text": [
        "\r",
        " 34/500 [=>............................] - ETA: 5:25 - loss: 7.0024"
       ]
      },
      {
       "output_type": "stream",
       "stream": "stdout",
       "text": [
        "\r",
        " 35/500 [=>............................] - ETA: 5:24 - loss: 7.2512"
       ]
      },
      {
       "output_type": "stream",
       "stream": "stdout",
       "text": [
        "\r",
        " 36/500 [=>............................] - ETA: 5:23 - loss: 7.1270"
       ]
      },
      {
       "output_type": "stream",
       "stream": "stdout",
       "text": [
        "\r",
        " 37/500 [=>............................] - ETA: 5:22 - loss: 7.0416"
       ]
      },
      {
       "output_type": "stream",
       "stream": "stdout",
       "text": [
        "\r",
        " 38/500 [=>............................] - ETA: 5:21 - loss: 7.1000"
       ]
      },
      {
       "output_type": "stream",
       "stream": "stdout",
       "text": [
        "\r",
        " 39/500 [=>............................] - ETA: 5:21 - loss: 7.0327"
       ]
      },
      {
       "output_type": "stream",
       "stream": "stdout",
       "text": [
        "\r",
        " 40/500 [=>............................] - ETA: 5:20 - loss: 6.9894"
       ]
      },
      {
       "output_type": "stream",
       "stream": "stdout",
       "text": [
        "\r",
        " 41/500 [=>............................] - ETA: 5:19 - loss: 7.1364"
       ]
      },
      {
       "output_type": "stream",
       "stream": "stdout",
       "text": [
        "\r",
        " 42/500 [=>............................] - ETA: 5:18 - loss: 7.0741"
       ]
      },
      {
       "output_type": "stream",
       "stream": "stdout",
       "text": [
        "\r",
        " 43/500 [=>............................] - ETA: 5:17 - loss: 7.1609"
       ]
      },
      {
       "output_type": "stream",
       "stream": "stdout",
       "text": [
        "\r",
        " 44/500 [=>............................] - ETA: 5:16 - loss: 7.0628"
       ]
      },
      {
       "output_type": "stream",
       "stream": "stdout",
       "text": [
        "\r",
        " 45/500 [=>............................] - ETA: 5:16 - loss: 6.9961"
       ]
      },
      {
       "output_type": "stream",
       "stream": "stdout",
       "text": [
        "\r",
        " 46/500 [=>............................] - ETA: 5:15 - loss: 7.1366"
       ]
      },
      {
       "output_type": "stream",
       "stream": "stdout",
       "text": [
        "\r",
        " 47/500 [=>............................] - ETA: 5:14 - loss: 7.1806"
       ]
      },
      {
       "output_type": "stream",
       "stream": "stdout",
       "text": [
        "\r",
        " 48/500 [=>............................] - ETA: 5:13 - loss: 7.2157"
       ]
      },
      {
       "output_type": "stream",
       "stream": "stdout",
       "text": [
        "\r",
        " 49/500 [=>............................] - ETA: 5:13 - loss: 7.4215"
       ]
      },
      {
       "output_type": "stream",
       "stream": "stdout",
       "text": [
        "\r",
        " 50/500 [==>...........................] - ETA: 5:12 - loss: 7.4663"
       ]
      },
      {
       "output_type": "stream",
       "stream": "stdout",
       "text": [
        "\r",
        " 51/500 [==>...........................] - ETA: 5:11 - loss: 7.3932"
       ]
      },
      {
       "output_type": "stream",
       "stream": "stdout",
       "text": [
        "\r",
        " 52/500 [==>...........................] - ETA: 5:10 - loss: 7.4593"
       ]
      },
      {
       "output_type": "stream",
       "stream": "stdout",
       "text": [
        "\r",
        " 53/500 [==>...........................] - ETA: 5:09 - loss: 7.4805"
       ]
      },
      {
       "output_type": "stream",
       "stream": "stdout",
       "text": [
        "\r",
        " 54/500 [==>...........................] - ETA: 5:09 - loss: 7.4232"
       ]
      },
      {
       "output_type": "stream",
       "stream": "stdout",
       "text": [
        "\r",
        " 55/500 [==>...........................] - ETA: 5:08 - loss: 7.3900"
       ]
      },
      {
       "output_type": "stream",
       "stream": "stdout",
       "text": [
        "\r",
        " 56/500 [==>...........................] - ETA: 5:07 - loss: 7.4171"
       ]
      },
      {
       "output_type": "stream",
       "stream": "stdout",
       "text": [
        "\r",
        " 57/500 [==>...........................] - ETA: 5:06 - loss: 7.3549"
       ]
      },
      {
       "output_type": "stream",
       "stream": "stdout",
       "text": [
        "\r",
        " 58/500 [==>...........................] - ETA: 5:06 - loss: 7.3544"
       ]
      },
      {
       "output_type": "stream",
       "stream": "stdout",
       "text": [
        "\r",
        " 59/500 [==>...........................] - ETA: 5:05 - loss: 7.3015"
       ]
      },
      {
       "output_type": "stream",
       "stream": "stdout",
       "text": [
        "\r",
        " 60/500 [==>...........................] - ETA: 5:04 - loss: 7.2790"
       ]
      },
      {
       "output_type": "stream",
       "stream": "stdout",
       "text": [
        "\r",
        " 61/500 [==>...........................] - ETA: 5:03 - loss: 7.3062"
       ]
      },
      {
       "output_type": "stream",
       "stream": "stdout",
       "text": [
        "\r",
        " 62/500 [==>...........................] - ETA: 5:02 - loss: 7.3205"
       ]
      },
      {
       "output_type": "stream",
       "stream": "stdout",
       "text": [
        "\r",
        " 63/500 [==>...........................] - ETA: 5:02 - loss: 7.3624"
       ]
      },
      {
       "output_type": "stream",
       "stream": "stdout",
       "text": [
        "\r",
        " 64/500 [==>...........................] - ETA: 5:01 - loss: 7.3612"
       ]
      },
      {
       "output_type": "stream",
       "stream": "stdout",
       "text": [
        "\r",
        " 65/500 [==>...........................] - ETA: 5:00 - loss: 7.3500"
       ]
      },
      {
       "output_type": "stream",
       "stream": "stdout",
       "text": [
        "\r",
        " 66/500 [==>...........................] - ETA: 4:59 - loss: 7.3674"
       ]
      },
      {
       "output_type": "stream",
       "stream": "stdout",
       "text": [
        "\r",
        " 67/500 [===>..........................] - ETA: 4:59 - loss: 7.3074"
       ]
      },
      {
       "output_type": "stream",
       "stream": "stdout",
       "text": [
        "\r",
        " 68/500 [===>..........................] - ETA: 4:58 - loss: 7.3274"
       ]
      },
      {
       "output_type": "stream",
       "stream": "stdout",
       "text": [
        "\r",
        " 69/500 [===>..........................] - ETA: 4:57 - loss: 7.3660"
       ]
      },
      {
       "output_type": "stream",
       "stream": "stdout",
       "text": [
        "\r",
        " 70/500 [===>..........................] - ETA: 4:56 - loss: 7.3655"
       ]
      },
      {
       "output_type": "stream",
       "stream": "stdout",
       "text": [
        "\r",
        " 71/500 [===>..........................] - ETA: 4:56 - loss: 7.3393"
       ]
      },
      {
       "output_type": "stream",
       "stream": "stdout",
       "text": [
        "\r",
        " 72/500 [===>..........................] - ETA: 4:55 - loss: 7.3141"
       ]
      },
      {
       "output_type": "stream",
       "stream": "stdout",
       "text": [
        "\r",
        " 73/500 [===>..........................] - ETA: 4:54 - loss: 7.3244"
       ]
      },
      {
       "output_type": "stream",
       "stream": "stdout",
       "text": [
        "\r",
        " 74/500 [===>..........................] - ETA: 4:53 - loss: 7.3494"
       ]
      },
      {
       "output_type": "stream",
       "stream": "stdout",
       "text": [
        "\r",
        " 75/500 [===>..........................] - ETA: 4:53 - loss: 7.3250"
       ]
      },
      {
       "output_type": "stream",
       "stream": "stdout",
       "text": [
        "\r",
        " 76/500 [===>..........................] - ETA: 4:52 - loss: 7.3041"
       ]
      },
      {
       "output_type": "stream",
       "stream": "stdout",
       "text": [
        "\r",
        " 77/500 [===>..........................] - ETA: 4:51 - loss: 7.2923"
       ]
      },
      {
       "output_type": "stream",
       "stream": "stdout",
       "text": [
        "\r",
        " 78/500 [===>..........................] - ETA: 4:50 - loss: 7.2797"
       ]
      },
      {
       "output_type": "stream",
       "stream": "stdout",
       "text": [
        "\r",
        " 79/500 [===>..........................] - ETA: 4:49 - loss: 7.3486"
       ]
      },
      {
       "output_type": "stream",
       "stream": "stdout",
       "text": [
        "\r",
        " 80/500 [===>..........................] - ETA: 4:49 - loss: 7.3895"
       ]
      },
      {
       "output_type": "stream",
       "stream": "stdout",
       "text": [
        "\r",
        " 81/500 [===>..........................] - ETA: 4:48 - loss: 7.4352"
       ]
      },
      {
       "output_type": "stream",
       "stream": "stdout",
       "text": [
        "\r",
        " 82/500 [===>..........................] - ETA: 4:47 - loss: 7.3996"
       ]
      },
      {
       "output_type": "stream",
       "stream": "stdout",
       "text": [
        "\r",
        " 83/500 [===>..........................] - ETA: 4:46 - loss: 7.4366"
       ]
      },
      {
       "output_type": "stream",
       "stream": "stdout",
       "text": [
        "\r",
        " 84/500 [====>.........................] - ETA: 4:46 - loss: 7.4296"
       ]
      },
      {
       "output_type": "stream",
       "stream": "stdout",
       "text": [
        "\r",
        " 85/500 [====>.........................] - ETA: 4:45 - loss: 7.3955"
       ]
      },
      {
       "output_type": "stream",
       "stream": "stdout",
       "text": [
        "\r",
        " 86/500 [====>.........................] - ETA: 4:44 - loss: 7.4356"
       ]
      },
      {
       "output_type": "stream",
       "stream": "stdout",
       "text": [
        "\r",
        " 87/500 [====>.........................] - ETA: 4:43 - loss: 7.3824"
       ]
      },
      {
       "output_type": "stream",
       "stream": "stdout",
       "text": [
        "\r",
        " 88/500 [====>.........................] - ETA: 4:43 - loss: 7.3777"
       ]
      },
      {
       "output_type": "stream",
       "stream": "stdout",
       "text": [
        "\r",
        " 89/500 [====>.........................] - ETA: 4:42 - loss: 7.3957"
       ]
      },
      {
       "output_type": "stream",
       "stream": "stdout",
       "text": [
        "\r",
        " 90/500 [====>.........................] - ETA: 4:41 - loss: 7.3508"
       ]
      },
      {
       "output_type": "stream",
       "stream": "stdout",
       "text": [
        "\r",
        " 91/500 [====>.........................] - ETA: 4:40 - loss: 7.2953"
       ]
      },
      {
       "output_type": "stream",
       "stream": "stdout",
       "text": [
        "\r",
        " 92/500 [====>.........................] - ETA: 4:40 - loss: 7.3010"
       ]
      },
      {
       "output_type": "stream",
       "stream": "stdout",
       "text": [
        "\r",
        " 93/500 [====>.........................] - ETA: 4:39 - loss: 7.2934"
       ]
      },
      {
       "output_type": "stream",
       "stream": "stdout",
       "text": [
        "\r",
        " 94/500 [====>.........................] - ETA: 4:38 - loss: 7.2433"
       ]
      },
      {
       "output_type": "stream",
       "stream": "stdout",
       "text": [
        "\r",
        " 95/500 [====>.........................] - ETA: 4:38 - loss: 7.2726"
       ]
      },
      {
       "output_type": "stream",
       "stream": "stdout",
       "text": [
        "\r",
        " 96/500 [====>.........................] - ETA: 4:37 - loss: 7.2653"
       ]
      },
      {
       "output_type": "stream",
       "stream": "stdout",
       "text": [
        "\r",
        " 97/500 [====>.........................] - ETA: 4:36 - loss: 7.2673"
       ]
      },
      {
       "output_type": "stream",
       "stream": "stdout",
       "text": [
        "\r",
        " 98/500 [====>.........................] - ETA: 4:35 - loss: 7.2960"
       ]
      },
      {
       "output_type": "stream",
       "stream": "stdout",
       "text": [
        "\r",
        " 99/500 [====>.........................] - ETA: 4:35 - loss: 7.2513"
       ]
      },
      {
       "output_type": "stream",
       "stream": "stdout",
       "text": [
        "\r",
        "100/500 [=====>........................] - ETA: 4:34 - loss: 7.2981"
       ]
      },
      {
       "output_type": "stream",
       "stream": "stdout",
       "text": [
        "\r",
        "101/500 [=====>........................] - ETA: 4:33 - loss: 7.2936"
       ]
      },
      {
       "output_type": "stream",
       "stream": "stdout",
       "text": [
        "\r",
        "102/500 [=====>........................] - ETA: 4:32 - loss: 7.2828"
       ]
      },
      {
       "output_type": "stream",
       "stream": "stdout",
       "text": [
        "\r",
        "103/500 [=====>........................] - ETA: 4:32 - loss: 7.2780"
       ]
      },
      {
       "output_type": "stream",
       "stream": "stdout",
       "text": [
        "\r",
        "104/500 [=====>........................] - ETA: 4:31 - loss: 7.3141"
       ]
      },
      {
       "output_type": "stream",
       "stream": "stdout",
       "text": [
        "\r",
        "105/500 [=====>........................] - ETA: 4:30 - loss: 7.3045"
       ]
      },
      {
       "output_type": "stream",
       "stream": "stdout",
       "text": [
        "\r",
        "106/500 [=====>........................] - ETA: 4:29 - loss: 7.3472"
       ]
      },
      {
       "output_type": "stream",
       "stream": "stdout",
       "text": [
        "\r",
        "107/500 [=====>........................] - ETA: 4:29 - loss: 7.3344"
       ]
      },
      {
       "output_type": "stream",
       "stream": "stdout",
       "text": [
        "\r",
        "108/500 [=====>........................] - ETA: 4:28 - loss: 7.2867"
       ]
      },
      {
       "output_type": "stream",
       "stream": "stdout",
       "text": [
        "\r",
        "109/500 [=====>........................] - ETA: 4:27 - loss: 7.2697"
       ]
      },
      {
       "output_type": "stream",
       "stream": "stdout",
       "text": [
        "\r",
        "110/500 [=====>........................] - ETA: 4:27 - loss: 7.3047"
       ]
      },
      {
       "output_type": "stream",
       "stream": "stdout",
       "text": [
        "\r",
        "111/500 [=====>........................] - ETA: 4:26 - loss: 7.2626"
       ]
      },
      {
       "output_type": "stream",
       "stream": "stdout",
       "text": [
        "\r",
        "112/500 [=====>........................] - ETA: 4:25 - loss: 7.3014"
       ]
      },
      {
       "output_type": "stream",
       "stream": "stdout",
       "text": [
        "\r",
        "113/500 [=====>........................] - ETA: 4:24 - loss: 7.2630"
       ]
      },
      {
       "output_type": "stream",
       "stream": "stdout",
       "text": [
        "\r",
        "114/500 [=====>........................] - ETA: 4:24 - loss: 7.3194"
       ]
      },
      {
       "output_type": "stream",
       "stream": "stdout",
       "text": [
        "\r",
        "115/500 [=====>........................] - ETA: 4:23 - loss: 7.3024"
       ]
      },
      {
       "output_type": "stream",
       "stream": "stdout",
       "text": [
        "\r",
        "116/500 [=====>........................] - ETA: 4:22 - loss: 7.3306"
       ]
      },
      {
       "output_type": "stream",
       "stream": "stdout",
       "text": [
        "\r",
        "117/500 [======>.......................] - ETA: 4:22 - loss: 7.3625"
       ]
      },
      {
       "output_type": "stream",
       "stream": "stdout",
       "text": [
        "\r",
        "118/500 [======>.......................] - ETA: 4:21 - loss: 7.3783"
       ]
      },
      {
       "output_type": "stream",
       "stream": "stdout",
       "text": [
        "\r",
        "119/500 [======>.......................] - ETA: 4:20 - loss: 7.3728"
       ]
      },
      {
       "output_type": "stream",
       "stream": "stdout",
       "text": [
        "\r",
        "120/500 [======>.......................] - ETA: 4:20 - loss: 7.3649"
       ]
      },
      {
       "output_type": "stream",
       "stream": "stdout",
       "text": [
        "\r",
        "121/500 [======>.......................] - ETA: 4:19 - loss: 7.4281"
       ]
      },
      {
       "output_type": "stream",
       "stream": "stdout",
       "text": [
        "\r",
        "122/500 [======>.......................] - ETA: 4:18 - loss: 7.4323"
       ]
      },
      {
       "output_type": "stream",
       "stream": "stdout",
       "text": [
        "\r",
        "123/500 [======>.......................] - ETA: 4:18 - loss: 7.4390"
       ]
      },
      {
       "output_type": "stream",
       "stream": "stdout",
       "text": [
        "\r",
        "124/500 [======>.......................] - ETA: 4:17 - loss: 7.4725"
       ]
      },
      {
       "output_type": "stream",
       "stream": "stdout",
       "text": [
        "\r",
        "125/500 [======>.......................] - ETA: 4:16 - loss: 7.5111"
       ]
      },
      {
       "output_type": "stream",
       "stream": "stdout",
       "text": [
        "\r",
        "126/500 [======>.......................] - ETA: 4:16 - loss: 7.5014"
       ]
      },
      {
       "output_type": "stream",
       "stream": "stdout",
       "text": [
        "\r",
        "127/500 [======>.......................] - ETA: 4:15 - loss: 7.4891"
       ]
      },
      {
       "output_type": "stream",
       "stream": "stdout",
       "text": [
        "\r",
        "128/500 [======>.......................] - ETA: 4:14 - loss: 7.4878"
       ]
      },
      {
       "output_type": "stream",
       "stream": "stdout",
       "text": [
        "\r",
        "129/500 [======>.......................] - ETA: 4:14 - loss: 7.4946"
       ]
      },
      {
       "output_type": "stream",
       "stream": "stdout",
       "text": [
        "\r",
        "130/500 [======>.......................] - ETA: 4:13 - loss: 7.4840"
       ]
      },
      {
       "output_type": "stream",
       "stream": "stdout",
       "text": [
        "\r",
        "131/500 [======>.......................] - ETA: 4:12 - loss: 7.5150"
       ]
      },
      {
       "output_type": "stream",
       "stream": "stdout",
       "text": [
        "\r",
        "132/500 [======>.......................] - ETA: 4:12 - loss: 7.5290"
       ]
      },
      {
       "output_type": "stream",
       "stream": "stdout",
       "text": [
        "\r",
        "133/500 [======>.......................] - ETA: 4:11 - loss: 7.5768"
       ]
      },
      {
       "output_type": "stream",
       "stream": "stdout",
       "text": [
        "\r",
        "134/500 [=======>......................] - ETA: 4:10 - loss: 7.5597"
       ]
      },
      {
       "output_type": "stream",
       "stream": "stdout",
       "text": [
        "\r",
        "135/500 [=======>......................] - ETA: 4:10 - loss: 7.5536"
       ]
      },
      {
       "output_type": "stream",
       "stream": "stdout",
       "text": [
        "\r",
        "136/500 [=======>......................] - ETA: 4:09 - loss: 7.5169"
       ]
      },
      {
       "output_type": "stream",
       "stream": "stdout",
       "text": [
        "\r",
        "137/500 [=======>......................] - ETA: 4:08 - loss: 7.5838"
       ]
      },
      {
       "output_type": "stream",
       "stream": "stdout",
       "text": [
        "\r",
        "138/500 [=======>......................] - ETA: 4:08 - loss: 7.6192"
       ]
      },
      {
       "output_type": "stream",
       "stream": "stdout",
       "text": [
        "\r",
        "139/500 [=======>......................] - ETA: 4:07 - loss: 7.6539"
       ]
      },
      {
       "output_type": "stream",
       "stream": "stdout",
       "text": [
        "\r",
        "140/500 [=======>......................] - ETA: 4:06 - loss: 7.6466"
       ]
      },
      {
       "output_type": "stream",
       "stream": "stdout",
       "text": [
        "\r",
        "141/500 [=======>......................] - ETA: 4:05 - loss: 7.6490"
       ]
      },
      {
       "output_type": "stream",
       "stream": "stdout",
       "text": [
        "\r",
        "142/500 [=======>......................] - ETA: 4:05 - loss: 7.6697"
       ]
      },
      {
       "output_type": "stream",
       "stream": "stdout",
       "text": [
        "\r",
        "143/500 [=======>......................] - ETA: 4:04 - loss: 7.6520"
       ]
      },
      {
       "output_type": "stream",
       "stream": "stdout",
       "text": [
        "\r",
        "144/500 [=======>......................] - ETA: 4:03 - loss: 7.6431"
       ]
      },
      {
       "output_type": "stream",
       "stream": "stdout",
       "text": [
        "\r",
        "145/500 [=======>......................] - ETA: 4:03 - loss: 7.6716"
       ]
      },
      {
       "output_type": "stream",
       "stream": "stdout",
       "text": [
        "\r",
        "146/500 [=======>......................] - ETA: 4:02 - loss: 7.7295"
       ]
      },
      {
       "output_type": "stream",
       "stream": "stdout",
       "text": [
        "\r",
        "147/500 [=======>......................] - ETA: 4:01 - loss: 7.7233"
       ]
      },
      {
       "output_type": "stream",
       "stream": "stdout",
       "text": [
        "\r",
        "148/500 [=======>......................] - ETA: 4:01 - loss: 7.7153"
       ]
      },
      {
       "output_type": "stream",
       "stream": "stdout",
       "text": [
        "\r",
        "149/500 [=======>......................] - ETA: 4:00 - loss: 7.6853"
       ]
      },
      {
       "output_type": "stream",
       "stream": "stdout",
       "text": [
        "\r",
        "150/500 [========>.....................] - ETA: 3:59 - loss: 7.6862"
       ]
      },
      {
       "output_type": "stream",
       "stream": "stdout",
       "text": [
        "\r",
        "151/500 [========>.....................] - ETA: 3:59 - loss: 7.6525"
       ]
      },
      {
       "output_type": "stream",
       "stream": "stdout",
       "text": [
        "\r",
        "152/500 [========>.....................] - ETA: 3:58 - loss: 7.6402"
       ]
      },
      {
       "output_type": "stream",
       "stream": "stdout",
       "text": [
        "\r",
        "153/500 [========>.....................] - ETA: 3:57 - loss: 7.6248"
       ]
      },
      {
       "output_type": "stream",
       "stream": "stdout",
       "text": [
        "\r",
        "154/500 [========>.....................] - ETA: 3:57 - loss: 7.6327"
       ]
      },
      {
       "output_type": "stream",
       "stream": "stdout",
       "text": [
        "\r",
        "155/500 [========>.....................] - ETA: 3:56 - loss: 7.6417"
       ]
      },
      {
       "output_type": "stream",
       "stream": "stdout",
       "text": [
        "\r",
        "156/500 [========>.....................] - ETA: 3:55 - loss: 7.6755"
       ]
      },
      {
       "output_type": "stream",
       "stream": "stdout",
       "text": [
        "\r",
        "157/500 [========>.....................] - ETA: 3:54 - loss: 7.7166"
       ]
      },
      {
       "output_type": "stream",
       "stream": "stdout",
       "text": [
        "\r",
        "158/500 [========>.....................] - ETA: 3:54 - loss: 7.7096"
       ]
      },
      {
       "output_type": "stream",
       "stream": "stdout",
       "text": [
        "\r",
        "159/500 [========>.....................] - ETA: 3:53 - loss: 7.7388"
       ]
      },
      {
       "output_type": "stream",
       "stream": "stdout",
       "text": [
        "\r",
        "160/500 [========>.....................] - ETA: 3:52 - loss: 7.7257"
       ]
      },
      {
       "output_type": "stream",
       "stream": "stdout",
       "text": [
        "\r",
        "161/500 [========>.....................] - ETA: 3:52 - loss: 7.7164"
       ]
      },
      {
       "output_type": "stream",
       "stream": "stdout",
       "text": [
        "\r",
        "162/500 [========>.....................] - ETA: 3:51 - loss: 7.7078"
       ]
      },
      {
       "output_type": "stream",
       "stream": "stdout",
       "text": [
        "\r",
        "163/500 [========>.....................] - ETA: 3:50 - loss: 7.7023"
       ]
      },
      {
       "output_type": "stream",
       "stream": "stdout",
       "text": [
        "\r",
        "164/500 [========>.....................] - ETA: 3:50 - loss: 7.6785"
       ]
      },
      {
       "output_type": "stream",
       "stream": "stdout",
       "text": [
        "\r",
        "165/500 [========>.....................] - ETA: 3:49 - loss: 7.6932"
       ]
      },
      {
       "output_type": "stream",
       "stream": "stdout",
       "text": [
        "\r",
        "166/500 [========>.....................] - ETA: 3:49 - loss: 7.6820"
       ]
      },
      {
       "output_type": "stream",
       "stream": "stdout",
       "text": [
        "\r",
        "167/500 [=========>....................] - ETA: 3:48 - loss: 7.6656"
       ]
      },
      {
       "output_type": "stream",
       "stream": "stdout",
       "text": [
        "\r",
        "168/500 [=========>....................] - ETA: 3:47 - loss: 7.6703"
       ]
      },
      {
       "output_type": "stream",
       "stream": "stdout",
       "text": [
        "\r",
        "169/500 [=========>....................] - ETA: 3:46 - loss: 7.6392"
       ]
      },
      {
       "output_type": "stream",
       "stream": "stdout",
       "text": [
        "\r",
        "170/500 [=========>....................] - ETA: 3:46 - loss: 7.6688"
       ]
      },
      {
       "output_type": "stream",
       "stream": "stdout",
       "text": [
        "\r",
        "171/500 [=========>....................] - ETA: 3:45 - loss: 7.6956"
       ]
      },
      {
       "output_type": "stream",
       "stream": "stdout",
       "text": [
        "\r",
        "172/500 [=========>....................] - ETA: 3:45 - loss: 7.6879"
       ]
      },
      {
       "output_type": "stream",
       "stream": "stdout",
       "text": [
        "\r",
        "173/500 [=========>....................] - ETA: 3:44 - loss: 7.6856"
       ]
      },
      {
       "output_type": "stream",
       "stream": "stdout",
       "text": [
        "\r",
        "174/500 [=========>....................] - ETA: 3:43 - loss: 7.7261"
       ]
      },
      {
       "output_type": "stream",
       "stream": "stdout",
       "text": [
        "\r",
        "175/500 [=========>....................] - ETA: 3:43 - loss: 7.7207"
       ]
      },
      {
       "output_type": "stream",
       "stream": "stdout",
       "text": [
        "\r",
        "176/500 [=========>....................] - ETA: 3:42 - loss: 7.7317"
       ]
      },
      {
       "output_type": "stream",
       "stream": "stdout",
       "text": [
        "\r",
        "177/500 [=========>....................] - ETA: 3:41 - loss: 7.7326"
       ]
      },
      {
       "output_type": "stream",
       "stream": "stdout",
       "text": [
        "\r",
        "178/500 [=========>....................] - ETA: 3:40 - loss: 7.7189"
       ]
      },
      {
       "output_type": "stream",
       "stream": "stdout",
       "text": [
        "\r",
        "179/500 [=========>....................] - ETA: 3:40 - loss: 7.7490"
       ]
      },
      {
       "output_type": "stream",
       "stream": "stdout",
       "text": [
        "\r",
        "180/500 [=========>....................] - ETA: 3:39 - loss: 7.7541"
       ]
      },
      {
       "output_type": "stream",
       "stream": "stdout",
       "text": [
        "\r",
        "181/500 [=========>....................] - ETA: 3:38 - loss: 7.7401"
       ]
      },
      {
       "output_type": "stream",
       "stream": "stdout",
       "text": [
        "\r",
        "182/500 [=========>....................] - ETA: 3:38 - loss: 7.7172"
       ]
      },
      {
       "output_type": "stream",
       "stream": "stdout",
       "text": [
        "\r",
        "183/500 [=========>....................] - ETA: 3:37 - loss: 7.7331"
       ]
      },
      {
       "output_type": "stream",
       "stream": "stdout",
       "text": [
        "\r",
        "184/500 [==========>...................] - ETA: 3:36 - loss: 7.7179"
       ]
      },
      {
       "output_type": "stream",
       "stream": "stdout",
       "text": [
        "\r",
        "185/500 [==========>...................] - ETA: 3:36 - loss: 7.7196"
       ]
      },
      {
       "output_type": "stream",
       "stream": "stdout",
       "text": [
        "\r",
        "186/500 [==========>...................] - ETA: 3:35 - loss: 7.7271"
       ]
      },
      {
       "output_type": "stream",
       "stream": "stdout",
       "text": [
        "\r",
        "187/500 [==========>...................] - ETA: 3:34 - loss: 7.7229"
       ]
      },
      {
       "output_type": "stream",
       "stream": "stdout",
       "text": [
        "\r",
        "188/500 [==========>...................] - ETA: 3:34 - loss: 7.6949"
       ]
      },
      {
       "output_type": "stream",
       "stream": "stdout",
       "text": [
        "\r",
        "189/500 [==========>...................] - ETA: 3:33 - loss: 7.7024"
       ]
      },
      {
       "output_type": "stream",
       "stream": "stdout",
       "text": [
        "\r",
        "190/500 [==========>...................] - ETA: 3:32 - loss: 7.6807"
       ]
      },
      {
       "output_type": "stream",
       "stream": "stdout",
       "text": [
        "\r",
        "191/500 [==========>...................] - ETA: 3:31 - loss: 7.6823"
       ]
      },
      {
       "output_type": "stream",
       "stream": "stdout",
       "text": [
        "\r",
        "192/500 [==========>...................] - ETA: 3:31 - loss: 7.6615"
       ]
      },
      {
       "output_type": "stream",
       "stream": "stdout",
       "text": [
        "\r",
        "193/500 [==========>...................] - ETA: 3:30 - loss: 7.6475"
       ]
      },
      {
       "output_type": "stream",
       "stream": "stdout",
       "text": [
        "\r",
        "194/500 [==========>...................] - ETA: 3:29 - loss: 7.6677"
       ]
      },
      {
       "output_type": "stream",
       "stream": "stdout",
       "text": [
        "\r",
        "195/500 [==========>...................] - ETA: 3:29 - loss: 7.6782"
       ]
      },
      {
       "output_type": "stream",
       "stream": "stdout",
       "text": [
        "\r",
        "196/500 [==========>...................] - ETA: 3:28 - loss: 7.6583"
       ]
      },
      {
       "output_type": "stream",
       "stream": "stdout",
       "text": [
        "\r",
        "197/500 [==========>...................] - ETA: 3:28 - loss: 7.6334"
       ]
      },
      {
       "output_type": "stream",
       "stream": "stdout",
       "text": [
        "\r",
        "198/500 [==========>...................] - ETA: 3:27 - loss: 7.6264"
       ]
      },
      {
       "output_type": "stream",
       "stream": "stdout",
       "text": [
        "\r",
        "199/500 [==========>...................] - ETA: 3:26 - loss: 7.6012"
       ]
      },
      {
       "output_type": "stream",
       "stream": "stdout",
       "text": [
        "\r",
        "200/500 [===========>..................] - ETA: 3:26 - loss: 7.5902"
       ]
      },
      {
       "output_type": "stream",
       "stream": "stdout",
       "text": [
        "\r",
        "201/500 [===========>..................] - ETA: 3:25 - loss: 7.5933"
       ]
      },
      {
       "output_type": "stream",
       "stream": "stdout",
       "text": [
        "\r",
        "202/500 [===========>..................] - ETA: 3:24 - loss: 7.6038"
       ]
      },
      {
       "output_type": "stream",
       "stream": "stdout",
       "text": [
        "\r",
        "203/500 [===========>..................] - ETA: 3:24 - loss: 7.6060"
       ]
      },
      {
       "output_type": "stream",
       "stream": "stdout",
       "text": [
        "\r",
        "204/500 [===========>..................] - ETA: 3:23 - loss: 7.6042"
       ]
      },
      {
       "output_type": "stream",
       "stream": "stdout",
       "text": [
        "\r",
        "205/500 [===========>..................] - ETA: 3:22 - loss: 7.6041"
       ]
      },
      {
       "output_type": "stream",
       "stream": "stdout",
       "text": [
        "\r",
        "206/500 [===========>..................] - ETA: 3:21 - loss: 7.6373"
       ]
      },
      {
       "output_type": "stream",
       "stream": "stdout",
       "text": [
        "\r",
        "207/500 [===========>..................] - ETA: 3:21 - loss: 7.6476"
       ]
      },
      {
       "output_type": "stream",
       "stream": "stdout",
       "text": [
        "\r",
        "208/500 [===========>..................] - ETA: 3:20 - loss: 7.6536"
       ]
      },
      {
       "output_type": "stream",
       "stream": "stdout",
       "text": [
        "\r",
        "209/500 [===========>..................] - ETA: 3:19 - loss: 7.6522"
       ]
      },
      {
       "output_type": "stream",
       "stream": "stdout",
       "text": [
        "\r",
        "210/500 [===========>..................] - ETA: 3:19 - loss: 7.6489"
       ]
      },
      {
       "output_type": "stream",
       "stream": "stdout",
       "text": [
        "\r",
        "211/500 [===========>..................] - ETA: 3:18 - loss: 7.6458"
       ]
      },
      {
       "output_type": "stream",
       "stream": "stdout",
       "text": [
        "\r",
        "212/500 [===========>..................] - ETA: 3:17 - loss: 7.6439"
       ]
      },
      {
       "output_type": "stream",
       "stream": "stdout",
       "text": [
        "\r",
        "213/500 [===========>..................] - ETA: 3:17 - loss: 7.6299"
       ]
      },
      {
       "output_type": "stream",
       "stream": "stdout",
       "text": [
        "\r",
        "214/500 [===========>..................] - ETA: 3:16 - loss: 7.6393"
       ]
      },
      {
       "output_type": "stream",
       "stream": "stdout",
       "text": [
        "\r",
        "215/500 [===========>..................] - ETA: 3:15 - loss: 7.6777"
       ]
      },
      {
       "output_type": "stream",
       "stream": "stdout",
       "text": [
        "\r",
        "216/500 [===========>..................] - ETA: 3:14 - loss: 7.6771"
       ]
      },
      {
       "output_type": "stream",
       "stream": "stdout",
       "text": [
        "\r",
        "217/500 [============>.................] - ETA: 3:14 - loss: 7.6761"
       ]
      },
      {
       "output_type": "stream",
       "stream": "stdout",
       "text": [
        "\r",
        "218/500 [============>.................] - ETA: 3:13 - loss: 7.6826"
       ]
      },
      {
       "output_type": "stream",
       "stream": "stdout",
       "text": [
        "\r",
        "219/500 [============>.................] - ETA: 3:12 - loss: 7.6868"
       ]
      },
      {
       "output_type": "stream",
       "stream": "stdout",
       "text": [
        "\r",
        "220/500 [============>.................] - ETA: 3:12 - loss: 7.6886"
       ]
      },
      {
       "output_type": "stream",
       "stream": "stdout",
       "text": [
        "\r",
        "221/500 [============>.................] - ETA: 3:11 - loss: 7.6944"
       ]
      },
      {
       "output_type": "stream",
       "stream": "stdout",
       "text": [
        "\r",
        "222/500 [============>.................] - ETA: 3:10 - loss: 7.6979"
       ]
      },
      {
       "output_type": "stream",
       "stream": "stdout",
       "text": [
        "\r",
        "223/500 [============>.................] - ETA: 3:10 - loss: 7.6907"
       ]
      },
      {
       "output_type": "stream",
       "stream": "stdout",
       "text": [
        "\r",
        "224/500 [============>.................] - ETA: 3:09 - loss: 7.7245"
       ]
      },
      {
       "output_type": "stream",
       "stream": "stdout",
       "text": [
        "\r",
        "225/500 [============>.................] - ETA: 3:08 - loss: 7.7177"
       ]
      },
      {
       "output_type": "stream",
       "stream": "stdout",
       "text": [
        "\r",
        "226/500 [============>.................] - ETA: 3:07 - loss: 7.7375"
       ]
      },
      {
       "output_type": "stream",
       "stream": "stdout",
       "text": [
        "\r",
        "227/500 [============>.................] - ETA: 3:07 - loss: 7.7286"
       ]
      },
      {
       "output_type": "stream",
       "stream": "stdout",
       "text": [
        "\r",
        "228/500 [============>.................] - ETA: 3:06 - loss: 7.7373"
       ]
      },
      {
       "output_type": "stream",
       "stream": "stdout",
       "text": [
        "\r",
        "229/500 [============>.................] - ETA: 3:05 - loss: 7.7340"
       ]
      },
      {
       "output_type": "stream",
       "stream": "stdout",
       "text": [
        "\r",
        "230/500 [============>.................] - ETA: 3:05 - loss: 7.7196"
       ]
      },
      {
       "output_type": "stream",
       "stream": "stdout",
       "text": [
        "\r",
        "231/500 [============>.................] - ETA: 3:04 - loss: 7.7093"
       ]
      },
      {
       "output_type": "stream",
       "stream": "stdout",
       "text": [
        "\r",
        "232/500 [============>.................] - ETA: 3:03 - loss: 7.7475"
       ]
      },
      {
       "output_type": "stream",
       "stream": "stdout",
       "text": [
        "\r",
        "233/500 [============>.................] - ETA: 3:03 - loss: 7.7567"
       ]
      },
      {
       "output_type": "stream",
       "stream": "stdout",
       "text": [
        "\r",
        "234/500 [=============>................] - ETA: 3:02 - loss: 7.7947"
       ]
      },
      {
       "output_type": "stream",
       "stream": "stdout",
       "text": [
        "\r",
        "235/500 [=============>................] - ETA: 3:01 - loss: 7.7985"
       ]
      },
      {
       "output_type": "stream",
       "stream": "stdout",
       "text": [
        "\r",
        "236/500 [=============>................] - ETA: 3:01 - loss: 7.7912"
       ]
      },
      {
       "output_type": "stream",
       "stream": "stdout",
       "text": [
        "\r",
        "237/500 [=============>................] - ETA: 3:00 - loss: 7.7816"
       ]
      },
      {
       "output_type": "stream",
       "stream": "stdout",
       "text": [
        "\r",
        "238/500 [=============>................] - ETA: 2:59 - loss: 7.7613"
       ]
      },
      {
       "output_type": "stream",
       "stream": "stdout",
       "text": [
        "\r",
        "239/500 [=============>................] - ETA: 2:58 - loss: 7.7538"
       ]
      },
      {
       "output_type": "stream",
       "stream": "stdout",
       "text": [
        "\r",
        "240/500 [=============>................] - ETA: 2:58 - loss: 7.7467"
       ]
      },
      {
       "output_type": "stream",
       "stream": "stdout",
       "text": [
        "\r",
        "241/500 [=============>................] - ETA: 2:57 - loss: 7.7451"
       ]
      },
      {
       "output_type": "stream",
       "stream": "stdout",
       "text": [
        "\r",
        "242/500 [=============>................] - ETA: 2:56 - loss: 7.7283"
       ]
      },
      {
       "output_type": "stream",
       "stream": "stdout",
       "text": [
        "\r",
        "243/500 [=============>................] - ETA: 2:56 - loss: 7.7477"
       ]
      },
      {
       "output_type": "stream",
       "stream": "stdout",
       "text": [
        "\r",
        "244/500 [=============>................] - ETA: 2:55 - loss: 7.7395"
       ]
      },
      {
       "output_type": "stream",
       "stream": "stdout",
       "text": [
        "\r",
        "245/500 [=============>................] - ETA: 2:54 - loss: 7.7316"
       ]
      },
      {
       "output_type": "stream",
       "stream": "stdout",
       "text": [
        "\r",
        "246/500 [=============>................] - ETA: 2:54 - loss: 7.7172"
       ]
      },
      {
       "output_type": "stream",
       "stream": "stdout",
       "text": [
        "\r",
        "247/500 [=============>................] - ETA: 2:53 - loss: 7.7122"
       ]
      },
      {
       "output_type": "stream",
       "stream": "stdout",
       "text": [
        "\r",
        "248/500 [=============>................] - ETA: 2:52 - loss: 7.7084"
       ]
      },
      {
       "output_type": "stream",
       "stream": "stdout",
       "text": [
        "\r",
        "249/500 [=============>................] - ETA: 2:52 - loss: 7.6993"
       ]
      },
      {
       "output_type": "stream",
       "stream": "stdout",
       "text": [
        "\r",
        "250/500 [==============>...............] - ETA: 2:51 - loss: 7.7038"
       ]
      },
      {
       "output_type": "stream",
       "stream": "stdout",
       "text": [
        "\r",
        "251/500 [==============>...............] - ETA: 2:50 - loss: 7.7111"
       ]
      },
      {
       "output_type": "stream",
       "stream": "stdout",
       "text": [
        "\r",
        "252/500 [==============>...............] - ETA: 2:49 - loss: 7.6970"
       ]
      },
      {
       "output_type": "stream",
       "stream": "stdout",
       "text": [
        "\r",
        "253/500 [==============>...............] - ETA: 2:49 - loss: 7.7110"
       ]
      },
      {
       "output_type": "stream",
       "stream": "stdout",
       "text": [
        "\r",
        "254/500 [==============>...............] - ETA: 2:48 - loss: 7.7046"
       ]
      },
      {
       "output_type": "stream",
       "stream": "stdout",
       "text": [
        "\r",
        "255/500 [==============>...............] - ETA: 2:47 - loss: 7.7022"
       ]
      },
      {
       "output_type": "stream",
       "stream": "stdout",
       "text": [
        "\r",
        "256/500 [==============>...............] - ETA: 2:47 - loss: 7.6975"
       ]
      },
      {
       "output_type": "stream",
       "stream": "stdout",
       "text": [
        "\r",
        "257/500 [==============>...............] - ETA: 2:46 - loss: 7.7142"
       ]
      },
      {
       "output_type": "stream",
       "stream": "stdout",
       "text": [
        "\r",
        "258/500 [==============>...............] - ETA: 2:45 - loss: 7.7220"
       ]
      },
      {
       "output_type": "stream",
       "stream": "stdout",
       "text": [
        "\r",
        "259/500 [==============>...............] - ETA: 2:45 - loss: 7.7192"
       ]
      },
      {
       "output_type": "stream",
       "stream": "stdout",
       "text": [
        "\r",
        "260/500 [==============>...............] - ETA: 2:44 - loss: 7.7166"
       ]
      },
      {
       "output_type": "stream",
       "stream": "stdout",
       "text": [
        "\r",
        "261/500 [==============>...............] - ETA: 2:43 - loss: 7.7167"
       ]
      },
      {
       "output_type": "stream",
       "stream": "stdout",
       "text": [
        "\r",
        "262/500 [==============>...............] - ETA: 2:43 - loss: 7.7089"
       ]
      },
      {
       "output_type": "stream",
       "stream": "stdout",
       "text": [
        "\r",
        "263/500 [==============>...............] - ETA: 2:42 - loss: 7.7197"
       ]
      },
      {
       "output_type": "stream",
       "stream": "stdout",
       "text": [
        "\r",
        "264/500 [==============>...............] - ETA: 2:41 - loss: 7.7091"
       ]
      },
      {
       "output_type": "stream",
       "stream": "stdout",
       "text": [
        "\r",
        "265/500 [==============>...............] - ETA: 2:41 - loss: 7.6952"
       ]
      },
      {
       "output_type": "stream",
       "stream": "stdout",
       "text": [
        "\r",
        "266/500 [==============>...............] - ETA: 2:40 - loss: 7.6861"
       ]
      },
      {
       "output_type": "stream",
       "stream": "stdout",
       "text": [
        "\r",
        "267/500 [===============>..............] - ETA: 2:39 - loss: 7.6775"
       ]
      },
      {
       "output_type": "stream",
       "stream": "stdout",
       "text": [
        "\r",
        "268/500 [===============>..............] - ETA: 2:38 - loss: 7.6921"
       ]
      },
      {
       "output_type": "stream",
       "stream": "stdout",
       "text": [
        "\r",
        "269/500 [===============>..............] - ETA: 2:38 - loss: 7.6839"
       ]
      },
      {
       "output_type": "stream",
       "stream": "stdout",
       "text": [
        "\r",
        "270/500 [===============>..............] - ETA: 2:37 - loss: 7.6862"
       ]
      },
      {
       "output_type": "stream",
       "stream": "stdout",
       "text": [
        "\r",
        "271/500 [===============>..............] - ETA: 2:36 - loss: 7.6793"
       ]
      },
      {
       "output_type": "stream",
       "stream": "stdout",
       "text": [
        "\r",
        "272/500 [===============>..............] - ETA: 2:36 - loss: 7.6686"
       ]
      },
      {
       "output_type": "stream",
       "stream": "stdout",
       "text": [
        "\r",
        "273/500 [===============>..............] - ETA: 2:35 - loss: 7.6555"
       ]
      },
      {
       "output_type": "stream",
       "stream": "stdout",
       "text": [
        "\r",
        "274/500 [===============>..............] - ETA: 2:34 - loss: 7.6474"
       ]
      },
      {
       "output_type": "stream",
       "stream": "stdout",
       "text": [
        "\r",
        "275/500 [===============>..............] - ETA: 2:34 - loss: 7.6439"
       ]
      },
      {
       "output_type": "stream",
       "stream": "stdout",
       "text": [
        "\r",
        "276/500 [===============>..............] - ETA: 2:33 - loss: 7.6345"
       ]
      },
      {
       "output_type": "stream",
       "stream": "stdout",
       "text": [
        "\r",
        "277/500 [===============>..............] - ETA: 2:32 - loss: 7.6427"
       ]
      },
      {
       "output_type": "stream",
       "stream": "stdout",
       "text": [
        "\r",
        "278/500 [===============>..............] - ETA: 2:32 - loss: 7.6546"
       ]
      },
      {
       "output_type": "stream",
       "stream": "stdout",
       "text": [
        "\r",
        "279/500 [===============>..............] - ETA: 2:31 - loss: 7.6448"
       ]
      },
      {
       "output_type": "stream",
       "stream": "stdout",
       "text": [
        "\r",
        "280/500 [===============>..............] - ETA: 2:30 - loss: 7.6341"
       ]
      },
      {
       "output_type": "stream",
       "stream": "stdout",
       "text": [
        "\r",
        "281/500 [===============>..............] - ETA: 2:30 - loss: 7.6313"
       ]
      },
      {
       "output_type": "stream",
       "stream": "stdout",
       "text": [
        "\r",
        "282/500 [===============>..............] - ETA: 2:29 - loss: 7.6218"
       ]
      },
      {
       "output_type": "stream",
       "stream": "stdout",
       "text": [
        "\r",
        "283/500 [===============>..............] - ETA: 2:28 - loss: 7.6192"
       ]
      },
      {
       "output_type": "stream",
       "stream": "stdout",
       "text": [
        "\r",
        "284/500 [================>.............] - ETA: 2:28 - loss: 7.6092"
       ]
      },
      {
       "output_type": "stream",
       "stream": "stdout",
       "text": [
        "\r",
        "285/500 [================>.............] - ETA: 2:27 - loss: 7.6011"
       ]
      },
      {
       "output_type": "stream",
       "stream": "stdout",
       "text": [
        "\r",
        "286/500 [================>.............] - ETA: 2:26 - loss: 7.5986"
       ]
      },
      {
       "output_type": "stream",
       "stream": "stdout",
       "text": [
        "\r",
        "287/500 [================>.............] - ETA: 2:26 - loss: 7.6195"
       ]
      },
      {
       "output_type": "stream",
       "stream": "stdout",
       "text": [
        "\r",
        "288/500 [================>.............] - ETA: 2:25 - loss: 7.6266"
       ]
      },
      {
       "output_type": "stream",
       "stream": "stdout",
       "text": [
        "\r",
        "289/500 [================>.............] - ETA: 2:24 - loss: 7.6260"
       ]
      },
      {
       "output_type": "stream",
       "stream": "stdout",
       "text": [
        "\r",
        "290/500 [================>.............] - ETA: 2:24 - loss: 7.6260"
       ]
      },
      {
       "output_type": "stream",
       "stream": "stdout",
       "text": [
        "\r",
        "291/500 [================>.............] - ETA: 2:23 - loss: 7.6090"
       ]
      },
      {
       "output_type": "stream",
       "stream": "stdout",
       "text": [
        "\r",
        "292/500 [================>.............] - ETA: 2:22 - loss: 7.6094"
       ]
      },
      {
       "output_type": "stream",
       "stream": "stdout",
       "text": [
        "\r",
        "293/500 [================>.............] - ETA: 2:21 - loss: 7.6045"
       ]
      },
      {
       "output_type": "stream",
       "stream": "stdout",
       "text": [
        "\r",
        "294/500 [================>.............] - ETA: 2:21 - loss: 7.6057"
       ]
      },
      {
       "output_type": "stream",
       "stream": "stdout",
       "text": [
        "\r",
        "295/500 [================>.............] - ETA: 2:20 - loss: 7.5973"
       ]
      },
      {
       "output_type": "stream",
       "stream": "stdout",
       "text": [
        "\r",
        "296/500 [================>.............] - ETA: 2:19 - loss: 7.5899"
       ]
      },
      {
       "output_type": "stream",
       "stream": "stdout",
       "text": [
        "\r",
        "297/500 [================>.............] - ETA: 2:19 - loss: 7.5842"
       ]
      },
      {
       "output_type": "stream",
       "stream": "stdout",
       "text": [
        "\r",
        "298/500 [================>.............] - ETA: 2:18 - loss: 7.5756"
       ]
      },
      {
       "output_type": "stream",
       "stream": "stdout",
       "text": [
        "\r",
        "299/500 [================>.............] - ETA: 2:17 - loss: 7.6003"
       ]
      },
      {
       "output_type": "stream",
       "stream": "stdout",
       "text": [
        "\r",
        "300/500 [=================>............] - ETA: 2:17 - loss: 7.5985"
       ]
      },
      {
       "output_type": "stream",
       "stream": "stdout",
       "text": [
        "\r",
        "301/500 [=================>............] - ETA: 2:16 - loss: 7.5941"
       ]
      },
      {
       "output_type": "stream",
       "stream": "stdout",
       "text": [
        "\r",
        "302/500 [=================>............] - ETA: 2:15 - loss: 7.5847"
       ]
      },
      {
       "output_type": "stream",
       "stream": "stdout",
       "text": [
        "\r",
        "303/500 [=================>............] - ETA: 2:15 - loss: 7.5754"
       ]
      },
      {
       "output_type": "stream",
       "stream": "stdout",
       "text": [
        "\r",
        "304/500 [=================>............] - ETA: 2:14 - loss: 7.5700"
       ]
      },
      {
       "output_type": "stream",
       "stream": "stdout",
       "text": [
        "\r",
        "305/500 [=================>............] - ETA: 2:13 - loss: 7.5584"
       ]
      },
      {
       "output_type": "stream",
       "stream": "stdout",
       "text": [
        "\r",
        "306/500 [=================>............] - ETA: 2:13 - loss: 7.5488"
       ]
      },
      {
       "output_type": "stream",
       "stream": "stdout",
       "text": [
        "\r",
        "307/500 [=================>............] - ETA: 2:12 - loss: 7.5497"
       ]
      },
      {
       "output_type": "stream",
       "stream": "stdout",
       "text": [
        "\r",
        "308/500 [=================>............] - ETA: 2:11 - loss: 7.5500"
       ]
      },
      {
       "output_type": "stream",
       "stream": "stdout",
       "text": [
        "\r",
        "309/500 [=================>............] - ETA: 2:11 - loss: 7.5694"
       ]
      },
      {
       "output_type": "stream",
       "stream": "stdout",
       "text": [
        "\r",
        "310/500 [=================>............] - ETA: 2:10 - loss: 7.5610"
       ]
      },
      {
       "output_type": "stream",
       "stream": "stdout",
       "text": [
        "\r",
        "311/500 [=================>............] - ETA: 2:09 - loss: 7.5500"
       ]
      },
      {
       "output_type": "stream",
       "stream": "stdout",
       "text": [
        "\r",
        "312/500 [=================>............] - ETA: 2:09 - loss: 7.5508"
       ]
      },
      {
       "output_type": "stream",
       "stream": "stdout",
       "text": [
        "\r",
        "313/500 [=================>............] - ETA: 2:08 - loss: 7.5613"
       ]
      },
      {
       "output_type": "stream",
       "stream": "stdout",
       "text": [
        "\r",
        "314/500 [=================>............] - ETA: 2:07 - loss: 7.5757"
       ]
      },
      {
       "output_type": "stream",
       "stream": "stdout",
       "text": [
        "\r",
        "315/500 [=================>............] - ETA: 2:06 - loss: 7.6014"
       ]
      },
      {
       "output_type": "stream",
       "stream": "stdout",
       "text": [
        "\r",
        "316/500 [=================>............] - ETA: 2:06 - loss: 7.5919"
       ]
      },
      {
       "output_type": "stream",
       "stream": "stdout",
       "text": [
        "\r",
        "317/500 [==================>...........] - ETA: 2:05 - loss: 7.5914"
       ]
      },
      {
       "output_type": "stream",
       "stream": "stdout",
       "text": [
        "\r",
        "318/500 [==================>...........] - ETA: 2:04 - loss: 7.6056"
       ]
      },
      {
       "output_type": "stream",
       "stream": "stdout",
       "text": [
        "\r",
        "319/500 [==================>...........] - ETA: 2:04 - loss: 7.5922"
       ]
      },
      {
       "output_type": "stream",
       "stream": "stdout",
       "text": [
        "\r",
        "320/500 [==================>...........] - ETA: 2:03 - loss: 7.5845"
       ]
      },
      {
       "output_type": "stream",
       "stream": "stdout",
       "text": [
        "\r",
        "321/500 [==================>...........] - ETA: 2:02 - loss: 7.5891"
       ]
      },
      {
       "output_type": "stream",
       "stream": "stdout",
       "text": [
        "\r",
        "322/500 [==================>...........] - ETA: 2:02 - loss: 7.5867"
       ]
      },
      {
       "output_type": "stream",
       "stream": "stdout",
       "text": [
        "\r",
        "323/500 [==================>...........] - ETA: 2:01 - loss: 7.5965"
       ]
      },
      {
       "output_type": "stream",
       "stream": "stdout",
       "text": [
        "\r",
        "324/500 [==================>...........] - ETA: 2:00 - loss: 7.5976"
       ]
      },
      {
       "output_type": "stream",
       "stream": "stdout",
       "text": [
        "\r",
        "325/500 [==================>...........] - ETA: 2:00 - loss: 7.5816"
       ]
      },
      {
       "output_type": "stream",
       "stream": "stdout",
       "text": [
        "\r",
        "326/500 [==================>...........] - ETA: 1:59 - loss: 7.5900"
       ]
      },
      {
       "output_type": "stream",
       "stream": "stdout",
       "text": [
        "\r",
        "327/500 [==================>...........] - ETA: 1:58 - loss: 7.5976"
       ]
      },
      {
       "output_type": "stream",
       "stream": "stdout",
       "text": [
        "\r",
        "328/500 [==================>...........] - ETA: 1:58 - loss: 7.6085"
       ]
      },
      {
       "output_type": "stream",
       "stream": "stdout",
       "text": [
        "\r",
        "329/500 [==================>...........] - ETA: 1:57 - loss: 7.6045"
       ]
      },
      {
       "output_type": "stream",
       "stream": "stdout",
       "text": [
        "\r",
        "330/500 [==================>...........] - ETA: 1:56 - loss: 7.6067"
       ]
      },
      {
       "output_type": "stream",
       "stream": "stdout",
       "text": [
        "\r",
        "331/500 [==================>...........] - ETA: 1:55 - loss: 7.6098"
       ]
      },
      {
       "output_type": "stream",
       "stream": "stdout",
       "text": [
        "\r",
        "332/500 [==================>...........] - ETA: 1:55 - loss: 7.6101"
       ]
      },
      {
       "output_type": "stream",
       "stream": "stdout",
       "text": [
        "\r",
        "333/500 [==================>...........] - ETA: 1:54 - loss: 7.6398"
       ]
      },
      {
       "output_type": "stream",
       "stream": "stdout",
       "text": [
        "\r",
        "334/500 [===================>..........] - ETA: 1:53 - loss: 7.6641"
       ]
      },
      {
       "output_type": "stream",
       "stream": "stdout",
       "text": [
        "\r",
        "335/500 [===================>..........] - ETA: 1:53 - loss: 7.6688"
       ]
      },
      {
       "output_type": "stream",
       "stream": "stdout",
       "text": [
        "\r",
        "336/500 [===================>..........] - ETA: 1:52 - loss: 7.6725"
       ]
      },
      {
       "output_type": "stream",
       "stream": "stdout",
       "text": [
        "\r",
        "337/500 [===================>..........] - ETA: 1:51 - loss: 7.6637"
       ]
      },
      {
       "output_type": "stream",
       "stream": "stdout",
       "text": [
        "\r",
        "338/500 [===================>..........] - ETA: 1:51 - loss: 7.6813"
       ]
      },
      {
       "output_type": "stream",
       "stream": "stdout",
       "text": [
        "\r",
        "339/500 [===================>..........] - ETA: 1:50 - loss: 7.6950"
       ]
      },
      {
       "output_type": "stream",
       "stream": "stdout",
       "text": [
        "\r",
        "340/500 [===================>..........] - ETA: 1:49 - loss: 7.7038"
       ]
      },
      {
       "output_type": "stream",
       "stream": "stdout",
       "text": [
        "\r",
        "341/500 [===================>..........] - ETA: 1:49 - loss: 7.7018"
       ]
      },
      {
       "output_type": "stream",
       "stream": "stdout",
       "text": [
        "\r",
        "342/500 [===================>..........] - ETA: 1:48 - loss: 7.6943"
       ]
      },
      {
       "output_type": "stream",
       "stream": "stdout",
       "text": [
        "\r",
        "343/500 [===================>..........] - ETA: 1:47 - loss: 7.6881"
       ]
      },
      {
       "output_type": "stream",
       "stream": "stdout",
       "text": [
        "\r",
        "344/500 [===================>..........] - ETA: 1:47 - loss: 7.6938"
       ]
      },
      {
       "output_type": "stream",
       "stream": "stdout",
       "text": [
        "\r",
        "345/500 [===================>..........] - ETA: 1:46 - loss: 7.6810"
       ]
      },
      {
       "output_type": "stream",
       "stream": "stdout",
       "text": [
        "\r",
        "346/500 [===================>..........] - ETA: 1:45 - loss: 7.6756"
       ]
      },
      {
       "output_type": "stream",
       "stream": "stdout",
       "text": [
        "\r",
        "347/500 [===================>..........] - ETA: 1:45 - loss: 7.6787"
       ]
      },
      {
       "output_type": "stream",
       "stream": "stdout",
       "text": [
        "\r",
        "348/500 [===================>..........] - ETA: 1:44 - loss: 7.6710"
       ]
      },
      {
       "output_type": "stream",
       "stream": "stdout",
       "text": [
        "\r",
        "349/500 [===================>..........] - ETA: 1:43 - loss: 7.6814"
       ]
      },
      {
       "output_type": "stream",
       "stream": "stdout",
       "text": [
        "\r",
        "350/500 [====================>.........] - ETA: 1:42 - loss: 7.6795"
       ]
      },
      {
       "output_type": "stream",
       "stream": "stdout",
       "text": [
        "\r",
        "351/500 [====================>.........] - ETA: 1:42 - loss: 7.6844"
       ]
      },
      {
       "output_type": "stream",
       "stream": "stdout",
       "text": [
        "\r",
        "352/500 [====================>.........] - ETA: 1:41 - loss: 7.6749"
       ]
      },
      {
       "output_type": "stream",
       "stream": "stdout",
       "text": [
        "\r",
        "353/500 [====================>.........] - ETA: 1:40 - loss: 7.6740"
       ]
      },
      {
       "output_type": "stream",
       "stream": "stdout",
       "text": [
        "\r",
        "354/500 [====================>.........] - ETA: 1:40 - loss: 7.6831"
       ]
      },
      {
       "output_type": "stream",
       "stream": "stdout",
       "text": [
        "\r",
        "355/500 [====================>.........] - ETA: 1:39 - loss: 7.6864"
       ]
      },
      {
       "output_type": "stream",
       "stream": "stdout",
       "text": [
        "\r",
        "356/500 [====================>.........] - ETA: 1:38 - loss: 7.6938"
       ]
      },
      {
       "output_type": "stream",
       "stream": "stdout",
       "text": [
        "\r",
        "357/500 [====================>.........] - ETA: 1:38 - loss: 7.6892"
       ]
      },
      {
       "output_type": "stream",
       "stream": "stdout",
       "text": [
        "\r",
        "358/500 [====================>.........] - ETA: 1:37 - loss: 7.6820"
       ]
      },
      {
       "output_type": "stream",
       "stream": "stdout",
       "text": [
        "\r",
        "359/500 [====================>.........] - ETA: 1:36 - loss: 7.6806"
       ]
      },
      {
       "output_type": "stream",
       "stream": "stdout",
       "text": [
        "\r",
        "360/500 [====================>.........] - ETA: 1:36 - loss: 7.6724"
       ]
      },
      {
       "output_type": "stream",
       "stream": "stdout",
       "text": [
        "\r",
        "361/500 [====================>.........] - ETA: 1:35 - loss: 7.6676"
       ]
      },
      {
       "output_type": "stream",
       "stream": "stdout",
       "text": [
        "\r",
        "362/500 [====================>.........] - ETA: 1:34 - loss: 7.6563"
       ]
      },
      {
       "output_type": "stream",
       "stream": "stdout",
       "text": [
        "\r",
        "363/500 [====================>.........] - ETA: 1:34 - loss: 7.6610"
       ]
      },
      {
       "output_type": "stream",
       "stream": "stdout",
       "text": [
        "\r",
        "364/500 [====================>.........] - ETA: 1:33 - loss: 7.6738"
       ]
      },
      {
       "output_type": "stream",
       "stream": "stdout",
       "text": [
        "\r",
        "365/500 [====================>.........] - ETA: 1:32 - loss: 7.6753"
       ]
      },
      {
       "output_type": "stream",
       "stream": "stdout",
       "text": [
        "\r",
        "366/500 [====================>.........] - ETA: 1:31 - loss: 7.6597"
       ]
      },
      {
       "output_type": "stream",
       "stream": "stdout",
       "text": [
        "\r",
        "367/500 [=====================>........] - ETA: 1:31 - loss: 7.6518"
       ]
      },
      {
       "output_type": "stream",
       "stream": "stdout",
       "text": [
        "\r",
        "368/500 [=====================>........] - ETA: 1:30 - loss: 7.6501"
       ]
      },
      {
       "output_type": "stream",
       "stream": "stdout",
       "text": [
        "\r",
        "369/500 [=====================>........] - ETA: 1:29 - loss: 7.6436"
       ]
      },
      {
       "output_type": "stream",
       "stream": "stdout",
       "text": [
        "\r",
        "370/500 [=====================>........] - ETA: 1:29 - loss: 7.6364"
       ]
      },
      {
       "output_type": "stream",
       "stream": "stdout",
       "text": [
        "\r",
        "371/500 [=====================>........] - ETA: 1:28 - loss: 7.6373"
       ]
      },
      {
       "output_type": "stream",
       "stream": "stdout",
       "text": [
        "\r",
        "372/500 [=====================>........] - ETA: 1:27 - loss: 7.6361"
       ]
      },
      {
       "output_type": "stream",
       "stream": "stdout",
       "text": [
        "\r",
        "373/500 [=====================>........] - ETA: 1:27 - loss: 7.6379"
       ]
      },
      {
       "output_type": "stream",
       "stream": "stdout",
       "text": [
        "\r",
        "374/500 [=====================>........] - ETA: 1:26 - loss: 7.6265"
       ]
      },
      {
       "output_type": "stream",
       "stream": "stdout",
       "text": [
        "\r",
        "375/500 [=====================>........] - ETA: 1:25 - loss: 7.6231"
       ]
      },
      {
       "output_type": "stream",
       "stream": "stdout",
       "text": [
        "\r",
        "376/500 [=====================>........] - ETA: 1:25 - loss: 7.6187"
       ]
      },
      {
       "output_type": "stream",
       "stream": "stdout",
       "text": [
        "\r",
        "377/500 [=====================>........] - ETA: 1:24 - loss: 7.6191"
       ]
      },
      {
       "output_type": "stream",
       "stream": "stdout",
       "text": [
        "\r",
        "378/500 [=====================>........] - ETA: 1:23 - loss: 7.6283"
       ]
      },
      {
       "output_type": "stream",
       "stream": "stdout",
       "text": [
        "\r",
        "379/500 [=====================>........] - ETA: 1:23 - loss: 7.6152"
       ]
      },
      {
       "output_type": "stream",
       "stream": "stdout",
       "text": [
        "\r",
        "380/500 [=====================>........] - ETA: 1:22 - loss: 7.6021"
       ]
      },
      {
       "output_type": "stream",
       "stream": "stdout",
       "text": [
        "\r",
        "381/500 [=====================>........] - ETA: 1:21 - loss: 7.6016"
       ]
      },
      {
       "output_type": "stream",
       "stream": "stdout",
       "text": [
        "\r",
        "382/500 [=====================>........] - ETA: 1:21 - loss: 7.6104"
       ]
      },
      {
       "output_type": "stream",
       "stream": "stdout",
       "text": [
        "\r",
        "383/500 [=====================>........] - ETA: 1:20 - loss: 7.6285"
       ]
      },
      {
       "output_type": "stream",
       "stream": "stdout",
       "text": [
        "\r",
        "384/500 [======================>.......] - ETA: 1:19 - loss: 7.6298"
       ]
      },
      {
       "output_type": "stream",
       "stream": "stdout",
       "text": [
        "\r",
        "385/500 [======================>.......] - ETA: 1:18 - loss: 7.6271"
       ]
      },
      {
       "output_type": "stream",
       "stream": "stdout",
       "text": [
        "\r",
        "386/500 [======================>.......] - ETA: 1:18 - loss: 7.6276"
       ]
      },
      {
       "output_type": "stream",
       "stream": "stdout",
       "text": [
        "\r",
        "387/500 [======================>.......] - ETA: 1:17 - loss: 7.6457"
       ]
      },
      {
       "output_type": "stream",
       "stream": "stdout",
       "text": [
        "\r",
        "388/500 [======================>.......] - ETA: 1:16 - loss: 7.6483"
       ]
      },
      {
       "output_type": "stream",
       "stream": "stdout",
       "text": [
        "\r",
        "389/500 [======================>.......] - ETA: 1:16 - loss: 7.6497"
       ]
      },
      {
       "output_type": "stream",
       "stream": "stdout",
       "text": [
        "\r",
        "390/500 [======================>.......] - ETA: 1:15 - loss: 7.6530"
       ]
      },
      {
       "output_type": "stream",
       "stream": "stdout",
       "text": [
        "\r",
        "391/500 [======================>.......] - ETA: 1:14 - loss: 7.6528"
       ]
      },
      {
       "output_type": "stream",
       "stream": "stdout",
       "text": [
        "\r",
        "392/500 [======================>.......] - ETA: 1:14 - loss: 7.6690"
       ]
      },
      {
       "output_type": "stream",
       "stream": "stdout",
       "text": [
        "\r",
        "393/500 [======================>.......] - ETA: 1:13 - loss: 7.6568"
       ]
      },
      {
       "output_type": "stream",
       "stream": "stdout",
       "text": [
        "\r",
        "394/500 [======================>.......] - ETA: 1:12 - loss: 7.6559"
       ]
      },
      {
       "output_type": "stream",
       "stream": "stdout",
       "text": [
        "\r",
        "395/500 [======================>.......] - ETA: 1:12 - loss: 7.6461"
       ]
      },
      {
       "output_type": "stream",
       "stream": "stdout",
       "text": [
        "\r",
        "396/500 [======================>.......] - ETA: 1:11 - loss: 7.6383"
       ]
      },
      {
       "output_type": "stream",
       "stream": "stdout",
       "text": [
        "\r",
        "397/500 [======================>.......] - ETA: 1:10 - loss: 7.6280"
       ]
      },
      {
       "output_type": "stream",
       "stream": "stdout",
       "text": [
        "\r",
        "398/500 [======================>.......] - ETA: 1:10 - loss: 7.6141"
       ]
      },
      {
       "output_type": "stream",
       "stream": "stdout",
       "text": [
        "\r",
        "399/500 [======================>.......] - ETA: 1:09 - loss: 7.6160"
       ]
      },
      {
       "output_type": "stream",
       "stream": "stdout",
       "text": [
        "\r",
        "400/500 [=======================>......] - ETA: 1:08 - loss: 7.6196"
       ]
      },
      {
       "output_type": "stream",
       "stream": "stdout",
       "text": [
        "\r",
        "401/500 [=======================>......] - ETA: 1:07 - loss: 7.6485"
       ]
      },
      {
       "output_type": "stream",
       "stream": "stdout",
       "text": [
        "\r",
        "402/500 [=======================>......] - ETA: 1:07 - loss: 7.6423"
       ]
      },
      {
       "output_type": "stream",
       "stream": "stdout",
       "text": [
        "\r",
        "403/500 [=======================>......] - ETA: 1:06 - loss: 7.6466"
       ]
      },
      {
       "output_type": "stream",
       "stream": "stdout",
       "text": [
        "\r",
        "404/500 [=======================>......] - ETA: 1:05 - loss: 7.6347"
       ]
      },
      {
       "output_type": "stream",
       "stream": "stdout",
       "text": [
        "\r",
        "405/500 [=======================>......] - ETA: 1:05 - loss: 7.6431"
       ]
      },
      {
       "output_type": "stream",
       "stream": "stdout",
       "text": [
        "\r",
        "406/500 [=======================>......] - ETA: 1:04 - loss: 7.6421"
       ]
      },
      {
       "output_type": "stream",
       "stream": "stdout",
       "text": [
        "\r",
        "407/500 [=======================>......] - ETA: 1:03 - loss: 7.6560"
       ]
      },
      {
       "output_type": "stream",
       "stream": "stdout",
       "text": [
        "\r",
        "408/500 [=======================>......] - ETA: 1:03 - loss: 7.6779"
       ]
      },
      {
       "output_type": "stream",
       "stream": "stdout",
       "text": [
        "\r",
        "409/500 [=======================>......] - ETA: 1:02 - loss: 7.6767"
       ]
      },
      {
       "output_type": "stream",
       "stream": "stdout",
       "text": [
        "\r",
        "410/500 [=======================>......] - ETA: 1:01 - loss: 7.6688"
       ]
      },
      {
       "output_type": "stream",
       "stream": "stdout",
       "text": [
        "\r",
        "411/500 [=======================>......] - ETA: 1:01 - loss: 7.6715"
       ]
      },
      {
       "output_type": "stream",
       "stream": "stdout",
       "text": [
        "\r",
        "412/500 [=======================>......] - ETA: 1:00 - loss: 7.6786"
       ]
      },
      {
       "output_type": "stream",
       "stream": "stdout",
       "text": [
        "\r",
        "413/500 [=======================>......] - ETA: 59s - loss: 7.6888 "
       ]
      },
      {
       "output_type": "stream",
       "stream": "stdout",
       "text": [
        "\r",
        "414/500 [=======================>......] - ETA: 59s - loss: 7.6911"
       ]
      },
      {
       "output_type": "stream",
       "stream": "stdout",
       "text": [
        "\r",
        "415/500 [=======================>......] - ETA: 58s - loss: 7.6933"
       ]
      },
      {
       "output_type": "stream",
       "stream": "stdout",
       "text": [
        "\r",
        "416/500 [=======================>......] - ETA: 57s - loss: 7.6913"
       ]
      },
      {
       "output_type": "stream",
       "stream": "stdout",
       "text": [
        "\r",
        "417/500 [========================>.....] - ETA: 56s - loss: 7.6966"
       ]
      },
      {
       "output_type": "stream",
       "stream": "stdout",
       "text": [
        "\r",
        "418/500 [========================>.....] - ETA: 56s - loss: 7.6946"
       ]
      },
      {
       "output_type": "stream",
       "stream": "stdout",
       "text": [
        "\r",
        "419/500 [========================>.....] - ETA: 55s - loss: 7.6928"
       ]
      },
      {
       "output_type": "stream",
       "stream": "stdout",
       "text": [
        "\r",
        "420/500 [========================>.....] - ETA: 54s - loss: 7.6847"
       ]
      },
      {
       "output_type": "stream",
       "stream": "stdout",
       "text": [
        "\r",
        "421/500 [========================>.....] - ETA: 54s - loss: 7.6716"
       ]
      },
      {
       "output_type": "stream",
       "stream": "stdout",
       "text": [
        "\r",
        "422/500 [========================>.....] - ETA: 53s - loss: 7.6638"
       ]
      },
      {
       "output_type": "stream",
       "stream": "stdout",
       "text": [
        "\r",
        "423/500 [========================>.....] - ETA: 52s - loss: 7.6578"
       ]
      },
      {
       "output_type": "stream",
       "stream": "stdout",
       "text": [
        "\r",
        "424/500 [========================>.....] - ETA: 52s - loss: 7.6555"
       ]
      },
      {
       "output_type": "stream",
       "stream": "stdout",
       "text": [
        "\r",
        "425/500 [========================>.....] - ETA: 51s - loss: 7.6546"
       ]
      },
      {
       "output_type": "stream",
       "stream": "stdout",
       "text": [
        "\r",
        "426/500 [========================>.....] - ETA: 50s - loss: 7.6591"
       ]
      },
      {
       "output_type": "stream",
       "stream": "stdout",
       "text": [
        "\r",
        "427/500 [========================>.....] - ETA: 50s - loss: 7.6616"
       ]
      },
      {
       "output_type": "stream",
       "stream": "stdout",
       "text": [
        "\r",
        "428/500 [========================>.....] - ETA: 49s - loss: 7.6611"
       ]
      },
      {
       "output_type": "stream",
       "stream": "stdout",
       "text": [
        "\r",
        "429/500 [========================>.....] - ETA: 48s - loss: 7.6623"
       ]
      },
      {
       "output_type": "stream",
       "stream": "stdout",
       "text": [
        "\r",
        "430/500 [========================>.....] - ETA: 48s - loss: 7.6653"
       ]
      },
      {
       "output_type": "stream",
       "stream": "stdout",
       "text": [
        "\r",
        "431/500 [========================>.....] - ETA: 47s - loss: 7.6596"
       ]
      },
      {
       "output_type": "stream",
       "stream": "stdout",
       "text": [
        "\r",
        "432/500 [========================>.....] - ETA: 46s - loss: 7.6566"
       ]
      },
      {
       "output_type": "stream",
       "stream": "stdout",
       "text": [
        "\r",
        "433/500 [========================>.....] - ETA: 45s - loss: 7.6647"
       ]
      },
      {
       "output_type": "stream",
       "stream": "stdout",
       "text": [
        "\r",
        "434/500 [=========================>....] - ETA: 45s - loss: 7.6624"
       ]
      },
      {
       "output_type": "stream",
       "stream": "stdout",
       "text": [
        "\r",
        "435/500 [=========================>....] - ETA: 44s - loss: 7.6717"
       ]
      },
      {
       "output_type": "stream",
       "stream": "stdout",
       "text": [
        "\r",
        "436/500 [=========================>....] - ETA: 43s - loss: 7.6725"
       ]
      },
      {
       "output_type": "stream",
       "stream": "stdout",
       "text": [
        "\r",
        "437/500 [=========================>....] - ETA: 43s - loss: 7.6618"
       ]
      },
      {
       "output_type": "stream",
       "stream": "stdout",
       "text": [
        "\r",
        "438/500 [=========================>....] - ETA: 42s - loss: 7.6652"
       ]
      },
      {
       "output_type": "stream",
       "stream": "stdout",
       "text": [
        "\r",
        "439/500 [=========================>....] - ETA: 41s - loss: 7.6733"
       ]
      },
      {
       "output_type": "stream",
       "stream": "stdout",
       "text": [
        "\r",
        "440/500 [=========================>....] - ETA: 41s - loss: 7.6671"
       ]
      },
      {
       "output_type": "stream",
       "stream": "stdout",
       "text": [
        "\r",
        "441/500 [=========================>....] - ETA: 40s - loss: 7.6554"
       ]
      },
      {
       "output_type": "stream",
       "stream": "stdout",
       "text": [
        "\r",
        "442/500 [=========================>....] - ETA: 39s - loss: 7.6461"
       ]
      },
      {
       "output_type": "stream",
       "stream": "stdout",
       "text": [
        "\r",
        "443/500 [=========================>....] - ETA: 39s - loss: 7.6427"
       ]
      },
      {
       "output_type": "stream",
       "stream": "stdout",
       "text": [
        "\r",
        "444/500 [=========================>....] - ETA: 38s - loss: 7.6400"
       ]
      },
      {
       "output_type": "stream",
       "stream": "stdout",
       "text": [
        "\r",
        "445/500 [=========================>....] - ETA: 37s - loss: 7.6296"
       ]
      },
      {
       "output_type": "stream",
       "stream": "stdout",
       "text": [
        "\r",
        "446/500 [=========================>....] - ETA: 37s - loss: 7.6246"
       ]
      },
      {
       "output_type": "stream",
       "stream": "stdout",
       "text": [
        "\r",
        "447/500 [=========================>....] - ETA: 36s - loss: 7.6156"
       ]
      },
      {
       "output_type": "stream",
       "stream": "stdout",
       "text": [
        "\r",
        "448/500 [=========================>....] - ETA: 35s - loss: 7.6020"
       ]
      },
      {
       "output_type": "stream",
       "stream": "stdout",
       "text": [
        "\r",
        "449/500 [=========================>....] - ETA: 34s - loss: 7.6040"
       ]
      },
      {
       "output_type": "stream",
       "stream": "stdout",
       "text": [
        "\r",
        "450/500 [==========================>...] - ETA: 34s - loss: 7.5916"
       ]
      },
      {
       "output_type": "stream",
       "stream": "stdout",
       "text": [
        "\r",
        "451/500 [==========================>...] - ETA: 33s - loss: 7.5906"
       ]
      },
      {
       "output_type": "stream",
       "stream": "stdout",
       "text": [
        "\r",
        "452/500 [==========================>...] - ETA: 32s - loss: 7.5853"
       ]
      },
      {
       "output_type": "stream",
       "stream": "stdout",
       "text": [
        "\r",
        "453/500 [==========================>...] - ETA: 32s - loss: 7.6028"
       ]
      },
      {
       "output_type": "stream",
       "stream": "stdout",
       "text": [
        "\r",
        "454/500 [==========================>...] - ETA: 31s - loss: 7.5920"
       ]
      },
      {
       "output_type": "stream",
       "stream": "stdout",
       "text": [
        "\r",
        "455/500 [==========================>...] - ETA: 30s - loss: 7.5981"
       ]
      },
      {
       "output_type": "stream",
       "stream": "stdout",
       "text": [
        "\r",
        "456/500 [==========================>...] - ETA: 30s - loss: 7.6112"
       ]
      },
      {
       "output_type": "stream",
       "stream": "stdout",
       "text": [
        "\r",
        "457/500 [==========================>...] - ETA: 29s - loss: 7.6048"
       ]
      },
      {
       "output_type": "stream",
       "stream": "stdout",
       "text": [
        "\r",
        "458/500 [==========================>...] - ETA: 28s - loss: 7.6053"
       ]
      },
      {
       "output_type": "stream",
       "stream": "stdout",
       "text": [
        "\r",
        "459/500 [==========================>...] - ETA: 28s - loss: 7.6051"
       ]
      },
      {
       "output_type": "stream",
       "stream": "stdout",
       "text": [
        "\r",
        "460/500 [==========================>...] - ETA: 27s - loss: 7.5988"
       ]
      },
      {
       "output_type": "stream",
       "stream": "stdout",
       "text": [
        "\r",
        "461/500 [==========================>...] - ETA: 26s - loss: 7.5988"
       ]
      },
      {
       "output_type": "stream",
       "stream": "stdout",
       "text": [
        "\r",
        "462/500 [==========================>...] - ETA: 26s - loss: 7.5944"
       ]
      },
      {
       "output_type": "stream",
       "stream": "stdout",
       "text": [
        "\r",
        "463/500 [==========================>...] - ETA: 25s - loss: 7.5891"
       ]
      },
      {
       "output_type": "stream",
       "stream": "stdout",
       "text": [
        "\r",
        "464/500 [==========================>...] - ETA: 24s - loss: 7.5987"
       ]
      },
      {
       "output_type": "stream",
       "stream": "stdout",
       "text": [
        "\r",
        "465/500 [==========================>...] - ETA: 24s - loss: 7.5935"
       ]
      },
      {
       "output_type": "stream",
       "stream": "stdout",
       "text": [
        "\r",
        "466/500 [==========================>...] - ETA: 23s - loss: 7.5952"
       ]
      },
      {
       "output_type": "stream",
       "stream": "stdout",
       "text": [
        "\r",
        "467/500 [===========================>..] - ETA: 22s - loss: 7.5995"
       ]
      },
      {
       "output_type": "stream",
       "stream": "stdout",
       "text": [
        "\r",
        "468/500 [===========================>..] - ETA: 21s - loss: 7.5947"
       ]
      },
      {
       "output_type": "stream",
       "stream": "stdout",
       "text": [
        "\r",
        "469/500 [===========================>..] - ETA: 21s - loss: 7.5892"
       ]
      },
      {
       "output_type": "stream",
       "stream": "stdout",
       "text": [
        "\r",
        "470/500 [===========================>..] - ETA: 20s - loss: 7.5890"
       ]
      },
      {
       "output_type": "stream",
       "stream": "stdout",
       "text": [
        "\r",
        "471/500 [===========================>..] - ETA: 19s - loss: 7.5989"
       ]
      },
      {
       "output_type": "stream",
       "stream": "stdout",
       "text": [
        "\r",
        "472/500 [===========================>..] - ETA: 19s - loss: 7.5988"
       ]
      },
      {
       "output_type": "stream",
       "stream": "stdout",
       "text": [
        "\r",
        "473/500 [===========================>..] - ETA: 18s - loss: 7.5933"
       ]
      },
      {
       "output_type": "stream",
       "stream": "stdout",
       "text": [
        "\r",
        "474/500 [===========================>..] - ETA: 17s - loss: 7.6136"
       ]
      },
      {
       "output_type": "stream",
       "stream": "stdout",
       "text": [
        "\r",
        "475/500 [===========================>..] - ETA: 17s - loss: 7.6041"
       ]
      },
      {
       "output_type": "stream",
       "stream": "stdout",
       "text": [
        "\r",
        "476/500 [===========================>..] - ETA: 16s - loss: 7.5999"
       ]
      },
      {
       "output_type": "stream",
       "stream": "stdout",
       "text": [
        "\r",
        "477/500 [===========================>..] - ETA: 15s - loss: 7.6061"
       ]
      },
      {
       "output_type": "stream",
       "stream": "stdout",
       "text": [
        "\r",
        "478/500 [===========================>..] - ETA: 15s - loss: 7.6084"
       ]
      },
      {
       "output_type": "stream",
       "stream": "stdout",
       "text": [
        "\r",
        "479/500 [===========================>..] - ETA: 14s - loss: 7.6070"
       ]
      },
      {
       "output_type": "stream",
       "stream": "stdout",
       "text": [
        "\r",
        "480/500 [===========================>..] - ETA: 13s - loss: 7.6026"
       ]
      },
      {
       "output_type": "stream",
       "stream": "stdout",
       "text": [
        "\r",
        "481/500 [===========================>..] - ETA: 13s - loss: 7.6148"
       ]
      },
      {
       "output_type": "stream",
       "stream": "stdout",
       "text": [
        "\r",
        "482/500 [===========================>..] - ETA: 12s - loss: 7.6073"
       ]
      },
      {
       "output_type": "stream",
       "stream": "stdout",
       "text": [
        "\r",
        "483/500 [===========================>..] - ETA: 11s - loss: 7.6014"
       ]
      },
      {
       "output_type": "stream",
       "stream": "stdout",
       "text": [
        "\r",
        "484/500 [============================>.] - ETA: 10s - loss: 7.6032"
       ]
      },
      {
       "output_type": "stream",
       "stream": "stdout",
       "text": [
        "\r",
        "485/500 [============================>.] - ETA: 10s - loss: 7.6202"
       ]
      },
      {
       "output_type": "stream",
       "stream": "stdout",
       "text": [
        "\r",
        "486/500 [============================>.] - ETA: 9s - loss: 7.6290 "
       ]
      },
      {
       "output_type": "stream",
       "stream": "stdout",
       "text": [
        "\r",
        "487/500 [============================>.] - ETA: 8s - loss: 7.6258"
       ]
      },
      {
       "output_type": "stream",
       "stream": "stdout",
       "text": [
        "\r",
        "488/500 [============================>.] - ETA: 8s - loss: 7.6236"
       ]
      },
      {
       "output_type": "stream",
       "stream": "stdout",
       "text": [
        "\r",
        "489/500 [============================>.] - ETA: 7s - loss: 7.6233"
       ]
      },
      {
       "output_type": "stream",
       "stream": "stdout",
       "text": [
        "\r",
        "490/500 [============================>.] - ETA: 6s - loss: 7.6185"
       ]
      },
      {
       "output_type": "stream",
       "stream": "stdout",
       "text": [
        "\r",
        "491/500 [============================>.] - ETA: 6s - loss: 7.6069"
       ]
      },
      {
       "output_type": "stream",
       "stream": "stdout",
       "text": [
        "\r",
        "492/500 [============================>.] - ETA: 5s - loss: 7.6002"
       ]
      },
      {
       "output_type": "stream",
       "stream": "stdout",
       "text": [
        "\r",
        "493/500 [============================>.] - ETA: 4s - loss: 7.6015"
       ]
      },
      {
       "output_type": "stream",
       "stream": "stdout",
       "text": [
        "\r",
        "494/500 [============================>.] - ETA: 4s - loss: 7.5955"
       ]
      },
      {
       "output_type": "stream",
       "stream": "stdout",
       "text": [
        "\r",
        "495/500 [============================>.] - ETA: 3s - loss: 7.5963"
       ]
      },
      {
       "output_type": "stream",
       "stream": "stdout",
       "text": [
        "\r",
        "496/500 [============================>.] - ETA: 2s - loss: 7.5992"
       ]
      },
      {
       "output_type": "stream",
       "stream": "stdout",
       "text": [
        "\r",
        "497/500 [============================>.] - ETA: 2s - loss: 7.5955"
       ]
      },
      {
       "output_type": "stream",
       "stream": "stdout",
       "text": [
        "\r",
        "498/500 [============================>.] - ETA: 1s - loss: 7.5974"
       ]
      },
      {
       "output_type": "stream",
       "stream": "stdout",
       "text": [
        "\r",
        "499/500 [============================>.] - ETA: 0s - loss: 7.6027"
       ]
      },
      {
       "output_type": "stream",
       "stream": "stdout",
       "text": [
        "\r",
        "500/500 [==============================] - 367s 734ms/step - loss: 7.5956 - val_loss: 6.0569\n"
       ]
      },
      {
       "output_type": "stream",
       "stream": "stdout",
       "text": [
        "\n",
        "Epoch 00002: val_loss improved from 8.01848 to 6.05694, saving model to models2/resnet152/2020-01-11-22:31:49.hdf5\n",
        "Epoch 3/10"
       ]
      },
      {
       "output_type": "stream",
       "stream": "stdout",
       "text": [
        "\n",
        "\r"
       ]
      },
      {
       "output_type": "stream",
       "stream": "stdout",
       "text": [
        "  1/500 [..............................] - ETA: 5:41 - loss: 4.3102"
       ]
      },
      {
       "output_type": "stream",
       "stream": "stdout",
       "text": [
        "\r",
        "  2/500 [..............................] - ETA: 5:39 - loss: 4.6501"
       ]
      },
      {
       "output_type": "stream",
       "stream": "stdout",
       "text": [
        "\r",
        "  3/500 [..............................] - ETA: 5:37 - loss: 4.5280"
       ]
      },
      {
       "output_type": "stream",
       "stream": "stdout",
       "text": [
        "\r",
        "  4/500 [..............................] - ETA: 5:37 - loss: 4.6760"
       ]
      },
      {
       "output_type": "stream",
       "stream": "stdout",
       "text": [
        "\r",
        "  5/500 [..............................] - ETA: 5:37 - loss: 5.9564"
       ]
      },
      {
       "output_type": "stream",
       "stream": "stdout",
       "text": [
        "\r",
        "  6/500 [..............................] - ETA: 5:35 - loss: 5.8913"
       ]
      },
      {
       "output_type": "stream",
       "stream": "stdout",
       "text": [
        "\r",
        "  7/500 [..............................] - ETA: 5:34 - loss: 6.8913"
       ]
      },
      {
       "output_type": "stream",
       "stream": "stdout",
       "text": [
        "\r",
        "  8/500 [..............................] - ETA: 5:33 - loss: 7.0939"
       ]
      },
      {
       "output_type": "stream",
       "stream": "stdout",
       "text": [
        "\r",
        "  9/500 [..............................] - ETA: 5:32 - loss: 6.6535"
       ]
      },
      {
       "output_type": "stream",
       "stream": "stdout",
       "text": [
        "\r",
        " 10/500 [..............................] - ETA: 5:31 - loss: 6.8605"
       ]
      },
      {
       "output_type": "stream",
       "stream": "stdout",
       "text": [
        "\r",
        " 11/500 [..............................] - ETA: 5:30 - loss: 6.7383"
       ]
      },
      {
       "output_type": "stream",
       "stream": "stdout",
       "text": [
        "\r",
        " 12/500 [..............................] - ETA: 5:29 - loss: 6.8964"
       ]
      },
      {
       "output_type": "stream",
       "stream": "stdout",
       "text": [
        "\r",
        " 13/500 [..............................] - ETA: 5:28 - loss: 7.3770"
       ]
      },
      {
       "output_type": "stream",
       "stream": "stdout",
       "text": [
        "\r",
        " 14/500 [..............................] - ETA: 5:27 - loss: 7.2035"
       ]
      },
      {
       "output_type": "stream",
       "stream": "stdout",
       "text": [
        "\r",
        " 15/500 [..............................] - ETA: 5:27 - loss: 7.3019"
       ]
      },
      {
       "output_type": "stream",
       "stream": "stdout",
       "text": [
        "\r",
        " 16/500 [..............................] - ETA: 5:26 - loss: 7.2352"
       ]
      },
      {
       "output_type": "stream",
       "stream": "stdout",
       "text": [
        "\r",
        " 17/500 [>.............................] - ETA: 5:25 - loss: 7.3217"
       ]
      },
      {
       "output_type": "stream",
       "stream": "stdout",
       "text": [
        "\r",
        " 18/500 [>.............................] - ETA: 5:25 - loss: 7.3606"
       ]
      },
      {
       "output_type": "stream",
       "stream": "stdout",
       "text": [
        "\r",
        " 19/500 [>.............................] - ETA: 5:24 - loss: 7.6773"
       ]
      },
      {
       "output_type": "stream",
       "stream": "stdout",
       "text": [
        "\r",
        " 20/500 [>.............................] - ETA: 5:23 - loss: 7.6038"
       ]
      },
      {
       "output_type": "stream",
       "stream": "stdout",
       "text": [
        "\r",
        " 21/500 [>.............................] - ETA: 5:23 - loss: 7.6146"
       ]
      },
      {
       "output_type": "stream",
       "stream": "stdout",
       "text": [
        "\r",
        " 22/500 [>.............................] - ETA: 5:22 - loss: 7.6956"
       ]
      },
      {
       "output_type": "stream",
       "stream": "stdout",
       "text": [
        "\r",
        " 23/500 [>.............................] - ETA: 5:21 - loss: 7.6994"
       ]
      },
      {
       "output_type": "stream",
       "stream": "stdout",
       "text": [
        "\r",
        " 24/500 [>.............................] - ETA: 5:21 - loss: 7.9222"
       ]
      },
      {
       "output_type": "stream",
       "stream": "stdout",
       "text": [
        "\r",
        " 25/500 [>.............................] - ETA: 5:20 - loss: 8.0739"
       ]
      },
      {
       "output_type": "stream",
       "stream": "stdout",
       "text": [
        "\r",
        " 26/500 [>.............................] - ETA: 5:19 - loss: 8.0344"
       ]
      },
      {
       "output_type": "stream",
       "stream": "stdout",
       "text": [
        "\r",
        " 27/500 [>.............................] - ETA: 5:19 - loss: 7.9082"
       ]
      },
      {
       "output_type": "stream",
       "stream": "stdout",
       "text": [
        "\r",
        " 28/500 [>.............................] - ETA: 5:19 - loss: 7.8509"
       ]
      },
      {
       "output_type": "stream",
       "stream": "stdout",
       "text": [
        "\r",
        " 29/500 [>.............................] - ETA: 5:18 - loss: 7.9679"
       ]
      },
      {
       "output_type": "stream",
       "stream": "stdout",
       "text": [
        "\r",
        " 30/500 [>.............................] - ETA: 5:18 - loss: 7.8334"
       ]
      },
      {
       "output_type": "stream",
       "stream": "stdout",
       "text": [
        "\r",
        " 31/500 [>.............................] - ETA: 5:18 - loss: 7.9104"
       ]
      },
      {
       "output_type": "stream",
       "stream": "stdout",
       "text": [
        "\r",
        " 32/500 [>.............................] - ETA: 5:18 - loss: 8.1927"
       ]
      },
      {
       "output_type": "stream",
       "stream": "stdout",
       "text": [
        "\r",
        " 33/500 [>.............................] - ETA: 5:17 - loss: 8.0811"
       ]
      },
      {
       "output_type": "stream",
       "stream": "stdout",
       "text": [
        "\r",
        " 34/500 [=>............................] - ETA: 5:17 - loss: 8.0702"
       ]
      },
      {
       "output_type": "stream",
       "stream": "stdout",
       "text": [
        "\r",
        " 35/500 [=>............................] - ETA: 5:16 - loss: 7.9276"
       ]
      },
      {
       "output_type": "stream",
       "stream": "stdout",
       "text": [
        "\r",
        " 36/500 [=>............................] - ETA: 5:16 - loss: 7.9342"
       ]
      },
      {
       "output_type": "stream",
       "stream": "stdout",
       "text": [
        "\r",
        " 37/500 [=>............................] - ETA: 5:16 - loss: 8.0990"
       ]
      },
      {
       "output_type": "stream",
       "stream": "stdout",
       "text": [
        "\r",
        " 38/500 [=>............................] - ETA: 5:15 - loss: 7.9937"
       ]
      },
      {
       "output_type": "stream",
       "stream": "stdout",
       "text": [
        "\r",
        " 39/500 [=>............................] - ETA: 5:15 - loss: 7.9097"
       ]
      },
      {
       "output_type": "stream",
       "stream": "stdout",
       "text": [
        "\r",
        " 40/500 [=>............................] - ETA: 5:14 - loss: 7.8113"
       ]
      },
      {
       "output_type": "stream",
       "stream": "stdout",
       "text": [
        "\r",
        " 41/500 [=>............................] - ETA: 5:13 - loss: 7.7730"
       ]
      },
      {
       "output_type": "stream",
       "stream": "stdout",
       "text": [
        "\r",
        " 42/500 [=>............................] - ETA: 5:13 - loss: 7.7821"
       ]
      },
      {
       "output_type": "stream",
       "stream": "stdout",
       "text": [
        "\r",
        " 43/500 [=>............................] - ETA: 5:12 - loss: 7.7584"
       ]
      },
      {
       "output_type": "stream",
       "stream": "stdout",
       "text": [
        "\r",
        " 44/500 [=>............................] - ETA: 5:11 - loss: 7.8611"
       ]
      },
      {
       "output_type": "stream",
       "stream": "stdout",
       "text": [
        "\r",
        " 45/500 [=>............................] - ETA: 5:11 - loss: 7.8380"
       ]
      },
      {
       "output_type": "stream",
       "stream": "stdout",
       "text": [
        "\r",
        " 46/500 [=>............................] - ETA: 5:10 - loss: 7.9846"
       ]
      },
      {
       "output_type": "stream",
       "stream": "stdout",
       "text": [
        "\r",
        " 47/500 [=>............................] - ETA: 5:09 - loss: 7.9342"
       ]
      },
      {
       "output_type": "stream",
       "stream": "stdout",
       "text": [
        "\r",
        " 48/500 [=>............................] - ETA: 5:09 - loss: 7.8596"
       ]
      },
      {
       "output_type": "stream",
       "stream": "stdout",
       "text": [
        "\r",
        " 49/500 [=>............................] - ETA: 5:08 - loss: 7.9654"
       ]
      },
      {
       "output_type": "stream",
       "stream": "stdout",
       "text": [
        "\r",
        " 50/500 [==>...........................] - ETA: 5:08 - loss: 7.9318"
       ]
      },
      {
       "output_type": "stream",
       "stream": "stdout",
       "text": [
        "\r",
        " 51/500 [==>...........................] - ETA: 5:07 - loss: 7.8428"
       ]
      },
      {
       "output_type": "stream",
       "stream": "stdout",
       "text": [
        "\r",
        " 52/500 [==>...........................] - ETA: 5:06 - loss: 7.8114"
       ]
      },
      {
       "output_type": "stream",
       "stream": "stdout",
       "text": [
        "\r",
        " 53/500 [==>...........................] - ETA: 5:06 - loss: 7.7527"
       ]
      },
      {
       "output_type": "stream",
       "stream": "stdout",
       "text": [
        "\r",
        " 54/500 [==>...........................] - ETA: 5:05 - loss: 7.6736"
       ]
      },
      {
       "output_type": "stream",
       "stream": "stdout",
       "text": [
        "\r",
        " 55/500 [==>...........................] - ETA: 5:05 - loss: 7.6161"
       ]
      },
      {
       "output_type": "stream",
       "stream": "stdout",
       "text": [
        "\r",
        " 56/500 [==>...........................] - ETA: 5:04 - loss: 7.6221"
       ]
      },
      {
       "output_type": "stream",
       "stream": "stdout",
       "text": [
        "\r",
        " 57/500 [==>...........................] - ETA: 5:04 - loss: 7.6437"
       ]
      },
      {
       "output_type": "stream",
       "stream": "stdout",
       "text": [
        "\r",
        " 58/500 [==>...........................] - ETA: 5:03 - loss: 7.5924"
       ]
      },
      {
       "output_type": "stream",
       "stream": "stdout",
       "text": [
        "\r",
        " 59/500 [==>...........................] - ETA: 5:03 - loss: 7.5360"
       ]
      },
      {
       "output_type": "stream",
       "stream": "stdout",
       "text": [
        "\r",
        " 60/500 [==>...........................] - ETA: 5:02 - loss: 7.4759"
       ]
      },
      {
       "output_type": "stream",
       "stream": "stdout",
       "text": [
        "\r",
        " 61/500 [==>...........................] - ETA: 5:02 - loss: 7.4904"
       ]
      },
      {
       "output_type": "stream",
       "stream": "stdout",
       "text": [
        "\r",
        " 62/500 [==>...........................] - ETA: 5:01 - loss: 7.5624"
       ]
      },
      {
       "output_type": "stream",
       "stream": "stdout",
       "text": [
        "\r",
        " 63/500 [==>...........................] - ETA: 5:00 - loss: 7.4837"
       ]
      },
      {
       "output_type": "stream",
       "stream": "stdout",
       "text": [
        "\r",
        " 64/500 [==>...........................] - ETA: 5:00 - loss: 7.5340"
       ]
      },
      {
       "output_type": "stream",
       "stream": "stdout",
       "text": [
        "\r",
        " 65/500 [==>...........................] - ETA: 4:59 - loss: 7.5562"
       ]
      },
      {
       "output_type": "stream",
       "stream": "stdout",
       "text": [
        "\r",
        " 66/500 [==>...........................] - ETA: 4:58 - loss: 7.5323"
       ]
      },
      {
       "output_type": "stream",
       "stream": "stdout",
       "text": [
        "\r",
        " 67/500 [===>..........................] - ETA: 4:58 - loss: 7.5399"
       ]
      },
      {
       "output_type": "stream",
       "stream": "stdout",
       "text": [
        "\r",
        " 68/500 [===>..........................] - ETA: 4:57 - loss: 7.4979"
       ]
      },
      {
       "output_type": "stream",
       "stream": "stdout",
       "text": [
        "\r",
        " 69/500 [===>..........................] - ETA: 4:56 - loss: 7.6007"
       ]
      },
      {
       "output_type": "stream",
       "stream": "stdout",
       "text": [
        "\r",
        " 70/500 [===>..........................] - ETA: 4:56 - loss: 7.5793"
       ]
      },
      {
       "output_type": "stream",
       "stream": "stdout",
       "text": [
        "\r",
        " 71/500 [===>..........................] - ETA: 4:55 - loss: 7.6062"
       ]
      },
      {
       "output_type": "stream",
       "stream": "stdout",
       "text": [
        "\r",
        " 72/500 [===>..........................] - ETA: 4:54 - loss: 7.5838"
       ]
      },
      {
       "output_type": "stream",
       "stream": "stdout",
       "text": [
        "\r",
        " 73/500 [===>..........................] - ETA: 4:54 - loss: 7.5367"
       ]
      },
      {
       "output_type": "stream",
       "stream": "stdout",
       "text": [
        "\r",
        " 74/500 [===>..........................] - ETA: 4:53 - loss: 7.4879"
       ]
      },
      {
       "output_type": "stream",
       "stream": "stdout",
       "text": [
        "\r",
        " 75/500 [===>..........................] - ETA: 4:53 - loss: 7.4680"
       ]
      },
      {
       "output_type": "stream",
       "stream": "stdout",
       "text": [
        "\r",
        " 76/500 [===>..........................] - ETA: 4:52 - loss: 7.5107"
       ]
      },
      {
       "output_type": "stream",
       "stream": "stdout",
       "text": [
        "\r",
        " 77/500 [===>..........................] - ETA: 4:51 - loss: 7.4938"
       ]
      },
      {
       "output_type": "stream",
       "stream": "stdout",
       "text": [
        "\r",
        " 78/500 [===>..........................] - ETA: 4:50 - loss: 7.5385"
       ]
      },
      {
       "output_type": "stream",
       "stream": "stdout",
       "text": [
        "\r",
        " 79/500 [===>..........................] - ETA: 4:50 - loss: 7.5242"
       ]
      },
      {
       "output_type": "stream",
       "stream": "stdout",
       "text": [
        "\r",
        " 80/500 [===>..........................] - ETA: 4:49 - loss: 7.4675"
       ]
      },
      {
       "output_type": "stream",
       "stream": "stdout",
       "text": [
        "\r",
        " 81/500 [===>..........................] - ETA: 4:48 - loss: 7.5320"
       ]
      },
      {
       "output_type": "stream",
       "stream": "stdout",
       "text": [
        "\r",
        " 82/500 [===>..........................] - ETA: 4:48 - loss: 7.5521"
       ]
      },
      {
       "output_type": "stream",
       "stream": "stdout",
       "text": [
        "\r",
        " 83/500 [===>..........................] - ETA: 4:47 - loss: 7.5115"
       ]
      },
      {
       "output_type": "stream",
       "stream": "stdout",
       "text": [
        "\r",
        " 84/500 [====>.........................] - ETA: 4:47 - loss: 7.5139"
       ]
      },
      {
       "output_type": "stream",
       "stream": "stdout",
       "text": [
        "\r",
        " 85/500 [====>.........................] - ETA: 4:46 - loss: 7.5305"
       ]
      },
      {
       "output_type": "stream",
       "stream": "stdout",
       "text": [
        "\r",
        " 86/500 [====>.........................] - ETA: 4:46 - loss: 7.5244"
       ]
      },
      {
       "output_type": "stream",
       "stream": "stdout",
       "text": [
        "\r",
        " 87/500 [====>.........................] - ETA: 4:45 - loss: 7.5459"
       ]
      },
      {
       "output_type": "stream",
       "stream": "stdout",
       "text": [
        "\r",
        " 88/500 [====>.........................] - ETA: 4:44 - loss: 7.5592"
       ]
      },
      {
       "output_type": "stream",
       "stream": "stdout",
       "text": [
        "\r",
        " 89/500 [====>.........................] - ETA: 4:44 - loss: 7.5537"
       ]
      },
      {
       "output_type": "stream",
       "stream": "stdout",
       "text": [
        "\r",
        " 90/500 [====>.........................] - ETA: 4:43 - loss: 7.5392"
       ]
      },
      {
       "output_type": "stream",
       "stream": "stdout",
       "text": [
        "\r",
        " 91/500 [====>.........................] - ETA: 4:42 - loss: 7.6521"
       ]
      },
      {
       "output_type": "stream",
       "stream": "stdout",
       "text": [
        "\r",
        " 92/500 [====>.........................] - ETA: 4:41 - loss: 7.6949"
       ]
      },
      {
       "output_type": "stream",
       "stream": "stdout",
       "text": [
        "\r",
        " 93/500 [====>.........................] - ETA: 4:41 - loss: 7.7175"
       ]
      },
      {
       "output_type": "stream",
       "stream": "stdout",
       "text": [
        "\r",
        " 94/500 [====>.........................] - ETA: 4:40 - loss: 7.7761"
       ]
      },
      {
       "output_type": "stream",
       "stream": "stdout",
       "text": [
        "\r",
        " 95/500 [====>.........................] - ETA: 4:39 - loss: 7.8433"
       ]
      },
      {
       "output_type": "stream",
       "stream": "stdout",
       "text": [
        "\r",
        " 96/500 [====>.........................] - ETA: 4:39 - loss: 7.7885"
       ]
      },
      {
       "output_type": "stream",
       "stream": "stdout",
       "text": [
        "\r",
        " 97/500 [====>.........................] - ETA: 4:38 - loss: 7.7448"
       ]
      },
      {
       "output_type": "stream",
       "stream": "stdout",
       "text": [
        "\r",
        " 98/500 [====>.........................] - ETA: 4:37 - loss: 7.7274"
       ]
      },
      {
       "output_type": "stream",
       "stream": "stdout",
       "text": [
        "\r",
        " 99/500 [====>.........................] - ETA: 4:36 - loss: 7.7118"
       ]
      },
      {
       "output_type": "stream",
       "stream": "stdout",
       "text": [
        "\r",
        "100/500 [=====>........................] - ETA: 4:36 - loss: 7.6744"
       ]
      },
      {
       "output_type": "stream",
       "stream": "stdout",
       "text": [
        "\r",
        "101/500 [=====>........................] - ETA: 4:35 - loss: 7.6740"
       ]
      },
      {
       "output_type": "stream",
       "stream": "stdout",
       "text": [
        "\r",
        "102/500 [=====>........................] - ETA: 4:34 - loss: 7.6656"
       ]
      },
      {
       "output_type": "stream",
       "stream": "stdout",
       "text": [
        "\r",
        "103/500 [=====>........................] - ETA: 4:33 - loss: 7.7243"
       ]
      },
      {
       "output_type": "stream",
       "stream": "stdout",
       "text": [
        "\r",
        "104/500 [=====>........................] - ETA: 4:33 - loss: 7.7151"
       ]
      },
      {
       "output_type": "stream",
       "stream": "stdout",
       "text": [
        "\r",
        "105/500 [=====>........................] - ETA: 4:32 - loss: 7.7244"
       ]
      },
      {
       "output_type": "stream",
       "stream": "stdout",
       "text": [
        "\r",
        "106/500 [=====>........................] - ETA: 4:31 - loss: 7.6926"
       ]
      },
      {
       "output_type": "stream",
       "stream": "stdout",
       "text": [
        "\r",
        "107/500 [=====>........................] - ETA: 4:31 - loss: 7.7483"
       ]
      },
      {
       "output_type": "stream",
       "stream": "stdout",
       "text": [
        "\r",
        "108/500 [=====>........................] - ETA: 4:30 - loss: 7.7485"
       ]
      },
      {
       "output_type": "stream",
       "stream": "stdout",
       "text": [
        "\r",
        "109/500 [=====>........................] - ETA: 4:30 - loss: 7.7148"
       ]
      },
      {
       "output_type": "stream",
       "stream": "stdout",
       "text": [
        "\r",
        "110/500 [=====>........................] - ETA: 4:29 - loss: 7.7143"
       ]
      },
      {
       "output_type": "stream",
       "stream": "stdout",
       "text": [
        "\r",
        "111/500 [=====>........................] - ETA: 4:28 - loss: 7.6847"
       ]
      },
      {
       "output_type": "stream",
       "stream": "stdout",
       "text": [
        "\r",
        "112/500 [=====>........................] - ETA: 4:28 - loss: 7.6844"
       ]
      },
      {
       "output_type": "stream",
       "stream": "stdout",
       "text": [
        "\r",
        "113/500 [=====>........................] - ETA: 4:27 - loss: 7.6774"
       ]
      },
      {
       "output_type": "stream",
       "stream": "stdout",
       "text": [
        "\r",
        "114/500 [=====>........................] - ETA: 4:27 - loss: 7.7470"
       ]
      },
      {
       "output_type": "stream",
       "stream": "stdout",
       "text": [
        "\r",
        "115/500 [=====>........................] - ETA: 4:26 - loss: 7.7507"
       ]
      },
      {
       "output_type": "stream",
       "stream": "stdout",
       "text": [
        "\r",
        "116/500 [=====>........................] - ETA: 4:26 - loss: 7.7198"
       ]
      },
      {
       "output_type": "stream",
       "stream": "stdout",
       "text": [
        "\r",
        "117/500 [======>.......................] - ETA: 4:25 - loss: 7.7181"
       ]
      },
      {
       "output_type": "stream",
       "stream": "stdout",
       "text": [
        "\r",
        "118/500 [======>.......................] - ETA: 4:24 - loss: 7.7111"
       ]
      },
      {
       "output_type": "stream",
       "stream": "stdout",
       "text": [
        "\r",
        "119/500 [======>.......................] - ETA: 4:23 - loss: 7.7309"
       ]
      },
      {
       "output_type": "stream",
       "stream": "stdout",
       "text": [
        "\r",
        "120/500 [======>.......................] - ETA: 4:23 - loss: 7.7368"
       ]
      },
      {
       "output_type": "stream",
       "stream": "stdout",
       "text": [
        "\r",
        "121/500 [======>.......................] - ETA: 4:22 - loss: 7.7015"
       ]
      },
      {
       "output_type": "stream",
       "stream": "stdout",
       "text": [
        "\r",
        "122/500 [======>.......................] - ETA: 4:21 - loss: 7.6856"
       ]
      },
      {
       "output_type": "stream",
       "stream": "stdout",
       "text": [
        "\r",
        "123/500 [======>.......................] - ETA: 4:21 - loss: 7.6517"
       ]
      },
      {
       "output_type": "stream",
       "stream": "stdout",
       "text": [
        "\r",
        "124/500 [======>.......................] - ETA: 4:20 - loss: 7.6364"
       ]
      },
      {
       "output_type": "stream",
       "stream": "stdout",
       "text": [
        "\r",
        "125/500 [======>.......................] - ETA: 4:19 - loss: 7.6492"
       ]
      },
      {
       "output_type": "stream",
       "stream": "stdout",
       "text": [
        "\r",
        "126/500 [======>.......................] - ETA: 4:18 - loss: 7.6376"
       ]
      },
      {
       "output_type": "stream",
       "stream": "stdout",
       "text": [
        "\r",
        "127/500 [======>.......................] - ETA: 4:18 - loss: 7.6622"
       ]
      },
      {
       "output_type": "stream",
       "stream": "stdout",
       "text": [
        "\r",
        "128/500 [======>.......................] - ETA: 4:17 - loss: 7.6596"
       ]
      },
      {
       "output_type": "stream",
       "stream": "stdout",
       "text": [
        "\r",
        "129/500 [======>.......................] - ETA: 4:16 - loss: 7.6769"
       ]
      },
      {
       "output_type": "stream",
       "stream": "stdout",
       "text": [
        "\r",
        "130/500 [======>.......................] - ETA: 4:15 - loss: 7.7352"
       ]
      },
      {
       "output_type": "stream",
       "stream": "stdout",
       "text": [
        "\r",
        "131/500 [======>.......................] - ETA: 4:15 - loss: 7.7342"
       ]
      },
      {
       "output_type": "stream",
       "stream": "stdout",
       "text": [
        "\r",
        "132/500 [======>.......................] - ETA: 4:14 - loss: 7.7251"
       ]
      },
      {
       "output_type": "stream",
       "stream": "stdout",
       "text": [
        "\r",
        "133/500 [======>.......................] - ETA: 4:13 - loss: 7.6858"
       ]
      },
      {
       "output_type": "stream",
       "stream": "stdout",
       "text": [
        "\r",
        "134/500 [=======>......................] - ETA: 4:13 - loss: 7.6761"
       ]
      },
      {
       "output_type": "stream",
       "stream": "stdout",
       "text": [
        "\r",
        "135/500 [=======>......................] - ETA: 4:12 - loss: 7.6720"
       ]
      },
      {
       "output_type": "stream",
       "stream": "stdout",
       "text": [
        "\r",
        "136/500 [=======>......................] - ETA: 4:11 - loss: 7.6725"
       ]
      },
      {
       "output_type": "stream",
       "stream": "stdout",
       "text": [
        "\r",
        "137/500 [=======>......................] - ETA: 4:11 - loss: 7.6606"
       ]
      },
      {
       "output_type": "stream",
       "stream": "stdout",
       "text": [
        "\r",
        "138/500 [=======>......................] - ETA: 4:10 - loss: 7.6375"
       ]
      },
      {
       "output_type": "stream",
       "stream": "stdout",
       "text": [
        "\r",
        "139/500 [=======>......................] - ETA: 4:09 - loss: 7.6512"
       ]
      },
      {
       "output_type": "stream",
       "stream": "stdout",
       "text": [
        "\r",
        "140/500 [=======>......................] - ETA: 4:08 - loss: 7.6281"
       ]
      },
      {
       "output_type": "stream",
       "stream": "stdout",
       "text": [
        "\r",
        "141/500 [=======>......................] - ETA: 4:08 - loss: 7.6091"
       ]
      },
      {
       "output_type": "stream",
       "stream": "stdout",
       "text": [
        "\r",
        "142/500 [=======>......................] - ETA: 4:07 - loss: 7.5977"
       ]
      },
      {
       "output_type": "stream",
       "stream": "stdout",
       "text": [
        "\r",
        "143/500 [=======>......................] - ETA: 4:06 - loss: 7.6601"
       ]
      },
      {
       "output_type": "stream",
       "stream": "stdout",
       "text": [
        "\r",
        "144/500 [=======>......................] - ETA: 4:06 - loss: 7.6527"
       ]
      },
      {
       "output_type": "stream",
       "stream": "stdout",
       "text": [
        "\r",
        "145/500 [=======>......................] - ETA: 4:05 - loss: 7.6199"
       ]
      },
      {
       "output_type": "stream",
       "stream": "stdout",
       "text": [
        "\r",
        "146/500 [=======>......................] - ETA: 4:04 - loss: 7.6634"
       ]
      },
      {
       "output_type": "stream",
       "stream": "stdout",
       "text": [
        "\r",
        "147/500 [=======>......................] - ETA: 4:03 - loss: 7.6465"
       ]
      },
      {
       "output_type": "stream",
       "stream": "stdout",
       "text": [
        "\r",
        "148/500 [=======>......................] - ETA: 4:03 - loss: 7.6829"
       ]
      },
      {
       "output_type": "stream",
       "stream": "stdout",
       "text": [
        "\r",
        "149/500 [=======>......................] - ETA: 4:02 - loss: 7.6630"
       ]
      },
      {
       "output_type": "stream",
       "stream": "stdout",
       "text": [
        "\r",
        "150/500 [========>.....................] - ETA: 4:01 - loss: 7.6798"
       ]
      },
      {
       "output_type": "stream",
       "stream": "stdout",
       "text": [
        "\r",
        "151/500 [========>.....................] - ETA: 4:01 - loss: 7.6841"
       ]
      },
      {
       "output_type": "stream",
       "stream": "stdout",
       "text": [
        "\r",
        "152/500 [========>.....................] - ETA: 4:00 - loss: 7.6957"
       ]
      },
      {
       "output_type": "stream",
       "stream": "stdout",
       "text": [
        "\r",
        "153/500 [========>.....................] - ETA: 3:59 - loss: 7.6716"
       ]
      },
      {
       "output_type": "stream",
       "stream": "stdout",
       "text": [
        "\r",
        "154/500 [========>.....................] - ETA: 3:58 - loss: 7.7240"
       ]
      },
      {
       "output_type": "stream",
       "stream": "stdout",
       "text": [
        "\r",
        "155/500 [========>.....................] - ETA: 3:58 - loss: 7.7164"
       ]
      },
      {
       "output_type": "stream",
       "stream": "stdout",
       "text": [
        "\r",
        "156/500 [========>.....................] - ETA: 3:57 - loss: 7.7068"
       ]
      },
      {
       "output_type": "stream",
       "stream": "stdout",
       "text": [
        "\r",
        "157/500 [========>.....................] - ETA: 3:56 - loss: 7.7041"
       ]
      },
      {
       "output_type": "stream",
       "stream": "stdout",
       "text": [
        "\r",
        "158/500 [========>.....................] - ETA: 3:56 - loss: 7.7140"
       ]
      },
      {
       "output_type": "stream",
       "stream": "stdout",
       "text": [
        "\r",
        "159/500 [========>.....................] - ETA: 3:55 - loss: 7.6925"
       ]
      },
      {
       "output_type": "stream",
       "stream": "stdout",
       "text": [
        "\r",
        "160/500 [========>.....................] - ETA: 3:54 - loss: 7.6913"
       ]
      },
      {
       "output_type": "stream",
       "stream": "stdout",
       "text": [
        "\r",
        "161/500 [========>.....................] - ETA: 3:54 - loss: 7.6732"
       ]
      },
      {
       "output_type": "stream",
       "stream": "stdout",
       "text": [
        "\r",
        "162/500 [========>.....................] - ETA: 3:53 - loss: 7.6447"
       ]
      },
      {
       "output_type": "stream",
       "stream": "stdout",
       "text": [
        "\r",
        "163/500 [========>.....................] - ETA: 3:52 - loss: 7.6136"
       ]
      },
      {
       "output_type": "stream",
       "stream": "stdout",
       "text": [
        "\r",
        "164/500 [========>.....................] - ETA: 3:51 - loss: 7.6294"
       ]
      },
      {
       "output_type": "stream",
       "stream": "stdout",
       "text": [
        "\r",
        "165/500 [========>.....................] - ETA: 3:51 - loss: 7.6380"
       ]
      },
      {
       "output_type": "stream",
       "stream": "stdout",
       "text": [
        "\r",
        "166/500 [========>.....................] - ETA: 3:50 - loss: 7.6295"
       ]
      },
      {
       "output_type": "stream",
       "stream": "stdout",
       "text": [
        "\r",
        "167/500 [=========>....................] - ETA: 3:49 - loss: 7.6511"
       ]
      },
      {
       "output_type": "stream",
       "stream": "stdout",
       "text": [
        "\r",
        "168/500 [=========>....................] - ETA: 3:49 - loss: 7.6791"
       ]
      },
      {
       "output_type": "stream",
       "stream": "stdout",
       "text": [
        "\r",
        "169/500 [=========>....................] - ETA: 3:48 - loss: 7.7010"
       ]
      },
      {
       "output_type": "stream",
       "stream": "stdout",
       "text": [
        "\r",
        "170/500 [=========>....................] - ETA: 3:48 - loss: 7.6932"
       ]
      },
      {
       "output_type": "stream",
       "stream": "stdout",
       "text": [
        "\r",
        "171/500 [=========>....................] - ETA: 3:47 - loss: 7.7121"
       ]
      },
      {
       "output_type": "stream",
       "stream": "stdout",
       "text": [
        "\r",
        "172/500 [=========>....................] - ETA: 3:46 - loss: 7.7506"
       ]
      },
      {
       "output_type": "stream",
       "stream": "stdout",
       "text": [
        "\r",
        "173/500 [=========>....................] - ETA: 3:45 - loss: 7.7568"
       ]
      },
      {
       "output_type": "stream",
       "stream": "stdout",
       "text": [
        "\r",
        "174/500 [=========>....................] - ETA: 3:45 - loss: 7.7550"
       ]
      },
      {
       "output_type": "stream",
       "stream": "stdout",
       "text": [
        "\r",
        "175/500 [=========>....................] - ETA: 3:44 - loss: 7.7802"
       ]
      },
      {
       "output_type": "stream",
       "stream": "stdout",
       "text": [
        "\r",
        "176/500 [=========>....................] - ETA: 3:43 - loss: 7.7898"
       ]
      },
      {
       "output_type": "stream",
       "stream": "stdout",
       "text": [
        "\r",
        "177/500 [=========>....................] - ETA: 3:43 - loss: 7.7730"
       ]
      },
      {
       "output_type": "stream",
       "stream": "stdout",
       "text": [
        "\r",
        "178/500 [=========>....................] - ETA: 3:42 - loss: 7.7650"
       ]
      },
      {
       "output_type": "stream",
       "stream": "stdout",
       "text": [
        "\r",
        "179/500 [=========>....................] - ETA: 3:41 - loss: 7.7474"
       ]
      },
      {
       "output_type": "stream",
       "stream": "stdout",
       "text": [
        "\r",
        "180/500 [=========>....................] - ETA: 3:40 - loss: 7.7582"
       ]
      },
      {
       "output_type": "stream",
       "stream": "stdout",
       "text": [
        "\r",
        "181/500 [=========>....................] - ETA: 3:40 - loss: 7.7583"
       ]
      },
      {
       "output_type": "stream",
       "stream": "stdout",
       "text": [
        "\r",
        "182/500 [=========>....................] - ETA: 3:39 - loss: 7.7602"
       ]
      },
      {
       "output_type": "stream",
       "stream": "stdout",
       "text": [
        "\r",
        "183/500 [=========>....................] - ETA: 3:38 - loss: 7.7454"
       ]
      },
      {
       "output_type": "stream",
       "stream": "stdout",
       "text": [
        "\r",
        "184/500 [==========>...................] - ETA: 3:38 - loss: 7.7563"
       ]
      },
      {
       "output_type": "stream",
       "stream": "stdout",
       "text": [
        "\r",
        "185/500 [==========>...................] - ETA: 3:37 - loss: 7.7840"
       ]
      },
      {
       "output_type": "stream",
       "stream": "stdout",
       "text": [
        "\r",
        "186/500 [==========>...................] - ETA: 3:36 - loss: 7.7694"
       ]
      },
      {
       "output_type": "stream",
       "stream": "stdout",
       "text": [
        "\r",
        "187/500 [==========>...................] - ETA: 3:36 - loss: 7.7394"
       ]
      },
      {
       "output_type": "stream",
       "stream": "stdout",
       "text": [
        "\r",
        "188/500 [==========>...................] - ETA: 3:35 - loss: 7.7350"
       ]
      },
      {
       "output_type": "stream",
       "stream": "stdout",
       "text": [
        "\r",
        "189/500 [==========>...................] - ETA: 3:34 - loss: 7.7322"
       ]
      },
      {
       "output_type": "stream",
       "stream": "stdout",
       "text": [
        "\r",
        "190/500 [==========>...................] - ETA: 3:33 - loss: 7.7163"
       ]
      },
      {
       "output_type": "stream",
       "stream": "stdout",
       "text": [
        "\r",
        "191/500 [==========>...................] - ETA: 3:33 - loss: 7.7374"
       ]
      },
      {
       "output_type": "stream",
       "stream": "stdout",
       "text": [
        "\r",
        "192/500 [==========>...................] - ETA: 3:32 - loss: 7.7312"
       ]
      },
      {
       "output_type": "stream",
       "stream": "stdout",
       "text": [
        "\r",
        "193/500 [==========>...................] - ETA: 3:31 - loss: 7.7289"
       ]
      },
      {
       "output_type": "stream",
       "stream": "stdout",
       "text": [
        "\r",
        "194/500 [==========>...................] - ETA: 3:31 - loss: 7.7656"
       ]
      },
      {
       "output_type": "stream",
       "stream": "stdout",
       "text": [
        "\r",
        "195/500 [==========>...................] - ETA: 3:30 - loss: 7.7695"
       ]
      },
      {
       "output_type": "stream",
       "stream": "stdout",
       "text": [
        "\r",
        "196/500 [==========>...................] - ETA: 3:29 - loss: 7.7669"
       ]
      },
      {
       "output_type": "stream",
       "stream": "stdout",
       "text": [
        "\r",
        "197/500 [==========>...................] - ETA: 3:28 - loss: 7.7682"
       ]
      },
      {
       "output_type": "stream",
       "stream": "stdout",
       "text": [
        "\r",
        "198/500 [==========>...................] - ETA: 3:28 - loss: 7.7557"
       ]
      },
      {
       "output_type": "stream",
       "stream": "stdout",
       "text": [
        "\r",
        "199/500 [==========>...................] - ETA: 3:27 - loss: 7.7554"
       ]
      },
      {
       "output_type": "stream",
       "stream": "stdout",
       "text": [
        "\r",
        "200/500 [===========>..................] - ETA: 3:26 - loss: 7.7697"
       ]
      },
      {
       "output_type": "stream",
       "stream": "stdout",
       "text": [
        "\r",
        "201/500 [===========>..................] - ETA: 3:26 - loss: 7.7635"
       ]
      },
      {
       "output_type": "stream",
       "stream": "stdout",
       "text": [
        "\r",
        "202/500 [===========>..................] - ETA: 3:25 - loss: 7.7754"
       ]
      },
      {
       "output_type": "stream",
       "stream": "stdout",
       "text": [
        "\r",
        "203/500 [===========>..................] - ETA: 3:24 - loss: 7.7619"
       ]
      },
      {
       "output_type": "stream",
       "stream": "stdout",
       "text": [
        "\r",
        "204/500 [===========>..................] - ETA: 3:24 - loss: 7.7685"
       ]
      },
      {
       "output_type": "stream",
       "stream": "stdout",
       "text": [
        "\r",
        "205/500 [===========>..................] - ETA: 3:23 - loss: 7.7710"
       ]
      },
      {
       "output_type": "stream",
       "stream": "stdout",
       "text": [
        "\r",
        "206/500 [===========>..................] - ETA: 3:22 - loss: 7.7538"
       ]
      },
      {
       "output_type": "stream",
       "stream": "stdout",
       "text": [
        "\r",
        "207/500 [===========>..................] - ETA: 3:21 - loss: 7.7430"
       ]
      },
      {
       "output_type": "stream",
       "stream": "stdout",
       "text": [
        "\r",
        "208/500 [===========>..................] - ETA: 3:21 - loss: 7.7806"
       ]
      },
      {
       "output_type": "stream",
       "stream": "stdout",
       "text": [
        "\r",
        "209/500 [===========>..................] - ETA: 3:20 - loss: 7.7988"
       ]
      },
      {
       "output_type": "stream",
       "stream": "stdout",
       "text": [
        "\r",
        "210/500 [===========>..................] - ETA: 3:19 - loss: 7.8081"
       ]
      },
      {
       "output_type": "stream",
       "stream": "stdout",
       "text": [
        "\r",
        "211/500 [===========>..................] - ETA: 3:19 - loss: 7.8084"
       ]
      },
      {
       "output_type": "stream",
       "stream": "stdout",
       "text": [
        "\r",
        "212/500 [===========>..................] - ETA: 3:18 - loss: 7.7976"
       ]
      },
      {
       "output_type": "stream",
       "stream": "stdout",
       "text": [
        "\r",
        "213/500 [===========>..................] - ETA: 3:17 - loss: 7.8222"
       ]
      },
      {
       "output_type": "stream",
       "stream": "stdout",
       "text": [
        "\r",
        "214/500 [===========>..................] - ETA: 3:17 - loss: 7.8423"
       ]
      },
      {
       "output_type": "stream",
       "stream": "stdout",
       "text": [
        "\r",
        "215/500 [===========>..................] - ETA: 3:16 - loss: 7.8395"
       ]
      },
      {
       "output_type": "stream",
       "stream": "stdout",
       "text": [
        "\r",
        "216/500 [===========>..................] - ETA: 3:15 - loss: 7.8207"
       ]
      },
      {
       "output_type": "stream",
       "stream": "stdout",
       "text": [
        "\r",
        "217/500 [============>.................] - ETA: 3:15 - loss: 7.8352"
       ]
      },
      {
       "output_type": "stream",
       "stream": "stdout",
       "text": [
        "\r",
        "218/500 [============>.................] - ETA: 3:14 - loss: 7.8173"
       ]
      },
      {
       "output_type": "stream",
       "stream": "stdout",
       "text": [
        "\r",
        "219/500 [============>.................] - ETA: 3:13 - loss: 7.8196"
       ]
      },
      {
       "output_type": "stream",
       "stream": "stdout",
       "text": [
        "\r",
        "220/500 [============>.................] - ETA: 3:12 - loss: 7.8080"
       ]
      },
      {
       "output_type": "stream",
       "stream": "stdout",
       "text": [
        "\r",
        "221/500 [============>.................] - ETA: 3:12 - loss: 7.7977"
       ]
      },
      {
       "output_type": "stream",
       "stream": "stdout",
       "text": [
        "\r",
        "222/500 [============>.................] - ETA: 3:11 - loss: 7.7972"
       ]
      },
      {
       "output_type": "stream",
       "stream": "stdout",
       "text": [
        "\r",
        "223/500 [============>.................] - ETA: 3:10 - loss: 7.8301"
       ]
      },
      {
       "output_type": "stream",
       "stream": "stdout",
       "text": [
        "\r",
        "224/500 [============>.................] - ETA: 3:10 - loss: 7.8308"
       ]
      },
      {
       "output_type": "stream",
       "stream": "stdout",
       "text": [
        "\r",
        "225/500 [============>.................] - ETA: 3:09 - loss: 7.8591"
       ]
      },
      {
       "output_type": "stream",
       "stream": "stdout",
       "text": [
        "\r",
        "226/500 [============>.................] - ETA: 3:08 - loss: 7.8692"
       ]
      },
      {
       "output_type": "stream",
       "stream": "stdout",
       "text": [
        "\r",
        "227/500 [============>.................] - ETA: 3:08 - loss: 7.8642"
       ]
      },
      {
       "output_type": "stream",
       "stream": "stdout",
       "text": [
        "\r",
        "228/500 [============>.................] - ETA: 3:07 - loss: 7.8849"
       ]
      },
      {
       "output_type": "stream",
       "stream": "stdout",
       "text": [
        "\r",
        "229/500 [============>.................] - ETA: 3:06 - loss: 7.8838"
       ]
      },
      {
       "output_type": "stream",
       "stream": "stdout",
       "text": [
        "\r",
        "230/500 [============>.................] - ETA: 3:06 - loss: 7.8705"
       ]
      },
      {
       "output_type": "stream",
       "stream": "stdout",
       "text": [
        "\r",
        "231/500 [============>.................] - ETA: 3:05 - loss: 7.8542"
       ]
      },
      {
       "output_type": "stream",
       "stream": "stdout",
       "text": [
        "\r",
        "232/500 [============>.................] - ETA: 3:04 - loss: 7.8754"
       ]
      },
      {
       "output_type": "stream",
       "stream": "stdout",
       "text": [
        "\r",
        "233/500 [============>.................] - ETA: 3:04 - loss: 7.8919"
       ]
      },
      {
       "output_type": "stream",
       "stream": "stdout",
       "text": [
        "\r",
        "234/500 [=============>................] - ETA: 3:03 - loss: 7.8960"
       ]
      },
      {
       "output_type": "stream",
       "stream": "stdout",
       "text": [
        "\r",
        "235/500 [=============>................] - ETA: 3:02 - loss: 7.8939"
       ]
      },
      {
       "output_type": "stream",
       "stream": "stdout",
       "text": [
        "\r",
        "236/500 [=============>................] - ETA: 3:02 - loss: 7.9142"
       ]
      },
      {
       "output_type": "stream",
       "stream": "stdout",
       "text": [
        "\r",
        "237/500 [=============>................] - ETA: 3:01 - loss: 7.9249"
       ]
      },
      {
       "output_type": "stream",
       "stream": "stdout",
       "text": [
        "\r",
        "238/500 [=============>................] - ETA: 3:00 - loss: 7.9315"
       ]
      },
      {
       "output_type": "stream",
       "stream": "stdout",
       "text": [
        "\r",
        "239/500 [=============>................] - ETA: 3:00 - loss: 7.9197"
       ]
      },
      {
       "output_type": "stream",
       "stream": "stdout",
       "text": [
        "\r",
        "240/500 [=============>................] - ETA: 2:59 - loss: 7.9363"
       ]
      },
      {
       "output_type": "stream",
       "stream": "stdout",
       "text": [
        "\r",
        "241/500 [=============>................] - ETA: 2:58 - loss: 7.9246"
       ]
      },
      {
       "output_type": "stream",
       "stream": "stdout",
       "text": [
        "\r",
        "242/500 [=============>................] - ETA: 2:57 - loss: 7.9478"
       ]
      },
      {
       "output_type": "stream",
       "stream": "stdout",
       "text": [
        "\r",
        "243/500 [=============>................] - ETA: 2:57 - loss: 7.9276"
       ]
      },
      {
       "output_type": "stream",
       "stream": "stdout",
       "text": [
        "\r",
        "244/500 [=============>................] - ETA: 2:56 - loss: 7.9322"
       ]
      },
      {
       "output_type": "stream",
       "stream": "stdout",
       "text": [
        "\r",
        "245/500 [=============>................] - ETA: 2:55 - loss: 7.9278"
       ]
      },
      {
       "output_type": "stream",
       "stream": "stdout",
       "text": [
        "\r",
        "246/500 [=============>................] - ETA: 2:55 - loss: 7.9378"
       ]
      },
      {
       "output_type": "stream",
       "stream": "stdout",
       "text": [
        "\r",
        "247/500 [=============>................] - ETA: 2:54 - loss: 7.9199"
       ]
      },
      {
       "output_type": "stream",
       "stream": "stdout",
       "text": [
        "\r",
        "248/500 [=============>................] - ETA: 2:53 - loss: 7.8993"
       ]
      },
      {
       "output_type": "stream",
       "stream": "stdout",
       "text": [
        "\r",
        "249/500 [=============>................] - ETA: 2:53 - loss: 7.8834"
       ]
      },
      {
       "output_type": "stream",
       "stream": "stdout",
       "text": [
        "\r",
        "250/500 [==============>...............] - ETA: 2:52 - loss: 7.9002"
       ]
      },
      {
       "output_type": "stream",
       "stream": "stdout",
       "text": [
        "\r",
        "251/500 [==============>...............] - ETA: 2:51 - loss: 7.8920"
       ]
      },
      {
       "output_type": "stream",
       "stream": "stdout",
       "text": [
        "\r",
        "252/500 [==============>...............] - ETA: 2:51 - loss: 7.9083"
       ]
      },
      {
       "output_type": "stream",
       "stream": "stdout",
       "text": [
        "\r",
        "253/500 [==============>...............] - ETA: 2:50 - loss: 7.8983"
       ]
      },
      {
       "output_type": "stream",
       "stream": "stdout",
       "text": [
        "\r",
        "254/500 [==============>...............] - ETA: 2:49 - loss: 7.9048"
       ]
      },
      {
       "output_type": "stream",
       "stream": "stdout",
       "text": [
        "\r",
        "255/500 [==============>...............] - ETA: 2:49 - loss: 7.8909"
       ]
      },
      {
       "output_type": "stream",
       "stream": "stdout",
       "text": [
        "\r",
        "256/500 [==============>...............] - ETA: 2:48 - loss: 7.8817"
       ]
      },
      {
       "output_type": "stream",
       "stream": "stdout",
       "text": [
        "\r",
        "257/500 [==============>...............] - ETA: 2:47 - loss: 7.9009"
       ]
      },
      {
       "output_type": "stream",
       "stream": "stdout",
       "text": [
        "\r",
        "258/500 [==============>...............] - ETA: 2:46 - loss: 7.8894"
       ]
      },
      {
       "output_type": "stream",
       "stream": "stdout",
       "text": [
        "\r",
        "259/500 [==============>...............] - ETA: 2:46 - loss: 7.8665"
       ]
      },
      {
       "output_type": "stream",
       "stream": "stdout",
       "text": [
        "\r",
        "260/500 [==============>...............] - ETA: 2:45 - loss: 7.8716"
       ]
      },
      {
       "output_type": "stream",
       "stream": "stdout",
       "text": [
        "\r",
        "261/500 [==============>...............] - ETA: 2:44 - loss: 7.8724"
       ]
      },
      {
       "output_type": "stream",
       "stream": "stdout",
       "text": [
        "\r",
        "262/500 [==============>...............] - ETA: 2:44 - loss: 7.8575"
       ]
      },
      {
       "output_type": "stream",
       "stream": "stdout",
       "text": [
        "\r",
        "263/500 [==============>...............] - ETA: 2:43 - loss: 7.8617"
       ]
      },
      {
       "output_type": "stream",
       "stream": "stdout",
       "text": [
        "\r",
        "264/500 [==============>...............] - ETA: 2:42 - loss: 7.8561"
       ]
      },
      {
       "output_type": "stream",
       "stream": "stdout",
       "text": [
        "\r",
        "265/500 [==============>...............] - ETA: 2:42 - loss: 7.8539"
       ]
      },
      {
       "output_type": "stream",
       "stream": "stdout",
       "text": [
        "\r",
        "266/500 [==============>...............] - ETA: 2:41 - loss: 7.8659"
       ]
      },
      {
       "output_type": "stream",
       "stream": "stdout",
       "text": [
        "\r",
        "267/500 [===============>..............] - ETA: 2:40 - loss: 7.8850"
       ]
      },
      {
       "output_type": "stream",
       "stream": "stdout",
       "text": [
        "\r",
        "268/500 [===============>..............] - ETA: 2:39 - loss: 7.8702"
       ]
      },
      {
       "output_type": "stream",
       "stream": "stdout",
       "text": [
        "\r",
        "269/500 [===============>..............] - ETA: 2:39 - loss: 7.8707"
       ]
      },
      {
       "output_type": "stream",
       "stream": "stdout",
       "text": [
        "\r",
        "270/500 [===============>..............] - ETA: 2:38 - loss: 7.8857"
       ]
      },
      {
       "output_type": "stream",
       "stream": "stdout",
       "text": [
        "\r",
        "271/500 [===============>..............] - ETA: 2:37 - loss: 7.8648"
       ]
      },
      {
       "output_type": "stream",
       "stream": "stdout",
       "text": [
        "\r",
        "272/500 [===============>..............] - ETA: 2:37 - loss: 7.8567"
       ]
      },
      {
       "output_type": "stream",
       "stream": "stdout",
       "text": [
        "\r",
        "273/500 [===============>..............] - ETA: 2:36 - loss: 7.8608"
       ]
      },
      {
       "output_type": "stream",
       "stream": "stdout",
       "text": [
        "\r",
        "274/500 [===============>..............] - ETA: 2:35 - loss: 7.8842"
       ]
      },
      {
       "output_type": "stream",
       "stream": "stdout",
       "text": [
        "\r",
        "275/500 [===============>..............] - ETA: 2:35 - loss: 7.8893"
       ]
      },
      {
       "output_type": "stream",
       "stream": "stdout",
       "text": [
        "\r",
        "276/500 [===============>..............] - ETA: 2:34 - loss: 7.8977"
       ]
      },
      {
       "output_type": "stream",
       "stream": "stdout",
       "text": [
        "\r",
        "277/500 [===============>..............] - ETA: 2:33 - loss: 7.8895"
       ]
      },
      {
       "output_type": "stream",
       "stream": "stdout",
       "text": [
        "\r",
        "278/500 [===============>..............] - ETA: 2:33 - loss: 7.8895"
       ]
      },
      {
       "output_type": "stream",
       "stream": "stdout",
       "text": [
        "\r",
        "279/500 [===============>..............] - ETA: 2:32 - loss: 7.8804"
       ]
      },
      {
       "output_type": "stream",
       "stream": "stdout",
       "text": [
        "\r",
        "280/500 [===============>..............] - ETA: 2:31 - loss: 7.8846"
       ]
      },
      {
       "output_type": "stream",
       "stream": "stdout",
       "text": [
        "\r",
        "281/500 [===============>..............] - ETA: 2:30 - loss: 7.8766"
       ]
      },
      {
       "output_type": "stream",
       "stream": "stdout",
       "text": [
        "\r",
        "282/500 [===============>..............] - ETA: 2:30 - loss: 7.8834"
       ]
      },
      {
       "output_type": "stream",
       "stream": "stdout",
       "text": [
        "\r",
        "283/500 [===============>..............] - ETA: 2:29 - loss: 7.9336"
       ]
      },
      {
       "output_type": "stream",
       "stream": "stdout",
       "text": [
        "\r",
        "284/500 [================>.............] - ETA: 2:28 - loss: 7.9646"
       ]
      },
      {
       "output_type": "stream",
       "stream": "stdout",
       "text": [
        "\r",
        "285/500 [================>.............] - ETA: 2:28 - loss: 7.9605"
       ]
      },
      {
       "output_type": "stream",
       "stream": "stdout",
       "text": [
        "\r",
        "286/500 [================>.............] - ETA: 2:27 - loss: 7.9698"
       ]
      },
      {
       "output_type": "stream",
       "stream": "stdout",
       "text": [
        "\r",
        "287/500 [================>.............] - ETA: 2:26 - loss: 7.9815"
       ]
      },
      {
       "output_type": "stream",
       "stream": "stdout",
       "text": [
        "\r",
        "288/500 [================>.............] - ETA: 2:26 - loss: 7.9702"
       ]
      },
      {
       "output_type": "stream",
       "stream": "stdout",
       "text": [
        "\r",
        "289/500 [================>.............] - ETA: 2:25 - loss: 7.9828"
       ]
      },
      {
       "output_type": "stream",
       "stream": "stdout",
       "text": [
        "\r",
        "290/500 [================>.............] - ETA: 2:24 - loss: 7.9771"
       ]
      },
      {
       "output_type": "stream",
       "stream": "stdout",
       "text": [
        "\r",
        "291/500 [================>.............] - ETA: 2:24 - loss: 7.9729"
       ]
      },
      {
       "output_type": "stream",
       "stream": "stdout",
       "text": [
        "\r",
        "292/500 [================>.............] - ETA: 2:23 - loss: 7.9780"
       ]
      },
      {
       "output_type": "stream",
       "stream": "stdout",
       "text": [
        "\r",
        "293/500 [================>.............] - ETA: 2:22 - loss: 7.9957"
       ]
      },
      {
       "output_type": "stream",
       "stream": "stdout",
       "text": [
        "\r",
        "294/500 [================>.............] - ETA: 2:22 - loss: 8.0003"
       ]
      },
      {
       "output_type": "stream",
       "stream": "stdout",
       "text": [
        "\r",
        "295/500 [================>.............] - ETA: 2:21 - loss: 7.9920"
       ]
      },
      {
       "output_type": "stream",
       "stream": "stdout",
       "text": [
        "\r",
        "296/500 [================>.............] - ETA: 2:20 - loss: 7.9895"
       ]
      },
      {
       "output_type": "stream",
       "stream": "stdout",
       "text": [
        "\r",
        "297/500 [================>.............] - ETA: 2:20 - loss: 7.9968"
       ]
      },
      {
       "output_type": "stream",
       "stream": "stdout",
       "text": [
        "\r",
        "298/500 [================>.............] - ETA: 2:19 - loss: 7.9886"
       ]
      },
      {
       "output_type": "stream",
       "stream": "stdout",
       "text": [
        "\r",
        "299/500 [================>.............] - ETA: 2:18 - loss: 7.9784"
       ]
      },
      {
       "output_type": "stream",
       "stream": "stdout",
       "text": [
        "\r",
        "300/500 [=================>............] - ETA: 2:17 - loss: 7.9850"
       ]
      },
      {
       "output_type": "stream",
       "stream": "stdout",
       "text": [
        "\r",
        "301/500 [=================>............] - ETA: 2:17 - loss: 7.9905"
       ]
      },
      {
       "output_type": "stream",
       "stream": "stdout",
       "text": [
        "\r",
        "302/500 [=================>............] - ETA: 2:16 - loss: 7.9867"
       ]
      },
      {
       "output_type": "stream",
       "stream": "stdout",
       "text": [
        "\r",
        "303/500 [=================>............] - ETA: 2:15 - loss: 7.9715"
       ]
      },
      {
       "output_type": "stream",
       "stream": "stdout",
       "text": [
        "\r",
        "304/500 [=================>............] - ETA: 2:15 - loss: 7.9667"
       ]
      },
      {
       "output_type": "stream",
       "stream": "stdout",
       "text": [
        "\r",
        "305/500 [=================>............] - ETA: 2:14 - loss: 7.9771"
       ]
      },
      {
       "output_type": "stream",
       "stream": "stdout",
       "text": [
        "\r",
        "306/500 [=================>............] - ETA: 2:13 - loss: 7.9966"
       ]
      },
      {
       "output_type": "stream",
       "stream": "stdout",
       "text": [
        "\r",
        "307/500 [=================>............] - ETA: 2:13 - loss: 7.9996"
       ]
      },
      {
       "output_type": "stream",
       "stream": "stdout",
       "text": [
        "\r",
        "308/500 [=================>............] - ETA: 2:12 - loss: 7.9935"
       ]
      },
      {
       "output_type": "stream",
       "stream": "stdout",
       "text": [
        "\r",
        "309/500 [=================>............] - ETA: 2:11 - loss: 7.9783"
       ]
      },
      {
       "output_type": "stream",
       "stream": "stdout",
       "text": [
        "\r",
        "310/500 [=================>............] - ETA: 2:11 - loss: 7.9761"
       ]
      },
      {
       "output_type": "stream",
       "stream": "stdout",
       "text": [
        "\r",
        "311/500 [=================>............] - ETA: 2:10 - loss: 7.9751"
       ]
      },
      {
       "output_type": "stream",
       "stream": "stdout",
       "text": [
        "\r",
        "312/500 [=================>............] - ETA: 2:09 - loss: 7.9902"
       ]
      },
      {
       "output_type": "stream",
       "stream": "stdout",
       "text": [
        "\r",
        "313/500 [=================>............] - ETA: 2:08 - loss: 8.0225"
       ]
      },
      {
       "output_type": "stream",
       "stream": "stdout",
       "text": [
        "\r",
        "314/500 [=================>............] - ETA: 2:08 - loss: 8.0213"
       ]
      },
      {
       "output_type": "stream",
       "stream": "stdout",
       "text": [
        "\r",
        "315/500 [=================>............] - ETA: 2:07 - loss: 8.0055"
       ]
      },
      {
       "output_type": "stream",
       "stream": "stdout",
       "text": [
        "\r",
        "316/500 [=================>............] - ETA: 2:06 - loss: 8.0040"
       ]
      },
      {
       "output_type": "stream",
       "stream": "stdout",
       "text": [
        "\r",
        "317/500 [==================>...........] - ETA: 2:06 - loss: 7.9987"
       ]
      },
      {
       "output_type": "stream",
       "stream": "stdout",
       "text": [
        "\r",
        "318/500 [==================>...........] - ETA: 2:05 - loss: 7.9880"
       ]
      },
      {
       "output_type": "stream",
       "stream": "stdout",
       "text": [
        "\r",
        "319/500 [==================>...........] - ETA: 2:04 - loss: 7.9746"
       ]
      },
      {
       "output_type": "stream",
       "stream": "stdout",
       "text": [
        "\r",
        "320/500 [==================>...........] - ETA: 2:04 - loss: 7.9775"
       ]
      },
      {
       "output_type": "stream",
       "stream": "stdout",
       "text": [
        "\r",
        "321/500 [==================>...........] - ETA: 2:03 - loss: 7.9648"
       ]
      },
      {
       "output_type": "stream",
       "stream": "stdout",
       "text": [
        "\r",
        "322/500 [==================>...........] - ETA: 2:02 - loss: 7.9522"
       ]
      },
      {
       "output_type": "stream",
       "stream": "stdout",
       "text": [
        "\r",
        "323/500 [==================>...........] - ETA: 2:02 - loss: 7.9427"
       ]
      },
      {
       "output_type": "stream",
       "stream": "stdout",
       "text": [
        "\r",
        "324/500 [==================>...........] - ETA: 2:01 - loss: 7.9271"
       ]
      },
      {
       "output_type": "stream",
       "stream": "stdout",
       "text": [
        "\r",
        "325/500 [==================>...........] - ETA: 2:00 - loss: 7.9314"
       ]
      },
      {
       "output_type": "stream",
       "stream": "stdout",
       "text": [
        "\r",
        "326/500 [==================>...........] - ETA: 2:00 - loss: 7.9421"
       ]
      },
      {
       "output_type": "stream",
       "stream": "stdout",
       "text": [
        "\r",
        "327/500 [==================>...........] - ETA: 1:59 - loss: 7.9333"
       ]
      },
      {
       "output_type": "stream",
       "stream": "stdout",
       "text": [
        "\r",
        "328/500 [==================>...........] - ETA: 1:58 - loss: 7.9339"
       ]
      },
      {
       "output_type": "stream",
       "stream": "stdout",
       "text": [
        "\r",
        "329/500 [==================>...........] - ETA: 1:57 - loss: 7.9403"
       ]
      },
      {
       "output_type": "stream",
       "stream": "stdout",
       "text": [
        "\r",
        "330/500 [==================>...........] - ETA: 1:57 - loss: 7.9249"
       ]
      },
      {
       "output_type": "stream",
       "stream": "stdout",
       "text": [
        "\r",
        "331/500 [==================>...........] - ETA: 1:56 - loss: 7.9336"
       ]
      },
      {
       "output_type": "stream",
       "stream": "stdout",
       "text": [
        "\r",
        "332/500 [==================>...........] - ETA: 1:55 - loss: 7.9207"
       ]
      },
      {
       "output_type": "stream",
       "stream": "stdout",
       "text": [
        "\r",
        "333/500 [==================>...........] - ETA: 1:55 - loss: 7.9068"
       ]
      },
      {
       "output_type": "stream",
       "stream": "stdout",
       "text": [
        "\r",
        "334/500 [===================>..........] - ETA: 1:54 - loss: 7.8987"
       ]
      },
      {
       "output_type": "stream",
       "stream": "stdout",
       "text": [
        "\r",
        "335/500 [===================>..........] - ETA: 1:53 - loss: 7.9199"
       ]
      },
      {
       "output_type": "stream",
       "stream": "stdout",
       "text": [
        "\r",
        "336/500 [===================>..........] - ETA: 1:53 - loss: 7.9310"
       ]
      },
      {
       "output_type": "stream",
       "stream": "stdout",
       "text": [
        "\r",
        "337/500 [===================>..........] - ETA: 1:52 - loss: 7.9200"
       ]
      },
      {
       "output_type": "stream",
       "stream": "stdout",
       "text": [
        "\r",
        "338/500 [===================>..........] - ETA: 1:51 - loss: 7.9156"
       ]
      },
      {
       "output_type": "stream",
       "stream": "stdout",
       "text": [
        "\r",
        "339/500 [===================>..........] - ETA: 1:51 - loss: 7.9220"
       ]
      },
      {
       "output_type": "stream",
       "stream": "stdout",
       "text": [
        "\r",
        "340/500 [===================>..........] - ETA: 1:50 - loss: 7.9266"
       ]
      },
      {
       "output_type": "stream",
       "stream": "stdout",
       "text": [
        "\r",
        "341/500 [===================>..........] - ETA: 1:49 - loss: 7.9091"
       ]
      },
      {
       "output_type": "stream",
       "stream": "stdout",
       "text": [
        "\r",
        "342/500 [===================>..........] - ETA: 1:49 - loss: 7.9086"
       ]
      },
      {
       "output_type": "stream",
       "stream": "stdout",
       "text": [
        "\r",
        "343/500 [===================>..........] - ETA: 1:48 - loss: 7.9062"
       ]
      },
      {
       "output_type": "stream",
       "stream": "stdout",
       "text": [
        "\r",
        "344/500 [===================>..........] - ETA: 1:47 - loss: 7.8998"
       ]
      },
      {
       "output_type": "stream",
       "stream": "stdout",
       "text": [
        "\r",
        "345/500 [===================>..........] - ETA: 1:47 - loss: 7.8864"
       ]
      },
      {
       "output_type": "stream",
       "stream": "stdout",
       "text": [
        "\r",
        "346/500 [===================>..........] - ETA: 1:46 - loss: 7.8887"
       ]
      },
      {
       "output_type": "stream",
       "stream": "stdout",
       "text": [
        "\r",
        "347/500 [===================>..........] - ETA: 1:45 - loss: 7.8739"
       ]
      },
      {
       "output_type": "stream",
       "stream": "stdout",
       "text": [
        "\r",
        "348/500 [===================>..........] - ETA: 1:45 - loss: 7.8676"
       ]
      },
      {
       "output_type": "stream",
       "stream": "stdout",
       "text": [
        "\r",
        "349/500 [===================>..........] - ETA: 1:44 - loss: 7.8731"
       ]
      },
      {
       "output_type": "stream",
       "stream": "stdout",
       "text": [
        "\r",
        "350/500 [====================>.........] - ETA: 1:43 - loss: 7.8983"
       ]
      },
      {
       "output_type": "stream",
       "stream": "stdout",
       "text": [
        "\r",
        "351/500 [====================>.........] - ETA: 1:42 - loss: 7.8952"
       ]
      },
      {
       "output_type": "stream",
       "stream": "stdout",
       "text": [
        "\r",
        "352/500 [====================>.........] - ETA: 1:42 - loss: 7.8894"
       ]
      },
      {
       "output_type": "stream",
       "stream": "stdout",
       "text": [
        "\r",
        "353/500 [====================>.........] - ETA: 1:41 - loss: 7.8928"
       ]
      },
      {
       "output_type": "stream",
       "stream": "stdout",
       "text": [
        "\r",
        "354/500 [====================>.........] - ETA: 1:40 - loss: 7.8967"
       ]
      },
      {
       "output_type": "stream",
       "stream": "stdout",
       "text": [
        "\r",
        "355/500 [====================>.........] - ETA: 1:40 - loss: 7.8978"
       ]
      },
      {
       "output_type": "stream",
       "stream": "stdout",
       "text": [
        "\r",
        "356/500 [====================>.........] - ETA: 1:39 - loss: 7.8940"
       ]
      },
      {
       "output_type": "stream",
       "stream": "stdout",
       "text": [
        "\r",
        "357/500 [====================>.........] - ETA: 1:38 - loss: 7.8888"
       ]
      },
      {
       "output_type": "stream",
       "stream": "stdout",
       "text": [
        "\r",
        "358/500 [====================>.........] - ETA: 1:38 - loss: 7.8862"
       ]
      },
      {
       "output_type": "stream",
       "stream": "stdout",
       "text": [
        "\r",
        "359/500 [====================>.........] - ETA: 1:37 - loss: 7.8798"
       ]
      },
      {
       "output_type": "stream",
       "stream": "stdout",
       "text": [
        "\r",
        "360/500 [====================>.........] - ETA: 1:36 - loss: 7.8678"
       ]
      },
      {
       "output_type": "stream",
       "stream": "stdout",
       "text": [
        "\r",
        "361/500 [====================>.........] - ETA: 1:36 - loss: 7.8708"
       ]
      },
      {
       "output_type": "stream",
       "stream": "stdout",
       "text": [
        "\r",
        "362/500 [====================>.........] - ETA: 1:35 - loss: 7.8576"
       ]
      },
      {
       "output_type": "stream",
       "stream": "stdout",
       "text": [
        "\r",
        "363/500 [====================>.........] - ETA: 1:34 - loss: 7.8707"
       ]
      },
      {
       "output_type": "stream",
       "stream": "stdout",
       "text": [
        "\r",
        "364/500 [====================>.........] - ETA: 1:34 - loss: 7.8690"
       ]
      },
      {
       "output_type": "stream",
       "stream": "stdout",
       "text": [
        "\r",
        "365/500 [====================>.........] - ETA: 1:33 - loss: 7.8699"
       ]
      },
      {
       "output_type": "stream",
       "stream": "stdout",
       "text": [
        "\r",
        "366/500 [====================>.........] - ETA: 1:32 - loss: 7.8792"
       ]
      },
      {
       "output_type": "stream",
       "stream": "stdout",
       "text": [
        "\r",
        "367/500 [=====================>........] - ETA: 1:32 - loss: 7.8727"
       ]
      },
      {
       "output_type": "stream",
       "stream": "stdout",
       "text": [
        "\r",
        "368/500 [=====================>........] - ETA: 1:31 - loss: 7.8630"
       ]
      },
      {
       "output_type": "stream",
       "stream": "stdout",
       "text": [
        "\r",
        "369/500 [=====================>........] - ETA: 1:30 - loss: 7.8489"
       ]
      },
      {
       "output_type": "stream",
       "stream": "stdout",
       "text": [
        "\r",
        "370/500 [=====================>........] - ETA: 1:29 - loss: 7.8378"
       ]
      },
      {
       "output_type": "stream",
       "stream": "stdout",
       "text": [
        "\r",
        "371/500 [=====================>........] - ETA: 1:29 - loss: 7.8474"
       ]
      },
      {
       "output_type": "stream",
       "stream": "stdout",
       "text": [
        "\r",
        "372/500 [=====================>........] - ETA: 1:28 - loss: 7.8529"
       ]
      },
      {
       "output_type": "stream",
       "stream": "stdout",
       "text": [
        "\r",
        "373/500 [=====================>........] - ETA: 1:27 - loss: 7.8610"
       ]
      },
      {
       "output_type": "stream",
       "stream": "stdout",
       "text": [
        "\r",
        "374/500 [=====================>........] - ETA: 1:27 - loss: 7.8706"
       ]
      },
      {
       "output_type": "stream",
       "stream": "stdout",
       "text": [
        "\r",
        "375/500 [=====================>........] - ETA: 1:26 - loss: 7.8782"
       ]
      },
      {
       "output_type": "stream",
       "stream": "stdout",
       "text": [
        "\r",
        "376/500 [=====================>........] - ETA: 1:25 - loss: 7.8783"
       ]
      },
      {
       "output_type": "stream",
       "stream": "stdout",
       "text": [
        "\r",
        "377/500 [=====================>........] - ETA: 1:25 - loss: 7.8938"
       ]
      },
      {
       "output_type": "stream",
       "stream": "stdout",
       "text": [
        "\r",
        "378/500 [=====================>........] - ETA: 1:24 - loss: 7.8809"
       ]
      },
      {
       "output_type": "stream",
       "stream": "stdout",
       "text": [
        "\r",
        "379/500 [=====================>........] - ETA: 1:23 - loss: 7.8869"
       ]
      },
      {
       "output_type": "stream",
       "stream": "stdout",
       "text": [
        "\r",
        "380/500 [=====================>........] - ETA: 1:22 - loss: 7.9020"
       ]
      },
      {
       "output_type": "stream",
       "stream": "stdout",
       "text": [
        "\r",
        "381/500 [=====================>........] - ETA: 1:22 - loss: 7.9113"
       ]
      },
      {
       "output_type": "stream",
       "stream": "stdout",
       "text": [
        "\r",
        "382/500 [=====================>........] - ETA: 1:21 - loss: 7.9039"
       ]
      },
      {
       "output_type": "stream",
       "stream": "stdout",
       "text": [
        "\r",
        "383/500 [=====================>........] - ETA: 1:20 - loss: 7.8964"
       ]
      },
      {
       "output_type": "stream",
       "stream": "stdout",
       "text": [
        "\r",
        "384/500 [======================>.......] - ETA: 1:20 - loss: 7.8990"
       ]
      },
      {
       "output_type": "stream",
       "stream": "stdout",
       "text": [
        "\r",
        "385/500 [======================>.......] - ETA: 1:19 - loss: 7.8962"
       ]
      },
      {
       "output_type": "stream",
       "stream": "stdout",
       "text": [
        "\r",
        "386/500 [======================>.......] - ETA: 1:18 - loss: 7.9085"
       ]
      },
      {
       "output_type": "stream",
       "stream": "stdout",
       "text": [
        "\r",
        "387/500 [======================>.......] - ETA: 1:18 - loss: 7.8985"
       ]
      },
      {
       "output_type": "stream",
       "stream": "stdout",
       "text": [
        "\r",
        "388/500 [======================>.......] - ETA: 1:17 - loss: 7.8955"
       ]
      },
      {
       "output_type": "stream",
       "stream": "stdout",
       "text": [
        "\r",
        "389/500 [======================>.......] - ETA: 1:16 - loss: 7.8877"
       ]
      },
      {
       "output_type": "stream",
       "stream": "stdout",
       "text": [
        "\r",
        "390/500 [======================>.......] - ETA: 1:16 - loss: 7.8898"
       ]
      },
      {
       "output_type": "stream",
       "stream": "stdout",
       "text": [
        "\r",
        "391/500 [======================>.......] - ETA: 1:15 - loss: 7.8796"
       ]
      },
      {
       "output_type": "stream",
       "stream": "stdout",
       "text": [
        "\r",
        "392/500 [======================>.......] - ETA: 1:14 - loss: 7.8827"
       ]
      },
      {
       "output_type": "stream",
       "stream": "stdout",
       "text": [
        "\r",
        "393/500 [======================>.......] - ETA: 1:13 - loss: 7.8782"
       ]
      },
      {
       "output_type": "stream",
       "stream": "stdout",
       "text": [
        "\r",
        "394/500 [======================>.......] - ETA: 1:13 - loss: 7.8641"
       ]
      },
      {
       "output_type": "stream",
       "stream": "stdout",
       "text": [
        "\r",
        "395/500 [======================>.......] - ETA: 1:12 - loss: 7.8721"
       ]
      },
      {
       "output_type": "stream",
       "stream": "stdout",
       "text": [
        "\r",
        "396/500 [======================>.......] - ETA: 1:11 - loss: 7.8686"
       ]
      },
      {
       "output_type": "stream",
       "stream": "stdout",
       "text": [
        "\r",
        "397/500 [======================>.......] - ETA: 1:11 - loss: 7.8590"
       ]
      },
      {
       "output_type": "stream",
       "stream": "stdout",
       "text": [
        "\r",
        "398/500 [======================>.......] - ETA: 1:10 - loss: 7.8481"
       ]
      },
      {
       "output_type": "stream",
       "stream": "stdout",
       "text": [
        "\r",
        "399/500 [======================>.......] - ETA: 1:09 - loss: 7.8487"
       ]
      },
      {
       "output_type": "stream",
       "stream": "stdout",
       "text": [
        "\r",
        "400/500 [=======================>......] - ETA: 1:09 - loss: 7.8556"
       ]
      },
      {
       "output_type": "stream",
       "stream": "stdout",
       "text": [
        "\r",
        "401/500 [=======================>......] - ETA: 1:08 - loss: 7.8559"
       ]
      },
      {
       "output_type": "stream",
       "stream": "stdout",
       "text": [
        "\r",
        "402/500 [=======================>......] - ETA: 1:07 - loss: 7.8507"
       ]
      },
      {
       "output_type": "stream",
       "stream": "stdout",
       "text": [
        "\r",
        "403/500 [=======================>......] - ETA: 1:07 - loss: 7.8636"
       ]
      },
      {
       "output_type": "stream",
       "stream": "stdout",
       "text": [
        "\r",
        "404/500 [=======================>......] - ETA: 1:06 - loss: 7.8567"
       ]
      },
      {
       "output_type": "stream",
       "stream": "stdout",
       "text": [
        "\r",
        "405/500 [=======================>......] - ETA: 1:05 - loss: 7.8683"
       ]
      },
      {
       "output_type": "stream",
       "stream": "stdout",
       "text": [
        "\r",
        "406/500 [=======================>......] - ETA: 1:04 - loss: 7.8764"
       ]
      },
      {
       "output_type": "stream",
       "stream": "stdout",
       "text": [
        "\r",
        "407/500 [=======================>......] - ETA: 1:04 - loss: 7.8659"
       ]
      },
      {
       "output_type": "stream",
       "stream": "stdout",
       "text": [
        "\r",
        "408/500 [=======================>......] - ETA: 1:03 - loss: 7.8619"
       ]
      },
      {
       "output_type": "stream",
       "stream": "stdout",
       "text": [
        "\r",
        "409/500 [=======================>......] - ETA: 1:02 - loss: 7.8501"
       ]
      },
      {
       "output_type": "stream",
       "stream": "stdout",
       "text": [
        "\r",
        "410/500 [=======================>......] - ETA: 1:02 - loss: 7.8678"
       ]
      },
      {
       "output_type": "stream",
       "stream": "stdout",
       "text": [
        "\r",
        "411/500 [=======================>......] - ETA: 1:01 - loss: 7.8589"
       ]
      },
      {
       "output_type": "stream",
       "stream": "stdout",
       "text": [
        "\r",
        "412/500 [=======================>......] - ETA: 1:00 - loss: 7.8504"
       ]
      },
      {
       "output_type": "stream",
       "stream": "stdout",
       "text": [
        "\r",
        "413/500 [=======================>......] - ETA: 1:00 - loss: 7.8583"
       ]
      },
      {
       "output_type": "stream",
       "stream": "stdout",
       "text": [
        "\r",
        "414/500 [=======================>......] - ETA: 59s - loss: 7.8500 "
       ]
      },
      {
       "output_type": "stream",
       "stream": "stdout",
       "text": [
        "\r",
        "415/500 [=======================>......] - ETA: 58s - loss: 7.8530"
       ]
      },
      {
       "output_type": "stream",
       "stream": "stdout",
       "text": [
        "\r",
        "416/500 [=======================>......] - ETA: 58s - loss: 7.8472"
       ]
      },
      {
       "output_type": "stream",
       "stream": "stdout",
       "text": [
        "\r",
        "417/500 [========================>.....] - ETA: 57s - loss: 7.8469"
       ]
      },
      {
       "output_type": "stream",
       "stream": "stdout",
       "text": [
        "\r",
        "418/500 [========================>.....] - ETA: 56s - loss: 7.8510"
       ]
      },
      {
       "output_type": "stream",
       "stream": "stdout",
       "text": [
        "\r",
        "419/500 [========================>.....] - ETA: 55s - loss: 7.8551"
       ]
      },
      {
       "output_type": "stream",
       "stream": "stdout",
       "text": [
        "\r",
        "420/500 [========================>.....] - ETA: 55s - loss: 7.8500"
       ]
      },
      {
       "output_type": "stream",
       "stream": "stdout",
       "text": [
        "\r",
        "421/500 [========================>.....] - ETA: 54s - loss: 7.8501"
       ]
      },
      {
       "output_type": "stream",
       "stream": "stdout",
       "text": [
        "\r",
        "422/500 [========================>.....] - ETA: 53s - loss: 7.8387"
       ]
      },
      {
       "output_type": "stream",
       "stream": "stdout",
       "text": [
        "\r",
        "423/500 [========================>.....] - ETA: 53s - loss: 7.8312"
       ]
      },
      {
       "output_type": "stream",
       "stream": "stdout",
       "text": [
        "\r",
        "424/500 [========================>.....] - ETA: 52s - loss: 7.8218"
       ]
      },
      {
       "output_type": "stream",
       "stream": "stdout",
       "text": [
        "\r",
        "425/500 [========================>.....] - ETA: 51s - loss: 7.8250"
       ]
      },
      {
       "output_type": "stream",
       "stream": "stdout",
       "text": [
        "\r",
        "426/500 [========================>.....] - ETA: 51s - loss: 7.8238"
       ]
      },
      {
       "output_type": "stream",
       "stream": "stdout",
       "text": [
        "\r",
        "427/500 [========================>.....] - ETA: 50s - loss: 7.8299"
       ]
      },
      {
       "output_type": "stream",
       "stream": "stdout",
       "text": [
        "\r",
        "428/500 [========================>.....] - ETA: 49s - loss: 7.8374"
       ]
      },
      {
       "output_type": "stream",
       "stream": "stdout",
       "text": [
        "\r",
        "429/500 [========================>.....] - ETA: 49s - loss: 7.8437"
       ]
      },
      {
       "output_type": "stream",
       "stream": "stdout",
       "text": [
        "\r",
        "430/500 [========================>.....] - ETA: 48s - loss: 7.8406"
       ]
      },
      {
       "output_type": "stream",
       "stream": "stdout",
       "text": [
        "\r",
        "431/500 [========================>.....] - ETA: 47s - loss: 7.8466"
       ]
      },
      {
       "output_type": "stream",
       "stream": "stdout",
       "text": [
        "\r",
        "432/500 [========================>.....] - ETA: 46s - loss: 7.8472"
       ]
      },
      {
       "output_type": "stream",
       "stream": "stdout",
       "text": [
        "\r",
        "433/500 [========================>.....] - ETA: 46s - loss: 7.8493"
       ]
      },
      {
       "output_type": "stream",
       "stream": "stdout",
       "text": [
        "\r",
        "434/500 [=========================>....] - ETA: 45s - loss: 7.8646"
       ]
      },
      {
       "output_type": "stream",
       "stream": "stdout",
       "text": [
        "\r",
        "435/500 [=========================>....] - ETA: 44s - loss: 7.8541"
       ]
      },
      {
       "output_type": "stream",
       "stream": "stdout",
       "text": [
        "\r",
        "436/500 [=========================>....] - ETA: 44s - loss: 7.8514"
       ]
      },
      {
       "output_type": "stream",
       "stream": "stdout",
       "text": [
        "\r",
        "437/500 [=========================>....] - ETA: 43s - loss: 7.8529"
       ]
      },
      {
       "output_type": "stream",
       "stream": "stdout",
       "text": [
        "\r",
        "438/500 [=========================>....] - ETA: 42s - loss: 7.8627"
       ]
      },
      {
       "output_type": "stream",
       "stream": "stdout",
       "text": [
        "\r",
        "439/500 [=========================>....] - ETA: 42s - loss: 7.8676"
       ]
      },
      {
       "output_type": "stream",
       "stream": "stdout",
       "text": [
        "\r",
        "440/500 [=========================>....] - ETA: 41s - loss: 7.8760"
       ]
      },
      {
       "output_type": "stream",
       "stream": "stdout",
       "text": [
        "\r",
        "441/500 [=========================>....] - ETA: 40s - loss: 7.8784"
       ]
      },
      {
       "output_type": "stream",
       "stream": "stdout",
       "text": [
        "\r",
        "442/500 [=========================>....] - ETA: 40s - loss: 7.8805"
       ]
      },
      {
       "output_type": "stream",
       "stream": "stdout",
       "text": [
        "\r",
        "443/500 [=========================>....] - ETA: 39s - loss: 7.8726"
       ]
      },
      {
       "output_type": "stream",
       "stream": "stdout",
       "text": [
        "\r",
        "444/500 [=========================>....] - ETA: 38s - loss: 7.8687"
       ]
      },
      {
       "output_type": "stream",
       "stream": "stdout",
       "text": [
        "\r",
        "445/500 [=========================>....] - ETA: 37s - loss: 7.8659"
       ]
      },
      {
       "output_type": "stream",
       "stream": "stdout",
       "text": [
        "\r",
        "446/500 [=========================>....] - ETA: 37s - loss: 7.8591"
       ]
      },
      {
       "output_type": "stream",
       "stream": "stdout",
       "text": [
        "\r",
        "447/500 [=========================>....] - ETA: 36s - loss: 7.8577"
       ]
      },
      {
       "output_type": "stream",
       "stream": "stdout",
       "text": [
        "\r",
        "448/500 [=========================>....] - ETA: 35s - loss: 7.8588"
       ]
      },
      {
       "output_type": "stream",
       "stream": "stdout",
       "text": [
        "\r",
        "449/500 [=========================>....] - ETA: 35s - loss: 7.8660"
       ]
      },
      {
       "output_type": "stream",
       "stream": "stdout",
       "text": [
        "\r",
        "450/500 [==========================>...] - ETA: 34s - loss: 7.8674"
       ]
      },
      {
       "output_type": "stream",
       "stream": "stdout",
       "text": [
        "\r",
        "451/500 [==========================>...] - ETA: 33s - loss: 7.8700"
       ]
      },
      {
       "output_type": "stream",
       "stream": "stdout",
       "text": [
        "\r",
        "452/500 [==========================>...] - ETA: 33s - loss: 7.8664"
       ]
      },
      {
       "output_type": "stream",
       "stream": "stdout",
       "text": [
        "\r",
        "453/500 [==========================>...] - ETA: 32s - loss: 7.8627"
       ]
      },
      {
       "output_type": "stream",
       "stream": "stdout",
       "text": [
        "\r",
        "454/500 [==========================>...] - ETA: 31s - loss: 7.8563"
       ]
      },
      {
       "output_type": "stream",
       "stream": "stdout",
       "text": [
        "\r",
        "455/500 [==========================>...] - ETA: 31s - loss: 7.8476"
       ]
      },
      {
       "output_type": "stream",
       "stream": "stdout",
       "text": [
        "\r",
        "456/500 [==========================>...] - ETA: 30s - loss: 7.8413"
       ]
      },
      {
       "output_type": "stream",
       "stream": "stdout",
       "text": [
        "\r",
        "457/500 [==========================>...] - ETA: 29s - loss: 7.8413"
       ]
      },
      {
       "output_type": "stream",
       "stream": "stdout",
       "text": [
        "\r",
        "458/500 [==========================>...] - ETA: 28s - loss: 7.8442"
       ]
      },
      {
       "output_type": "stream",
       "stream": "stdout",
       "text": [
        "\r",
        "459/500 [==========================>...] - ETA: 28s - loss: 7.8459"
       ]
      },
      {
       "output_type": "stream",
       "stream": "stdout",
       "text": [
        "\r",
        "460/500 [==========================>...] - ETA: 27s - loss: 7.8520"
       ]
      },
      {
       "output_type": "stream",
       "stream": "stdout",
       "text": [
        "\r",
        "461/500 [==========================>...] - ETA: 26s - loss: 7.8759"
       ]
      },
      {
       "output_type": "stream",
       "stream": "stdout",
       "text": [
        "\r",
        "462/500 [==========================>...] - ETA: 26s - loss: 7.8696"
       ]
      },
      {
       "output_type": "stream",
       "stream": "stdout",
       "text": [
        "\r",
        "463/500 [==========================>...] - ETA: 25s - loss: 7.8686"
       ]
      },
      {
       "output_type": "stream",
       "stream": "stdout",
       "text": [
        "\r",
        "464/500 [==========================>...] - ETA: 24s - loss: 7.8625"
       ]
      },
      {
       "output_type": "stream",
       "stream": "stdout",
       "text": [
        "\r",
        "465/500 [==========================>...] - ETA: 24s - loss: 7.8650"
       ]
      },
      {
       "output_type": "stream",
       "stream": "stdout",
       "text": [
        "\r",
        "466/500 [==========================>...] - ETA: 23s - loss: 7.8614"
       ]
      },
      {
       "output_type": "stream",
       "stream": "stdout",
       "text": [
        "\r",
        "467/500 [===========================>..] - ETA: 22s - loss: 7.8669"
       ]
      },
      {
       "output_type": "stream",
       "stream": "stdout",
       "text": [
        "\r",
        "468/500 [===========================>..] - ETA: 22s - loss: 7.8841"
       ]
      },
      {
       "output_type": "stream",
       "stream": "stdout",
       "text": [
        "\r",
        "469/500 [===========================>..] - ETA: 21s - loss: 7.8952"
       ]
      },
      {
       "output_type": "stream",
       "stream": "stdout",
       "text": [
        "\r",
        "470/500 [===========================>..] - ETA: 20s - loss: 7.8944"
       ]
      },
      {
       "output_type": "stream",
       "stream": "stdout",
       "text": [
        "\r",
        "471/500 [===========================>..] - ETA: 19s - loss: 7.8980"
       ]
      },
      {
       "output_type": "stream",
       "stream": "stdout",
       "text": [
        "\r",
        "472/500 [===========================>..] - ETA: 19s - loss: 7.8954"
       ]
      },
      {
       "output_type": "stream",
       "stream": "stdout",
       "text": [
        "\r",
        "473/500 [===========================>..] - ETA: 18s - loss: 7.9135"
       ]
      },
      {
       "output_type": "stream",
       "stream": "stdout",
       "text": [
        "\r",
        "474/500 [===========================>..] - ETA: 17s - loss: 7.9082"
       ]
      },
      {
       "output_type": "stream",
       "stream": "stdout",
       "text": [
        "\r",
        "475/500 [===========================>..] - ETA: 17s - loss: 7.9124"
       ]
      },
      {
       "output_type": "stream",
       "stream": "stdout",
       "text": [
        "\r",
        "476/500 [===========================>..] - ETA: 16s - loss: 7.9040"
       ]
      },
      {
       "output_type": "stream",
       "stream": "stdout",
       "text": [
        "\r",
        "477/500 [===========================>..] - ETA: 15s - loss: 7.8976"
       ]
      },
      {
       "output_type": "stream",
       "stream": "stdout",
       "text": [
        "\r",
        "478/500 [===========================>..] - ETA: 15s - loss: 7.9124"
       ]
      },
      {
       "output_type": "stream",
       "stream": "stdout",
       "text": [
        "\r",
        "479/500 [===========================>..] - ETA: 14s - loss: 7.9186"
       ]
      },
      {
       "output_type": "stream",
       "stream": "stdout",
       "text": [
        "\r",
        "480/500 [===========================>..] - ETA: 13s - loss: 7.9228"
       ]
      },
      {
       "output_type": "stream",
       "stream": "stdout",
       "text": [
        "\r",
        "481/500 [===========================>..] - ETA: 13s - loss: 7.9173"
       ]
      },
      {
       "output_type": "stream",
       "stream": "stdout",
       "text": [
        "\r",
        "482/500 [===========================>..] - ETA: 12s - loss: 7.9047"
       ]
      },
      {
       "output_type": "stream",
       "stream": "stdout",
       "text": [
        "\r",
        "483/500 [===========================>..] - ETA: 11s - loss: 7.9126"
       ]
      },
      {
       "output_type": "stream",
       "stream": "stdout",
       "text": [
        "\r",
        "484/500 [============================>.] - ETA: 11s - loss: 7.9274"
       ]
      },
      {
       "output_type": "stream",
       "stream": "stdout",
       "text": [
        "\r",
        "485/500 [============================>.] - ETA: 10s - loss: 7.9282"
       ]
      },
      {
       "output_type": "stream",
       "stream": "stdout",
       "text": [
        "\r",
        "486/500 [============================>.] - ETA: 9s - loss: 7.9231 "
       ]
      },
      {
       "output_type": "stream",
       "stream": "stdout",
       "text": [
        "\r",
        "487/500 [============================>.] - ETA: 8s - loss: 7.9415"
       ]
      },
      {
       "output_type": "stream",
       "stream": "stdout",
       "text": [
        "\r",
        "488/500 [============================>.] - ETA: 8s - loss: 7.9376"
       ]
      },
      {
       "output_type": "stream",
       "stream": "stdout",
       "text": [
        "\r",
        "489/500 [============================>.] - ETA: 7s - loss: 7.9344"
       ]
      },
      {
       "output_type": "stream",
       "stream": "stdout",
       "text": [
        "\r",
        "490/500 [============================>.] - ETA: 6s - loss: 7.9241"
       ]
      },
      {
       "output_type": "stream",
       "stream": "stdout",
       "text": [
        "\r",
        "491/500 [============================>.] - ETA: 6s - loss: 7.9156"
       ]
      },
      {
       "output_type": "stream",
       "stream": "stdout",
       "text": [
        "\r",
        "492/500 [============================>.] - ETA: 5s - loss: 7.9111"
       ]
      },
      {
       "output_type": "stream",
       "stream": "stdout",
       "text": [
        "\r",
        "493/500 [============================>.] - ETA: 4s - loss: 7.9118"
       ]
      },
      {
       "output_type": "stream",
       "stream": "stdout",
       "text": [
        "\r",
        "494/500 [============================>.] - ETA: 4s - loss: 7.9094"
       ]
      },
      {
       "output_type": "stream",
       "stream": "stdout",
       "text": [
        "\r",
        "495/500 [============================>.] - ETA: 3s - loss: 7.8997"
       ]
      },
      {
       "output_type": "stream",
       "stream": "stdout",
       "text": [
        "\r",
        "496/500 [============================>.] - ETA: 2s - loss: 7.9047"
       ]
      },
      {
       "output_type": "stream",
       "stream": "stdout",
       "text": [
        "\r",
        "497/500 [============================>.] - ETA: 2s - loss: 7.9008"
       ]
      },
      {
       "output_type": "stream",
       "stream": "stdout",
       "text": [
        "\r",
        "498/500 [============================>.] - ETA: 1s - loss: 7.9009"
       ]
      },
      {
       "output_type": "stream",
       "stream": "stdout",
       "text": [
        "\r",
        "499/500 [============================>.] - ETA: 0s - loss: 7.9056"
       ]
      },
      {
       "output_type": "stream",
       "stream": "stdout",
       "text": [
        "\r",
        "500/500 [==============================] - 367s 734ms/step - loss: 7.8984 - val_loss: 7.4250\n"
       ]
      },
      {
       "output_type": "stream",
       "stream": "stdout",
       "text": [
        "\n",
        "Epoch 00003: val_loss did not improve from 6.05694\n",
        "Epoch 4/10\n",
        "\r"
       ]
      },
      {
       "output_type": "stream",
       "stream": "stdout",
       "text": [
        "  1/500 [..............................] - ETA: 5:36 - loss: 12.3005"
       ]
      },
      {
       "output_type": "stream",
       "stream": "stdout",
       "text": [
        "\r",
        "  2/500 [..............................] - ETA: 5:41 - loss: 9.1250 "
       ]
      },
      {
       "output_type": "stream",
       "stream": "stdout",
       "text": [
        "\r",
        "  3/500 [..............................] - ETA: 5:39 - loss: 8.4293"
       ]
      },
      {
       "output_type": "stream",
       "stream": "stdout",
       "text": [
        "\r",
        "  4/500 [..............................] - ETA: 5:40 - loss: 9.0067"
       ]
      },
      {
       "output_type": "stream",
       "stream": "stdout",
       "text": [
        "\r",
        "  5/500 [..............................] - ETA: 5:39 - loss: 8.4445"
       ]
      },
      {
       "output_type": "stream",
       "stream": "stdout",
       "text": [
        "\r",
        "  6/500 [..............................] - ETA: 5:38 - loss: 8.0961"
       ]
      },
      {
       "output_type": "stream",
       "stream": "stdout",
       "text": [
        "\r",
        "  7/500 [..............................] - ETA: 5:38 - loss: 7.3084"
       ]
      },
      {
       "output_type": "stream",
       "stream": "stdout",
       "text": [
        "\r",
        "  8/500 [..............................] - ETA: 5:37 - loss: 8.0241"
       ]
      },
      {
       "output_type": "stream",
       "stream": "stdout",
       "text": [
        "\r",
        "  9/500 [..............................] - ETA: 5:36 - loss: 7.8859"
       ]
      },
      {
       "output_type": "stream",
       "stream": "stdout",
       "text": [
        "\r",
        " 10/500 [..............................] - ETA: 5:36 - loss: 8.3278"
       ]
      },
      {
       "output_type": "stream",
       "stream": "stdout",
       "text": [
        "\r",
        " 11/500 [..............................] - ETA: 5:35 - loss: 7.9700"
       ]
      },
      {
       "output_type": "stream",
       "stream": "stdout",
       "text": [
        "\r",
        " 12/500 [..............................] - ETA: 5:34 - loss: 7.6312"
       ]
      },
      {
       "output_type": "stream",
       "stream": "stdout",
       "text": [
        "\r",
        " 13/500 [..............................] - ETA: 5:33 - loss: 7.5233"
       ]
      },
      {
       "output_type": "stream",
       "stream": "stdout",
       "text": [
        "\r",
        " 14/500 [..............................] - ETA: 5:32 - loss: 7.6300"
       ]
      },
      {
       "output_type": "stream",
       "stream": "stdout",
       "text": [
        "\r",
        " 15/500 [..............................] - ETA: 5:31 - loss: 8.0545"
       ]
      },
      {
       "output_type": "stream",
       "stream": "stdout",
       "text": [
        "\r",
        " 16/500 [..............................] - ETA: 5:30 - loss: 7.8948"
       ]
      },
      {
       "output_type": "stream",
       "stream": "stdout",
       "text": [
        "\r",
        " 17/500 [>.............................] - ETA: 5:30 - loss: 7.9527"
       ]
      },
      {
       "output_type": "stream",
       "stream": "stdout",
       "text": [
        "\r",
        " 18/500 [>.............................] - ETA: 5:29 - loss: 7.8730"
       ]
      },
      {
       "output_type": "stream",
       "stream": "stdout",
       "text": [
        "\r",
        " 19/500 [>.............................] - ETA: 5:28 - loss: 7.9045"
       ]
      },
      {
       "output_type": "stream",
       "stream": "stdout",
       "text": [
        "\r",
        " 20/500 [>.............................] - ETA: 5:27 - loss: 8.0746"
       ]
      },
      {
       "output_type": "stream",
       "stream": "stdout",
       "text": [
        "\r",
        " 21/500 [>.............................] - ETA: 5:27 - loss: 8.2817"
       ]
      },
      {
       "output_type": "stream",
       "stream": "stdout",
       "text": [
        "\r",
        " 22/500 [>.............................] - ETA: 5:26 - loss: 8.2509"
       ]
      },
      {
       "output_type": "stream",
       "stream": "stdout",
       "text": [
        "\r",
        " 23/500 [>.............................] - ETA: 5:25 - loss: 8.1822"
       ]
      },
      {
       "output_type": "stream",
       "stream": "stdout",
       "text": [
        "\r",
        " 24/500 [>.............................] - ETA: 5:25 - loss: 8.1538"
       ]
      },
      {
       "output_type": "stream",
       "stream": "stdout",
       "text": [
        "\r",
        " 25/500 [>.............................] - ETA: 5:25 - loss: 7.9739"
       ]
      },
      {
       "output_type": "stream",
       "stream": "stdout",
       "text": [
        "\r",
        " 26/500 [>.............................] - ETA: 5:24 - loss: 8.2450"
       ]
      },
      {
       "output_type": "stream",
       "stream": "stdout",
       "text": [
        "\r",
        " 27/500 [>.............................] - ETA: 5:23 - loss: 8.2025"
       ]
      },
      {
       "output_type": "stream",
       "stream": "stdout",
       "text": [
        "\r",
        " 28/500 [>.............................] - ETA: 5:22 - loss: 8.1035"
       ]
      },
      {
       "output_type": "stream",
       "stream": "stdout",
       "text": [
        "\r",
        " 29/500 [>.............................] - ETA: 5:22 - loss: 8.0074"
       ]
      },
      {
       "output_type": "stream",
       "stream": "stdout",
       "text": [
        "\r",
        " 30/500 [>.............................] - ETA: 5:21 - loss: 8.0361"
       ]
      },
      {
       "output_type": "stream",
       "stream": "stdout",
       "text": [
        "\r",
        " 31/500 [>.............................] - ETA: 5:20 - loss: 8.0222"
       ]
      },
      {
       "output_type": "stream",
       "stream": "stdout",
       "text": [
        "\r",
        " 32/500 [>.............................] - ETA: 5:20 - loss: 8.0242"
       ]
      },
      {
       "output_type": "stream",
       "stream": "stdout",
       "text": [
        "\r",
        " 33/500 [>.............................] - ETA: 5:19 - loss: 7.8979"
       ]
      },
      {
       "output_type": "stream",
       "stream": "stdout",
       "text": [
        "\r",
        " 34/500 [=>............................] - ETA: 5:18 - loss: 7.7713"
       ]
      },
      {
       "output_type": "stream",
       "stream": "stdout",
       "text": [
        "\r",
        " 35/500 [=>............................] - ETA: 5:18 - loss: 7.7304"
       ]
      },
      {
       "output_type": "stream",
       "stream": "stdout",
       "text": [
        "\r",
        " 36/500 [=>............................] - ETA: 5:17 - loss: 7.8118"
       ]
      },
      {
       "output_type": "stream",
       "stream": "stdout",
       "text": [
        "\r",
        " 37/500 [=>............................] - ETA: 5:16 - loss: 7.9790"
       ]
      },
      {
       "output_type": "stream",
       "stream": "stdout",
       "text": [
        "\r",
        " 38/500 [=>............................] - ETA: 5:16 - loss: 7.9771"
       ]
      },
      {
       "output_type": "stream",
       "stream": "stdout",
       "text": [
        "\r",
        " 39/500 [=>............................] - ETA: 5:15 - loss: 7.9746"
       ]
      },
      {
       "output_type": "stream",
       "stream": "stdout",
       "text": [
        "\r",
        " 40/500 [=>............................] - ETA: 5:14 - loss: 7.8565"
       ]
      },
      {
       "output_type": "stream",
       "stream": "stdout",
       "text": [
        "\r",
        " 41/500 [=>............................] - ETA: 5:14 - loss: 7.9027"
       ]
      },
      {
       "output_type": "stream",
       "stream": "stdout",
       "text": [
        "\r",
        " 42/500 [=>............................] - ETA: 5:13 - loss: 7.7871"
       ]
      },
      {
       "output_type": "stream",
       "stream": "stdout",
       "text": [
        "\r",
        " 43/500 [=>............................] - ETA: 5:12 - loss: 7.8631"
       ]
      },
      {
       "output_type": "stream",
       "stream": "stdout",
       "text": [
        "\r",
        " 44/500 [=>............................] - ETA: 5:11 - loss: 7.7411"
       ]
      },
      {
       "output_type": "stream",
       "stream": "stdout",
       "text": [
        "\r",
        " 45/500 [=>............................] - ETA: 5:11 - loss: 7.7055"
       ]
      },
      {
       "output_type": "stream",
       "stream": "stdout",
       "text": [
        "\r",
        " 46/500 [=>............................] - ETA: 5:10 - loss: 7.7567"
       ]
      },
      {
       "output_type": "stream",
       "stream": "stdout",
       "text": [
        "\r",
        " 47/500 [=>............................] - ETA: 5:09 - loss: 7.8679"
       ]
      },
      {
       "output_type": "stream",
       "stream": "stdout",
       "text": [
        "\r",
        " 48/500 [=>............................] - ETA: 5:09 - loss: 7.8487"
       ]
      },
      {
       "output_type": "stream",
       "stream": "stdout",
       "text": [
        "\r",
        " 49/500 [=>............................] - ETA: 5:08 - loss: 7.9595"
       ]
      },
      {
       "output_type": "stream",
       "stream": "stdout",
       "text": [
        "\r",
        " 50/500 [==>...........................] - ETA: 5:07 - loss: 8.0647"
       ]
      },
      {
       "output_type": "stream",
       "stream": "stdout",
       "text": [
        "\r",
        " 51/500 [==>...........................] - ETA: 5:06 - loss: 8.0425"
       ]
      },
      {
       "output_type": "stream",
       "stream": "stdout",
       "text": [
        "\r",
        " 52/500 [==>...........................] - ETA: 5:06 - loss: 8.0219"
       ]
      },
      {
       "output_type": "stream",
       "stream": "stdout",
       "text": [
        "\r",
        " 53/500 [==>...........................] - ETA: 5:05 - loss: 7.9780"
       ]
      },
      {
       "output_type": "stream",
       "stream": "stdout",
       "text": [
        "\r",
        " 54/500 [==>...........................] - ETA: 5:04 - loss: 7.9098"
       ]
      },
      {
       "output_type": "stream",
       "stream": "stdout",
       "text": [
        "\r",
        " 55/500 [==>...........................] - ETA: 5:04 - loss: 7.9182"
       ]
      },
      {
       "output_type": "stream",
       "stream": "stdout",
       "text": [
        "\r",
        " 56/500 [==>...........................] - ETA: 5:03 - loss: 7.9803"
       ]
      },
      {
       "output_type": "stream",
       "stream": "stdout",
       "text": [
        "\r",
        " 57/500 [==>...........................] - ETA: 5:02 - loss: 7.9004"
       ]
      },
      {
       "output_type": "stream",
       "stream": "stdout",
       "text": [
        "\r",
        " 58/500 [==>...........................] - ETA: 5:02 - loss: 7.9275"
       ]
      },
      {
       "output_type": "stream",
       "stream": "stdout",
       "text": [
        "\r",
        " 59/500 [==>...........................] - ETA: 5:01 - loss: 7.8777"
       ]
      },
      {
       "output_type": "stream",
       "stream": "stdout",
       "text": [
        "\r",
        " 60/500 [==>...........................] - ETA: 5:00 - loss: 7.8607"
       ]
      },
      {
       "output_type": "stream",
       "stream": "stdout",
       "text": [
        "\r",
        " 61/500 [==>...........................] - ETA: 5:00 - loss: 7.7812"
       ]
      },
      {
       "output_type": "stream",
       "stream": "stdout",
       "text": [
        "\r",
        " 62/500 [==>...........................] - ETA: 4:59 - loss: 7.7230"
       ]
      },
      {
       "output_type": "stream",
       "stream": "stdout",
       "text": [
        "\r",
        " 63/500 [==>...........................] - ETA: 4:58 - loss: 7.6740"
       ]
      },
      {
       "output_type": "stream",
       "stream": "stdout",
       "text": [
        "\r",
        " 64/500 [==>...........................] - ETA: 4:57 - loss: 7.6531"
       ]
      },
      {
       "output_type": "stream",
       "stream": "stdout",
       "text": [
        "\r",
        " 65/500 [==>...........................] - ETA: 4:57 - loss: 7.6126"
       ]
      },
      {
       "output_type": "stream",
       "stream": "stdout",
       "text": [
        "\r",
        " 66/500 [==>...........................] - ETA: 4:56 - loss: 7.6744"
       ]
      },
      {
       "output_type": "stream",
       "stream": "stdout",
       "text": [
        "\r",
        " 67/500 [===>..........................] - ETA: 4:55 - loss: 7.7252"
       ]
      },
      {
       "output_type": "stream",
       "stream": "stdout",
       "text": [
        "\r",
        " 68/500 [===>..........................] - ETA: 4:55 - loss: 7.7138"
       ]
      },
      {
       "output_type": "stream",
       "stream": "stdout",
       "text": [
        "\r",
        " 69/500 [===>..........................] - ETA: 4:54 - loss: 7.7493"
       ]
      },
      {
       "output_type": "stream",
       "stream": "stdout",
       "text": [
        "\r",
        " 70/500 [===>..........................] - ETA: 4:53 - loss: 7.8217"
       ]
      },
      {
       "output_type": "stream",
       "stream": "stdout",
       "text": [
        "\r",
        " 71/500 [===>..........................] - ETA: 4:53 - loss: 7.8459"
       ]
      },
      {
       "output_type": "stream",
       "stream": "stdout",
       "text": [
        "\r",
        " 72/500 [===>..........................] - ETA: 4:52 - loss: 7.8194"
       ]
      },
      {
       "output_type": "stream",
       "stream": "stdout",
       "text": [
        "\r",
        " 73/500 [===>..........................] - ETA: 4:51 - loss: 7.8161"
       ]
      },
      {
       "output_type": "stream",
       "stream": "stdout",
       "text": [
        "\r",
        " 74/500 [===>..........................] - ETA: 4:51 - loss: 7.7634"
       ]
      },
      {
       "output_type": "stream",
       "stream": "stdout",
       "text": [
        "\r",
        " 75/500 [===>..........................] - ETA: 4:50 - loss: 7.7433"
       ]
      },
      {
       "output_type": "stream",
       "stream": "stdout",
       "text": [
        "\r",
        " 76/500 [===>..........................] - ETA: 4:49 - loss: 7.7677"
       ]
      },
      {
       "output_type": "stream",
       "stream": "stdout",
       "text": [
        "\r",
        " 77/500 [===>..........................] - ETA: 4:49 - loss: 7.8004"
       ]
      },
      {
       "output_type": "stream",
       "stream": "stdout",
       "text": [
        "\r",
        " 78/500 [===>..........................] - ETA: 4:48 - loss: 7.7683"
       ]
      },
      {
       "output_type": "stream",
       "stream": "stdout",
       "text": [
        "\r",
        " 79/500 [===>..........................] - ETA: 4:47 - loss: 7.7528"
       ]
      },
      {
       "output_type": "stream",
       "stream": "stdout",
       "text": [
        "\r",
        " 80/500 [===>..........................] - ETA: 4:47 - loss: 7.7349"
       ]
      },
      {
       "output_type": "stream",
       "stream": "stdout",
       "text": [
        "\r",
        " 81/500 [===>..........................] - ETA: 4:46 - loss: 7.6719"
       ]
      },
      {
       "output_type": "stream",
       "stream": "stdout",
       "text": [
        "\r",
        " 82/500 [===>..........................] - ETA: 4:45 - loss: 7.6317"
       ]
      },
      {
       "output_type": "stream",
       "stream": "stdout",
       "text": [
        "\r",
        " 83/500 [===>..........................] - ETA: 4:44 - loss: 7.6127"
       ]
      },
      {
       "output_type": "stream",
       "stream": "stdout",
       "text": [
        "\r",
        " 84/500 [====>.........................] - ETA: 4:44 - loss: 7.6769"
       ]
      },
      {
       "output_type": "stream",
       "stream": "stdout",
       "text": [
        "\r",
        " 85/500 [====>.........................] - ETA: 4:43 - loss: 7.6967"
       ]
      },
      {
       "output_type": "stream",
       "stream": "stdout",
       "text": [
        "\r",
        " 86/500 [====>.........................] - ETA: 4:42 - loss: 7.6416"
       ]
      },
      {
       "output_type": "stream",
       "stream": "stdout",
       "text": [
        "\r",
        " 87/500 [====>.........................] - ETA: 4:42 - loss: 7.6091"
       ]
      },
      {
       "output_type": "stream",
       "stream": "stdout",
       "text": [
        "\r",
        " 88/500 [====>.........................] - ETA: 4:41 - loss: 7.6166"
       ]
      },
      {
       "output_type": "stream",
       "stream": "stdout",
       "text": [
        "\r",
        " 89/500 [====>.........................] - ETA: 4:40 - loss: 7.6147"
       ]
      },
      {
       "output_type": "stream",
       "stream": "stdout",
       "text": [
        "\r",
        " 90/500 [====>.........................] - ETA: 4:40 - loss: 7.5993"
       ]
      },
      {
       "output_type": "stream",
       "stream": "stdout",
       "text": [
        "\r",
        " 91/500 [====>.........................] - ETA: 4:39 - loss: 7.5579"
       ]
      },
      {
       "output_type": "stream",
       "stream": "stdout",
       "text": [
        "\r",
        " 92/500 [====>.........................] - ETA: 4:38 - loss: 7.5161"
       ]
      },
      {
       "output_type": "stream",
       "stream": "stdout",
       "text": [
        "\r",
        " 93/500 [====>.........................] - ETA: 4:38 - loss: 7.5020"
       ]
      },
      {
       "output_type": "stream",
       "stream": "stdout",
       "text": [
        "\r",
        " 94/500 [====>.........................] - ETA: 4:37 - loss: 7.4998"
       ]
      },
      {
       "output_type": "stream",
       "stream": "stdout",
       "text": [
        "\r",
        " 95/500 [====>.........................] - ETA: 4:36 - loss: 7.4651"
       ]
      },
      {
       "output_type": "stream",
       "stream": "stdout",
       "text": [
        "\r",
        " 96/500 [====>.........................] - ETA: 4:36 - loss: 7.4879"
       ]
      },
      {
       "output_type": "stream",
       "stream": "stdout",
       "text": [
        "\r",
        " 97/500 [====>.........................] - ETA: 4:35 - loss: 7.4311"
       ]
      },
      {
       "output_type": "stream",
       "stream": "stdout",
       "text": [
        "\r",
        " 98/500 [====>.........................] - ETA: 4:34 - loss: 7.4677"
       ]
      },
      {
       "output_type": "stream",
       "stream": "stdout",
       "text": [
        "\r",
        " 99/500 [====>.........................] - ETA: 4:34 - loss: 7.4791"
       ]
      },
      {
       "output_type": "stream",
       "stream": "stdout",
       "text": [
        "\r",
        "100/500 [=====>........................] - ETA: 4:33 - loss: 7.4498"
       ]
      },
      {
       "output_type": "stream",
       "stream": "stdout",
       "text": [
        "\r",
        "101/500 [=====>........................] - ETA: 4:32 - loss: 7.4447"
       ]
      },
      {
       "output_type": "stream",
       "stream": "stdout",
       "text": [
        "\r",
        "102/500 [=====>........................] - ETA: 4:32 - loss: 7.4608"
       ]
      },
      {
       "output_type": "stream",
       "stream": "stdout",
       "text": [
        "\r",
        "103/500 [=====>........................] - ETA: 4:31 - loss: 7.4627"
       ]
      },
      {
       "output_type": "stream",
       "stream": "stdout",
       "text": [
        "\r",
        "104/500 [=====>........................] - ETA: 4:30 - loss: 7.4644"
       ]
      },
      {
       "output_type": "stream",
       "stream": "stdout",
       "text": [
        "\r",
        "105/500 [=====>........................] - ETA: 4:30 - loss: 7.4193"
       ]
      },
      {
       "output_type": "stream",
       "stream": "stdout",
       "text": [
        "\r",
        "106/500 [=====>........................] - ETA: 4:29 - loss: 7.4081"
       ]
      },
      {
       "output_type": "stream",
       "stream": "stdout",
       "text": [
        "\r",
        "107/500 [=====>........................] - ETA: 4:28 - loss: 7.3652"
       ]
      },
      {
       "output_type": "stream",
       "stream": "stdout",
       "text": [
        "\r",
        "108/500 [=====>........................] - ETA: 4:28 - loss: 7.3841"
       ]
      },
      {
       "output_type": "stream",
       "stream": "stdout",
       "text": [
        "\r",
        "109/500 [=====>........................] - ETA: 4:27 - loss: 7.4179"
       ]
      },
      {
       "output_type": "stream",
       "stream": "stdout",
       "text": [
        "\r",
        "110/500 [=====>........................] - ETA: 4:26 - loss: 7.4023"
       ]
      },
      {
       "output_type": "stream",
       "stream": "stdout",
       "text": [
        "\r",
        "111/500 [=====>........................] - ETA: 4:25 - loss: 7.4374"
       ]
      },
      {
       "output_type": "stream",
       "stream": "stdout",
       "text": [
        "\r",
        "112/500 [=====>........................] - ETA: 4:25 - loss: 7.4760"
       ]
      },
      {
       "output_type": "stream",
       "stream": "stdout",
       "text": [
        "\r",
        "113/500 [=====>........................] - ETA: 4:24 - loss: 7.5353"
       ]
      },
      {
       "output_type": "stream",
       "stream": "stdout",
       "text": [
        "\r",
        "114/500 [=====>........................] - ETA: 4:23 - loss: 7.5110"
       ]
      },
      {
       "output_type": "stream",
       "stream": "stdout",
       "text": [
        "\r",
        "115/500 [=====>........................] - ETA: 4:23 - loss: 7.4842"
       ]
      },
      {
       "output_type": "stream",
       "stream": "stdout",
       "text": [
        "\r",
        "116/500 [=====>........................] - ETA: 4:22 - loss: 7.4688"
       ]
      },
      {
       "output_type": "stream",
       "stream": "stdout",
       "text": [
        "\r",
        "117/500 [======>.......................] - ETA: 4:21 - loss: 7.4689"
       ]
      },
      {
       "output_type": "stream",
       "stream": "stdout",
       "text": [
        "\r",
        "118/500 [======>.......................] - ETA: 4:21 - loss: 7.4405"
       ]
      },
      {
       "output_type": "stream",
       "stream": "stdout",
       "text": [
        "\r",
        "119/500 [======>.......................] - ETA: 4:20 - loss: 7.4666"
       ]
      },
      {
       "output_type": "stream",
       "stream": "stdout",
       "text": [
        "\r",
        "120/500 [======>.......................] - ETA: 4:19 - loss: 7.4999"
       ]
      },
      {
       "output_type": "stream",
       "stream": "stdout",
       "text": [
        "\r",
        "121/500 [======>.......................] - ETA: 4:19 - loss: 7.4966"
       ]
      },
      {
       "output_type": "stream",
       "stream": "stdout",
       "text": [
        "\r",
        "122/500 [======>.......................] - ETA: 4:18 - loss: 7.5255"
       ]
      },
      {
       "output_type": "stream",
       "stream": "stdout",
       "text": [
        "\r",
        "123/500 [======>.......................] - ETA: 4:17 - loss: 7.5104"
       ]
      },
      {
       "output_type": "stream",
       "stream": "stdout",
       "text": [
        "\r",
        "124/500 [======>.......................] - ETA: 4:17 - loss: 7.5197"
       ]
      },
      {
       "output_type": "stream",
       "stream": "stdout",
       "text": [
        "\r",
        "125/500 [======>.......................] - ETA: 4:16 - loss: 7.4744"
       ]
      },
      {
       "output_type": "stream",
       "stream": "stdout",
       "text": [
        "\r",
        "126/500 [======>.......................] - ETA: 4:15 - loss: 7.4417"
       ]
      },
      {
       "output_type": "stream",
       "stream": "stdout",
       "text": [
        "\r",
        "127/500 [======>.......................] - ETA: 4:15 - loss: 7.4303"
       ]
      },
      {
       "output_type": "stream",
       "stream": "stdout",
       "text": [
        "\r",
        "128/500 [======>.......................] - ETA: 4:14 - loss: 7.4672"
       ]
      },
      {
       "output_type": "stream",
       "stream": "stdout",
       "text": [
        "\r",
        "129/500 [======>.......................] - ETA: 4:13 - loss: 7.4622"
       ]
      },
      {
       "output_type": "stream",
       "stream": "stdout",
       "text": [
        "\r",
        "130/500 [======>.......................] - ETA: 4:13 - loss: 7.4717"
       ]
      },
      {
       "output_type": "stream",
       "stream": "stdout",
       "text": [
        "\r",
        "131/500 [======>.......................] - ETA: 4:12 - loss: 7.4447"
       ]
      },
      {
       "output_type": "stream",
       "stream": "stdout",
       "text": [
        "\r",
        "132/500 [======>.......................] - ETA: 4:11 - loss: 7.4672"
       ]
      },
      {
       "output_type": "stream",
       "stream": "stdout",
       "text": [
        "\r",
        "133/500 [======>.......................] - ETA: 4:10 - loss: 7.4741"
       ]
      },
      {
       "output_type": "stream",
       "stream": "stdout",
       "text": [
        "\r",
        "134/500 [=======>......................] - ETA: 4:10 - loss: 7.5119"
       ]
      },
      {
       "output_type": "stream",
       "stream": "stdout",
       "text": [
        "\r",
        "135/500 [=======>......................] - ETA: 4:09 - loss: 7.4882"
       ]
      },
      {
       "output_type": "stream",
       "stream": "stdout",
       "text": [
        "\r",
        "136/500 [=======>......................] - ETA: 4:08 - loss: 7.4712"
       ]
      },
      {
       "output_type": "stream",
       "stream": "stdout",
       "text": [
        "\r",
        "137/500 [=======>......................] - ETA: 4:08 - loss: 7.5164"
       ]
      },
      {
       "output_type": "stream",
       "stream": "stdout",
       "text": [
        "\r",
        "138/500 [=======>......................] - ETA: 4:07 - loss: 7.4876"
       ]
      },
      {
       "output_type": "stream",
       "stream": "stdout",
       "text": [
        "\r",
        "139/500 [=======>......................] - ETA: 4:06 - loss: 7.4907"
       ]
      },
      {
       "output_type": "stream",
       "stream": "stdout",
       "text": [
        "\r",
        "140/500 [=======>......................] - ETA: 4:06 - loss: 7.4644"
       ]
      },
      {
       "output_type": "stream",
       "stream": "stdout",
       "text": [
        "\r",
        "141/500 [=======>......................] - ETA: 4:05 - loss: 7.4747"
       ]
      },
      {
       "output_type": "stream",
       "stream": "stdout",
       "text": [
        "\r",
        "142/500 [=======>......................] - ETA: 4:04 - loss: 7.4896"
       ]
      },
      {
       "output_type": "stream",
       "stream": "stdout",
       "text": [
        "\r",
        "143/500 [=======>......................] - ETA: 4:04 - loss: 7.4701"
       ]
      },
      {
       "output_type": "stream",
       "stream": "stdout",
       "text": [
        "\r",
        "144/500 [=======>......................] - ETA: 4:03 - loss: 7.5089"
       ]
      },
      {
       "output_type": "stream",
       "stream": "stdout",
       "text": [
        "\r",
        "145/500 [=======>......................] - ETA: 4:02 - loss: 7.5177"
       ]
      },
      {
       "output_type": "stream",
       "stream": "stdout",
       "text": [
        "\r",
        "146/500 [=======>......................] - ETA: 4:02 - loss: 7.5078"
       ]
      },
      {
       "output_type": "stream",
       "stream": "stdout",
       "text": [
        "\r",
        "147/500 [=======>......................] - ETA: 4:01 - loss: 7.4829"
       ]
      },
      {
       "output_type": "stream",
       "stream": "stdout",
       "text": [
        "\r",
        "148/500 [=======>......................] - ETA: 4:00 - loss: 7.4806"
       ]
      },
      {
       "output_type": "stream",
       "stream": "stdout",
       "text": [
        "\r",
        "149/500 [=======>......................] - ETA: 4:00 - loss: 7.5002"
       ]
      },
      {
       "output_type": "stream",
       "stream": "stdout",
       "text": [
        "\r",
        "150/500 [========>.....................] - ETA: 3:59 - loss: 7.5124"
       ]
      },
      {
       "output_type": "stream",
       "stream": "stdout",
       "text": [
        "\r",
        "151/500 [========>.....................] - ETA: 3:58 - loss: 7.5226"
       ]
      },
      {
       "output_type": "stream",
       "stream": "stdout",
       "text": [
        "\r",
        "152/500 [========>.....................] - ETA: 3:58 - loss: 7.5026"
       ]
      },
      {
       "output_type": "stream",
       "stream": "stdout",
       "text": [
        "\r",
        "153/500 [========>.....................] - ETA: 3:57 - loss: 7.5022"
       ]
      },
      {
       "output_type": "stream",
       "stream": "stdout",
       "text": [
        "\r",
        "154/500 [========>.....................] - ETA: 3:56 - loss: 7.4856"
       ]
      },
      {
       "output_type": "stream",
       "stream": "stdout",
       "text": [
        "\r",
        "155/500 [========>.....................] - ETA: 3:55 - loss: 7.4944"
       ]
      },
      {
       "output_type": "stream",
       "stream": "stdout",
       "text": [
        "\r",
        "156/500 [========>.....................] - ETA: 3:55 - loss: 7.4792"
       ]
      },
      {
       "output_type": "stream",
       "stream": "stdout",
       "text": [
        "\r",
        "157/500 [========>.....................] - ETA: 3:54 - loss: 7.5075"
       ]
      },
      {
       "output_type": "stream",
       "stream": "stdout",
       "text": [
        "\r",
        "158/500 [========>.....................] - ETA: 3:53 - loss: 7.5014"
       ]
      },
      {
       "output_type": "stream",
       "stream": "stdout",
       "text": [
        "\r",
        "159/500 [========>.....................] - ETA: 3:53 - loss: 7.5409"
       ]
      },
      {
       "output_type": "stream",
       "stream": "stdout",
       "text": [
        "\r",
        "160/500 [========>.....................] - ETA: 3:52 - loss: 7.5408"
       ]
      },
      {
       "output_type": "stream",
       "stream": "stdout",
       "text": [
        "\r",
        "161/500 [========>.....................] - ETA: 3:51 - loss: 7.5149"
       ]
      },
      {
       "output_type": "stream",
       "stream": "stdout",
       "text": [
        "\r",
        "162/500 [========>.....................] - ETA: 3:51 - loss: 7.5413"
       ]
      },
      {
       "output_type": "stream",
       "stream": "stdout",
       "text": [
        "\r",
        "163/500 [========>.....................] - ETA: 3:50 - loss: 7.5444"
       ]
      },
      {
       "output_type": "stream",
       "stream": "stdout",
       "text": [
        "\r",
        "164/500 [========>.....................] - ETA: 3:49 - loss: 7.5274"
       ]
      },
      {
       "output_type": "stream",
       "stream": "stdout",
       "text": [
        "\r",
        "165/500 [========>.....................] - ETA: 3:49 - loss: 7.5196"
       ]
      },
      {
       "output_type": "stream",
       "stream": "stdout",
       "text": [
        "\r",
        "166/500 [========>.....................] - ETA: 3:48 - loss: 7.5435"
       ]
      },
      {
       "output_type": "stream",
       "stream": "stdout",
       "text": [
        "\r",
        "167/500 [=========>....................] - ETA: 3:47 - loss: 7.5286"
       ]
      },
      {
       "output_type": "stream",
       "stream": "stdout",
       "text": [
        "\r",
        "168/500 [=========>....................] - ETA: 3:47 - loss: 7.5211"
       ]
      },
      {
       "output_type": "stream",
       "stream": "stdout",
       "text": [
        "\r",
        "169/500 [=========>....................] - ETA: 3:46 - loss: 7.5111"
       ]
      },
      {
       "output_type": "stream",
       "stream": "stdout",
       "text": [
        "\r",
        "170/500 [=========>....................] - ETA: 3:45 - loss: 7.4825"
       ]
      },
      {
       "output_type": "stream",
       "stream": "stdout",
       "text": [
        "\r",
        "171/500 [=========>....................] - ETA: 3:45 - loss: 7.4905"
       ]
      },
      {
       "output_type": "stream",
       "stream": "stdout",
       "text": [
        "\r",
        "172/500 [=========>....................] - ETA: 3:44 - loss: 7.5167"
       ]
      },
      {
       "output_type": "stream",
       "stream": "stdout",
       "text": [
        "\r",
        "173/500 [=========>....................] - ETA: 3:43 - loss: 7.5635"
       ]
      },
      {
       "output_type": "stream",
       "stream": "stdout",
       "text": [
        "\r",
        "174/500 [=========>....................] - ETA: 3:43 - loss: 7.5708"
       ]
      },
      {
       "output_type": "stream",
       "stream": "stdout",
       "text": [
        "\r",
        "175/500 [=========>....................] - ETA: 3:42 - loss: 7.5571"
       ]
      },
      {
       "output_type": "stream",
       "stream": "stdout",
       "text": [
        "\r",
        "176/500 [=========>....................] - ETA: 3:41 - loss: 7.5536"
       ]
      },
      {
       "output_type": "stream",
       "stream": "stdout",
       "text": [
        "\r",
        "177/500 [=========>....................] - ETA: 3:40 - loss: 7.6080"
       ]
      },
      {
       "output_type": "stream",
       "stream": "stdout",
       "text": [
        "\r",
        "178/500 [=========>....................] - ETA: 3:40 - loss: 7.5928"
       ]
      },
      {
       "output_type": "stream",
       "stream": "stdout",
       "text": [
        "\r",
        "179/500 [=========>....................] - ETA: 3:39 - loss: 7.5955"
       ]
      },
      {
       "output_type": "stream",
       "stream": "stdout",
       "text": [
        "\r",
        "180/500 [=========>....................] - ETA: 3:38 - loss: 7.5829"
       ]
      },
      {
       "output_type": "stream",
       "stream": "stdout",
       "text": [
        "\r",
        "181/500 [=========>....................] - ETA: 3:38 - loss: 7.5684"
       ]
      },
      {
       "output_type": "stream",
       "stream": "stdout",
       "text": [
        "\r",
        "182/500 [=========>....................] - ETA: 3:37 - loss: 7.5892"
       ]
      },
      {
       "output_type": "stream",
       "stream": "stdout",
       "text": [
        "\r",
        "183/500 [=========>....................] - ETA: 3:36 - loss: 7.5617"
       ]
      },
      {
       "output_type": "stream",
       "stream": "stdout",
       "text": [
        "\r",
        "184/500 [==========>...................] - ETA: 3:36 - loss: 7.5631"
       ]
      },
      {
       "output_type": "stream",
       "stream": "stdout",
       "text": [
        "\r",
        "185/500 [==========>...................] - ETA: 3:35 - loss: 7.5695"
       ]
      },
      {
       "output_type": "stream",
       "stream": "stdout",
       "text": [
        "\r",
        "186/500 [==========>...................] - ETA: 3:34 - loss: 7.5622"
       ]
      },
      {
       "output_type": "stream",
       "stream": "stdout",
       "text": [
        "\r",
        "187/500 [==========>...................] - ETA: 3:34 - loss: 7.5995"
       ]
      },
      {
       "output_type": "stream",
       "stream": "stdout",
       "text": [
        "\r",
        "188/500 [==========>...................] - ETA: 3:33 - loss: 7.5843"
       ]
      },
      {
       "output_type": "stream",
       "stream": "stdout",
       "text": [
        "\r",
        "189/500 [==========>...................] - ETA: 3:32 - loss: 7.5802"
       ]
      },
      {
       "output_type": "stream",
       "stream": "stdout",
       "text": [
        "\r",
        "190/500 [==========>...................] - ETA: 3:32 - loss: 7.5736"
       ]
      },
      {
       "output_type": "stream",
       "stream": "stdout",
       "text": [
        "\r",
        "191/500 [==========>...................] - ETA: 3:31 - loss: 7.5732"
       ]
      },
      {
       "output_type": "stream",
       "stream": "stdout",
       "text": [
        "\r",
        "192/500 [==========>...................] - ETA: 3:30 - loss: 7.5685"
       ]
      },
      {
       "output_type": "stream",
       "stream": "stdout",
       "text": [
        "\r",
        "193/500 [==========>...................] - ETA: 3:30 - loss: 7.5647"
       ]
      },
      {
       "output_type": "stream",
       "stream": "stdout",
       "text": [
        "\r",
        "194/500 [==========>...................] - ETA: 3:29 - loss: 7.5650"
       ]
      },
      {
       "output_type": "stream",
       "stream": "stdout",
       "text": [
        "\r",
        "195/500 [==========>...................] - ETA: 3:28 - loss: 7.5383"
       ]
      },
      {
       "output_type": "stream",
       "stream": "stdout",
       "text": [
        "\r",
        "196/500 [==========>...................] - ETA: 3:27 - loss: 7.5175"
       ]
      },
      {
       "output_type": "stream",
       "stream": "stdout",
       "text": [
        "\r",
        "197/500 [==========>...................] - ETA: 3:27 - loss: 7.5245"
       ]
      },
      {
       "output_type": "stream",
       "stream": "stdout",
       "text": [
        "\r",
        "198/500 [==========>...................] - ETA: 3:26 - loss: 7.5403"
       ]
      },
      {
       "output_type": "stream",
       "stream": "stdout",
       "text": [
        "\r",
        "199/500 [==========>...................] - ETA: 3:25 - loss: 7.5184"
       ]
      },
      {
       "output_type": "stream",
       "stream": "stdout",
       "text": [
        "\r",
        "200/500 [===========>..................] - ETA: 3:25 - loss: 7.5282"
       ]
      },
      {
       "output_type": "stream",
       "stream": "stdout",
       "text": [
        "\r",
        "201/500 [===========>..................] - ETA: 3:24 - loss: 7.5105"
       ]
      },
      {
       "output_type": "stream",
       "stream": "stdout",
       "text": [
        "\r",
        "202/500 [===========>..................] - ETA: 3:23 - loss: 7.4966"
       ]
      },
      {
       "output_type": "stream",
       "stream": "stdout",
       "text": [
        "\r",
        "203/500 [===========>..................] - ETA: 3:23 - loss: 7.5167"
       ]
      },
      {
       "output_type": "stream",
       "stream": "stdout",
       "text": [
        "\r",
        "204/500 [===========>..................] - ETA: 3:22 - loss: 7.5027"
       ]
      },
      {
       "output_type": "stream",
       "stream": "stdout",
       "text": [
        "\r",
        "205/500 [===========>..................] - ETA: 3:21 - loss: 7.4808"
       ]
      },
      {
       "output_type": "stream",
       "stream": "stdout",
       "text": [
        "\r",
        "206/500 [===========>..................] - ETA: 3:21 - loss: 7.4636"
       ]
      },
      {
       "output_type": "stream",
       "stream": "stdout",
       "text": [
        "\r",
        "207/500 [===========>..................] - ETA: 3:20 - loss: 7.4789"
       ]
      },
      {
       "output_type": "stream",
       "stream": "stdout",
       "text": [
        "\r",
        "208/500 [===========>..................] - ETA: 3:19 - loss: 7.4742"
       ]
      },
      {
       "output_type": "stream",
       "stream": "stdout",
       "text": [
        "\r",
        "209/500 [===========>..................] - ETA: 3:19 - loss: 7.4663"
       ]
      },
      {
       "output_type": "stream",
       "stream": "stdout",
       "text": [
        "\r",
        "210/500 [===========>..................] - ETA: 3:18 - loss: 7.5086"
       ]
      },
      {
       "output_type": "stream",
       "stream": "stdout",
       "text": [
        "\r",
        "211/500 [===========>..................] - ETA: 3:17 - loss: 7.4855"
       ]
      },
      {
       "output_type": "stream",
       "stream": "stdout",
       "text": [
        "\r",
        "212/500 [===========>..................] - ETA: 3:16 - loss: 7.4885"
       ]
      },
      {
       "output_type": "stream",
       "stream": "stdout",
       "text": [
        "\r",
        "213/500 [===========>..................] - ETA: 3:16 - loss: 7.4674"
       ]
      },
      {
       "output_type": "stream",
       "stream": "stdout",
       "text": [
        "\r",
        "214/500 [===========>..................] - ETA: 3:15 - loss: 7.4971"
       ]
      },
      {
       "output_type": "stream",
       "stream": "stdout",
       "text": [
        "\r",
        "215/500 [===========>..................] - ETA: 3:14 - loss: 7.5001"
       ]
      },
      {
       "output_type": "stream",
       "stream": "stdout",
       "text": [
        "\r",
        "216/500 [===========>..................] - ETA: 3:14 - loss: 7.5065"
       ]
      },
      {
       "output_type": "stream",
       "stream": "stdout",
       "text": [
        "\r",
        "217/500 [============>.................] - ETA: 3:13 - loss: 7.5181"
       ]
      },
      {
       "output_type": "stream",
       "stream": "stdout",
       "text": [
        "\r",
        "218/500 [============>.................] - ETA: 3:12 - loss: 7.5148"
       ]
      },
      {
       "output_type": "stream",
       "stream": "stdout",
       "text": [
        "\r",
        "219/500 [============>.................] - ETA: 3:12 - loss: 7.5016"
       ]
      },
      {
       "output_type": "stream",
       "stream": "stdout",
       "text": [
        "\r",
        "220/500 [============>.................] - ETA: 3:11 - loss: 7.5337"
       ]
      },
      {
       "output_type": "stream",
       "stream": "stdout",
       "text": [
        "\r",
        "221/500 [============>.................] - ETA: 3:10 - loss: 7.5227"
       ]
      },
      {
       "output_type": "stream",
       "stream": "stdout",
       "text": [
        "\r",
        "222/500 [============>.................] - ETA: 3:10 - loss: 7.5680"
       ]
      },
      {
       "output_type": "stream",
       "stream": "stdout",
       "text": [
        "\r",
        "223/500 [============>.................] - ETA: 3:09 - loss: 7.5735"
       ]
      },
      {
       "output_type": "stream",
       "stream": "stdout",
       "text": [
        "\r",
        "224/500 [============>.................] - ETA: 3:08 - loss: 7.5751"
       ]
      },
      {
       "output_type": "stream",
       "stream": "stdout",
       "text": [
        "\r",
        "225/500 [============>.................] - ETA: 3:08 - loss: 7.5801"
       ]
      },
      {
       "output_type": "stream",
       "stream": "stdout",
       "text": [
        "\r",
        "226/500 [============>.................] - ETA: 3:07 - loss: 7.5601"
       ]
      },
      {
       "output_type": "stream",
       "stream": "stdout",
       "text": [
        "\r",
        "227/500 [============>.................] - ETA: 3:06 - loss: 7.5663"
       ]
      },
      {
       "output_type": "stream",
       "stream": "stdout",
       "text": [
        "\r",
        "228/500 [============>.................] - ETA: 3:06 - loss: 7.5509"
       ]
      },
      {
       "output_type": "stream",
       "stream": "stdout",
       "text": [
        "\r",
        "229/500 [============>.................] - ETA: 3:05 - loss: 7.5298"
       ]
      },
      {
       "output_type": "stream",
       "stream": "stdout",
       "text": [
        "\r",
        "230/500 [============>.................] - ETA: 3:04 - loss: 7.5201"
       ]
      },
      {
       "output_type": "stream",
       "stream": "stdout",
       "text": [
        "\r",
        "231/500 [============>.................] - ETA: 3:04 - loss: 7.5243"
       ]
      },
      {
       "output_type": "stream",
       "stream": "stdout",
       "text": [
        "\r",
        "232/500 [============>.................] - ETA: 3:03 - loss: 7.5105"
       ]
      },
      {
       "output_type": "stream",
       "stream": "stdout",
       "text": [
        "\r",
        "233/500 [============>.................] - ETA: 3:02 - loss: 7.5108"
       ]
      },
      {
       "output_type": "stream",
       "stream": "stdout",
       "text": [
        "\r",
        "234/500 [=============>................] - ETA: 3:01 - loss: 7.5374"
       ]
      },
      {
       "output_type": "stream",
       "stream": "stdout",
       "text": [
        "\r",
        "235/500 [=============>................] - ETA: 3:01 - loss: 7.5472"
       ]
      },
      {
       "output_type": "stream",
       "stream": "stdout",
       "text": [
        "\r",
        "236/500 [=============>................] - ETA: 3:00 - loss: 7.5264"
       ]
      },
      {
       "output_type": "stream",
       "stream": "stdout",
       "text": [
        "\r",
        "237/500 [=============>................] - ETA: 2:59 - loss: 7.5371"
       ]
      },
      {
       "output_type": "stream",
       "stream": "stdout",
       "text": [
        "\r",
        "238/500 [=============>................] - ETA: 2:59 - loss: 7.5804"
       ]
      },
      {
       "output_type": "stream",
       "stream": "stdout",
       "text": [
        "\r",
        "239/500 [=============>................] - ETA: 2:58 - loss: 7.5707"
       ]
      },
      {
       "output_type": "stream",
       "stream": "stdout",
       "text": [
        "\r",
        "240/500 [=============>................] - ETA: 2:57 - loss: 7.5776"
       ]
      },
      {
       "output_type": "stream",
       "stream": "stdout",
       "text": [
        "\r",
        "241/500 [=============>................] - ETA: 2:57 - loss: 7.5663"
       ]
      },
      {
       "output_type": "stream",
       "stream": "stdout",
       "text": [
        "\r",
        "242/500 [=============>................] - ETA: 2:56 - loss: 7.5632"
       ]
      },
      {
       "output_type": "stream",
       "stream": "stdout",
       "text": [
        "\r",
        "243/500 [=============>................] - ETA: 2:55 - loss: 7.5430"
       ]
      },
      {
       "output_type": "stream",
       "stream": "stdout",
       "text": [
        "\r",
        "244/500 [=============>................] - ETA: 2:55 - loss: 7.5319"
       ]
      },
      {
       "output_type": "stream",
       "stream": "stdout",
       "text": [
        "\r",
        "245/500 [=============>................] - ETA: 2:54 - loss: 7.5233"
       ]
      },
      {
       "output_type": "stream",
       "stream": "stdout",
       "text": [
        "\r",
        "246/500 [=============>................] - ETA: 2:53 - loss: 7.5212"
       ]
      },
      {
       "output_type": "stream",
       "stream": "stdout",
       "text": [
        "\r",
        "247/500 [=============>................] - ETA: 2:53 - loss: 7.5555"
       ]
      },
      {
       "output_type": "stream",
       "stream": "stdout",
       "text": [
        "\r",
        "248/500 [=============>................] - ETA: 2:52 - loss: 7.5465"
       ]
      },
      {
       "output_type": "stream",
       "stream": "stdout",
       "text": [
        "\r",
        "249/500 [=============>................] - ETA: 2:51 - loss: 7.5388"
       ]
      },
      {
       "output_type": "stream",
       "stream": "stdout",
       "text": [
        "\r",
        "250/500 [==============>...............] - ETA: 2:50 - loss: 7.5345"
       ]
      },
      {
       "output_type": "stream",
       "stream": "stdout",
       "text": [
        "\r",
        "251/500 [==============>...............] - ETA: 2:50 - loss: 7.5340"
       ]
      },
      {
       "output_type": "stream",
       "stream": "stdout",
       "text": [
        "\r",
        "252/500 [==============>...............] - ETA: 2:49 - loss: 7.5198"
       ]
      },
      {
       "output_type": "stream",
       "stream": "stdout",
       "text": [
        "\r",
        "253/500 [==============>...............] - ETA: 2:48 - loss: 7.5505"
       ]
      },
      {
       "output_type": "stream",
       "stream": "stdout",
       "text": [
        "\r",
        "254/500 [==============>...............] - ETA: 2:48 - loss: 7.5620"
       ]
      },
      {
       "output_type": "stream",
       "stream": "stdout",
       "text": [
        "\r",
        "255/500 [==============>...............] - ETA: 2:47 - loss: 7.5874"
       ]
      },
      {
       "output_type": "stream",
       "stream": "stdout",
       "text": [
        "\r",
        "256/500 [==============>...............] - ETA: 2:46 - loss: 7.5726"
       ]
      },
      {
       "output_type": "stream",
       "stream": "stdout",
       "text": [
        "\r",
        "257/500 [==============>...............] - ETA: 2:46 - loss: 7.5659"
       ]
      },
      {
       "output_type": "stream",
       "stream": "stdout",
       "text": [
        "\r",
        "258/500 [==============>...............] - ETA: 2:45 - loss: 7.5729"
       ]
      },
      {
       "output_type": "stream",
       "stream": "stdout",
       "text": [
        "\r",
        "259/500 [==============>...............] - ETA: 2:44 - loss: 7.5743"
       ]
      },
      {
       "output_type": "stream",
       "stream": "stdout",
       "text": [
        "\r",
        "260/500 [==============>...............] - ETA: 2:44 - loss: 7.5624"
       ]
      },
      {
       "output_type": "stream",
       "stream": "stdout",
       "text": [
        "\r",
        "261/500 [==============>...............] - ETA: 2:43 - loss: 7.5453"
       ]
      },
      {
       "output_type": "stream",
       "stream": "stdout",
       "text": [
        "\r",
        "262/500 [==============>...............] - ETA: 2:42 - loss: 7.5352"
       ]
      },
      {
       "output_type": "stream",
       "stream": "stdout",
       "text": [
        "\r",
        "263/500 [==============>...............] - ETA: 2:42 - loss: 7.5532"
       ]
      },
      {
       "output_type": "stream",
       "stream": "stdout",
       "text": [
        "\r",
        "264/500 [==============>...............] - ETA: 2:41 - loss: 7.5616"
       ]
      },
      {
       "output_type": "stream",
       "stream": "stdout",
       "text": [
        "\r",
        "265/500 [==============>...............] - ETA: 2:40 - loss: 7.5667"
       ]
      },
      {
       "output_type": "stream",
       "stream": "stdout",
       "text": [
        "\r",
        "266/500 [==============>...............] - ETA: 2:40 - loss: 7.5527"
       ]
      },
      {
       "output_type": "stream",
       "stream": "stdout",
       "text": [
        "\r",
        "267/500 [===============>..............] - ETA: 2:39 - loss: 7.5400"
       ]
      },
      {
       "output_type": "stream",
       "stream": "stdout",
       "text": [
        "\r",
        "268/500 [===============>..............] - ETA: 2:38 - loss: 7.5452"
       ]
      },
      {
       "output_type": "stream",
       "stream": "stdout",
       "text": [
        "\r",
        "269/500 [===============>..............] - ETA: 2:37 - loss: 7.5403"
       ]
      },
      {
       "output_type": "stream",
       "stream": "stdout",
       "text": [
        "\r",
        "270/500 [===============>..............] - ETA: 2:37 - loss: 7.5449"
       ]
      },
      {
       "output_type": "stream",
       "stream": "stdout",
       "text": [
        "\r",
        "271/500 [===============>..............] - ETA: 2:36 - loss: 7.5423"
       ]
      },
      {
       "output_type": "stream",
       "stream": "stdout",
       "text": [
        "\r",
        "272/500 [===============>..............] - ETA: 2:35 - loss: 7.5328"
       ]
      },
      {
       "output_type": "stream",
       "stream": "stdout",
       "text": [
        "\r",
        "273/500 [===============>..............] - ETA: 2:35 - loss: 7.5209"
       ]
      },
      {
       "output_type": "stream",
       "stream": "stdout",
       "text": [
        "\r",
        "274/500 [===============>..............] - ETA: 2:34 - loss: 7.5061"
       ]
      },
      {
       "output_type": "stream",
       "stream": "stdout",
       "text": [
        "\r",
        "275/500 [===============>..............] - ETA: 2:33 - loss: 7.4942"
       ]
      },
      {
       "output_type": "stream",
       "stream": "stdout",
       "text": [
        "\r",
        "276/500 [===============>..............] - ETA: 2:33 - loss: 7.4754"
       ]
      },
      {
       "output_type": "stream",
       "stream": "stdout",
       "text": [
        "\r",
        "277/500 [===============>..............] - ETA: 2:32 - loss: 7.4758"
       ]
      },
      {
       "output_type": "stream",
       "stream": "stdout",
       "text": [
        "\r",
        "278/500 [===============>..............] - ETA: 2:31 - loss: 7.4599"
       ]
      },
      {
       "output_type": "stream",
       "stream": "stdout",
       "text": [
        "\r",
        "279/500 [===============>..............] - ETA: 2:31 - loss: 7.4701"
       ]
      },
      {
       "output_type": "stream",
       "stream": "stdout",
       "text": [
        "\r",
        "280/500 [===============>..............] - ETA: 2:30 - loss: 7.4621"
       ]
      },
      {
       "output_type": "stream",
       "stream": "stdout",
       "text": [
        "\r",
        "281/500 [===============>..............] - ETA: 2:29 - loss: 7.4774"
       ]
      },
      {
       "output_type": "stream",
       "stream": "stdout",
       "text": [
        "\r",
        "282/500 [===============>..............] - ETA: 2:29 - loss: 7.4816"
       ]
      },
      {
       "output_type": "stream",
       "stream": "stdout",
       "text": [
        "\r",
        "283/500 [===============>..............] - ETA: 2:28 - loss: 7.4768"
       ]
      },
      {
       "output_type": "stream",
       "stream": "stdout",
       "text": [
        "\r",
        "284/500 [================>.............] - ETA: 2:27 - loss: 7.4692"
       ]
      },
      {
       "output_type": "stream",
       "stream": "stdout",
       "text": [
        "\r",
        "285/500 [================>.............] - ETA: 2:27 - loss: 7.4658"
       ]
      },
      {
       "output_type": "stream",
       "stream": "stdout",
       "text": [
        "\r",
        "286/500 [================>.............] - ETA: 2:26 - loss: 7.4786"
       ]
      },
      {
       "output_type": "stream",
       "stream": "stdout",
       "text": [
        "\r",
        "287/500 [================>.............] - ETA: 2:25 - loss: 7.4730"
       ]
      },
      {
       "output_type": "stream",
       "stream": "stdout",
       "text": [
        "\r",
        "288/500 [================>.............] - ETA: 2:24 - loss: 7.4718"
       ]
      },
      {
       "output_type": "stream",
       "stream": "stdout",
       "text": [
        "\r",
        "289/500 [================>.............] - ETA: 2:24 - loss: 7.4732"
       ]
      },
      {
       "output_type": "stream",
       "stream": "stdout",
       "text": [
        "\r",
        "290/500 [================>.............] - ETA: 2:23 - loss: 7.4725"
       ]
      },
      {
       "output_type": "stream",
       "stream": "stdout",
       "text": [
        "\r",
        "291/500 [================>.............] - ETA: 2:22 - loss: 7.4677"
       ]
      },
      {
       "output_type": "stream",
       "stream": "stdout",
       "text": [
        "\r",
        "292/500 [================>.............] - ETA: 2:22 - loss: 7.4619"
       ]
      },
      {
       "output_type": "stream",
       "stream": "stdout",
       "text": [
        "\r",
        "293/500 [================>.............] - ETA: 2:21 - loss: 7.4693"
       ]
      },
      {
       "output_type": "stream",
       "stream": "stdout",
       "text": [
        "\r",
        "294/500 [================>.............] - ETA: 2:20 - loss: 7.4559"
       ]
      },
      {
       "output_type": "stream",
       "stream": "stdout",
       "text": [
        "\r",
        "295/500 [================>.............] - ETA: 2:20 - loss: 7.4459"
       ]
      },
      {
       "output_type": "stream",
       "stream": "stdout",
       "text": [
        "\r",
        "296/500 [================>.............] - ETA: 2:19 - loss: 7.4448"
       ]
      },
      {
       "output_type": "stream",
       "stream": "stdout",
       "text": [
        "\r",
        "297/500 [================>.............] - ETA: 2:18 - loss: 7.4562"
       ]
      },
      {
       "output_type": "stream",
       "stream": "stdout",
       "text": [
        "\r",
        "298/500 [================>.............] - ETA: 2:18 - loss: 7.4510"
       ]
      },
      {
       "output_type": "stream",
       "stream": "stdout",
       "text": [
        "\r",
        "299/500 [================>.............] - ETA: 2:17 - loss: 7.4547"
       ]
      },
      {
       "output_type": "stream",
       "stream": "stdout",
       "text": [
        "\r",
        "300/500 [=================>............] - ETA: 2:16 - loss: 7.4808"
       ]
      },
      {
       "output_type": "stream",
       "stream": "stdout",
       "text": [
        "\r",
        "301/500 [=================>............] - ETA: 2:16 - loss: 7.4645"
       ]
      },
      {
       "output_type": "stream",
       "stream": "stdout",
       "text": [
        "\r",
        "302/500 [=================>............] - ETA: 2:15 - loss: 7.4649"
       ]
      },
      {
       "output_type": "stream",
       "stream": "stdout",
       "text": [
        "\r",
        "303/500 [=================>............] - ETA: 2:14 - loss: 7.4678"
       ]
      },
      {
       "output_type": "stream",
       "stream": "stdout",
       "text": [
        "\r",
        "304/500 [=================>............] - ETA: 2:14 - loss: 7.4514"
       ]
      },
      {
       "output_type": "stream",
       "stream": "stdout",
       "text": [
        "\r",
        "305/500 [=================>............] - ETA: 2:13 - loss: 7.4500"
       ]
      },
      {
       "output_type": "stream",
       "stream": "stdout",
       "text": [
        "\r",
        "306/500 [=================>............] - ETA: 2:12 - loss: 7.4476"
       ]
      },
      {
       "output_type": "stream",
       "stream": "stdout",
       "text": [
        "\r",
        "307/500 [=================>............] - ETA: 2:11 - loss: 7.4488"
       ]
      },
      {
       "output_type": "stream",
       "stream": "stdout",
       "text": [
        "\r",
        "308/500 [=================>............] - ETA: 2:11 - loss: 7.4439"
       ]
      },
      {
       "output_type": "stream",
       "stream": "stdout",
       "text": [
        "\r",
        "309/500 [=================>............] - ETA: 2:10 - loss: 7.4515"
       ]
      },
      {
       "output_type": "stream",
       "stream": "stdout",
       "text": [
        "\r",
        "310/500 [=================>............] - ETA: 2:09 - loss: 7.4391"
       ]
      },
      {
       "output_type": "stream",
       "stream": "stdout",
       "text": [
        "\r",
        "311/500 [=================>............] - ETA: 2:09 - loss: 7.4303"
       ]
      },
      {
       "output_type": "stream",
       "stream": "stdout",
       "text": [
        "\r",
        "312/500 [=================>............] - ETA: 2:08 - loss: 7.4186"
       ]
      },
      {
       "output_type": "stream",
       "stream": "stdout",
       "text": [
        "\r",
        "313/500 [=================>............] - ETA: 2:08 - loss: 7.4039"
       ]
      },
      {
       "output_type": "stream",
       "stream": "stdout",
       "text": [
        "\r",
        "314/500 [=================>............] - ETA: 2:07 - loss: 7.4135"
       ]
      },
      {
       "output_type": "stream",
       "stream": "stdout",
       "text": [
        "\r",
        "315/500 [=================>............] - ETA: 2:06 - loss: 7.4091"
       ]
      },
      {
       "output_type": "stream",
       "stream": "stdout",
       "text": [
        "\r",
        "316/500 [=================>............] - ETA: 2:06 - loss: 7.4210"
       ]
      },
      {
       "output_type": "stream",
       "stream": "stdout",
       "text": [
        "\r",
        "317/500 [==================>...........] - ETA: 2:05 - loss: 7.4343"
       ]
      },
      {
       "output_type": "stream",
       "stream": "stdout",
       "text": [
        "\r",
        "318/500 [==================>...........] - ETA: 2:04 - loss: 7.4487"
       ]
      },
      {
       "output_type": "stream",
       "stream": "stdout",
       "text": [
        "\r",
        "319/500 [==================>...........] - ETA: 2:04 - loss: 7.4568"
       ]
      },
      {
       "output_type": "stream",
       "stream": "stdout",
       "text": [
        "\r",
        "320/500 [==================>...........] - ETA: 2:03 - loss: 7.4579"
       ]
      },
      {
       "output_type": "stream",
       "stream": "stdout",
       "text": [
        "\r",
        "321/500 [==================>...........] - ETA: 2:02 - loss: 7.4457"
       ]
      },
      {
       "output_type": "stream",
       "stream": "stdout",
       "text": [
        "\r",
        "322/500 [==================>...........] - ETA: 2:02 - loss: 7.4499"
       ]
      },
      {
       "output_type": "stream",
       "stream": "stdout",
       "text": [
        "\r",
        "323/500 [==================>...........] - ETA: 2:01 - loss: 7.4447"
       ]
      },
      {
       "output_type": "stream",
       "stream": "stdout",
       "text": [
        "\r",
        "324/500 [==================>...........] - ETA: 2:00 - loss: 7.4341"
       ]
      },
      {
       "output_type": "stream",
       "stream": "stdout",
       "text": [
        "\r",
        "325/500 [==================>...........] - ETA: 2:00 - loss: 7.4386"
       ]
      },
      {
       "output_type": "stream",
       "stream": "stdout",
       "text": [
        "\r",
        "326/500 [==================>...........] - ETA: 1:59 - loss: 7.4293"
       ]
      },
      {
       "output_type": "stream",
       "stream": "stdout",
       "text": [
        "\r",
        "327/500 [==================>...........] - ETA: 1:58 - loss: 7.4261"
       ]
      },
      {
       "output_type": "stream",
       "stream": "stdout",
       "text": [
        "\r",
        "328/500 [==================>...........] - ETA: 1:58 - loss: 7.4291"
       ]
      },
      {
       "output_type": "stream",
       "stream": "stdout",
       "text": [
        "\r",
        "329/500 [==================>...........] - ETA: 1:57 - loss: 7.4233"
       ]
      },
      {
       "output_type": "stream",
       "stream": "stdout",
       "text": [
        "\r",
        "330/500 [==================>...........] - ETA: 1:56 - loss: 7.4326"
       ]
      },
      {
       "output_type": "stream",
       "stream": "stdout",
       "text": [
        "\r",
        "331/500 [==================>...........] - ETA: 1:56 - loss: 7.4494"
       ]
      },
      {
       "output_type": "stream",
       "stream": "stdout",
       "text": [
        "\r",
        "332/500 [==================>...........] - ETA: 1:55 - loss: 7.4776"
       ]
      },
      {
       "output_type": "stream",
       "stream": "stdout",
       "text": [
        "\r",
        "333/500 [==================>...........] - ETA: 1:54 - loss: 7.4811"
       ]
      },
      {
       "output_type": "stream",
       "stream": "stdout",
       "text": [
        "\r",
        "334/500 [===================>..........] - ETA: 1:54 - loss: 7.4729"
       ]
      },
      {
       "output_type": "stream",
       "stream": "stdout",
       "text": [
        "\r",
        "335/500 [===================>..........] - ETA: 1:53 - loss: 7.4738"
       ]
      },
      {
       "output_type": "stream",
       "stream": "stdout",
       "text": [
        "\r",
        "336/500 [===================>..........] - ETA: 1:52 - loss: 7.4594"
       ]
      },
      {
       "output_type": "stream",
       "stream": "stdout",
       "text": [
        "\r",
        "337/500 [===================>..........] - ETA: 1:52 - loss: 7.4684"
       ]
      },
      {
       "output_type": "stream",
       "stream": "stdout",
       "text": [
        "\r",
        "338/500 [===================>..........] - ETA: 1:51 - loss: 7.4651"
       ]
      },
      {
       "output_type": "stream",
       "stream": "stdout",
       "text": [
        "\r",
        "339/500 [===================>..........] - ETA: 1:50 - loss: 7.4574"
       ]
      },
      {
       "output_type": "stream",
       "stream": "stdout",
       "text": [
        "\r",
        "340/500 [===================>..........] - ETA: 1:49 - loss: 7.4742"
       ]
      },
      {
       "output_type": "stream",
       "stream": "stdout",
       "text": [
        "\r",
        "341/500 [===================>..........] - ETA: 1:49 - loss: 7.4676"
       ]
      },
      {
       "output_type": "stream",
       "stream": "stdout",
       "text": [
        "\r",
        "342/500 [===================>..........] - ETA: 1:48 - loss: 7.4604"
       ]
      },
      {
       "output_type": "stream",
       "stream": "stdout",
       "text": [
        "\r",
        "343/500 [===================>..........] - ETA: 1:47 - loss: 7.4787"
       ]
      },
      {
       "output_type": "stream",
       "stream": "stdout",
       "text": [
        "\r",
        "344/500 [===================>..........] - ETA: 1:47 - loss: 7.4790"
       ]
      },
      {
       "output_type": "stream",
       "stream": "stdout",
       "text": [
        "\r",
        "345/500 [===================>..........] - ETA: 1:46 - loss: 7.4731"
       ]
      },
      {
       "output_type": "stream",
       "stream": "stdout",
       "text": [
        "\r",
        "346/500 [===================>..........] - ETA: 1:45 - loss: 7.4870"
       ]
      },
      {
       "output_type": "stream",
       "stream": "stdout",
       "text": [
        "\r",
        "347/500 [===================>..........] - ETA: 1:45 - loss: 7.4797"
       ]
      },
      {
       "output_type": "stream",
       "stream": "stdout",
       "text": [
        "\r",
        "348/500 [===================>..........] - ETA: 1:44 - loss: 7.4763"
       ]
      },
      {
       "output_type": "stream",
       "stream": "stdout",
       "text": [
        "\r",
        "349/500 [===================>..........] - ETA: 1:43 - loss: 7.4735"
       ]
      },
      {
       "output_type": "stream",
       "stream": "stdout",
       "text": [
        "\r",
        "350/500 [====================>.........] - ETA: 1:43 - loss: 7.4714"
       ]
      },
      {
       "output_type": "stream",
       "stream": "stdout",
       "text": [
        "\r",
        "351/500 [====================>.........] - ETA: 1:42 - loss: 7.4831"
       ]
      },
      {
       "output_type": "stream",
       "stream": "stdout",
       "text": [
        "\r",
        "352/500 [====================>.........] - ETA: 1:41 - loss: 7.4988"
       ]
      },
      {
       "output_type": "stream",
       "stream": "stdout",
       "text": [
        "\r",
        "353/500 [====================>.........] - ETA: 1:40 - loss: 7.5020"
       ]
      },
      {
       "output_type": "stream",
       "stream": "stdout",
       "text": [
        "\r",
        "354/500 [====================>.........] - ETA: 1:40 - loss: 7.5052"
       ]
      },
      {
       "output_type": "stream",
       "stream": "stdout",
       "text": [
        "\r",
        "355/500 [====================>.........] - ETA: 1:39 - loss: 7.4939"
       ]
      },
      {
       "output_type": "stream",
       "stream": "stdout",
       "text": [
        "\r",
        "356/500 [====================>.........] - ETA: 1:38 - loss: 7.4961"
       ]
      },
      {
       "output_type": "stream",
       "stream": "stdout",
       "text": [
        "\r",
        "357/500 [====================>.........] - ETA: 1:38 - loss: 7.5100"
       ]
      },
      {
       "output_type": "stream",
       "stream": "stdout",
       "text": [
        "\r",
        "358/500 [====================>.........] - ETA: 1:37 - loss: 7.5129"
       ]
      },
      {
       "output_type": "stream",
       "stream": "stdout",
       "text": [
        "\r",
        "359/500 [====================>.........] - ETA: 1:36 - loss: 7.5052"
       ]
      },
      {
       "output_type": "stream",
       "stream": "stdout",
       "text": [
        "\r",
        "360/500 [====================>.........] - ETA: 1:36 - loss: 7.4919"
       ]
      },
      {
       "output_type": "stream",
       "stream": "stdout",
       "text": [
        "\r",
        "361/500 [====================>.........] - ETA: 1:35 - loss: 7.4871"
       ]
      },
      {
       "output_type": "stream",
       "stream": "stdout",
       "text": [
        "\r",
        "362/500 [====================>.........] - ETA: 1:34 - loss: 7.4841"
       ]
      },
      {
       "output_type": "stream",
       "stream": "stdout",
       "text": [
        "\r",
        "363/500 [====================>.........] - ETA: 1:34 - loss: 7.4786"
       ]
      },
      {
       "output_type": "stream",
       "stream": "stdout",
       "text": [
        "\r",
        "364/500 [====================>.........] - ETA: 1:33 - loss: 7.4831"
       ]
      },
      {
       "output_type": "stream",
       "stream": "stdout",
       "text": [
        "\r",
        "365/500 [====================>.........] - ETA: 1:32 - loss: 7.4803"
       ]
      },
      {
       "output_type": "stream",
       "stream": "stdout",
       "text": [
        "\r",
        "366/500 [====================>.........] - ETA: 1:31 - loss: 7.5001"
       ]
      },
      {
       "output_type": "stream",
       "stream": "stdout",
       "text": [
        "\r",
        "367/500 [=====================>........] - ETA: 1:31 - loss: 7.4900"
       ]
      },
      {
       "output_type": "stream",
       "stream": "stdout",
       "text": [
        "\r",
        "368/500 [=====================>........] - ETA: 1:30 - loss: 7.4847"
       ]
      },
      {
       "output_type": "stream",
       "stream": "stdout",
       "text": [
        "\r",
        "369/500 [=====================>........] - ETA: 1:29 - loss: 7.5111"
       ]
      },
      {
       "output_type": "stream",
       "stream": "stdout",
       "text": [
        "\r",
        "370/500 [=====================>........] - ETA: 1:29 - loss: 7.5011"
       ]
      },
      {
       "output_type": "stream",
       "stream": "stdout",
       "text": [
        "\r",
        "371/500 [=====================>........] - ETA: 1:28 - loss: 7.5021"
       ]
      },
      {
       "output_type": "stream",
       "stream": "stdout",
       "text": [
        "\r",
        "372/500 [=====================>........] - ETA: 1:27 - loss: 7.4954"
       ]
      },
      {
       "output_type": "stream",
       "stream": "stdout",
       "text": [
        "\r",
        "373/500 [=====================>........] - ETA: 1:27 - loss: 7.5073"
       ]
      },
      {
       "output_type": "stream",
       "stream": "stdout",
       "text": [
        "\r",
        "374/500 [=====================>........] - ETA: 1:26 - loss: 7.5017"
       ]
      },
      {
       "output_type": "stream",
       "stream": "stdout",
       "text": [
        "\r",
        "375/500 [=====================>........] - ETA: 1:25 - loss: 7.5004"
       ]
      },
      {
       "output_type": "stream",
       "stream": "stdout",
       "text": [
        "\r",
        "376/500 [=====================>........] - ETA: 1:25 - loss: 7.5009"
       ]
      },
      {
       "output_type": "stream",
       "stream": "stdout",
       "text": [
        "\r",
        "377/500 [=====================>........] - ETA: 1:24 - loss: 7.5064"
       ]
      },
      {
       "output_type": "stream",
       "stream": "stdout",
       "text": [
        "\r",
        "378/500 [=====================>........] - ETA: 1:23 - loss: 7.5158"
       ]
      },
      {
       "output_type": "stream",
       "stream": "stdout",
       "text": [
        "\r",
        "379/500 [=====================>........] - ETA: 1:23 - loss: 7.5237"
       ]
      },
      {
       "output_type": "stream",
       "stream": "stdout",
       "text": [
        "\r",
        "380/500 [=====================>........] - ETA: 1:22 - loss: 7.5168"
       ]
      },
      {
       "output_type": "stream",
       "stream": "stdout",
       "text": [
        "\r",
        "381/500 [=====================>........] - ETA: 1:21 - loss: 7.5057"
       ]
      },
      {
       "output_type": "stream",
       "stream": "stdout",
       "text": [
        "\r",
        "382/500 [=====================>........] - ETA: 1:20 - loss: 7.4917"
       ]
      },
      {
       "output_type": "stream",
       "stream": "stdout",
       "text": [
        "\r",
        "383/500 [=====================>........] - ETA: 1:20 - loss: 7.4889"
       ]
      },
      {
       "output_type": "stream",
       "stream": "stdout",
       "text": [
        "\r",
        "384/500 [======================>.......] - ETA: 1:19 - loss: 7.4895"
       ]
      },
      {
       "output_type": "stream",
       "stream": "stdout",
       "text": [
        "\r",
        "385/500 [======================>.......] - ETA: 1:18 - loss: 7.4873"
       ]
      },
      {
       "output_type": "stream",
       "stream": "stdout",
       "text": [
        "\r",
        "386/500 [======================>.......] - ETA: 1:18 - loss: 7.4899"
       ]
      },
      {
       "output_type": "stream",
       "stream": "stdout",
       "text": [
        "\r",
        "387/500 [======================>.......] - ETA: 1:17 - loss: 7.4933"
       ]
      },
      {
       "output_type": "stream",
       "stream": "stdout",
       "text": [
        "\r",
        "388/500 [======================>.......] - ETA: 1:16 - loss: 7.4778"
       ]
      },
      {
       "output_type": "stream",
       "stream": "stdout",
       "text": [
        "\r",
        "389/500 [======================>.......] - ETA: 1:16 - loss: 7.4957"
       ]
      },
      {
       "output_type": "stream",
       "stream": "stdout",
       "text": [
        "\r",
        "390/500 [======================>.......] - ETA: 1:15 - loss: 7.4975"
       ]
      },
      {
       "output_type": "stream",
       "stream": "stdout",
       "text": [
        "\r",
        "391/500 [======================>.......] - ETA: 1:14 - loss: 7.5169"
       ]
      },
      {
       "output_type": "stream",
       "stream": "stdout",
       "text": [
        "\r",
        "392/500 [======================>.......] - ETA: 1:14 - loss: 7.5107"
       ]
      },
      {
       "output_type": "stream",
       "stream": "stdout",
       "text": [
        "\r",
        "393/500 [======================>.......] - ETA: 1:13 - loss: 7.5226"
       ]
      },
      {
       "output_type": "stream",
       "stream": "stdout",
       "text": [
        "\r",
        "394/500 [======================>.......] - ETA: 1:12 - loss: 7.5357"
       ]
      },
      {
       "output_type": "stream",
       "stream": "stdout",
       "text": [
        "\r",
        "395/500 [======================>.......] - ETA: 1:12 - loss: 7.5236"
       ]
      },
      {
       "output_type": "stream",
       "stream": "stdout",
       "text": [
        "\r",
        "396/500 [======================>.......] - ETA: 1:11 - loss: 7.5267"
       ]
      },
      {
       "output_type": "stream",
       "stream": "stdout",
       "text": [
        "\r",
        "397/500 [======================>.......] - ETA: 1:10 - loss: 7.5328"
       ]
      },
      {
       "output_type": "stream",
       "stream": "stdout",
       "text": [
        "\r",
        "398/500 [======================>.......] - ETA: 1:09 - loss: 7.5339"
       ]
      },
      {
       "output_type": "stream",
       "stream": "stdout",
       "text": [
        "\r",
        "399/500 [======================>.......] - ETA: 1:09 - loss: 7.5255"
       ]
      },
      {
       "output_type": "stream",
       "stream": "stdout",
       "text": [
        "\r",
        "400/500 [=======================>......] - ETA: 1:08 - loss: 7.5234"
       ]
      },
      {
       "output_type": "stream",
       "stream": "stdout",
       "text": [
        "\r",
        "401/500 [=======================>......] - ETA: 1:07 - loss: 7.5203"
       ]
      },
      {
       "output_type": "stream",
       "stream": "stdout",
       "text": [
        "\r",
        "402/500 [=======================>......] - ETA: 1:07 - loss: 7.5331"
       ]
      },
      {
       "output_type": "stream",
       "stream": "stdout",
       "text": [
        "\r",
        "403/500 [=======================>......] - ETA: 1:06 - loss: 7.5201"
       ]
      },
      {
       "output_type": "stream",
       "stream": "stdout",
       "text": [
        "\r",
        "404/500 [=======================>......] - ETA: 1:05 - loss: 7.5153"
       ]
      },
      {
       "output_type": "stream",
       "stream": "stdout",
       "text": [
        "\r",
        "405/500 [=======================>......] - ETA: 1:05 - loss: 7.5328"
       ]
      },
      {
       "output_type": "stream",
       "stream": "stdout",
       "text": [
        "\r",
        "406/500 [=======================>......] - ETA: 1:04 - loss: 7.5371"
       ]
      },
      {
       "output_type": "stream",
       "stream": "stdout",
       "text": [
        "\r",
        "407/500 [=======================>......] - ETA: 1:03 - loss: 7.5359"
       ]
      },
      {
       "output_type": "stream",
       "stream": "stdout",
       "text": [
        "\r",
        "408/500 [=======================>......] - ETA: 1:03 - loss: 7.5343"
       ]
      },
      {
       "output_type": "stream",
       "stream": "stdout",
       "text": [
        "\r",
        "409/500 [=======================>......] - ETA: 1:02 - loss: 7.5450"
       ]
      },
      {
       "output_type": "stream",
       "stream": "stdout",
       "text": [
        "\r",
        "410/500 [=======================>......] - ETA: 1:01 - loss: 7.5455"
       ]
      },
      {
       "output_type": "stream",
       "stream": "stdout",
       "text": [
        "\r",
        "411/500 [=======================>......] - ETA: 1:01 - loss: 7.5432"
       ]
      },
      {
       "output_type": "stream",
       "stream": "stdout",
       "text": [
        "\r",
        "412/500 [=======================>......] - ETA: 1:00 - loss: 7.5453"
       ]
      },
      {
       "output_type": "stream",
       "stream": "stdout",
       "text": [
        "\r",
        "413/500 [=======================>......] - ETA: 59s - loss: 7.5349 "
       ]
      },
      {
       "output_type": "stream",
       "stream": "stdout",
       "text": [
        "\r",
        "414/500 [=======================>......] - ETA: 58s - loss: 7.5258"
       ]
      },
      {
       "output_type": "stream",
       "stream": "stdout",
       "text": [
        "\r",
        "415/500 [=======================>......] - ETA: 58s - loss: 7.5205"
       ]
      },
      {
       "output_type": "stream",
       "stream": "stdout",
       "text": [
        "\r",
        "416/500 [=======================>......] - ETA: 57s - loss: 7.5357"
       ]
      },
      {
       "output_type": "stream",
       "stream": "stdout",
       "text": [
        "\r",
        "417/500 [========================>.....] - ETA: 56s - loss: 7.5285"
       ]
      },
      {
       "output_type": "stream",
       "stream": "stdout",
       "text": [
        "\r",
        "418/500 [========================>.....] - ETA: 56s - loss: 7.5292"
       ]
      },
      {
       "output_type": "stream",
       "stream": "stdout",
       "text": [
        "\r",
        "419/500 [========================>.....] - ETA: 55s - loss: 7.5338"
       ]
      },
      {
       "output_type": "stream",
       "stream": "stdout",
       "text": [
        "\r",
        "420/500 [========================>.....] - ETA: 54s - loss: 7.5252"
       ]
      },
      {
       "output_type": "stream",
       "stream": "stdout",
       "text": [
        "\r",
        "421/500 [========================>.....] - ETA: 54s - loss: 7.5331"
       ]
      },
      {
       "output_type": "stream",
       "stream": "stdout",
       "text": [
        "\r",
        "422/500 [========================>.....] - ETA: 53s - loss: 7.5443"
       ]
      },
      {
       "output_type": "stream",
       "stream": "stdout",
       "text": [
        "\r",
        "423/500 [========================>.....] - ETA: 52s - loss: 7.5446"
       ]
      },
      {
       "output_type": "stream",
       "stream": "stdout",
       "text": [
        "\r",
        "424/500 [========================>.....] - ETA: 52s - loss: 7.5351"
       ]
      },
      {
       "output_type": "stream",
       "stream": "stdout",
       "text": [
        "\r",
        "425/500 [========================>.....] - ETA: 51s - loss: 7.5569"
       ]
      },
      {
       "output_type": "stream",
       "stream": "stdout",
       "text": [
        "\r",
        "426/500 [========================>.....] - ETA: 50s - loss: 7.5695"
       ]
      },
      {
       "output_type": "stream",
       "stream": "stdout",
       "text": [
        "\r",
        "427/500 [========================>.....] - ETA: 50s - loss: 7.5625"
       ]
      },
      {
       "output_type": "stream",
       "stream": "stdout",
       "text": [
        "\r",
        "428/500 [========================>.....] - ETA: 49s - loss: 7.5633"
       ]
      },
      {
       "output_type": "stream",
       "stream": "stdout",
       "text": [
        "\r",
        "429/500 [========================>.....] - ETA: 48s - loss: 7.5627"
       ]
      },
      {
       "output_type": "stream",
       "stream": "stdout",
       "text": [
        "\r",
        "430/500 [========================>.....] - ETA: 47s - loss: 7.5565"
       ]
      },
      {
       "output_type": "stream",
       "stream": "stdout",
       "text": [
        "\r",
        "431/500 [========================>.....] - ETA: 47s - loss: 7.5616"
       ]
      },
      {
       "output_type": "stream",
       "stream": "stdout",
       "text": [
        "\r",
        "432/500 [========================>.....] - ETA: 46s - loss: 7.5530"
       ]
      },
      {
       "output_type": "stream",
       "stream": "stdout",
       "text": [
        "\r",
        "433/500 [========================>.....] - ETA: 45s - loss: 7.5574"
       ]
      },
      {
       "output_type": "stream",
       "stream": "stdout",
       "text": [
        "\r",
        "434/500 [=========================>....] - ETA: 45s - loss: 7.5573"
       ]
      },
      {
       "output_type": "stream",
       "stream": "stdout",
       "text": [
        "\r",
        "435/500 [=========================>....] - ETA: 44s - loss: 7.5491"
       ]
      },
      {
       "output_type": "stream",
       "stream": "stdout",
       "text": [
        "\r",
        "436/500 [=========================>....] - ETA: 43s - loss: 7.5476"
       ]
      },
      {
       "output_type": "stream",
       "stream": "stdout",
       "text": [
        "\r",
        "437/500 [=========================>....] - ETA: 43s - loss: 7.5463"
       ]
      },
      {
       "output_type": "stream",
       "stream": "stdout",
       "text": [
        "\r",
        "438/500 [=========================>....] - ETA: 42s - loss: 7.5468"
       ]
      },
      {
       "output_type": "stream",
       "stream": "stdout",
       "text": [
        "\r",
        "439/500 [=========================>....] - ETA: 41s - loss: 7.5460"
       ]
      },
      {
       "output_type": "stream",
       "stream": "stdout",
       "text": [
        "\r",
        "440/500 [=========================>....] - ETA: 41s - loss: 7.5491"
       ]
      },
      {
       "output_type": "stream",
       "stream": "stdout",
       "text": [
        "\r",
        "441/500 [=========================>....] - ETA: 40s - loss: 7.5476"
       ]
      },
      {
       "output_type": "stream",
       "stream": "stdout",
       "text": [
        "\r",
        "442/500 [=========================>....] - ETA: 39s - loss: 7.5494"
       ]
      },
      {
       "output_type": "stream",
       "stream": "stdout",
       "text": [
        "\r",
        "443/500 [=========================>....] - ETA: 39s - loss: 7.5382"
       ]
      },
      {
       "output_type": "stream",
       "stream": "stdout",
       "text": [
        "\r",
        "444/500 [=========================>....] - ETA: 38s - loss: 7.5493"
       ]
      },
      {
       "output_type": "stream",
       "stream": "stdout",
       "text": [
        "\r",
        "445/500 [=========================>....] - ETA: 37s - loss: 7.5458"
       ]
      },
      {
       "output_type": "stream",
       "stream": "stdout",
       "text": [
        "\r",
        "446/500 [=========================>....] - ETA: 37s - loss: 7.5418"
       ]
      },
      {
       "output_type": "stream",
       "stream": "stdout",
       "text": [
        "\r",
        "447/500 [=========================>....] - ETA: 36s - loss: 7.5389"
       ]
      },
      {
       "output_type": "stream",
       "stream": "stdout",
       "text": [
        "\r",
        "448/500 [=========================>....] - ETA: 35s - loss: 7.5314"
       ]
      },
      {
       "output_type": "stream",
       "stream": "stdout",
       "text": [
        "\r",
        "449/500 [=========================>....] - ETA: 34s - loss: 7.5288"
       ]
      },
      {
       "output_type": "stream",
       "stream": "stdout",
       "text": [
        "\r",
        "450/500 [==========================>...] - ETA: 34s - loss: 7.5192"
       ]
      },
      {
       "output_type": "stream",
       "stream": "stdout",
       "text": [
        "\r",
        "451/500 [==========================>...] - ETA: 33s - loss: 7.5133"
       ]
      },
      {
       "output_type": "stream",
       "stream": "stdout",
       "text": [
        "\r",
        "452/500 [==========================>...] - ETA: 32s - loss: 7.5072"
       ]
      },
      {
       "output_type": "stream",
       "stream": "stdout",
       "text": [
        "\r",
        "453/500 [==========================>...] - ETA: 32s - loss: 7.5291"
       ]
      },
      {
       "output_type": "stream",
       "stream": "stdout",
       "text": [
        "\r",
        "454/500 [==========================>...] - ETA: 31s - loss: 7.5244"
       ]
      },
      {
       "output_type": "stream",
       "stream": "stdout",
       "text": [
        "\r",
        "455/500 [==========================>...] - ETA: 30s - loss: 7.5204"
       ]
      },
      {
       "output_type": "stream",
       "stream": "stdout",
       "text": [
        "\r",
        "456/500 [==========================>...] - ETA: 30s - loss: 7.5150"
       ]
      },
      {
       "output_type": "stream",
       "stream": "stdout",
       "text": [
        "\r",
        "457/500 [==========================>...] - ETA: 29s - loss: 7.5024"
       ]
      },
      {
       "output_type": "stream",
       "stream": "stdout",
       "text": [
        "\r",
        "458/500 [==========================>...] - ETA: 28s - loss: 7.5100"
       ]
      },
      {
       "output_type": "stream",
       "stream": "stdout",
       "text": [
        "\r",
        "459/500 [==========================>...] - ETA: 28s - loss: 7.5007"
       ]
      },
      {
       "output_type": "stream",
       "stream": "stdout",
       "text": [
        "\r",
        "460/500 [==========================>...] - ETA: 27s - loss: 7.4958"
       ]
      },
      {
       "output_type": "stream",
       "stream": "stdout",
       "text": [
        "\r",
        "461/500 [==========================>...] - ETA: 26s - loss: 7.4840"
       ]
      },
      {
       "output_type": "stream",
       "stream": "stdout",
       "text": [
        "\r",
        "462/500 [==========================>...] - ETA: 26s - loss: 7.4731"
       ]
      },
      {
       "output_type": "stream",
       "stream": "stdout",
       "text": [
        "\r",
        "463/500 [==========================>...] - ETA: 25s - loss: 7.4721"
       ]
      },
      {
       "output_type": "stream",
       "stream": "stdout",
       "text": [
        "\r",
        "464/500 [==========================>...] - ETA: 24s - loss: 7.4677"
       ]
      },
      {
       "output_type": "stream",
       "stream": "stdout",
       "text": [
        "\r",
        "465/500 [==========================>...] - ETA: 23s - loss: 7.4626"
       ]
      },
      {
       "output_type": "stream",
       "stream": "stdout",
       "text": [
        "\r",
        "466/500 [==========================>...] - ETA: 23s - loss: 7.4568"
       ]
      },
      {
       "output_type": "stream",
       "stream": "stdout",
       "text": [
        "\r",
        "467/500 [===========================>..] - ETA: 22s - loss: 7.4544"
       ]
      },
      {
       "output_type": "stream",
       "stream": "stdout",
       "text": [
        "\r",
        "468/500 [===========================>..] - ETA: 21s - loss: 7.4591"
       ]
      },
      {
       "output_type": "stream",
       "stream": "stdout",
       "text": [
        "\r",
        "469/500 [===========================>..] - ETA: 21s - loss: 7.4607"
       ]
      },
      {
       "output_type": "stream",
       "stream": "stdout",
       "text": [
        "\r",
        "470/500 [===========================>..] - ETA: 20s - loss: 7.4545"
       ]
      },
      {
       "output_type": "stream",
       "stream": "stdout",
       "text": [
        "\r",
        "471/500 [===========================>..] - ETA: 19s - loss: 7.4551"
       ]
      },
      {
       "output_type": "stream",
       "stream": "stdout",
       "text": [
        "\r",
        "472/500 [===========================>..] - ETA: 19s - loss: 7.4578"
       ]
      },
      {
       "output_type": "stream",
       "stream": "stdout",
       "text": [
        "\r",
        "473/500 [===========================>..] - ETA: 18s - loss: 7.4730"
       ]
      },
      {
       "output_type": "stream",
       "stream": "stdout",
       "text": [
        "\r",
        "474/500 [===========================>..] - ETA: 17s - loss: 7.4678"
       ]
      },
      {
       "output_type": "stream",
       "stream": "stdout",
       "text": [
        "\r",
        "475/500 [===========================>..] - ETA: 17s - loss: 7.4666"
       ]
      },
      {
       "output_type": "stream",
       "stream": "stdout",
       "text": [
        "\r",
        "476/500 [===========================>..] - ETA: 16s - loss: 7.4638"
       ]
      },
      {
       "output_type": "stream",
       "stream": "stdout",
       "text": [
        "\r",
        "477/500 [===========================>..] - ETA: 15s - loss: 7.4696"
       ]
      },
      {
       "output_type": "stream",
       "stream": "stdout",
       "text": [
        "\r",
        "478/500 [===========================>..] - ETA: 15s - loss: 7.4721"
       ]
      },
      {
       "output_type": "stream",
       "stream": "stdout",
       "text": [
        "\r",
        "479/500 [===========================>..] - ETA: 14s - loss: 7.4740"
       ]
      },
      {
       "output_type": "stream",
       "stream": "stdout",
       "text": [
        "\r",
        "480/500 [===========================>..] - ETA: 13s - loss: 7.4759"
       ]
      },
      {
       "output_type": "stream",
       "stream": "stdout",
       "text": [
        "\r",
        "481/500 [===========================>..] - ETA: 13s - loss: 7.4825"
       ]
      },
      {
       "output_type": "stream",
       "stream": "stdout",
       "text": [
        "\r",
        "482/500 [===========================>..] - ETA: 12s - loss: 7.4892"
       ]
      },
      {
       "output_type": "stream",
       "stream": "stdout",
       "text": [
        "\r",
        "483/500 [===========================>..] - ETA: 11s - loss: 7.4896"
       ]
      },
      {
       "output_type": "stream",
       "stream": "stdout",
       "text": [
        "\r",
        "484/500 [============================>.] - ETA: 10s - loss: 7.4995"
       ]
      },
      {
       "output_type": "stream",
       "stream": "stdout",
       "text": [
        "\r",
        "485/500 [============================>.] - ETA: 10s - loss: 7.4951"
       ]
      },
      {
       "output_type": "stream",
       "stream": "stdout",
       "text": [
        "\r",
        "486/500 [============================>.] - ETA: 9s - loss: 7.4922 "
       ]
      },
      {
       "output_type": "stream",
       "stream": "stdout",
       "text": [
        "\r",
        "487/500 [============================>.] - ETA: 8s - loss: 7.4902"
       ]
      },
      {
       "output_type": "stream",
       "stream": "stdout",
       "text": [
        "\r",
        "488/500 [============================>.] - ETA: 8s - loss: 7.4918"
       ]
      },
      {
       "output_type": "stream",
       "stream": "stdout",
       "text": [
        "\r",
        "489/500 [============================>.] - ETA: 7s - loss: 7.4865"
       ]
      },
      {
       "output_type": "stream",
       "stream": "stdout",
       "text": [
        "\r",
        "490/500 [============================>.] - ETA: 6s - loss: 7.4960"
       ]
      },
      {
       "output_type": "stream",
       "stream": "stdout",
       "text": [
        "\r",
        "491/500 [============================>.] - ETA: 6s - loss: 7.4886"
       ]
      },
      {
       "output_type": "stream",
       "stream": "stdout",
       "text": [
        "\r",
        "492/500 [============================>.] - ETA: 5s - loss: 7.4924"
       ]
      },
      {
       "output_type": "stream",
       "stream": "stdout",
       "text": [
        "\r",
        "493/500 [============================>.] - ETA: 4s - loss: 7.4843"
       ]
      },
      {
       "output_type": "stream",
       "stream": "stdout",
       "text": [
        "\r",
        "494/500 [============================>.] - ETA: 4s - loss: 7.4893"
       ]
      },
      {
       "output_type": "stream",
       "stream": "stdout",
       "text": [
        "\r",
        "495/500 [============================>.] - ETA: 3s - loss: 7.4962"
       ]
      },
      {
       "output_type": "stream",
       "stream": "stdout",
       "text": [
        "\r",
        "496/500 [============================>.] - ETA: 2s - loss: 7.4971"
       ]
      },
      {
       "output_type": "stream",
       "stream": "stdout",
       "text": [
        "\r",
        "497/500 [============================>.] - ETA: 2s - loss: 7.4944"
       ]
      },
      {
       "output_type": "stream",
       "stream": "stdout",
       "text": [
        "\r",
        "498/500 [============================>.] - ETA: 1s - loss: 7.4881"
       ]
      },
      {
       "output_type": "stream",
       "stream": "stdout",
       "text": [
        "\r",
        "499/500 [============================>.] - ETA: 0s - loss: 7.4883"
       ]
      },
      {
       "output_type": "stream",
       "stream": "stdout",
       "text": [
        "\r",
        "500/500 [==============================] - 365s 729ms/step - loss: 7.4864 - val_loss: 5.7054\n"
       ]
      },
      {
       "output_type": "stream",
       "stream": "stdout",
       "text": [
        "\n",
        "Epoch 00004: val_loss improved from 6.05694 to 5.70542, saving model to models2/resnet152/2020-01-11-22:31:49.hdf5\n",
        "Epoch 5/10"
       ]
      },
      {
       "output_type": "stream",
       "stream": "stdout",
       "text": [
        "\n",
        "\r"
       ]
      },
      {
       "output_type": "stream",
       "stream": "stdout",
       "text": [
        "  1/500 [..............................] - ETA: 5:51 - loss: 5.4319"
       ]
      },
      {
       "output_type": "stream",
       "stream": "stdout",
       "text": [
        "\r",
        "  2/500 [..............................] - ETA: 5:50 - loss: 4.2721"
       ]
      },
      {
       "output_type": "stream",
       "stream": "stdout",
       "text": [
        "\r",
        "  3/500 [..............................] - ETA: 5:46 - loss: 6.9665"
       ]
      },
      {
       "output_type": "stream",
       "stream": "stdout",
       "text": [
        "\r",
        "  4/500 [..............................] - ETA: 5:43 - loss: 6.5898"
       ]
      },
      {
       "output_type": "stream",
       "stream": "stdout",
       "text": [
        "\r",
        "  5/500 [..............................] - ETA: 5:42 - loss: 6.6911"
       ]
      },
      {
       "output_type": "stream",
       "stream": "stdout",
       "text": [
        "\r",
        "  6/500 [..............................] - ETA: 5:40 - loss: 7.3470"
       ]
      },
      {
       "output_type": "stream",
       "stream": "stdout",
       "text": [
        "\r",
        "  7/500 [..............................] - ETA: 5:38 - loss: 7.4625"
       ]
      },
      {
       "output_type": "stream",
       "stream": "stdout",
       "text": [
        "\r",
        "  8/500 [..............................] - ETA: 5:36 - loss: 7.0831"
       ]
      },
      {
       "output_type": "stream",
       "stream": "stdout",
       "text": [
        "\r",
        "  9/500 [..............................] - ETA: 5:36 - loss: 6.7812"
       ]
      },
      {
       "output_type": "stream",
       "stream": "stdout",
       "text": [
        "\r",
        " 10/500 [..............................] - ETA: 5:35 - loss: 7.4328"
       ]
      },
      {
       "output_type": "stream",
       "stream": "stdout",
       "text": [
        "\r",
        " 11/500 [..............................] - ETA: 5:34 - loss: 7.2684"
       ]
      },
      {
       "output_type": "stream",
       "stream": "stdout",
       "text": [
        "\r",
        " 12/500 [..............................] - ETA: 5:34 - loss: 7.5374"
       ]
      },
      {
       "output_type": "stream",
       "stream": "stdout",
       "text": [
        "\r",
        " 13/500 [..............................] - ETA: 5:33 - loss: 7.3028"
       ]
      },
      {
       "output_type": "stream",
       "stream": "stdout",
       "text": [
        "\r",
        " 14/500 [..............................] - ETA: 5:32 - loss: 7.4418"
       ]
      },
      {
       "output_type": "stream",
       "stream": "stdout",
       "text": [
        "\r",
        " 15/500 [..............................] - ETA: 5:31 - loss: 8.0106"
       ]
      },
      {
       "output_type": "stream",
       "stream": "stdout",
       "text": [
        "\r",
        " 16/500 [..............................] - ETA: 5:30 - loss: 7.8008"
       ]
      },
      {
       "output_type": "stream",
       "stream": "stdout",
       "text": [
        "\r",
        " 17/500 [>.............................] - ETA: 5:29 - loss: 7.6510"
       ]
      },
      {
       "output_type": "stream",
       "stream": "stdout",
       "text": [
        "\r",
        " 18/500 [>.............................] - ETA: 5:28 - loss: 7.6308"
       ]
      },
      {
       "output_type": "stream",
       "stream": "stdout",
       "text": [
        "\r",
        " 19/500 [>.............................] - ETA: 5:27 - loss: 7.6579"
       ]
      },
      {
       "output_type": "stream",
       "stream": "stdout",
       "text": [
        "\r",
        " 20/500 [>.............................] - ETA: 5:27 - loss: 7.6450"
       ]
      },
      {
       "output_type": "stream",
       "stream": "stdout",
       "text": [
        "\r",
        " 21/500 [>.............................] - ETA: 5:26 - loss: 7.5140"
       ]
      },
      {
       "output_type": "stream",
       "stream": "stdout",
       "text": [
        "\r",
        " 22/500 [>.............................] - ETA: 5:26 - loss: 7.2936"
       ]
      },
      {
       "output_type": "stream",
       "stream": "stdout",
       "text": [
        "\r",
        " 23/500 [>.............................] - ETA: 5:25 - loss: 7.2889"
       ]
      },
      {
       "output_type": "stream",
       "stream": "stdout",
       "text": [
        "\r",
        " 24/500 [>.............................] - ETA: 5:24 - loss: 7.1682"
       ]
      },
      {
       "output_type": "stream",
       "stream": "stdout",
       "text": [
        "\r",
        " 25/500 [>.............................] - ETA: 5:23 - loss: 7.1070"
       ]
      },
      {
       "output_type": "stream",
       "stream": "stdout",
       "text": [
        "\r",
        " 26/500 [>.............................] - ETA: 5:23 - loss: 7.0276"
       ]
      },
      {
       "output_type": "stream",
       "stream": "stdout",
       "text": [
        "\r",
        " 27/500 [>.............................] - ETA: 5:22 - loss: 6.9197"
       ]
      },
      {
       "output_type": "stream",
       "stream": "stdout",
       "text": [
        "\r",
        " 28/500 [>.............................] - ETA: 5:21 - loss: 6.9720"
       ]
      },
      {
       "output_type": "stream",
       "stream": "stdout",
       "text": [
        "\r",
        " 29/500 [>.............................] - ETA: 5:20 - loss: 6.8909"
       ]
      },
      {
       "output_type": "stream",
       "stream": "stdout",
       "text": [
        "\r",
        " 30/500 [>.............................] - ETA: 5:20 - loss: 7.1641"
       ]
      },
      {
       "output_type": "stream",
       "stream": "stdout",
       "text": [
        "\r",
        " 31/500 [>.............................] - ETA: 5:19 - loss: 7.0258"
       ]
      },
      {
       "output_type": "stream",
       "stream": "stdout",
       "text": [
        "\r",
        " 32/500 [>.............................] - ETA: 5:18 - loss: 6.9109"
       ]
      },
      {
       "output_type": "stream",
       "stream": "stdout",
       "text": [
        "\r",
        " 33/500 [>.............................] - ETA: 5:18 - loss: 6.9402"
       ]
      },
      {
       "output_type": "stream",
       "stream": "stdout",
       "text": [
        "\r",
        " 34/500 [=>............................] - ETA: 5:17 - loss: 6.9694"
       ]
      },
      {
       "output_type": "stream",
       "stream": "stdout",
       "text": [
        "\r",
        " 35/500 [=>............................] - ETA: 5:16 - loss: 7.3266"
       ]
      },
      {
       "output_type": "stream",
       "stream": "stdout",
       "text": [
        "\r",
        " 36/500 [=>............................] - ETA: 5:15 - loss: 7.3248"
       ]
      },
      {
       "output_type": "stream",
       "stream": "stdout",
       "text": [
        "\r",
        " 37/500 [=>............................] - ETA: 5:15 - loss: 7.3431"
       ]
      },
      {
       "output_type": "stream",
       "stream": "stdout",
       "text": [
        "\r",
        " 38/500 [=>............................] - ETA: 5:14 - loss: 7.2595"
       ]
      },
      {
       "output_type": "stream",
       "stream": "stdout",
       "text": [
        "\r",
        " 39/500 [=>............................] - ETA: 5:14 - loss: 7.2075"
       ]
      },
      {
       "output_type": "stream",
       "stream": "stdout",
       "text": [
        "\r",
        " 40/500 [=>............................] - ETA: 5:13 - loss: 7.2075"
       ]
      },
      {
       "output_type": "stream",
       "stream": "stdout",
       "text": [
        "\r",
        " 41/500 [=>............................] - ETA: 5:12 - loss: 7.3842"
       ]
      },
      {
       "output_type": "stream",
       "stream": "stdout",
       "text": [
        "\r",
        " 42/500 [=>............................] - ETA: 5:12 - loss: 7.3651"
       ]
      },
      {
       "output_type": "stream",
       "stream": "stdout",
       "text": [
        "\r",
        " 43/500 [=>............................] - ETA: 5:11 - loss: 7.3961"
       ]
      },
      {
       "output_type": "stream",
       "stream": "stdout",
       "text": [
        "\r",
        " 44/500 [=>............................] - ETA: 5:10 - loss: 7.3507"
       ]
      },
      {
       "output_type": "stream",
       "stream": "stdout",
       "text": [
        "\r",
        " 45/500 [=>............................] - ETA: 5:09 - loss: 7.2727"
       ]
      },
      {
       "output_type": "stream",
       "stream": "stdout",
       "text": [
        "\r",
        " 46/500 [=>............................] - ETA: 5:09 - loss: 7.2805"
       ]
      },
      {
       "output_type": "stream",
       "stream": "stdout",
       "text": [
        "\r",
        " 47/500 [=>............................] - ETA: 5:08 - loss: 7.4053"
       ]
      },
      {
       "output_type": "stream",
       "stream": "stdout",
       "text": [
        "\r",
        " 48/500 [=>............................] - ETA: 5:07 - loss: 7.4535"
       ]
      },
      {
       "output_type": "stream",
       "stream": "stdout",
       "text": [
        "\r",
        " 49/500 [=>............................] - ETA: 5:07 - loss: 7.4291"
       ]
      },
      {
       "output_type": "stream",
       "stream": "stdout",
       "text": [
        "\r",
        " 50/500 [==>...........................] - ETA: 5:06 - loss: 7.3419"
       ]
      },
      {
       "output_type": "stream",
       "stream": "stdout",
       "text": [
        "\r",
        " 51/500 [==>...........................] - ETA: 5:05 - loss: 7.3424"
       ]
      },
      {
       "output_type": "stream",
       "stream": "stdout",
       "text": [
        "\r",
        " 52/500 [==>...........................] - ETA: 5:05 - loss: 7.2929"
       ]
      },
      {
       "output_type": "stream",
       "stream": "stdout",
       "text": [
        "\r",
        " 53/500 [==>...........................] - ETA: 5:04 - loss: 7.3269"
       ]
      },
      {
       "output_type": "stream",
       "stream": "stdout",
       "text": [
        "\r",
        " 54/500 [==>...........................] - ETA: 5:03 - loss: 7.2507"
       ]
      },
      {
       "output_type": "stream",
       "stream": "stdout",
       "text": [
        "\r",
        " 55/500 [==>...........................] - ETA: 5:02 - loss: 7.3798"
       ]
      },
      {
       "output_type": "stream",
       "stream": "stdout",
       "text": [
        "\r",
        " 56/500 [==>...........................] - ETA: 5:02 - loss: 7.3008"
       ]
      },
      {
       "output_type": "stream",
       "stream": "stdout",
       "text": [
        "\r",
        " 57/500 [==>...........................] - ETA: 5:01 - loss: 7.3347"
       ]
      },
      {
       "output_type": "stream",
       "stream": "stdout",
       "text": [
        "\r",
        " 58/500 [==>...........................] - ETA: 5:00 - loss: 7.4068"
       ]
      },
      {
       "output_type": "stream",
       "stream": "stdout",
       "text": [
        "\r",
        " 59/500 [==>...........................] - ETA: 5:00 - loss: 7.4355"
       ]
      },
      {
       "output_type": "stream",
       "stream": "stdout",
       "text": [
        "\r",
        " 60/500 [==>...........................] - ETA: 4:59 - loss: 7.4425"
       ]
      },
      {
       "output_type": "stream",
       "stream": "stdout",
       "text": [
        "\r",
        " 61/500 [==>...........................] - ETA: 4:58 - loss: 7.4333"
       ]
      },
      {
       "output_type": "stream",
       "stream": "stdout",
       "text": [
        "\r",
        " 62/500 [==>...........................] - ETA: 4:58 - loss: 7.4781"
       ]
      },
      {
       "output_type": "stream",
       "stream": "stdout",
       "text": [
        "\r",
        " 63/500 [==>...........................] - ETA: 4:57 - loss: 7.4808"
       ]
      },
      {
       "output_type": "stream",
       "stream": "stdout",
       "text": [
        "\r",
        " 64/500 [==>...........................] - ETA: 4:56 - loss: 7.4237"
       ]
      },
      {
       "output_type": "stream",
       "stream": "stdout",
       "text": [
        "\r",
        " 65/500 [==>...........................] - ETA: 4:56 - loss: 7.5657"
       ]
      },
      {
       "output_type": "stream",
       "stream": "stdout",
       "text": [
        "\r",
        " 66/500 [==>...........................] - ETA: 4:55 - loss: 7.5596"
       ]
      },
      {
       "output_type": "stream",
       "stream": "stdout",
       "text": [
        "\r",
        " 67/500 [===>..........................] - ETA: 4:54 - loss: 7.5406"
       ]
      },
      {
       "output_type": "stream",
       "stream": "stdout",
       "text": [
        "\r",
        " 68/500 [===>..........................] - ETA: 4:53 - loss: 7.5340"
       ]
      },
      {
       "output_type": "stream",
       "stream": "stdout",
       "text": [
        "\r",
        " 69/500 [===>..........................] - ETA: 4:53 - loss: 7.5210"
       ]
      },
      {
       "output_type": "stream",
       "stream": "stdout",
       "text": [
        "\r",
        " 70/500 [===>..........................] - ETA: 4:52 - loss: 7.4740"
       ]
      },
      {
       "output_type": "stream",
       "stream": "stdout",
       "text": [
        "\r",
        " 71/500 [===>..........................] - ETA: 4:51 - loss: 7.5069"
       ]
      },
      {
       "output_type": "stream",
       "stream": "stdout",
       "text": [
        "\r",
        " 72/500 [===>..........................] - ETA: 4:51 - loss: 7.5980"
       ]
      },
      {
       "output_type": "stream",
       "stream": "stdout",
       "text": [
        "\r",
        " 73/500 [===>..........................] - ETA: 4:50 - loss: 7.6274"
       ]
      },
      {
       "output_type": "stream",
       "stream": "stdout",
       "text": [
        "\r",
        " 74/500 [===>..........................] - ETA: 4:49 - loss: 7.6799"
       ]
      },
      {
       "output_type": "stream",
       "stream": "stdout",
       "text": [
        "\r",
        " 75/500 [===>..........................] - ETA: 4:49 - loss: 7.6993"
       ]
      },
      {
       "output_type": "stream",
       "stream": "stdout",
       "text": [
        "\r",
        " 76/500 [===>..........................] - ETA: 4:48 - loss: 7.6329"
       ]
      },
      {
       "output_type": "stream",
       "stream": "stdout",
       "text": [
        "\r",
        " 77/500 [===>..........................] - ETA: 4:47 - loss: 7.6374"
       ]
      },
      {
       "output_type": "stream",
       "stream": "stdout",
       "text": [
        "\r",
        " 78/500 [===>..........................] - ETA: 4:47 - loss: 7.6711"
       ]
      },
      {
       "output_type": "stream",
       "stream": "stdout",
       "text": [
        "\r",
        " 79/500 [===>..........................] - ETA: 4:46 - loss: 7.6972"
       ]
      },
      {
       "output_type": "stream",
       "stream": "stdout",
       "text": [
        "\r",
        " 80/500 [===>..........................] - ETA: 4:45 - loss: 7.6908"
       ]
      },
      {
       "output_type": "stream",
       "stream": "stdout",
       "text": [
        "\r",
        " 81/500 [===>..........................] - ETA: 4:45 - loss: 7.7127"
       ]
      },
      {
       "output_type": "stream",
       "stream": "stdout",
       "text": [
        "\r",
        " 82/500 [===>..........................] - ETA: 4:44 - loss: 7.6670"
       ]
      },
      {
       "output_type": "stream",
       "stream": "stdout",
       "text": [
        "\r",
        " 83/500 [===>..........................] - ETA: 4:43 - loss: 7.6641"
       ]
      },
      {
       "output_type": "stream",
       "stream": "stdout",
       "text": [
        "\r",
        " 84/500 [====>.........................] - ETA: 4:42 - loss: 7.7036"
       ]
      },
      {
       "output_type": "stream",
       "stream": "stdout",
       "text": [
        "\r",
        " 85/500 [====>.........................] - ETA: 4:42 - loss: 7.6797"
       ]
      },
      {
       "output_type": "stream",
       "stream": "stdout",
       "text": [
        "\r",
        " 86/500 [====>.........................] - ETA: 4:41 - loss: 7.7344"
       ]
      },
      {
       "output_type": "stream",
       "stream": "stdout",
       "text": [
        "\r",
        " 87/500 [====>.........................] - ETA: 4:40 - loss: 7.7089"
       ]
      },
      {
       "output_type": "stream",
       "stream": "stdout",
       "text": [
        "\r",
        " 88/500 [====>.........................] - ETA: 4:40 - loss: 7.7034"
       ]
      },
      {
       "output_type": "stream",
       "stream": "stdout",
       "text": [
        "\r",
        " 89/500 [====>.........................] - ETA: 4:39 - loss: 7.6878"
       ]
      },
      {
       "output_type": "stream",
       "stream": "stdout",
       "text": [
        "\r",
        " 90/500 [====>.........................] - ETA: 4:38 - loss: 7.7509"
       ]
      },
      {
       "output_type": "stream",
       "stream": "stdout",
       "text": [
        "\r",
        " 91/500 [====>.........................] - ETA: 4:38 - loss: 7.7075"
       ]
      },
      {
       "output_type": "stream",
       "stream": "stdout",
       "text": [
        "\r",
        " 92/500 [====>.........................] - ETA: 4:37 - loss: 7.7412"
       ]
      },
      {
       "output_type": "stream",
       "stream": "stdout",
       "text": [
        "\r",
        " 93/500 [====>.........................] - ETA: 4:36 - loss: 7.8041"
       ]
      },
      {
       "output_type": "stream",
       "stream": "stdout",
       "text": [
        "\r",
        " 94/500 [====>.........................] - ETA: 4:36 - loss: 7.8409"
       ]
      },
      {
       "output_type": "stream",
       "stream": "stdout",
       "text": [
        "\r",
        " 95/500 [====>.........................] - ETA: 4:35 - loss: 7.8221"
       ]
      },
      {
       "output_type": "stream",
       "stream": "stdout",
       "text": [
        "\r",
        " 96/500 [====>.........................] - ETA: 4:34 - loss: 7.7905"
       ]
      },
      {
       "output_type": "stream",
       "stream": "stdout",
       "text": [
        "\r",
        " 97/500 [====>.........................] - ETA: 4:34 - loss: 7.7851"
       ]
      },
      {
       "output_type": "stream",
       "stream": "stdout",
       "text": [
        "\r",
        " 98/500 [====>.........................] - ETA: 4:33 - loss: 7.7678"
       ]
      },
      {
       "output_type": "stream",
       "stream": "stdout",
       "text": [
        "\r",
        " 99/500 [====>.........................] - ETA: 4:32 - loss: 7.7798"
       ]
      },
      {
       "output_type": "stream",
       "stream": "stdout",
       "text": [
        "\r",
        "100/500 [=====>........................] - ETA: 4:32 - loss: 7.7934"
       ]
      },
      {
       "output_type": "stream",
       "stream": "stdout",
       "text": [
        "\r",
        "101/500 [=====>........................] - ETA: 4:31 - loss: 7.7605"
       ]
      },
      {
       "output_type": "stream",
       "stream": "stdout",
       "text": [
        "\r",
        "102/500 [=====>........................] - ETA: 4:30 - loss: 7.7845"
       ]
      },
      {
       "output_type": "stream",
       "stream": "stdout",
       "text": [
        "\r",
        "103/500 [=====>........................] - ETA: 4:30 - loss: 7.7771"
       ]
      },
      {
       "output_type": "stream",
       "stream": "stdout",
       "text": [
        "\r",
        "104/500 [=====>........................] - ETA: 4:29 - loss: 7.8161"
       ]
      },
      {
       "output_type": "stream",
       "stream": "stdout",
       "text": [
        "\r",
        "105/500 [=====>........................] - ETA: 4:28 - loss: 7.7930"
       ]
      },
      {
       "output_type": "stream",
       "stream": "stdout",
       "text": [
        "\r",
        "106/500 [=====>........................] - ETA: 4:28 - loss: 7.7464"
       ]
      },
      {
       "output_type": "stream",
       "stream": "stdout",
       "text": [
        "\r",
        "107/500 [=====>........................] - ETA: 4:27 - loss: 7.7378"
       ]
      },
      {
       "output_type": "stream",
       "stream": "stdout",
       "text": [
        "\r",
        "108/500 [=====>........................] - ETA: 4:26 - loss: 7.7041"
       ]
      },
      {
       "output_type": "stream",
       "stream": "stdout",
       "text": [
        "\r",
        "109/500 [=====>........................] - ETA: 4:26 - loss: 7.7086"
       ]
      },
      {
       "output_type": "stream",
       "stream": "stdout",
       "text": [
        "\r",
        "110/500 [=====>........................] - ETA: 4:25 - loss: 7.7528"
       ]
      },
      {
       "output_type": "stream",
       "stream": "stdout",
       "text": [
        "\r",
        "111/500 [=====>........................] - ETA: 4:24 - loss: 7.7470"
       ]
      },
      {
       "output_type": "stream",
       "stream": "stdout",
       "text": [
        "\r",
        "112/500 [=====>........................] - ETA: 4:24 - loss: 7.7593"
       ]
      },
      {
       "output_type": "stream",
       "stream": "stdout",
       "text": [
        "\r",
        "113/500 [=====>........................] - ETA: 4:23 - loss: 7.7312"
       ]
      },
      {
       "output_type": "stream",
       "stream": "stdout",
       "text": [
        "\r",
        "114/500 [=====>........................] - ETA: 4:22 - loss: 7.7486"
       ]
      },
      {
       "output_type": "stream",
       "stream": "stdout",
       "text": [
        "\r",
        "115/500 [=====>........................] - ETA: 4:22 - loss: 7.7641"
       ]
      },
      {
       "output_type": "stream",
       "stream": "stdout",
       "text": [
        "\r",
        "116/500 [=====>........................] - ETA: 4:21 - loss: 7.8544"
       ]
      },
      {
       "output_type": "stream",
       "stream": "stdout",
       "text": [
        "\r",
        "117/500 [======>.......................] - ETA: 4:20 - loss: 7.8993"
       ]
      },
      {
       "output_type": "stream",
       "stream": "stdout",
       "text": [
        "\r",
        "118/500 [======>.......................] - ETA: 4:20 - loss: 7.8962"
       ]
      },
      {
       "output_type": "stream",
       "stream": "stdout",
       "text": [
        "\r",
        "119/500 [======>.......................] - ETA: 4:19 - loss: 7.8920"
       ]
      },
      {
       "output_type": "stream",
       "stream": "stdout",
       "text": [
        "\r",
        "120/500 [======>.......................] - ETA: 4:18 - loss: 7.8938"
       ]
      },
      {
       "output_type": "stream",
       "stream": "stdout",
       "text": [
        "\r",
        "121/500 [======>.......................] - ETA: 4:18 - loss: 7.9414"
       ]
      },
      {
       "output_type": "stream",
       "stream": "stdout",
       "text": [
        "\r",
        "122/500 [======>.......................] - ETA: 4:17 - loss: 7.8992"
       ]
      },
      {
       "output_type": "stream",
       "stream": "stdout",
       "text": [
        "\r",
        "123/500 [======>.......................] - ETA: 4:16 - loss: 7.9508"
       ]
      },
      {
       "output_type": "stream",
       "stream": "stdout",
       "text": [
        "\r",
        "124/500 [======>.......................] - ETA: 4:16 - loss: 7.9435"
       ]
      },
      {
       "output_type": "stream",
       "stream": "stdout",
       "text": [
        "\r",
        "125/500 [======>.......................] - ETA: 4:15 - loss: 7.9127"
       ]
      },
      {
       "output_type": "stream",
       "stream": "stdout",
       "text": [
        "\r",
        "126/500 [======>.......................] - ETA: 4:14 - loss: 7.9196"
       ]
      },
      {
       "output_type": "stream",
       "stream": "stdout",
       "text": [
        "\r",
        "127/500 [======>.......................] - ETA: 4:13 - loss: 7.9015"
       ]
      },
      {
       "output_type": "stream",
       "stream": "stdout",
       "text": [
        "\r",
        "128/500 [======>.......................] - ETA: 4:13 - loss: 7.9364"
       ]
      },
      {
       "output_type": "stream",
       "stream": "stdout",
       "text": [
        "\r",
        "129/500 [======>.......................] - ETA: 4:12 - loss: 7.9707"
       ]
      },
      {
       "output_type": "stream",
       "stream": "stdout",
       "text": [
        "\r",
        "130/500 [======>.......................] - ETA: 4:11 - loss: 7.9596"
       ]
      },
      {
       "output_type": "stream",
       "stream": "stdout",
       "text": [
        "\r",
        "131/500 [======>.......................] - ETA: 4:11 - loss: 7.9680"
       ]
      },
      {
       "output_type": "stream",
       "stream": "stdout",
       "text": [
        "\r",
        "132/500 [======>.......................] - ETA: 4:10 - loss: 7.9841"
       ]
      },
      {
       "output_type": "stream",
       "stream": "stdout",
       "text": [
        "\r",
        "133/500 [======>.......................] - ETA: 4:09 - loss: 8.0222"
       ]
      },
      {
       "output_type": "stream",
       "stream": "stdout",
       "text": [
        "\r",
        "134/500 [=======>......................] - ETA: 4:09 - loss: 8.0184"
       ]
      },
      {
       "output_type": "stream",
       "stream": "stdout",
       "text": [
        "\r",
        "135/500 [=======>......................] - ETA: 4:08 - loss: 7.9850"
       ]
      },
      {
       "output_type": "stream",
       "stream": "stdout",
       "text": [
        "\r",
        "136/500 [=======>......................] - ETA: 4:07 - loss: 7.9595"
       ]
      },
      {
       "output_type": "stream",
       "stream": "stdout",
       "text": [
        "\r",
        "137/500 [=======>......................] - ETA: 4:07 - loss: 7.9306"
       ]
      },
      {
       "output_type": "stream",
       "stream": "stdout",
       "text": [
        "\r",
        "138/500 [=======>......................] - ETA: 4:06 - loss: 7.9216"
       ]
      },
      {
       "output_type": "stream",
       "stream": "stdout",
       "text": [
        "\r",
        "139/500 [=======>......................] - ETA: 4:05 - loss: 7.9102"
       ]
      },
      {
       "output_type": "stream",
       "stream": "stdout",
       "text": [
        "\r",
        "140/500 [=======>......................] - ETA: 4:05 - loss: 7.9039"
       ]
      },
      {
       "output_type": "stream",
       "stream": "stdout",
       "text": [
        "\r",
        "141/500 [=======>......................] - ETA: 4:04 - loss: 7.9345"
       ]
      },
      {
       "output_type": "stream",
       "stream": "stdout",
       "text": [
        "\r",
        "142/500 [=======>......................] - ETA: 4:03 - loss: 7.9344"
       ]
      },
      {
       "output_type": "stream",
       "stream": "stdout",
       "text": [
        "\r",
        "143/500 [=======>......................] - ETA: 4:03 - loss: 7.8999"
       ]
      },
      {
       "output_type": "stream",
       "stream": "stdout",
       "text": [
        "\r",
        "144/500 [=======>......................] - ETA: 4:02 - loss: 7.9030"
       ]
      },
      {
       "output_type": "stream",
       "stream": "stdout",
       "text": [
        "\r",
        "145/500 [=======>......................] - ETA: 4:01 - loss: 7.9078"
       ]
      },
      {
       "output_type": "stream",
       "stream": "stdout",
       "text": [
        "\r",
        "146/500 [=======>......................] - ETA: 4:01 - loss: 7.9205"
       ]
      },
      {
       "output_type": "stream",
       "stream": "stdout",
       "text": [
        "\r",
        "147/500 [=======>......................] - ETA: 4:00 - loss: 7.9303"
       ]
      },
      {
       "output_type": "stream",
       "stream": "stdout",
       "text": [
        "\r",
        "148/500 [=======>......................] - ETA: 3:59 - loss: 7.9284"
       ]
      },
      {
       "output_type": "stream",
       "stream": "stdout",
       "text": [
        "\r",
        "149/500 [=======>......................] - ETA: 3:59 - loss: 7.9106"
       ]
      },
      {
       "output_type": "stream",
       "stream": "stdout",
       "text": [
        "\r",
        "150/500 [========>.....................] - ETA: 3:58 - loss: 7.9453"
       ]
      },
      {
       "output_type": "stream",
       "stream": "stdout",
       "text": [
        "\r",
        "151/500 [========>.....................] - ETA: 3:57 - loss: 7.9607"
       ]
      },
      {
       "output_type": "stream",
       "stream": "stdout",
       "text": [
        "\r",
        "152/500 [========>.....................] - ETA: 3:57 - loss: 7.9848"
       ]
      },
      {
       "output_type": "stream",
       "stream": "stdout",
       "text": [
        "\r",
        "153/500 [========>.....................] - ETA: 3:56 - loss: 8.0019"
       ]
      },
      {
       "output_type": "stream",
       "stream": "stdout",
       "text": [
        "\r",
        "154/500 [========>.....................] - ETA: 3:55 - loss: 7.9987"
       ]
      },
      {
       "output_type": "stream",
       "stream": "stdout",
       "text": [
        "\r",
        "155/500 [========>.....................] - ETA: 3:55 - loss: 8.0176"
       ]
      },
      {
       "output_type": "stream",
       "stream": "stdout",
       "text": [
        "\r",
        "156/500 [========>.....................] - ETA: 3:54 - loss: 7.9969"
       ]
      },
      {
       "output_type": "stream",
       "stream": "stdout",
       "text": [
        "\r",
        "157/500 [========>.....................] - ETA: 3:53 - loss: 8.0014"
       ]
      },
      {
       "output_type": "stream",
       "stream": "stdout",
       "text": [
        "\r",
        "158/500 [========>.....................] - ETA: 3:53 - loss: 8.0031"
       ]
      },
      {
       "output_type": "stream",
       "stream": "stdout",
       "text": [
        "\r",
        "159/500 [========>.....................] - ETA: 3:52 - loss: 8.0064"
       ]
      },
      {
       "output_type": "stream",
       "stream": "stdout",
       "text": [
        "\r",
        "160/500 [========>.....................] - ETA: 3:51 - loss: 8.0061"
       ]
      },
      {
       "output_type": "stream",
       "stream": "stdout",
       "text": [
        "\r",
        "161/500 [========>.....................] - ETA: 3:51 - loss: 7.9746"
       ]
      },
      {
       "output_type": "stream",
       "stream": "stdout",
       "text": [
        "\r",
        "162/500 [========>.....................] - ETA: 3:50 - loss: 7.9714"
       ]
      },
      {
       "output_type": "stream",
       "stream": "stdout",
       "text": [
        "\r",
        "163/500 [========>.....................] - ETA: 3:49 - loss: 7.9604"
       ]
      },
      {
       "output_type": "stream",
       "stream": "stdout",
       "text": [
        "\r",
        "164/500 [========>.....................] - ETA: 3:49 - loss: 7.9436"
       ]
      },
      {
       "output_type": "stream",
       "stream": "stdout",
       "text": [
        "\r",
        "165/500 [========>.....................] - ETA: 3:48 - loss: 7.9436"
       ]
      },
      {
       "output_type": "stream",
       "stream": "stdout",
       "text": [
        "\r",
        "166/500 [========>.....................] - ETA: 3:48 - loss: 7.9939"
       ]
      },
      {
       "output_type": "stream",
       "stream": "stdout",
       "text": [
        "\r",
        "167/500 [=========>....................] - ETA: 3:47 - loss: 7.9875"
       ]
      },
      {
       "output_type": "stream",
       "stream": "stdout",
       "text": [
        "\r",
        "168/500 [=========>....................] - ETA: 3:47 - loss: 8.0077"
       ]
      },
      {
       "output_type": "stream",
       "stream": "stdout",
       "text": [
        "\r",
        "169/500 [=========>....................] - ETA: 3:46 - loss: 7.9990"
       ]
      },
      {
       "output_type": "stream",
       "stream": "stdout",
       "text": [
        "\r",
        "170/500 [=========>....................] - ETA: 3:45 - loss: 7.9996"
       ]
      },
      {
       "output_type": "stream",
       "stream": "stdout",
       "text": [
        "\r",
        "171/500 [=========>....................] - ETA: 3:45 - loss: 7.9977"
       ]
      },
      {
       "output_type": "stream",
       "stream": "stdout",
       "text": [
        "\r",
        "172/500 [=========>....................] - ETA: 3:44 - loss: 7.9933"
       ]
      },
      {
       "output_type": "stream",
       "stream": "stdout",
       "text": [
        "\r",
        "173/500 [=========>....................] - ETA: 3:43 - loss: 7.9914"
       ]
      },
      {
       "output_type": "stream",
       "stream": "stdout",
       "text": [
        "\r",
        "174/500 [=========>....................] - ETA: 3:43 - loss: 7.9680"
       ]
      },
      {
       "output_type": "stream",
       "stream": "stdout",
       "text": [
        "\r",
        "175/500 [=========>....................] - ETA: 3:42 - loss: 7.9536"
       ]
      },
      {
       "output_type": "stream",
       "stream": "stdout",
       "text": [
        "\r",
        "176/500 [=========>....................] - ETA: 3:41 - loss: 7.9554"
       ]
      },
      {
       "output_type": "stream",
       "stream": "stdout",
       "text": [
        "\r",
        "177/500 [=========>....................] - ETA: 3:40 - loss: 7.9577"
       ]
      },
      {
       "output_type": "stream",
       "stream": "stdout",
       "text": [
        "\r",
        "178/500 [=========>....................] - ETA: 3:40 - loss: 7.9334"
       ]
      },
      {
       "output_type": "stream",
       "stream": "stdout",
       "text": [
        "\r",
        "179/500 [=========>....................] - ETA: 3:39 - loss: 7.9106"
       ]
      },
      {
       "output_type": "stream",
       "stream": "stdout",
       "text": [
        "\r",
        "180/500 [=========>....................] - ETA: 3:38 - loss: 7.9297"
       ]
      },
      {
       "output_type": "stream",
       "stream": "stdout",
       "text": [
        "\r",
        "181/500 [=========>....................] - ETA: 3:38 - loss: 7.9205"
       ]
      },
      {
       "output_type": "stream",
       "stream": "stdout",
       "text": [
        "\r",
        "182/500 [=========>....................] - ETA: 3:37 - loss: 7.9030"
       ]
      },
      {
       "output_type": "stream",
       "stream": "stdout",
       "text": [
        "\r",
        "183/500 [=========>....................] - ETA: 3:36 - loss: 7.8942"
       ]
      },
      {
       "output_type": "stream",
       "stream": "stdout",
       "text": [
        "\r",
        "184/500 [==========>...................] - ETA: 3:36 - loss: 7.8908"
       ]
      },
      {
       "output_type": "stream",
       "stream": "stdout",
       "text": [
        "\r",
        "185/500 [==========>...................] - ETA: 3:35 - loss: 7.8788"
       ]
      },
      {
       "output_type": "stream",
       "stream": "stdout",
       "text": [
        "\r",
        "186/500 [==========>...................] - ETA: 3:34 - loss: 7.8583"
       ]
      },
      {
       "output_type": "stream",
       "stream": "stdout",
       "text": [
        "\r",
        "187/500 [==========>...................] - ETA: 3:34 - loss: 7.8496"
       ]
      },
      {
       "output_type": "stream",
       "stream": "stdout",
       "text": [
        "\r",
        "188/500 [==========>...................] - ETA: 3:33 - loss: 7.8396"
       ]
      },
      {
       "output_type": "stream",
       "stream": "stdout",
       "text": [
        "\r",
        "189/500 [==========>...................] - ETA: 3:32 - loss: 7.8339"
       ]
      },
      {
       "output_type": "stream",
       "stream": "stdout",
       "text": [
        "\r",
        "190/500 [==========>...................] - ETA: 3:32 - loss: 7.8221"
       ]
      },
      {
       "output_type": "stream",
       "stream": "stdout",
       "text": [
        "\r",
        "191/500 [==========>...................] - ETA: 3:31 - loss: 7.8168"
       ]
      },
      {
       "output_type": "stream",
       "stream": "stdout",
       "text": [
        "\r",
        "192/500 [==========>...................] - ETA: 3:30 - loss: 7.8091"
       ]
      },
      {
       "output_type": "stream",
       "stream": "stdout",
       "text": [
        "\r",
        "193/500 [==========>...................] - ETA: 3:30 - loss: 7.7900"
       ]
      },
      {
       "output_type": "stream",
       "stream": "stdout",
       "text": [
        "\r",
        "194/500 [==========>...................] - ETA: 3:29 - loss: 7.7891"
       ]
      },
      {
       "output_type": "stream",
       "stream": "stdout",
       "text": [
        "\r",
        "195/500 [==========>...................] - ETA: 3:28 - loss: 7.7928"
       ]
      },
      {
       "output_type": "stream",
       "stream": "stdout",
       "text": [
        "\r",
        "196/500 [==========>...................] - ETA: 3:28 - loss: 7.7904"
       ]
      },
      {
       "output_type": "stream",
       "stream": "stdout",
       "text": [
        "\r",
        "197/500 [==========>...................] - ETA: 3:27 - loss: 7.7876"
       ]
      },
      {
       "output_type": "stream",
       "stream": "stdout",
       "text": [
        "\r",
        "198/500 [==========>...................] - ETA: 3:26 - loss: 7.8339"
       ]
      },
      {
       "output_type": "stream",
       "stream": "stdout",
       "text": [
        "\r",
        "199/500 [==========>...................] - ETA: 3:26 - loss: 7.8311"
       ]
      },
      {
       "output_type": "stream",
       "stream": "stdout",
       "text": [
        "\r",
        "200/500 [===========>..................] - ETA: 3:25 - loss: 7.8268"
       ]
      },
      {
       "output_type": "stream",
       "stream": "stdout",
       "text": [
        "\r",
        "201/500 [===========>..................] - ETA: 3:24 - loss: 7.8186"
       ]
      },
      {
       "output_type": "stream",
       "stream": "stdout",
       "text": [
        "\r",
        "202/500 [===========>..................] - ETA: 3:24 - loss: 7.8074"
       ]
      },
      {
       "output_type": "stream",
       "stream": "stdout",
       "text": [
        "\r",
        "203/500 [===========>..................] - ETA: 3:23 - loss: 7.8088"
       ]
      },
      {
       "output_type": "stream",
       "stream": "stdout",
       "text": [
        "\r",
        "204/500 [===========>..................] - ETA: 3:22 - loss: 7.8099"
       ]
      },
      {
       "output_type": "stream",
       "stream": "stdout",
       "text": [
        "\r",
        "205/500 [===========>..................] - ETA: 3:22 - loss: 7.7960"
       ]
      },
      {
       "output_type": "stream",
       "stream": "stdout",
       "text": [
        "\r",
        "206/500 [===========>..................] - ETA: 3:21 - loss: 7.7940"
       ]
      },
      {
       "ename": "KeyboardInterrupt",
       "evalue": "",
       "output_type": "pyerr",
       "traceback": [
        "\u001b[0;31m---------------------------------------------------------------------------\u001b[0m\n\u001b[0;31mKeyboardInterrupt\u001b[0m                         Traceback (most recent call last)",
        "\u001b[0;32m<ipython-input-26-6627b8c8b08a>\u001b[0m in \u001b[0;36m<module>\u001b[0;34m()\u001b[0m\n\u001b[1;32m      1\u001b[0m \u001b[0;31m# Note: don't forget to change initial epoch\u001b[0m\u001b[0;34m\u001b[0m\u001b[0;34m\u001b[0m\u001b[0m\n\u001b[0;32m----> 2\u001b[0;31m \u001b[0mmodel2\u001b[0m\u001b[0;34m.\u001b[0m\u001b[0mfit_generator\u001b[0m\u001b[0;34m(\u001b[0m\u001b[0mmyGenerator_train\u001b[0m\u001b[0;34m,\u001b[0m \u001b[0msteps_per_epoch\u001b[0m\u001b[0;34m=\u001b[0m\u001b[0mtsteps\u001b[0m\u001b[0;34m,\u001b[0m \u001b[0mvalidation_steps\u001b[0m\u001b[0;34m=\u001b[0m\u001b[0mvsteps\u001b[0m\u001b[0;34m,\u001b[0m\u001b[0mverbose\u001b[0m\u001b[0;34m=\u001b[0m\u001b[0;36m1\u001b[0m\u001b[0;34m,\u001b[0m \u001b[0mvalidation_data\u001b[0m \u001b[0;34m=\u001b[0m \u001b[0mmyGenerator_val\u001b[0m\u001b[0;34m,\u001b[0m \u001b[0mepochs\u001b[0m\u001b[0;34m=\u001b[0m\u001b[0;36m10\u001b[0m\u001b[0;34m,\u001b[0m \u001b[0mcallbacks\u001b[0m\u001b[0;34m=\u001b[0m\u001b[0;34m[\u001b[0m\u001b[0mcheckpoint\u001b[0m\u001b[0;34m]\u001b[0m\u001b[0;34m,\u001b[0m \u001b[0minitial_epoch\u001b[0m\u001b[0;34m=\u001b[0m\u001b[0;36m0\u001b[0m\u001b[0;34m)\u001b[0m\u001b[0;34m\u001b[0m\u001b[0m\n\u001b[0m",
        "\u001b[0;32m/usr/local/lib/python2.7/dist-packages/keras/legacy/interfaces.pyc\u001b[0m in \u001b[0;36mwrapper\u001b[0;34m(*args, **kwargs)\u001b[0m\n\u001b[1;32m     89\u001b[0m                 warnings.warn('Update your `' + object_name + '` call to the ' +\n\u001b[1;32m     90\u001b[0m                               'Keras 2 API: ' + signature, stacklevel=2)\n\u001b[0;32m---> 91\u001b[0;31m             \u001b[0;32mreturn\u001b[0m \u001b[0mfunc\u001b[0m\u001b[0;34m(\u001b[0m\u001b[0;34m*\u001b[0m\u001b[0margs\u001b[0m\u001b[0;34m,\u001b[0m \u001b[0;34m**\u001b[0m\u001b[0mkwargs\u001b[0m\u001b[0;34m)\u001b[0m\u001b[0;34m\u001b[0m\u001b[0m\n\u001b[0m\u001b[1;32m     92\u001b[0m         \u001b[0mwrapper\u001b[0m\u001b[0;34m.\u001b[0m\u001b[0m_original_function\u001b[0m \u001b[0;34m=\u001b[0m \u001b[0mfunc\u001b[0m\u001b[0;34m\u001b[0m\u001b[0m\n\u001b[1;32m     93\u001b[0m         \u001b[0;32mreturn\u001b[0m \u001b[0mwrapper\u001b[0m\u001b[0;34m\u001b[0m\u001b[0m\n",
        "\u001b[0;32m/usr/local/lib/python2.7/dist-packages/keras/engine/training.pyc\u001b[0m in \u001b[0;36mfit_generator\u001b[0;34m(self, generator, steps_per_epoch, epochs, verbose, callbacks, validation_data, validation_steps, validation_freq, class_weight, max_queue_size, workers, use_multiprocessing, shuffle, initial_epoch)\u001b[0m\n\u001b[1;32m   1730\u001b[0m             \u001b[0muse_multiprocessing\u001b[0m\u001b[0;34m=\u001b[0m\u001b[0muse_multiprocessing\u001b[0m\u001b[0;34m,\u001b[0m\u001b[0;34m\u001b[0m\u001b[0m\n\u001b[1;32m   1731\u001b[0m             \u001b[0mshuffle\u001b[0m\u001b[0;34m=\u001b[0m\u001b[0mshuffle\u001b[0m\u001b[0;34m,\u001b[0m\u001b[0;34m\u001b[0m\u001b[0m\n\u001b[0;32m-> 1732\u001b[0;31m             initial_epoch=initial_epoch)\n\u001b[0m\u001b[1;32m   1733\u001b[0m \u001b[0;34m\u001b[0m\u001b[0m\n\u001b[1;32m   1734\u001b[0m     \u001b[0;34m@\u001b[0m\u001b[0minterfaces\u001b[0m\u001b[0;34m.\u001b[0m\u001b[0mlegacy_generator_methods_support\u001b[0m\u001b[0;34m\u001b[0m\u001b[0m\n",
        "\u001b[0;32m/usr/local/lib/python2.7/dist-packages/keras/engine/training_generator.pyc\u001b[0m in \u001b[0;36mfit_generator\u001b[0;34m(model, generator, steps_per_epoch, epochs, verbose, callbacks, validation_data, validation_steps, validation_freq, class_weight, max_queue_size, workers, use_multiprocessing, shuffle, initial_epoch)\u001b[0m\n\u001b[1;32m    218\u001b[0m                                             \u001b[0msample_weight\u001b[0m\u001b[0;34m=\u001b[0m\u001b[0msample_weight\u001b[0m\u001b[0;34m,\u001b[0m\u001b[0;34m\u001b[0m\u001b[0m\n\u001b[1;32m    219\u001b[0m                                             \u001b[0mclass_weight\u001b[0m\u001b[0;34m=\u001b[0m\u001b[0mclass_weight\u001b[0m\u001b[0;34m,\u001b[0m\u001b[0;34m\u001b[0m\u001b[0m\n\u001b[0;32m--> 220\u001b[0;31m                                             reset_metrics=False)\n\u001b[0m\u001b[1;32m    221\u001b[0m \u001b[0;34m\u001b[0m\u001b[0m\n\u001b[1;32m    222\u001b[0m                 \u001b[0mouts\u001b[0m \u001b[0;34m=\u001b[0m \u001b[0mto_list\u001b[0m\u001b[0;34m(\u001b[0m\u001b[0mouts\u001b[0m\u001b[0;34m)\u001b[0m\u001b[0;34m\u001b[0m\u001b[0m\n",
        "\u001b[0;32m/usr/local/lib/python2.7/dist-packages/keras/engine/training.pyc\u001b[0m in \u001b[0;36mtrain_on_batch\u001b[0;34m(self, x, y, sample_weight, class_weight, reset_metrics)\u001b[0m\n\u001b[1;32m   1512\u001b[0m             \u001b[0mins\u001b[0m \u001b[0;34m=\u001b[0m \u001b[0mx\u001b[0m \u001b[0;34m+\u001b[0m \u001b[0my\u001b[0m \u001b[0;34m+\u001b[0m \u001b[0msample_weights\u001b[0m\u001b[0;34m\u001b[0m\u001b[0m\n\u001b[1;32m   1513\u001b[0m         \u001b[0mself\u001b[0m\u001b[0;34m.\u001b[0m\u001b[0m_make_train_function\u001b[0m\u001b[0;34m(\u001b[0m\u001b[0;34m)\u001b[0m\u001b[0;34m\u001b[0m\u001b[0m\n\u001b[0;32m-> 1514\u001b[0;31m         \u001b[0moutputs\u001b[0m \u001b[0;34m=\u001b[0m \u001b[0mself\u001b[0m\u001b[0;34m.\u001b[0m\u001b[0mtrain_function\u001b[0m\u001b[0;34m(\u001b[0m\u001b[0mins\u001b[0m\u001b[0;34m)\u001b[0m\u001b[0;34m\u001b[0m\u001b[0m\n\u001b[0m\u001b[1;32m   1515\u001b[0m \u001b[0;34m\u001b[0m\u001b[0m\n\u001b[1;32m   1516\u001b[0m         \u001b[0;32mif\u001b[0m \u001b[0mreset_metrics\u001b[0m\u001b[0;34m:\u001b[0m\u001b[0;34m\u001b[0m\u001b[0m\n",
        "\u001b[0;32m/usr/local/lib/python2.7/dist-packages/tensorflow_core/python/keras/backend.pyc\u001b[0m in \u001b[0;36m__call__\u001b[0;34m(self, inputs)\u001b[0m\n\u001b[1;32m   3725\u001b[0m         \u001b[0mvalue\u001b[0m \u001b[0;34m=\u001b[0m \u001b[0mmath_ops\u001b[0m\u001b[0;34m.\u001b[0m\u001b[0mcast\u001b[0m\u001b[0;34m(\u001b[0m\u001b[0mvalue\u001b[0m\u001b[0;34m,\u001b[0m \u001b[0mtensor\u001b[0m\u001b[0;34m.\u001b[0m\u001b[0mdtype\u001b[0m\u001b[0;34m)\u001b[0m\u001b[0;34m\u001b[0m\u001b[0m\n\u001b[1;32m   3726\u001b[0m       \u001b[0mconverted_inputs\u001b[0m\u001b[0;34m.\u001b[0m\u001b[0mappend\u001b[0m\u001b[0;34m(\u001b[0m\u001b[0mvalue\u001b[0m\u001b[0;34m)\u001b[0m\u001b[0;34m\u001b[0m\u001b[0m\n\u001b[0;32m-> 3727\u001b[0;31m     \u001b[0moutputs\u001b[0m \u001b[0;34m=\u001b[0m \u001b[0mself\u001b[0m\u001b[0;34m.\u001b[0m\u001b[0m_graph_fn\u001b[0m\u001b[0;34m(\u001b[0m\u001b[0;34m*\u001b[0m\u001b[0mconverted_inputs\u001b[0m\u001b[0;34m)\u001b[0m\u001b[0;34m\u001b[0m\u001b[0m\n\u001b[0m\u001b[1;32m   3728\u001b[0m \u001b[0;34m\u001b[0m\u001b[0m\n\u001b[1;32m   3729\u001b[0m     \u001b[0;31m# EagerTensor.numpy() will often make a copy to ensure memory safety.\u001b[0m\u001b[0;34m\u001b[0m\u001b[0;34m\u001b[0m\u001b[0m\n",
        "\u001b[0;32m/usr/local/lib/python2.7/dist-packages/tensorflow_core/python/eager/function.pyc\u001b[0m in \u001b[0;36m__call__\u001b[0;34m(self, *args, **kwargs)\u001b[0m\n\u001b[1;32m   1549\u001b[0m       \u001b[0mTypeError\u001b[0m\u001b[0;34m:\u001b[0m \u001b[0mFor\u001b[0m \u001b[0minvalid\u001b[0m \u001b[0mpositional\u001b[0m\u001b[0;34m/\u001b[0m\u001b[0mkeyword\u001b[0m \u001b[0margument\u001b[0m \u001b[0mcombinations\u001b[0m\u001b[0;34m.\u001b[0m\u001b[0;34m\u001b[0m\u001b[0m\n\u001b[1;32m   1550\u001b[0m     \"\"\"\n\u001b[0;32m-> 1551\u001b[0;31m     \u001b[0;32mreturn\u001b[0m \u001b[0mself\u001b[0m\u001b[0;34m.\u001b[0m\u001b[0m_call_impl\u001b[0m\u001b[0;34m(\u001b[0m\u001b[0margs\u001b[0m\u001b[0;34m,\u001b[0m \u001b[0mkwargs\u001b[0m\u001b[0;34m)\u001b[0m\u001b[0;34m\u001b[0m\u001b[0m\n\u001b[0m\u001b[1;32m   1552\u001b[0m \u001b[0;34m\u001b[0m\u001b[0m\n\u001b[1;32m   1553\u001b[0m   \u001b[0;32mdef\u001b[0m \u001b[0m_call_impl\u001b[0m\u001b[0;34m(\u001b[0m\u001b[0mself\u001b[0m\u001b[0;34m,\u001b[0m \u001b[0margs\u001b[0m\u001b[0;34m,\u001b[0m \u001b[0mkwargs\u001b[0m\u001b[0;34m,\u001b[0m \u001b[0mcancellation_manager\u001b[0m\u001b[0;34m=\u001b[0m\u001b[0mNone\u001b[0m\u001b[0;34m)\u001b[0m\u001b[0;34m:\u001b[0m\u001b[0;34m\u001b[0m\u001b[0m\n",
        "\u001b[0;32m/usr/local/lib/python2.7/dist-packages/tensorflow_core/python/eager/function.pyc\u001b[0m in \u001b[0;36m_call_impl\u001b[0;34m(self, args, kwargs, cancellation_manager)\u001b[0m\n\u001b[1;32m   1589\u001b[0m       raise TypeError(\"Keyword arguments {} unknown. Expected {}.\".format(\n\u001b[1;32m   1590\u001b[0m           list(kwargs.keys()), list(self._arg_keywords)))\n\u001b[0;32m-> 1591\u001b[0;31m     \u001b[0;32mreturn\u001b[0m \u001b[0mself\u001b[0m\u001b[0;34m.\u001b[0m\u001b[0m_call_flat\u001b[0m\u001b[0;34m(\u001b[0m\u001b[0margs\u001b[0m\u001b[0;34m,\u001b[0m \u001b[0mself\u001b[0m\u001b[0;34m.\u001b[0m\u001b[0mcaptured_inputs\u001b[0m\u001b[0;34m,\u001b[0m \u001b[0mcancellation_manager\u001b[0m\u001b[0;34m)\u001b[0m\u001b[0;34m\u001b[0m\u001b[0m\n\u001b[0m\u001b[1;32m   1592\u001b[0m \u001b[0;34m\u001b[0m\u001b[0m\n\u001b[1;32m   1593\u001b[0m   \u001b[0;32mdef\u001b[0m \u001b[0m_filtered_call\u001b[0m\u001b[0;34m(\u001b[0m\u001b[0mself\u001b[0m\u001b[0;34m,\u001b[0m \u001b[0margs\u001b[0m\u001b[0;34m,\u001b[0m \u001b[0mkwargs\u001b[0m\u001b[0;34m)\u001b[0m\u001b[0;34m:\u001b[0m\u001b[0;34m\u001b[0m\u001b[0m\n",
        "\u001b[0;32m/usr/local/lib/python2.7/dist-packages/tensorflow_core/python/eager/function.pyc\u001b[0m in \u001b[0;36m_call_flat\u001b[0;34m(self, args, captured_inputs, cancellation_manager)\u001b[0m\n\u001b[1;32m   1690\u001b[0m       \u001b[0;31m# No tape is watching; skip to running the function.\u001b[0m\u001b[0;34m\u001b[0m\u001b[0;34m\u001b[0m\u001b[0m\n\u001b[1;32m   1691\u001b[0m       return self._build_call_outputs(self._inference_function.call(\n\u001b[0;32m-> 1692\u001b[0;31m           ctx, args, cancellation_manager=cancellation_manager))\n\u001b[0m\u001b[1;32m   1693\u001b[0m     forward_backward = self._select_forward_and_backward_functions(\n\u001b[1;32m   1694\u001b[0m         \u001b[0margs\u001b[0m\u001b[0;34m,\u001b[0m\u001b[0;34m\u001b[0m\u001b[0m\n",
        "\u001b[0;32m/usr/local/lib/python2.7/dist-packages/tensorflow_core/python/eager/function.pyc\u001b[0m in \u001b[0;36mcall\u001b[0;34m(self, ctx, args, cancellation_manager)\u001b[0m\n\u001b[1;32m    543\u001b[0m               \u001b[0minputs\u001b[0m\u001b[0;34m=\u001b[0m\u001b[0margs\u001b[0m\u001b[0;34m,\u001b[0m\u001b[0;34m\u001b[0m\u001b[0m\n\u001b[1;32m    544\u001b[0m               \u001b[0mattrs\u001b[0m\u001b[0;34m=\u001b[0m\u001b[0;34m(\u001b[0m\u001b[0;34m\"executor_type\"\u001b[0m\u001b[0;34m,\u001b[0m \u001b[0mexecutor_type\u001b[0m\u001b[0;34m,\u001b[0m \u001b[0;34m\"config_proto\"\u001b[0m\u001b[0;34m,\u001b[0m \u001b[0mconfig\u001b[0m\u001b[0;34m)\u001b[0m\u001b[0;34m,\u001b[0m\u001b[0;34m\u001b[0m\u001b[0m\n\u001b[0;32m--> 545\u001b[0;31m               ctx=ctx)\n\u001b[0m\u001b[1;32m    546\u001b[0m         \u001b[0;32melse\u001b[0m\u001b[0;34m:\u001b[0m\u001b[0;34m\u001b[0m\u001b[0m\n\u001b[1;32m    547\u001b[0m           outputs = execute.execute_with_cancellation(\n",
        "\u001b[0;32m/usr/local/lib/python2.7/dist-packages/tensorflow_core/python/eager/execute.pyc\u001b[0m in \u001b[0;36mquick_execute\u001b[0;34m(op_name, num_outputs, inputs, attrs, ctx, name)\u001b[0m\n\u001b[1;32m     59\u001b[0m     tensors = pywrap_tensorflow.TFE_Py_Execute(ctx._handle, device_name,\n\u001b[1;32m     60\u001b[0m                                                \u001b[0mop_name\u001b[0m\u001b[0;34m,\u001b[0m \u001b[0minputs\u001b[0m\u001b[0;34m,\u001b[0m \u001b[0mattrs\u001b[0m\u001b[0;34m,\u001b[0m\u001b[0;34m\u001b[0m\u001b[0m\n\u001b[0;32m---> 61\u001b[0;31m                                                num_outputs)\n\u001b[0m\u001b[1;32m     62\u001b[0m   \u001b[0;32mexcept\u001b[0m \u001b[0mcore\u001b[0m\u001b[0;34m.\u001b[0m\u001b[0m_NotOkStatusException\u001b[0m \u001b[0;32mas\u001b[0m \u001b[0me\u001b[0m\u001b[0;34m:\u001b[0m\u001b[0;34m\u001b[0m\u001b[0m\n\u001b[1;32m     63\u001b[0m     \u001b[0;32mif\u001b[0m \u001b[0mname\u001b[0m \u001b[0;32mis\u001b[0m \u001b[0;32mnot\u001b[0m \u001b[0mNone\u001b[0m\u001b[0;34m:\u001b[0m\u001b[0;34m\u001b[0m\u001b[0m\n",
        "\u001b[0;31mKeyboardInterrupt\u001b[0m: "
       ]
      }
     ],
     "prompt_number": 26
    },
    {
     "cell_type": "code",
     "collapsed": false,
     "input": [
      "# print(bottleneck_features_train.shape)"
     ],
     "language": "python",
     "metadata": {},
     "outputs": [],
     "prompt_number": 32
    },
    {
     "cell_type": "code",
     "collapsed": false,
     "input": [],
     "language": "python",
     "metadata": {},
     "outputs": []
    },
    {
     "cell_type": "code",
     "collapsed": false,
     "input": [],
     "language": "python",
     "metadata": {},
     "outputs": []
    },
    {
     "cell_type": "code",
     "collapsed": false,
     "input": [],
     "language": "python",
     "metadata": {},
     "outputs": []
    },
    {
     "cell_type": "code",
     "collapsed": false,
     "input": [
      "!ls models2/resnet152"
     ],
     "language": "python",
     "metadata": {},
     "outputs": [
      {
       "output_type": "stream",
       "stream": "stdout",
       "text": [
        "2020-01-11-15:06:49.hdf5  2020-01-11-15:50:36.hdf5  2020-01-11-16:38:40.hdf5\r\n",
        "2020-01-11-15:23:33.hdf5  2020-01-11-16:11:11.hdf5  2020-01-11-18:57:18.hdf5\r\n",
        "2020-01-11-15:27:07.hdf5  2020-01-11-16:13:59.hdf5  2020-01-11-20:07:18.hdf5\r\n",
        "2020-01-11-15:35:13.hdf5  2020-01-11-16:26:39.hdf5\r\n"
       ]
      }
     ],
     "prompt_number": 2
    },
    {
     "cell_type": "code",
     "collapsed": false,
     "input": [],
     "language": "python",
     "metadata": {},
     "outputs": []
    },
    {
     "cell_type": "code",
     "collapsed": false,
     "input": [],
     "language": "python",
     "metadata": {},
     "outputs": []
    },
    {
     "cell_type": "code",
     "collapsed": false,
     "input": [],
     "language": "python",
     "metadata": {},
     "outputs": []
    },
    {
     "cell_type": "code",
     "collapsed": false,
     "input": [],
     "language": "python",
     "metadata": {},
     "outputs": []
    },
    {
     "cell_type": "code",
     "collapsed": false,
     "input": [],
     "language": "python",
     "metadata": {},
     "outputs": []
    },
    {
     "cell_type": "code",
     "collapsed": false,
     "input": [
      "# # predictions stuff\n",
      "# import os\n",
      "# import numpy as np\n",
      "# from keras.preprocessing.image import *\n",
      "# from keras.models import load_model\n",
      "# import matplotlib.pyplot as plt\n",
      "# model_path = 'models2/resnet152/'\n",
      "# for model_name in ['2020-01-11-15:27:07.hdf5']:\n",
      "#     print(model_name)\n",
      "#     model = load_model(model_path + model_name)\n",
      "#     filenames = []\n",
      "#     path = 'data/data-real-world/'\n",
      "#     l = os.listdir(path)\n",
      "#     for ll in l:\n",
      "#         for lll in os.listdir(path+ll):\n",
      "#             filename = path+ll+'/'+lll\n",
      "#             filenames.append(filename)\n",
      "# #     print(filenames)\n",
      "\n",
      "\n",
      "#     images = []\n",
      "#     images_pil = []\n",
      "#     for filename in filenames[:4]:\n",
      "#         img = load_img(filename, target_size=(256, 256))\n",
      "#         images_pil.append(img)\n",
      "#         img = img_to_array(img)\n",
      "#         images.append(img)\n",
      "\n",
      "\n",
      "#     images = np.array(images)\n",
      "#     predictions_intermediate = base.predict(images)\n",
      "#     predictions = model.predict(predictions_intermediate)\n",
      "\n",
      "#     for prediction, img_name in zip(predictions, filenames):\n",
      "#         print('Prediction: {} Img name: {}'.format(prediction, img_name))\n",
      "#     print()\n",
      "#     print()"
     ],
     "language": "python",
     "metadata": {},
     "outputs": [],
     "prompt_number": 10
    },
    {
     "cell_type": "code",
     "collapsed": false,
     "input": [
      "!ls models2/resnet152"
     ],
     "language": "python",
     "metadata": {},
     "outputs": [
      {
       "output_type": "stream",
       "stream": "stdout",
       "text": [
        "2020-01-11-15:06:49.hdf5  2020-01-11-15:50:36.hdf5  2020-01-11-16:38:40.hdf5\r\n",
        "2020-01-11-15:23:33.hdf5  2020-01-11-16:11:11.hdf5  2020-01-11-18:57:18.hdf5\r\n",
        "2020-01-11-15:27:07.hdf5  2020-01-11-16:13:59.hdf5  2020-01-11-20:07:18.hdf5\r\n",
        "2020-01-11-15:35:13.hdf5  2020-01-11-16:26:39.hdf5  2020-01-11-22:31:49.hdf5\r\n"
       ]
      }
     ],
     "prompt_number": 40
    },
    {
     "cell_type": "code",
     "collapsed": false,
     "input": [
      "# predictions stuff\n",
      "import os\n",
      "import numpy as np\n",
      "from keras.preprocessing.image import *\n",
      "from keras.models import load_model\n",
      "import matplotlib.pyplot as plt\n",
      "model_path = 'models2/resnet152/'\n",
      "# for model_name in ['2020-01-11-15:27:07.hdf5']:\n",
      "# print(model_name)\n",
      "model_name = '2020-01-11-15:06:49.hdf5'\n",
      "model = load_model(model_path + model_name)\n",
      "filenames = []\n",
      "path = 'data/data-real-world/'\n",
      "l = os.listdir(path)\n",
      "for ll in l:\n",
      "    for lll in os.listdir(path+ll):\n",
      "        filename = path+ll+'/'+lll\n",
      "        filenames.append(filename)\n",
      "#     print(filenames)\n",
      "\n",
      "\n",
      "images = []\n",
      "images_pil = []\n",
      "for filename in filenames[:]:\n",
      "    img = load_img(filename, target_size=(256, 256))\n",
      "    images_pil.append(img)\n",
      "    img = img_to_array(img)\n",
      "    images.append(img)\n",
      "\n",
      "\n",
      "images = np.array(images)\n",
      "predictions_intermediate = base.predict(images)\n",
      "predictions = model.predict(predictions_intermediate)\n",
      "\n",
      "for prediction, img_name in zip(predictions, filenames):\n",
      "    print('Prediction: {} Img name: {}'.format(prediction[0], img_name.split('/')[-1]))\n",
      "print()\n",
      "print()"
     ],
     "language": "python",
     "metadata": {},
     "outputs": [
      {
       "output_type": "stream",
       "stream": "stdout",
       "text": [
        "Prediction: 0.310071498156 Img name: wires.jpeg\n",
        "Prediction: 0.358831197023 Img name: MVIMG_20200110_213156.jpg\n",
        "Prediction: 0.144789159298 Img name: MVIMG_20200110_210901.jpg\n",
        "Prediction: 0.18608468771 Img name: MVIMG_20200110_210831.jpg\n",
        "Prediction: 0.355408281088 Img name: most-imp-img.jpg\n",
        "Prediction: 0.213145673275 Img name: MVIMG_20200110_213153.jpg\n",
        "Prediction: 0.0892134010792 Img name: MVIMG_20200110_210851.jpg\n",
        "Prediction: 0.161798089743 Img name: MVIMG_20200110_210858.jpg\n",
        "Prediction: 0.166203081608 Img name: MVIMG_20200110_210835.jpg\n",
        "Prediction: 0.286089390516 Img name: MVIMG_20200110_213149.jpg\n",
        "Prediction: 0.300238579512 Img name: MVIMG_20200110_210903.jpg\n",
        "Prediction: 0.174136728048 Img name: MVIMG_20200110_210842.jpg\n",
        "Prediction: 0.347037702799 Img name: four cans.jpeg\n",
        "Prediction: 0.445781737566 Img name: MVIMG_20200110_223943.jpg\n",
        "Prediction: 0.260636538267 Img name: MVIMG_20200110_223935.jpg\n",
        "Prediction: 0.386681705713 Img name: MVIMG_20200110_224001.jpg\n",
        "Prediction: 0.310713618994 Img name: MVIMG_20200110_223929.jpg\n",
        "Prediction: 0.291581243277 Img name: MVIMG_20200110_223957.jpg\n",
        "Prediction: 0.347385674715 Img name: MVIMG_20200110_223952.jpg\n",
        "Prediction: 0.516079425812 Img name: WhatsApp Image 2020-01-11 at 2.10.09 AM.jpeg\n",
        "Prediction: 0.327861756086 Img name: MVIMG_20200110_223923.jpg\n",
        "Prediction: 0.474602788687 Img name: three-cans.jpeg\n",
        "Prediction: 0.313506036997 Img name: MVIMG_20200110_224006.jpg\n",
        "Prediction: 0.111706525087 Img name: MVIMG_20200110_211307.jpg\n",
        "Prediction: 0.202220499516 Img name: MVIMG_20200110_210948.jpg\n",
        "Prediction: 0.260898023844 Img name: MVIMG_20200110_212631.jpg\n",
        "Prediction: 0.140612721443 Img name: MVIMG_20200110_210941.jpg\n",
        "Prediction: 0.19871199131 Img name: MVIMG_20200110_210936.jpg\n",
        "Prediction: 0.243333131075 Img name: MVIMG_20200110_212637.jpg\n",
        "Prediction: 0.223849564791 Img name: MVIMG_20200110_212635.jpg\n",
        "Prediction: 0.110739409924 Img name: MVIMG_20200110_212754.jpg\n",
        "Prediction: 0.38159313798 Img name: MVIMG_20200110_212628.jpg\n",
        "Prediction: 0.10302233696 Img name: MVIMG_20200110_212824.jpg\n",
        "Prediction: 0.0355718433857 Img name: MVIMG_20200110_205541.jpg\n",
        "Prediction: 0.078783094883 Img name: MVIMG_20200110_210745.jpg\n",
        "Prediction: 0.00181445479393 Img name: MVIMG_20200110_212643.jpg\n",
        "Prediction: 0.198757439852 Img name: MVIMG_20200110_210803.jpg\n",
        "Prediction: 0.252558022738 Img name: MVIMG_20200110_210933.jpg\n",
        "Prediction: 0.0254494547844 Img name: most-imp-image.jpg\n",
        "Prediction: 0.0803245007992 Img name: MVIMG_20200110_211308.jpg\n",
        "Prediction: 0.144053906202 Img name: MVIMG_20200110_210807.jpg\n",
        "Prediction: 0.176093578339 Img name: MVIMG_20200110_210915.jpg\n",
        "Prediction: 0.168604403734 Img name: MVIMG_20200110_210945.jpg\n",
        "Prediction: 0.264435321093 Img name: MVIMG_20200110_212818.jpg\n",
        "Prediction: 0.0447127223015 Img name: MVIMG_20200110_212647.jpg\n",
        "Prediction: 0.136844038963 Img name: MVIMG_20200110_211315.jpg\n",
        "Prediction: 0.171561151743 Img name: MVIMG_20200110_210753.jpg\n",
        "()\n",
        "()\n"
       ]
      }
     ],
     "prompt_number": 12
    },
    {
     "cell_type": "code",
     "collapsed": false,
     "input": [
      "# predictions stuff\n",
      "import os\n",
      "import numpy as np\n",
      "from keras.preprocessing.image import *\n",
      "from keras.models import load_model\n",
      "import matplotlib.pyplot as plt\n",
      "model_path = 'models2/resnet152/'\n",
      "# for model_name in ['2020-01-11-15:27:07.hdf5']:\n",
      "# print(model_name)\n",
      "model_name = '2020-01-11-15:06:49.hdf5'\n",
      "model = load_model(model_path + model_name)\n",
      "filenames = []\n",
      "path = 'data2/amazon_data/tmp/'\n",
      "l = os.listdir(path)\n",
      "# for ll in l:\n",
      "for lll in os.listdir(path):\n",
      "    filename = path+lll\n",
      "    filenames.append(filename)\n",
      "#     print(filenames)\n",
      "\n",
      "\n",
      "images = []\n",
      "images_pil = []\n",
      "for filename in filenames[:4]:\n",
      "    img = load_img(filename, target_size=(256, 256))\n",
      "    images_pil.append(img)\n",
      "    img = img_to_array(img)\n",
      "    images.append(img)\n",
      "\n",
      "\n",
      "images = np.array(images)\n",
      "predictions_intermediate = base.predict(images)\n",
      "predictions = model.predict(predictions_intermediate)\n",
      "\n",
      "for prediction, img_name in zip(predictions, filenames):\n",
      "    print('Prediction: {} Img name: {}'.format(prediction, img_name))\n",
      "print()\n",
      "print()"
     ],
     "language": "python",
     "metadata": {},
     "outputs": [
      {
       "output_type": "stream",
       "stream": "stdout",
       "text": [
        "Prediction: [1.138828] Img name: data2/amazon_data/tmp/4304_Gladstone charming.png\n",
        "Prediction: [0.08733821] Img name: data2/amazon_data/tmp/4510_Switches plain.png\n",
        "Prediction: [0.528666] Img name: data2/amazon_data/tmp/3554_cruise liner dark.png\n",
        "Prediction: [0.85340714] Img name: data2/amazon_data/tmp/5548_air filter red.png\n",
        "()\n",
        "()\n"
       ]
      }
     ],
     "prompt_number": 6
    },
    {
     "cell_type": "code",
     "collapsed": false,
     "input": [
      "# !ls data2/amazon_data/train_data_images"
     ],
     "language": "python",
     "metadata": {},
     "outputs": [],
     "prompt_number": 7
    },
    {
     "cell_type": "code",
     "collapsed": false,
     "input": [],
     "language": "python",
     "metadata": {},
     "outputs": []
    },
    {
     "cell_type": "code",
     "collapsed": false,
     "input": [],
     "language": "python",
     "metadata": {},
     "outputs": []
    },
    {
     "cell_type": "code",
     "collapsed": false,
     "input": [],
     "language": "python",
     "metadata": {},
     "outputs": []
    },
    {
     "cell_type": "code",
     "collapsed": false,
     "input": [],
     "language": "python",
     "metadata": {},
     "outputs": [],
     "prompt_number": 5
    },
    {
     "cell_type": "code",
     "collapsed": false,
     "input": [
      "# print(train_data.shape)"
     ],
     "language": "python",
     "metadata": {},
     "outputs": [],
     "prompt_number": 17
    },
    {
     "cell_type": "code",
     "collapsed": false,
     "input": [
      "# Using bottleneck feature for performance\n",
      "# import pickle as pkl\n",
      "\n",
      "# nb_train_samples = len(train_data.filenames)  \n",
      "# num_classes = len(train_data.class_indices)  \n",
      "\n",
      "# predict_size_train = int(math.ceil(nb_train_samples / 32))  \n",
      "\n",
      "\n",
      "# pkl.dump(bottleneck_features_val, open('saved_features/bottleneck_features_val.pkl', 'wb'))\n",
      "\n"
     ],
     "language": "python",
     "metadata": {},
     "outputs": [],
     "prompt_number": 18
    },
    {
     "cell_type": "code",
     "collapsed": false,
     "input": [],
     "language": "python",
     "metadata": {},
     "outputs": [],
     "prompt_number": 23
    },
    {
     "cell_type": "code",
     "collapsed": false,
     "input": [
      "\n",
      "# from keras.utils import to_categorical\n",
      "# datagen2 = ImageDataGenerator(rescale=1./255)\n",
      "# datagen2 = ImageDataGenerator(rescale=1.)\n",
      "# generator_top = datagen2.flow_from_directory(  \n",
      "#         'data/data-merged-with-real-world/train',  \n",
      "#         target_size=(256, 256),  \n",
      "#         batch_size=32,  \n",
      "#         class_mode='categorical',  \n",
      "#         shuffle=False)  \n",
      "   \n",
      "# nb_train_samples = len(generator_top.filenames)  \n",
      "# num_classes = len(generator_top.class_indices)  \n",
      "\n",
      "# train_data = np.load('bottleneck_features_train.npy')  \n",
      "\n",
      "\n",
      "# validation_labels = generator_top.classes  \n",
      "# validation_labels = to_categorical(validation_labels, num_classes=len(labels))\n"
     ],
     "language": "python",
     "metadata": {},
     "outputs": []
    },
    {
     "cell_type": "code",
     "collapsed": false,
     "input": [],
     "language": "python",
     "metadata": {},
     "outputs": [],
     "prompt_number": 38
    },
    {
     "cell_type": "code",
     "collapsed": false,
     "input": [],
     "language": "python",
     "metadata": {},
     "outputs": [],
     "prompt_number": 42
    },
    {
     "cell_type": "code",
     "collapsed": false,
     "input": [],
     "language": "python",
     "metadata": {},
     "outputs": [],
     "prompt_number": 45
    },
    {
     "cell_type": "code",
     "collapsed": false,
     "input": [],
     "language": "python",
     "metadata": {},
     "outputs": [],
     "prompt_number": 30
    },
    {
     "cell_type": "code",
     "collapsed": false,
     "input": [],
     "language": "python",
     "metadata": {},
     "outputs": []
    },
    {
     "cell_type": "code",
     "collapsed": false,
     "input": [],
     "language": "python",
     "metadata": {},
     "outputs": []
    }
   ],
   "metadata": {}
  }
 ]
}